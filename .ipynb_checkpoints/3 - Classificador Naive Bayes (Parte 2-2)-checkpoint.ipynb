{
 "cells": [
  {
   "cell_type": "markdown",
   "id": "d7fe250a",
   "metadata": {},
   "source": [
    "# Classificador Naive-Bayes\n",
    "\n",
    "## Neste estudo:\n",
    "- Utilizando a biblioteca naivebayes\n",
    "- Avaliando o retorno de um modelo\n",
    "- Ajustando o ponto de corte do modelo\n",
    "- Área Sob a Curva - Area Under the Curve (AUC)\n",
    "- KPI da matriz de confusão - Key Performance Indicator"
   ]
  },
  {
   "cell_type": "code",
   "execution_count": 1,
   "id": "bf0d6232",
   "metadata": {},
   "outputs": [
    {
     "name": "stdout",
     "output_type": "stream",
     "text": [
      "package 'naivebayes' successfully unpacked and MD5 sums checked\n",
      "\n",
      "The downloaded binary packages are in\n",
      "\tC:\\Users\\andre\\AppData\\Local\\Temp\\RtmpsR3qMM\\downloaded_packages\n"
     ]
    },
    {
     "name": "stderr",
     "output_type": "stream",
     "text": [
      "also installing the dependencies 'bitops', 'gtools', 'caTools', 'gplots'\n",
      "\n",
      "\n"
     ]
    },
    {
     "name": "stdout",
     "output_type": "stream",
     "text": [
      "\n",
      "  There is a binary version available but the source version is later:\n",
      "       binary source needs_compilation\n",
      "gtools  3.8.2  3.9.2              TRUE\n",
      "\n",
      "  Binaries will be installed\n",
      "package 'bitops' successfully unpacked and MD5 sums checked\n",
      "package 'gtools' successfully unpacked and MD5 sums checked\n",
      "package 'caTools' successfully unpacked and MD5 sums checked\n",
      "package 'gplots' successfully unpacked and MD5 sums checked\n",
      "package 'ROCR' successfully unpacked and MD5 sums checked\n",
      "\n",
      "The downloaded binary packages are in\n",
      "\tC:\\Users\\andre\\AppData\\Local\\Temp\\RtmpsR3qMM\\downloaded_packages\n"
     ]
    },
    {
     "name": "stderr",
     "output_type": "stream",
     "text": [
      "-- \u001b[1mAttaching packages\u001b[22m --------------------------------------- tidyverse 1.2.1 --\n",
      "\n",
      "\u001b[32mv\u001b[39m \u001b[34mggplot2\u001b[39m 3.3.3     \u001b[32mv\u001b[39m \u001b[34mpurrr  \u001b[39m 0.3.2\n",
      "\u001b[32mv\u001b[39m \u001b[34mtibble \u001b[39m 3.1.1     \u001b[32mv\u001b[39m \u001b[34mdplyr  \u001b[39m 1.0.6\n",
      "\u001b[32mv\u001b[39m \u001b[34mtidyr  \u001b[39m 1.1.3     \u001b[32mv\u001b[39m \u001b[34mstringr\u001b[39m 1.4.0\n",
      "\u001b[32mv\u001b[39m \u001b[34mreadr  \u001b[39m 1.3.1     \u001b[32mv\u001b[39m \u001b[34mforcats\u001b[39m 0.5.1\n",
      "\n",
      "Warning message:\n",
      "\"package 'ggplot2' was built under R version 3.6.3\"\n",
      "Warning message:\n",
      "\"package 'tibble' was built under R version 3.6.3\"\n",
      "Warning message:\n",
      "\"package 'tidyr' was built under R version 3.6.3\"\n",
      "Warning message:\n",
      "\"package 'dplyr' was built under R version 3.6.3\"\n",
      "Warning message:\n",
      "\"package 'forcats' was built under R version 3.6.3\"\n",
      "-- \u001b[1mConflicts\u001b[22m ------------------------------------------ tidyverse_conflicts() --\n",
      "\u001b[31mx\u001b[39m \u001b[34mdplyr\u001b[39m::\u001b[32mfilter()\u001b[39m masks \u001b[34mstats\u001b[39m::filter()\n",
      "\u001b[31mx\u001b[39m \u001b[34mdplyr\u001b[39m::\u001b[32mlag()\u001b[39m    masks \u001b[34mstats\u001b[39m::lag()\n",
      "\n",
      "Warning message:\n",
      "\"package 'naivebayes' was built under R version 3.6.3\"\n",
      "naivebayes 0.9.7 loaded\n",
      "\n",
      "Loading required package: lattice\n",
      "\n",
      "\n",
      "Attaching package: 'caret'\n",
      "\n",
      "\n",
      "The following object is masked from 'package:purrr':\n",
      "\n",
      "    lift\n",
      "\n",
      "\n",
      "Warning message:\n",
      "\"package 'ROCR' was built under R version 3.6.3\"\n"
     ]
    }
   ],
   "source": [
    "#install.packages(\"naivebayes\")\n",
    "#install.packages(\"ROCR\")\n",
    "\n",
    "library(tidyverse)\n",
    "library(naivebayes)\n",
    "library(caret)\n",
    "library(ggplot2)\n",
    "\n",
    "# Para a área sob a curva\n",
    "library(\"ROCR\")"
   ]
  },
  {
   "cell_type": "markdown",
   "id": "c1e0832f",
   "metadata": {},
   "source": [
    "<b>Carregando a base de dados e fazendo o oversamplig</b>"
   ]
  },
  {
   "cell_type": "code",
   "execution_count": 2,
   "id": "a6265820",
   "metadata": {},
   "outputs": [],
   "source": [
    "setwd(\"Dados\")"
   ]
  },
  {
   "cell_type": "code",
   "execution_count": 3,
   "id": "d942b45e",
   "metadata": {},
   "outputs": [],
   "source": [
    "#Importando arquivos tipo csv - função read.table\n",
    "\n",
    "bank_data <- read.table(\"bank-full.csv\", header = TRUE, sep = \";\")"
   ]
  },
  {
   "cell_type": "code",
   "execution_count": 4,
   "id": "d7eca315",
   "metadata": {},
   "outputs": [
    {
     "name": "stdout",
     "output_type": "stream",
     "text": [
      "'data.frame':\t79844 obs. of  17 variables:\n",
      " $ age      : int  58 44 33 47 33 35 28 42 58 43 ...\n",
      " $ job      : Factor w/ 12 levels \"admin.\",\"blue-collar\",..: 5 10 3 2 12 5 5 3 6 10 ...\n",
      " $ marital  : Factor w/ 3 levels \"divorced\",\"married\",..: 2 3 2 2 3 2 3 1 2 3 ...\n",
      " $ education: Factor w/ 4 levels \"primary\",\"secondary\",..: 3 2 2 4 4 3 3 3 1 2 ...\n",
      " $ default  : Factor w/ 2 levels \"no\",\"yes\": 1 1 1 1 1 1 1 2 1 1 ...\n",
      " $ balance  : int  2143 29 2 1506 1 231 447 2 121 593 ...\n",
      " $ housing  : Factor w/ 2 levels \"no\",\"yes\": 2 2 2 2 1 2 2 2 2 2 ...\n",
      " $ loan     : Factor w/ 2 levels \"no\",\"yes\": 1 1 2 1 1 1 2 1 1 1 ...\n",
      " $ contact  : Factor w/ 3 levels \"cellular\",\"telephone\",..: 3 3 3 3 3 3 3 3 3 3 ...\n",
      " $ day      : int  5 5 5 5 5 5 5 5 5 5 ...\n",
      " $ month    : Factor w/ 12 levels \"apr\",\"aug\",\"dec\",..: 9 9 9 9 9 9 9 9 9 9 ...\n",
      " $ duration : int  261 151 76 92 198 139 217 380 50 55 ...\n",
      " $ campaign : int  1 1 1 1 1 1 1 1 1 1 ...\n",
      " $ pdays    : int  -1 -1 -1 -1 -1 -1 -1 -1 -1 -1 ...\n",
      " $ previous : int  0 0 0 0 0 0 0 0 0 0 ...\n",
      " $ poutcome : Factor w/ 4 levels \"failure\",\"other\",..: 4 4 4 4 4 4 4 4 4 4 ...\n",
      " $ Class    : Factor w/ 2 levels \"no\",\"yes\": 1 1 1 1 1 1 1 1 1 1 ...\n"
     ]
    }
   ],
   "source": [
    "bank_oversample <- upSample(bank_data, bank_data$y)\n",
    "\n",
    "str(bank_oversample)"
   ]
  },
  {
   "cell_type": "code",
   "execution_count": 5,
   "id": "5351f645",
   "metadata": {},
   "outputs": [
    {
     "data": {
      "text/html": [
       "<table>\n",
       "<thead><tr><th scope=col>Class</th><th scope=col>n</th></tr></thead>\n",
       "<tbody>\n",
       "\t<tr><td>no   </td><td>39922</td></tr>\n",
       "\t<tr><td>yes  </td><td>39922</td></tr>\n",
       "</tbody>\n",
       "</table>\n"
      ],
      "text/latex": [
       "\\begin{tabular}{r|ll}\n",
       " Class & n\\\\\n",
       "\\hline\n",
       "\t no    & 39922\\\\\n",
       "\t yes   & 39922\\\\\n",
       "\\end{tabular}\n"
      ],
      "text/markdown": [
       "\n",
       "| Class | n |\n",
       "|---|---|\n",
       "| no    | 39922 |\n",
       "| yes   | 39922 |\n",
       "\n"
      ],
      "text/plain": [
       "  Class n    \n",
       "1 no    39922\n",
       "2 yes   39922"
      ]
     },
     "metadata": {},
     "output_type": "display_data"
    }
   ],
   "source": [
    "bank_oversample %>% count(Class)"
   ]
  },
  {
   "cell_type": "markdown",
   "id": "f6110319",
   "metadata": {},
   "source": [
    "<b>Treinando o modelo</b>"
   ]
  },
  {
   "cell_type": "code",
   "execution_count": 8,
   "id": "970b2fe5",
   "metadata": {},
   "outputs": [
    {
     "data": {
      "text/html": [
       "<ol class=list-inline>\n",
       "\t<li>31649</li>\n",
       "\t<li>17</li>\n",
       "</ol>\n"
      ],
      "text/latex": [
       "\\begin{enumerate*}\n",
       "\\item 31649\n",
       "\\item 17\n",
       "\\end{enumerate*}\n"
      ],
      "text/markdown": [
       "1. 31649\n",
       "2. 17\n",
       "\n",
       "\n"
      ],
      "text/plain": [
       "[1] 31649    17"
      ]
     },
     "metadata": {},
     "output_type": "display_data"
    },
    {
     "data": {
      "text/html": [
       "<ol class=list-inline>\n",
       "\t<li>13562</li>\n",
       "\t<li>17</li>\n",
       "</ol>\n"
      ],
      "text/latex": [
       "\\begin{enumerate*}\n",
       "\\item 13562\n",
       "\\item 17\n",
       "\\end{enumerate*}\n"
      ],
      "text/markdown": [
       "1. 13562\n",
       "2. 17\n",
       "\n",
       "\n"
      ],
      "text/plain": [
       "[1] 13562    17"
      ]
     },
     "metadata": {},
     "output_type": "display_data"
    },
    {
     "data": {
      "text/html": [
       "<ol class=list-inline>\n",
       "\t<li>55892</li>\n",
       "\t<li>17</li>\n",
       "</ol>\n"
      ],
      "text/latex": [
       "\\begin{enumerate*}\n",
       "\\item 55892\n",
       "\\item 17\n",
       "\\end{enumerate*}\n"
      ],
      "text/markdown": [
       "1. 55892\n",
       "2. 17\n",
       "\n",
       "\n"
      ],
      "text/plain": [
       "[1] 55892    17"
      ]
     },
     "metadata": {},
     "output_type": "display_data"
    },
    {
     "data": {
      "text/html": [
       "<ol class=list-inline>\n",
       "\t<li>23952</li>\n",
       "\t<li>17</li>\n",
       "</ol>\n"
      ],
      "text/latex": [
       "\\begin{enumerate*}\n",
       "\\item 23952\n",
       "\\item 17\n",
       "\\end{enumerate*}\n"
      ],
      "text/markdown": [
       "1. 23952\n",
       "2. 17\n",
       "\n",
       "\n"
      ],
      "text/plain": [
       "[1] 23952    17"
      ]
     },
     "metadata": {},
     "output_type": "display_data"
    }
   ],
   "source": [
    "set.seed(42)\n",
    "\n",
    "# Sem oversamplig\n",
    "\n",
    "inTrain <- createDataPartition(bank_data$y, p = 0.7, list = FALSE)\n",
    "\n",
    "train <- bank_data[inTrain, ]\n",
    "\n",
    "test <- bank_data[-inTrain, ]\n",
    "\n",
    "dim(train)\n",
    "dim(test)\n",
    "\n",
    "# Com oversampling\n",
    "\n",
    "inTrain1 <- createDataPartition(bank_oversample$Class, p = 0.7, list = FALSE)\n",
    "\n",
    "train1 <- bank_oversample[inTrain1, ]\n",
    "\n",
    "test1 <- bank_oversample[-inTrain1, ]\n",
    "\n",
    "dim(train1)\n",
    "dim(test1)"
   ]
  },
  {
   "cell_type": "code",
   "execution_count": 9,
   "id": "1d1f490f",
   "metadata": {},
   "outputs": [],
   "source": [
    "# Treinando o modelo - nova função Naive Bayes\n",
    "\n",
    "nb1 <- naive_bayes(Class ~ . , laplace = 1, usekernel = F, data = train1)"
   ]
  },
  {
   "cell_type": "code",
   "execution_count": 10,
   "id": "e5bba176",
   "metadata": {},
   "outputs": [
    {
     "name": "stderr",
     "output_type": "stream",
     "text": [
      "Warning message:\n",
      "\"predict.naive_bayes(): more features in the newdata are provided as there are probability tables in the object. Calculation is performed based on features to be found in the tables.\"\n"
     ]
    },
    {
     "data": {
      "text/plain": [
       "Confusion Matrix and Statistics\n",
       "\n",
       "          Reference\n",
       "Prediction    no   yes\n",
       "       no  21979  6048\n",
       "       yes  5967 21898\n",
       "                                          \n",
       "               Accuracy : 0.785           \n",
       "                 95% CI : (0.7816, 0.7884)\n",
       "    No Information Rate : 0.5             \n",
       "    P-Value [Acc > NIR] : <2e-16          \n",
       "                                          \n",
       "                  Kappa : 0.5701          \n",
       "                                          \n",
       " Mcnemar's Test P-Value : 0.4655          \n",
       "                                          \n",
       "            Sensitivity : 0.7836          \n",
       "            Specificity : 0.7865          \n",
       "         Pos Pred Value : 0.7859          \n",
       "         Neg Pred Value : 0.7842          \n",
       "             Prevalence : 0.5000          \n",
       "         Detection Rate : 0.3918          \n",
       "   Detection Prevalence : 0.4986          \n",
       "      Balanced Accuracy : 0.7850          \n",
       "                                          \n",
       "       'Positive' Class : yes             \n",
       "                                          "
      ]
     },
     "metadata": {},
     "output_type": "display_data"
    }
   ],
   "source": [
    "# Previsão na base de treinamento\n",
    "\n",
    "nb_train_pred1 <- predict(nb1, train1, type = \"class\")\n",
    "\n",
    "confusionMatrix(nb_train_pred1, train1$Class, positive = \"yes\")"
   ]
  },
  {
   "cell_type": "code",
   "execution_count": 11,
   "id": "63087473",
   "metadata": {},
   "outputs": [
    {
     "name": "stderr",
     "output_type": "stream",
     "text": [
      "Warning message:\n",
      "\"predict.naive_bayes(): more features in the newdata are provided as there are probability tables in the object. Calculation is performed based on features to be found in the tables.\"\n"
     ]
    },
    {
     "data": {
      "text/plain": [
       "Confusion Matrix and Statistics\n",
       "\n",
       "          Reference\n",
       "Prediction   no  yes\n",
       "       no  9395  362\n",
       "       yes 2581 1224\n",
       "                                         \n",
       "               Accuracy : 0.783          \n",
       "                 95% CI : (0.776, 0.7899)\n",
       "    No Information Rate : 0.8831         \n",
       "    P-Value [Acc > NIR] : 1              \n",
       "                                         \n",
       "                  Kappa : 0.3462         \n",
       "                                         \n",
       " Mcnemar's Test P-Value : <2e-16         \n",
       "                                         \n",
       "            Sensitivity : 0.77175        \n",
       "            Specificity : 0.78449        \n",
       "         Pos Pred Value : 0.32168        \n",
       "         Neg Pred Value : 0.96290        \n",
       "             Prevalence : 0.11694        \n",
       "         Detection Rate : 0.09025        \n",
       "   Detection Prevalence : 0.28056        \n",
       "      Balanced Accuracy : 0.77812        \n",
       "                                         \n",
       "       'Positive' Class : yes            \n",
       "                                         "
      ]
     },
     "metadata": {},
     "output_type": "display_data"
    }
   ],
   "source": [
    "# Previsão na base de teste sem oversampling\n",
    "\n",
    "nb_test_pred1 <- predict(nb1, test, type = \"class\")\n",
    "\n",
    "confusionMatrix(nb_test_pred1, test$y, positive = \"yes\")"
   ]
  },
  {
   "cell_type": "markdown",
   "id": "fe86021a",
   "metadata": {},
   "source": [
    "<b>Calculando o retorno esperado da campanha</b>"
   ]
  },
  {
   "cell_type": "code",
   "execution_count": 13,
   "id": "d1f08f3b",
   "metadata": {},
   "outputs": [],
   "source": [
    "# Os custos e lucros de realizar uma campanha como esta\n",
    "\n",
    "custo <- 15\n",
    "lucro <- 100"
   ]
  },
  {
   "cell_type": "code",
   "execution_count": 19,
   "id": "03be2fb7",
   "metadata": {},
   "outputs": [],
   "source": [
    "# Analisando o retorno sobre o investimento - ROI - Return Over Investment\n",
    "\n",
    "# Quando a prediction é yes, eu mandei a campanha\n",
    "c <- ifelse(nb_test_pred1 == \"yes\", custo, 0)\n",
    "\n",
    "# Quando a prediction é yes e y é yes, eu tenho lucro\n",
    "l <- ifelse((test$y == \"yes\" & nb_test_pred1 == \"yes\"), lucro, 0)\n",
    "\n",
    "# Quando a prediction é no e y é yes, eu deixei de ganhar\n",
    "custo_oportunidade <- sum(ifelse((test$y == \"yes\" & nb_test_pred1 == \"no\"), lucro, 0))"
   ]
  },
  {
   "cell_type": "code",
   "execution_count": 21,
   "id": "34817d39",
   "metadata": {},
   "outputs": [
    {
     "name": "stdout",
     "output_type": "stream",
     "text": [
      "[1] \"O lucro líquido é: R$ 65325\"\n",
      "[1] \"O custo total é: R$ 57075\"\n",
      "[1] \"O ROI é:  114.45 %\"\n",
      "[1] \"Custo de oportunidade: R$ 36200\"\n"
     ]
    }
   ],
   "source": [
    "# O calculo do ROI em percentual\n",
    "\n",
    "lucro_liquido <- round(sum(l)-sum(c), 2)\n",
    "\n",
    "custo_total <- round(sum(c), 2)\n",
    "\n",
    "ROI <- round((sum(l)/sum(c)-1)*100, 2)\n",
    "\n",
    "print(paste(\"O lucro líquido é: R$\", lucro_liquido))\n",
    "\n",
    "print(paste(\"O custo total é: R$\", custo_total))\n",
    "\n",
    "print(paste(\"O ROI é: \", ROI, \"%\"))\n",
    "\n",
    "print(paste(\"Custo de oportunidade: R$\", custo_oportunidade))"
   ]
  },
  {
   "cell_type": "markdown",
   "id": "f9ad2ef3",
   "metadata": {},
   "source": [
    "<b>Otimizando o retorno da campanha</b>"
   ]
  },
  {
   "cell_type": "code",
   "execution_count": 22,
   "id": "3a68e989",
   "metadata": {},
   "outputs": [
    {
     "name": "stderr",
     "output_type": "stream",
     "text": [
      "Warning message:\n",
      "\"predict.naive_bayes(): more features in the newdata are provided as there are probability tables in the object. Calculation is performed based on features to be found in the tables.\"\n"
     ]
    },
    {
     "data": {
      "text/html": [
       "<table>\n",
       "<thead><tr><th scope=col>no</th><th scope=col>yes</th></tr></thead>\n",
       "<tbody>\n",
       "\t<tr><td>0.9936442  </td><td>0.006355770</td></tr>\n",
       "\t<tr><td>0.9558056  </td><td>0.044194428</td></tr>\n",
       "\t<tr><td>0.9601204  </td><td>0.039879618</td></tr>\n",
       "\t<tr><td>0.9844151  </td><td>0.015584944</td></tr>\n",
       "\t<tr><td>0.9927258  </td><td>0.007274221</td></tr>\n",
       "</tbody>\n",
       "</table>\n"
      ],
      "text/latex": [
       "\\begin{tabular}{ll}\n",
       " no & yes\\\\\n",
       "\\hline\n",
       "\t 0.9936442   & 0.006355770\\\\\n",
       "\t 0.9558056   & 0.044194428\\\\\n",
       "\t 0.9601204   & 0.039879618\\\\\n",
       "\t 0.9844151   & 0.015584944\\\\\n",
       "\t 0.9927258   & 0.007274221\\\\\n",
       "\\end{tabular}\n"
      ],
      "text/markdown": [
       "\n",
       "| no | yes |\n",
       "|---|---|\n",
       "| 0.9936442   | 0.006355770 |\n",
       "| 0.9558056   | 0.044194428 |\n",
       "| 0.9601204   | 0.039879618 |\n",
       "| 0.9844151   | 0.015584944 |\n",
       "| 0.9927258   | 0.007274221 |\n",
       "\n"
      ],
      "text/plain": [
       "     no        yes        \n",
       "[1,] 0.9936442 0.006355770\n",
       "[2,] 0.9558056 0.044194428\n",
       "[3,] 0.9601204 0.039879618\n",
       "[4,] 0.9844151 0.015584944\n",
       "[5,] 0.9927258 0.007274221"
      ]
     },
     "metadata": {},
     "output_type": "display_data"
    }
   ],
   "source": [
    "# Também é possível mudar a saída de type para prob - e mudar o ponde de corte para trabalhar melhor a acuracia\n",
    "\n",
    "probabilidades <- predict(nb1, type = \"prob\", test)\n",
    "\n",
    "probabilidades[1:5, ]"
   ]
  },
  {
   "cell_type": "code",
   "execution_count": 25,
   "id": "5dbbbd10",
   "metadata": {},
   "outputs": [
    {
     "data": {
      "text/plain": [
       "Confusion Matrix and Statistics\n",
       "\n",
       "          Reference\n",
       "Prediction   no  yes\n",
       "       no  9932  456\n",
       "       yes 2044 1130\n",
       "                                         \n",
       "               Accuracy : 0.8157         \n",
       "                 95% CI : (0.809, 0.8222)\n",
       "    No Information Rate : 0.8831         \n",
       "    P-Value [Acc > NIR] : 1              \n",
       "                                         \n",
       "                  Kappa : 0.3777         \n",
       "                                         \n",
       " Mcnemar's Test P-Value : <2e-16         \n",
       "                                         \n",
       "            Sensitivity : 0.71248        \n",
       "            Specificity : 0.82933        \n",
       "         Pos Pred Value : 0.35602        \n",
       "         Neg Pred Value : 0.95610        \n",
       "             Prevalence : 0.11694        \n",
       "         Detection Rate : 0.08332        \n",
       "   Detection Prevalence : 0.23404        \n",
       "      Balanced Accuracy : 0.77090        \n",
       "                                         \n",
       "       'Positive' Class : yes            \n",
       "                                         "
      ]
     },
     "metadata": {},
     "output_type": "display_data"
    }
   ],
   "source": [
    "# Previsão com mudança no ponto de corte - base de teste sem oversamplig\n",
    "\n",
    "nb_cutoff <- as.factor(ifelse(probabilidades[,2] > 0.62, \"yes\", \"no\"))\n",
    "\n",
    "confusionMatrix(nb_cutoff, test$y, positive = \"yes\")"
   ]
  },
  {
   "cell_type": "code",
   "execution_count": 26,
   "id": "4ebc276e",
   "metadata": {},
   "outputs": [],
   "source": [
    "# Analisando o retorno sobre o investimento - ROI - Return Over Investment com o cut-off modificado\n",
    "\n",
    "# Quando a prediction é yes, eu mandei a campanha\n",
    "c_new <- ifelse(nb_cutoff == \"yes\", custo, 0)\n",
    "\n",
    "# Quando a prediction é yes e y é yes, eu tenho lucro\n",
    "l_new <- ifelse((test$y == \"yes\" & nb_cutoff == \"yes\"), lucro, 0)\n",
    "\n",
    "# Quando a prediction é no e y é yes, eu deixei de ganhar\n",
    "custo_oportunidade_new <- sum(ifelse((test$y == \"yes\" & nb_cutoff == \"no\"), lucro, 0))"
   ]
  },
  {
   "cell_type": "code",
   "execution_count": 27,
   "id": "2c6cf25e",
   "metadata": {},
   "outputs": [
    {
     "name": "stdout",
     "output_type": "stream",
     "text": [
      "[1] \"O lucro líquido é: R$ 65390\"\n",
      "[1] \"O custo total é: R$ 47610\"\n",
      "[1] \"O ROI é:  137.35 %\"\n",
      "[1] \"Custo de oportunidade: R$ 45600\"\n"
     ]
    }
   ],
   "source": [
    "# O calculo do ROI em percentual\n",
    "\n",
    "lucro_liquido_new <- round(sum(l_new)-sum(c_new), 2)\n",
    "\n",
    "custo_total_new <- round(sum(c_new), 2)\n",
    "\n",
    "ROI_new <- round((sum(l_new)/sum(c_new)-1)*100, 2)\n",
    "\n",
    "print(paste(\"O lucro líquido é: R$\", lucro_liquido_new))\n",
    "\n",
    "print(paste(\"O custo total é: R$\", custo_total_new))\n",
    "\n",
    "print(paste(\"O ROI é: \", ROI_new, \"%\"))\n",
    "\n",
    "print(paste(\"Custo de oportunidade: R$\", custo_oportunidade_new))"
   ]
  },
  {
   "cell_type": "code",
   "execution_count": 29,
   "id": "0a47ae0a",
   "metadata": {},
   "outputs": [
    {
     "name": "stdout",
     "output_type": "stream",
     "text": [
      "[1] \"O lucro líquido é: R$ 65325\"\n",
      "[1] \"O custo total é: R$ 57075\"\n",
      "[1] \"O ROI é:  114.45 %\"\n",
      "[1] \"Alteração nos lucros previstos:  -7.68 %\"\n",
      "[1] \"Alteração nos custos previstos:  -16.58 %\"\n",
      "[1] \"Custo de oportunidade: R$ 36200\"\n"
     ]
    }
   ],
   "source": [
    "# Lembrando o anterior\n",
    "\n",
    "print(paste(\"O lucro líquido é: R$\", lucro_liquido))\n",
    "\n",
    "print(paste(\"O custo total é: R$\", custo_total))\n",
    "\n",
    "print(paste(\"O ROI é: \", ROI, \"%\"))\n",
    "\n",
    "print(paste(\"Alteração nos lucros previstos: \", round((sum(l_new)/sum(l)-1)*100,2), \"%\"))\n",
    "\n",
    "print(paste(\"Alteração nos custos previstos: \", round((sum(c_new)/sum(c)-1)*100,2), \"%\"))\n",
    "\n",
    "print(paste(\"Custo de oportunidade: R$\", custo_oportunidade))"
   ]
  },
  {
   "cell_type": "markdown",
   "id": "53d9327c",
   "metadata": {},
   "source": [
    "<b> Entendendo a área sob a curva</b>"
   ]
  },
  {
   "cell_type": "code",
   "execution_count": 33,
   "id": "970c2a3e",
   "metadata": {},
   "outputs": [
    {
     "name": "stderr",
     "output_type": "stream",
     "text": [
      "Warning message:\n",
      "\"predict.naive_bayes(): more features in the newdata are provided as there are probability tables in the object. Calculation is performed based on features to be found in the tables.\"\n"
     ]
    },
    {
     "name": "stdout",
     "output_type": "stream",
     "text": [
      "[1] \"Auc\"\n"
     ]
    },
    {
     "data": {
      "text/html": [
       "0.85660531340113"
      ],
      "text/latex": [
       "0.85660531340113"
      ],
      "text/markdown": [
       "0.85660531340113"
      ],
      "text/plain": [
       "[1] 0.8566053"
      ]
     },
     "metadata": {},
     "output_type": "display_data"
    },
    {
     "data": {
      "image/png": "[encoded data removed]",
      "text/plain": [
       "Plot with title \"Area Under the Curve - AUC\""
      ]
     },
     "metadata": {
      "image/png": {
       "height": 420,
       "width": 420
      }
     },
     "output_type": "display_data"
    }
   ],
   "source": [
    "# Avaliando o modelo pelo AUC\n",
    "\n",
    "# Plota a AUC\n",
    "probabilidades <- predict(nb1, type = \"prob\", test)\n",
    "\n",
    "nb1_probs <- prediction(probabilidades[,2], test$y)\n",
    "plot(performance(nb1_probs, \"tpr\", \"fpr\"), col = \"red\", main = \"Area Under the Curve - AUC\")\n",
    "abline(0, 1, lty = 8, col = \"grey\")\n",
    "\n",
    "#AUC\n",
    "auc <- performance(nb1_probs, \"auc\")\n",
    "valor_auc <- slot(auc, \"y.values\")[[1]]\n",
    "print(\"Auc\")\n",
    "valor_auc"
   ]
  },
  {
   "cell_type": "code",
   "execution_count": null,
   "id": "17d5d27f",
   "metadata": {},
   "outputs": [],
   "source": []
  }
 ],
 "metadata": {
  "kernelspec": {
   "display_name": "R",
   "language": "R",
   "name": "ir"
  },
  "language_info": {
   "codemirror_mode": "r",
   "file_extension": ".r",
   "mimetype": "text/x-r-source",
   "name": "R",
   "pygments_lexer": "r",
   "version": "3.6.1"
  }
 },
 "nbformat": 4,
 "nbformat_minor": 5
}
