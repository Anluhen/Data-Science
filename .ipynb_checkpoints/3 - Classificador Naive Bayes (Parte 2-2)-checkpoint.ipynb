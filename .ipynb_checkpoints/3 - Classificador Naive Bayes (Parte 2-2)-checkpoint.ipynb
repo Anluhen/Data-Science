{
 "cells": [
  {
   "cell_type": "markdown",
   "id": "d7fe250a",
   "metadata": {},
   "source": [
    "# Classificador Naive Bayes - Parte 2/2\n",
    "\n",
    "## Neste estudo:\n",
    "- Utilizando a biblioteca naivebayes\n",
    "- Avaliando o ROI (Return Over Investment) de um modelo\n",
    "- Ajustando o ponto de corte do modelo para melhorar a performance\n",
    "- Avaliando a área Sob a Curva - Area Under the Curve (AUC)\n",
    "- KPI da matriz de confusão - Key Performance Indicator\n",
    "\n",
    "Iniciaremos repetindo os procedimentos da parte 1 na mesma base, mas utilizaremos outra biblioteca com a função para o classificador Naive Bayes"
   ]
  },
  {
   "cell_type": "code",
   "execution_count": 1,
   "id": "bf0d6232",
   "metadata": {},
   "outputs": [
    {
     "name": "stderr",
     "output_type": "stream",
     "text": [
      "Registered S3 methods overwritten by 'ggplot2':\n",
      "  method         from \n",
      "  [.quosures     rlang\n",
      "  c.quosures     rlang\n",
      "  print.quosures rlang\n",
      "Registered S3 method overwritten by 'rvest':\n",
      "  method            from\n",
      "  read_xml.response xml2\n",
      "-- Attaching packages --------------------------------------- tidyverse 1.2.1 --\n",
      "v ggplot2 3.1.1       v purrr   0.3.2  \n",
      "v tibble  2.1.1       v dplyr   0.8.0.1\n",
      "v tidyr   0.8.3       v stringr 1.4.0  \n",
      "v readr   1.3.1       v forcats 0.4.0  \n",
      "-- Conflicts ------------------------------------------ tidyverse_conflicts() --\n",
      "x dplyr::filter() masks stats::filter()\n",
      "x dplyr::lag()    masks stats::lag()\n",
      "Warning message:\n",
      "\"package 'naivebayes' was built under R version 3.6.3\"naivebayes 0.9.7 loaded\n",
      "Loading required package: lattice\n",
      "\n",
      "Attaching package: 'caret'\n",
      "\n",
      "The following object is masked from 'package:purrr':\n",
      "\n",
      "    lift\n",
      "\n",
      "Warning message:\n",
      "\"package 'ROCR' was built under R version 3.6.3\""
     ]
    }
   ],
   "source": [
    "library(tidyverse)\n",
    "library(naivebayes)\n",
    "library(caret)\n",
    "library(ggplot2)\n",
    "\n",
    "# Para a área sob a curva\n",
    "library(ROCR)"
   ]
  },
  {
   "cell_type": "markdown",
   "id": "c1e0832f",
   "metadata": {},
   "source": [
    "### Carregando a base de dados e fazendo o oversamplig\n",
    "Repete-se o procedimento executado na parte 1."
   ]
  },
  {
   "cell_type": "code",
   "execution_count": 2,
   "id": "a6265820",
   "metadata": {},
   "outputs": [],
   "source": [
    "setwd(\"Dados\")"
   ]
  },
  {
   "cell_type": "code",
   "execution_count": 3,
   "id": "d942b45e",
   "metadata": {},
   "outputs": [],
   "source": [
    "#Importando arquivos tipo csv - função read.table\n",
    "\n",
    "bank_data <- read.table(\"bank-full.csv\", header = TRUE, sep = \";\")"
   ]
  },
  {
   "cell_type": "code",
   "execution_count": 4,
   "id": "d7eca315",
   "metadata": {},
   "outputs": [
    {
     "name": "stdout",
     "output_type": "stream",
     "text": [
      "'data.frame':\t79844 obs. of  17 variables:\n",
      " $ age      : int  58 44 33 47 33 35 28 42 58 43 ...\n",
      " $ job      : Factor w/ 12 levels \"admin.\",\"blue-collar\",..: 5 10 3 2 12 5 5 3 6 10 ...\n",
      " $ marital  : Factor w/ 3 levels \"divorced\",\"married\",..: 2 3 2 2 3 2 3 1 2 3 ...\n",
      " $ education: Factor w/ 4 levels \"primary\",\"secondary\",..: 3 2 2 4 4 3 3 3 1 2 ...\n",
      " $ default  : Factor w/ 2 levels \"no\",\"yes\": 1 1 1 1 1 1 1 2 1 1 ...\n",
      " $ balance  : int  2143 29 2 1506 1 231 447 2 121 593 ...\n",
      " $ housing  : Factor w/ 2 levels \"no\",\"yes\": 2 2 2 2 1 2 2 2 2 2 ...\n",
      " $ loan     : Factor w/ 2 levels \"no\",\"yes\": 1 1 2 1 1 1 2 1 1 1 ...\n",
      " $ contact  : Factor w/ 3 levels \"cellular\",\"telephone\",..: 3 3 3 3 3 3 3 3 3 3 ...\n",
      " $ day      : int  5 5 5 5 5 5 5 5 5 5 ...\n",
      " $ month    : Factor w/ 12 levels \"apr\",\"aug\",\"dec\",..: 9 9 9 9 9 9 9 9 9 9 ...\n",
      " $ duration : int  261 151 76 92 198 139 217 380 50 55 ...\n",
      " $ campaign : int  1 1 1 1 1 1 1 1 1 1 ...\n",
      " $ pdays    : int  -1 -1 -1 -1 -1 -1 -1 -1 -1 -1 ...\n",
      " $ previous : int  0 0 0 0 0 0 0 0 0 0 ...\n",
      " $ poutcome : Factor w/ 4 levels \"failure\",\"other\",..: 4 4 4 4 4 4 4 4 4 4 ...\n",
      " $ Class    : Factor w/ 2 levels \"no\",\"yes\": 1 1 1 1 1 1 1 1 1 1 ...\n"
     ]
    }
   ],
   "source": [
    "bank_oversample <- upSample(bank_data, bank_data$y)\n",
    "\n",
    "str(bank_oversample)"
   ]
  },
  {
   "cell_type": "code",
   "execution_count": 5,
   "id": "5351f645",
   "metadata": {},
   "outputs": [
    {
     "data": {
      "text/html": [
       "<table>\n",
       "<thead><tr><th scope=col>Class</th><th scope=col>n</th></tr></thead>\n",
       "<tbody>\n",
       "\t<tr><td>no   </td><td>39922</td></tr>\n",
       "\t<tr><td>yes  </td><td>39922</td></tr>\n",
       "</tbody>\n",
       "</table>\n"
      ],
      "text/latex": [
       "\\begin{tabular}{r|ll}\n",
       " Class & n\\\\\n",
       "\\hline\n",
       "\t no    & 39922\\\\\n",
       "\t yes   & 39922\\\\\n",
       "\\end{tabular}\n"
      ],
      "text/markdown": [
       "\n",
       "| Class | n |\n",
       "|---|---|\n",
       "| no    | 39922 |\n",
       "| yes   | 39922 |\n",
       "\n"
      ],
      "text/plain": [
       "  Class n    \n",
       "1 no    39922\n",
       "2 yes   39922"
      ]
     },
     "metadata": {},
     "output_type": "display_data"
    }
   ],
   "source": [
    "bank_oversample %>% count(Class)"
   ]
  },
  {
   "cell_type": "markdown",
   "id": "f6110319",
   "metadata": {},
   "source": [
    "### Treinando o modelo\n",
    "O modelo será treinado com 70% da nossa base de dados e os 30% restantes serão para validação do modelo com dados desconhecidos para avaliar a estabilidade de performance."
   ]
  },
  {
   "cell_type": "code",
   "execution_count": 6,
   "id": "970b2fe5",
   "metadata": {},
   "outputs": [
    {
     "data": {
      "text/html": [
       "<ol class=list-inline>\n",
       "\t<li>31649</li>\n",
       "\t<li>17</li>\n",
       "</ol>\n"
      ],
      "text/latex": [
       "\\begin{enumerate*}\n",
       "\\item 31649\n",
       "\\item 17\n",
       "\\end{enumerate*}\n"
      ],
      "text/markdown": [
       "1. 31649\n",
       "2. 17\n",
       "\n",
       "\n"
      ],
      "text/plain": [
       "[1] 31649    17"
      ]
     },
     "metadata": {},
     "output_type": "display_data"
    },
    {
     "data": {
      "text/html": [
       "<ol class=list-inline>\n",
       "\t<li>13562</li>\n",
       "\t<li>17</li>\n",
       "</ol>\n"
      ],
      "text/latex": [
       "\\begin{enumerate*}\n",
       "\\item 13562\n",
       "\\item 17\n",
       "\\end{enumerate*}\n"
      ],
      "text/markdown": [
       "1. 13562\n",
       "2. 17\n",
       "\n",
       "\n"
      ],
      "text/plain": [
       "[1] 13562    17"
      ]
     },
     "metadata": {},
     "output_type": "display_data"
    },
    {
     "data": {
      "text/html": [
       "<ol class=list-inline>\n",
       "\t<li>55892</li>\n",
       "\t<li>17</li>\n",
       "</ol>\n"
      ],
      "text/latex": [
       "\\begin{enumerate*}\n",
       "\\item 55892\n",
       "\\item 17\n",
       "\\end{enumerate*}\n"
      ],
      "text/markdown": [
       "1. 55892\n",
       "2. 17\n",
       "\n",
       "\n"
      ],
      "text/plain": [
       "[1] 55892    17"
      ]
     },
     "metadata": {},
     "output_type": "display_data"
    },
    {
     "data": {
      "text/html": [
       "<ol class=list-inline>\n",
       "\t<li>23952</li>\n",
       "\t<li>17</li>\n",
       "</ol>\n"
      ],
      "text/latex": [
       "\\begin{enumerate*}\n",
       "\\item 23952\n",
       "\\item 17\n",
       "\\end{enumerate*}\n"
      ],
      "text/markdown": [
       "1. 23952\n",
       "2. 17\n",
       "\n",
       "\n"
      ],
      "text/plain": [
       "[1] 23952    17"
      ]
     },
     "metadata": {},
     "output_type": "display_data"
    }
   ],
   "source": [
    "set.seed(42)\n",
    "\n",
    "# Sem oversamplig\n",
    "\n",
    "inTrain <- createDataPartition(bank_data$y, p = 0.7, list = FALSE)\n",
    "\n",
    "train <- bank_data[inTrain, ]\n",
    "\n",
    "test <- bank_data[-inTrain, ]\n",
    "\n",
    "dim(train)\n",
    "dim(test)\n",
    "\n",
    "# Com oversampling\n",
    "\n",
    "inTrain1 <- createDataPartition(bank_oversample$Class, p = 0.7, list = FALSE)\n",
    "\n",
    "train1 <- bank_oversample[inTrain1, ]\n",
    "\n",
    "test1 <- bank_oversample[-inTrain1, ]\n",
    "\n",
    "dim(train1)\n",
    "dim(test1)"
   ]
  },
  {
   "cell_type": "code",
   "execution_count": 7,
   "id": "1d1f490f",
   "metadata": {},
   "outputs": [],
   "source": [
    "# Treinando o modelo - nova função Naive Bayes\n",
    "\n",
    "nb1 <- naive_bayes(Class ~ . , laplace = 1, usekernel = F, data = train1)"
   ]
  },
  {
   "cell_type": "code",
   "execution_count": 8,
   "id": "e5bba176",
   "metadata": {},
   "outputs": [
    {
     "name": "stderr",
     "output_type": "stream",
     "text": [
      "Warning message:\n",
      "\"predict.naive_bayes(): more features in the newdata are provided as there are probability tables in the object. Calculation is performed based on features to be found in the tables.\""
     ]
    },
    {
     "data": {
      "text/plain": [
       "Confusion Matrix and Statistics\n",
       "\n",
       "          Reference\n",
       "Prediction    no   yes\n",
       "       no  21814  5606\n",
       "       yes  6132 22340\n",
       "                                          \n",
       "               Accuracy : 0.79            \n",
       "                 95% CI : (0.7866, 0.7934)\n",
       "    No Information Rate : 0.5             \n",
       "    P-Value [Acc > NIR] : < 2.2e-16       \n",
       "                                          \n",
       "                  Kappa : 0.58            \n",
       "                                          \n",
       " Mcnemar's Test P-Value : 1.261e-06       \n",
       "                                          \n",
       "            Sensitivity : 0.7994          \n",
       "            Specificity : 0.7806          \n",
       "         Pos Pred Value : 0.7846          \n",
       "         Neg Pred Value : 0.7956          \n",
       "             Prevalence : 0.5000          \n",
       "         Detection Rate : 0.3997          \n",
       "   Detection Prevalence : 0.5094          \n",
       "      Balanced Accuracy : 0.7900          \n",
       "                                          \n",
       "       'Positive' Class : yes             \n",
       "                                          "
      ]
     },
     "metadata": {},
     "output_type": "display_data"
    }
   ],
   "source": [
    "# Previsão na base de treinamento\n",
    "\n",
    "nb_train_pred1 <- predict(nb1, train1, type = \"class\")\n",
    "\n",
    "confusionMatrix(nb_train_pred1, train1$Class, positive = \"yes\")"
   ]
  },
  {
   "cell_type": "code",
   "execution_count": 9,
   "id": "63087473",
   "metadata": {},
   "outputs": [
    {
     "name": "stderr",
     "output_type": "stream",
     "text": [
      "Warning message:\n",
      "\"predict.naive_bayes(): more features in the newdata are provided as there are probability tables in the object. Calculation is performed based on features to be found in the tables.\""
     ]
    },
    {
     "data": {
      "text/plain": [
       "Confusion Matrix and Statistics\n",
       "\n",
       "          Reference\n",
       "Prediction   no  yes\n",
       "       no  9343  350\n",
       "       yes 2633 1236\n",
       "                                        \n",
       "               Accuracy : 0.78          \n",
       "                 95% CI : (0.773, 0.787)\n",
       "    No Information Rate : 0.8831        \n",
       "    P-Value [Acc > NIR] : 1             \n",
       "                                        \n",
       "                  Kappa : 0.3444        \n",
       "                                        \n",
       " Mcnemar's Test P-Value : <2e-16        \n",
       "                                        \n",
       "            Sensitivity : 0.77932       \n",
       "            Specificity : 0.78014       \n",
       "         Pos Pred Value : 0.31946       \n",
       "         Neg Pred Value : 0.96389       \n",
       "             Prevalence : 0.11694       \n",
       "         Detection Rate : 0.09114       \n",
       "   Detection Prevalence : 0.28528       \n",
       "      Balanced Accuracy : 0.77973       \n",
       "                                        \n",
       "       'Positive' Class : yes           \n",
       "                                        "
      ]
     },
     "metadata": {},
     "output_type": "display_data"
    }
   ],
   "source": [
    "# Previsão na base de teste sem oversampling\n",
    "\n",
    "nb_test_pred1 <- predict(nb1, test, type = \"class\")\n",
    "\n",
    "confusionMatrix(nb_test_pred1, test$y, positive = \"yes\")"
   ]
  },
  {
   "cell_type": "markdown",
   "id": "fe86021a",
   "metadata": {},
   "source": [
    "### Calculando o retorno esperado da campanha\n",
    "\n",
    "Com os resultados do treinamento do modelo podemos estimar qual o custo e o retorno esperado da implementação da campanha. O retorno sobre o investimento é chamadado pela sigla ROI, do inglês Return Over Investment.\n",
    "\n",
    "Para tal, iremos definir que o custo para a campanha é de 15 unidades monetárias por pessoa abordada e a adesão à campanha gera uma receita de 100 unidades monetárias."
   ]
  },
  {
   "cell_type": "code",
   "execution_count": 10,
   "id": "d1f08f3b",
   "metadata": {},
   "outputs": [],
   "source": [
    "# Os custos e lucros de realizar uma campanha como esta\n",
    "\n",
    "custo <- 15\n",
    "receita <- 100"
   ]
  },
  {
   "cell_type": "code",
   "execution_count": 11,
   "id": "03be2fb7",
   "metadata": {},
   "outputs": [],
   "source": [
    "# Analisando o retorno sobre o investimento - ROI - Return Over Investment\n",
    "\n",
    "# Quando a prediction é yes, eu mandei a campanha\n",
    "c <- ifelse(nb_test_pred1 == \"yes\", custo, 0)\n",
    "\n",
    "# Quando a prediction é yes e y é yes, eu tenho lucro\n",
    "r <- ifelse((test$y == \"yes\" & nb_test_pred1 == \"yes\"), receita, 0)\n",
    "\n",
    "# Quando a prediction é no e y é yes, eu deixei de ganhar\n",
    "custo_oportunidade <- sum(ifelse((test$y == \"yes\" & nb_test_pred1 == \"no\"), receita, 0))"
   ]
  },
  {
   "cell_type": "code",
   "execution_count": 12,
   "id": "34817d39",
   "metadata": {},
   "outputs": [
    {
     "name": "stdout",
     "output_type": "stream",
     "text": [
      "[1] \"O lucro líquido é: R$ 65565\"\n",
      "[1] \"O custo total é: R$ 58035\"\n",
      "[1] \"O ROI é:  112.97 %\"\n",
      "[1] \"Custo de oportunidade: R$ 35000\"\n"
     ]
    }
   ],
   "source": [
    "# O calculo do ROI em percentual\n",
    "\n",
    "lucro_liquido <- round(sum(r)-sum(c), 2)\n",
    "\n",
    "custo_total <- round(sum(c), 2)\n",
    "\n",
    "ROI <- round((sum(r)/sum(c)-1)*100, 2)\n",
    "\n",
    "print(paste(\"O lucro líquido é: R$\", lucro_liquido))\n",
    "\n",
    "print(paste(\"O custo total é: R$\", custo_total))\n",
    "\n",
    "print(paste(\"O ROI é: \", ROI, \"%\"))\n",
    "\n",
    "print(paste(\"Custo de oportunidade: R$\", custo_oportunidade))"
   ]
  },
  {
   "cell_type": "markdown",
   "id": "f9ad2ef3",
   "metadata": {},
   "source": [
    "### Otimizando o retorno da campanha\n",
    "A fim de melhorar o desempenho da campanha iremos alterar o ponto de corte do modelo. Atualmente o modelo faz a previssão por classe e o ponto de corte padrão é 0.5. Se alterarmos a função predict para \"prob\" ela nos retornará a probabilidade de cada resultado, desta maneira podemos definir um novo valor para separar os resultados. Alteraremos o ponto de corte para 0.62, que apresentou uma melhora no resultado."
   ]
  },
  {
   "cell_type": "code",
   "execution_count": 13,
   "id": "3a68e989",
   "metadata": {},
   "outputs": [
    {
     "name": "stderr",
     "output_type": "stream",
     "text": [
      "Warning message:\n",
      "\"predict.naive_bayes(): more features in the newdata are provided as there are probability tables in the object. Calculation is performed based on features to be found in the tables.\""
     ]
    },
    {
     "data": {
      "text/html": [
       "<table>\n",
       "<thead><tr><th scope=col>no</th><th scope=col>yes</th></tr></thead>\n",
       "<tbody>\n",
       "\t<tr><td>0.9933387  </td><td>0.006661286</td></tr>\n",
       "\t<tr><td>0.9576358  </td><td>0.042364165</td></tr>\n",
       "\t<tr><td>0.9619266  </td><td>0.038073409</td></tr>\n",
       "\t<tr><td>0.9835241  </td><td>0.016475906</td></tr>\n",
       "\t<tr><td>0.9925284  </td><td>0.007471635</td></tr>\n",
       "</tbody>\n",
       "</table>\n"
      ],
      "text/latex": [
       "\\begin{tabular}{ll}\n",
       " no & yes\\\\\n",
       "\\hline\n",
       "\t 0.9933387   & 0.006661286\\\\\n",
       "\t 0.9576358   & 0.042364165\\\\\n",
       "\t 0.9619266   & 0.038073409\\\\\n",
       "\t 0.9835241   & 0.016475906\\\\\n",
       "\t 0.9925284   & 0.007471635\\\\\n",
       "\\end{tabular}\n"
      ],
      "text/markdown": [
       "\n",
       "| no | yes |\n",
       "|---|---|\n",
       "| 0.9933387   | 0.006661286 |\n",
       "| 0.9576358   | 0.042364165 |\n",
       "| 0.9619266   | 0.038073409 |\n",
       "| 0.9835241   | 0.016475906 |\n",
       "| 0.9925284   | 0.007471635 |\n",
       "\n"
      ],
      "text/plain": [
       "     no        yes        \n",
       "[1,] 0.9933387 0.006661286\n",
       "[2,] 0.9576358 0.042364165\n",
       "[3,] 0.9619266 0.038073409\n",
       "[4,] 0.9835241 0.016475906\n",
       "[5,] 0.9925284 0.007471635"
      ]
     },
     "metadata": {},
     "output_type": "display_data"
    }
   ],
   "source": [
    "# Também é possível mudar a saída de type para prob - e mudar o ponde de corte para trabalhar melhor a acuracia\n",
    "\n",
    "probabilidades <- predict(nb1, type = \"prob\", test)\n",
    "\n",
    "probabilidades[1:5, ]"
   ]
  },
  {
   "cell_type": "code",
   "execution_count": 14,
   "id": "5dbbbd10",
   "metadata": {},
   "outputs": [
    {
     "data": {
      "text/plain": [
       "Confusion Matrix and Statistics\n",
       "\n",
       "          Reference\n",
       "Prediction   no  yes\n",
       "       no  9892  454\n",
       "       yes 2084 1132\n",
       "                                          \n",
       "               Accuracy : 0.8129          \n",
       "                 95% CI : (0.8062, 0.8194)\n",
       "    No Information Rate : 0.8831          \n",
       "    P-Value [Acc > NIR] : 1               \n",
       "                                          \n",
       "                  Kappa : 0.3733          \n",
       "                                          \n",
       " Mcnemar's Test P-Value : <2e-16          \n",
       "                                          \n",
       "            Sensitivity : 0.71375         \n",
       "            Specificity : 0.82599         \n",
       "         Pos Pred Value : 0.35199         \n",
       "         Neg Pred Value : 0.95612         \n",
       "             Prevalence : 0.11694         \n",
       "         Detection Rate : 0.08347         \n",
       "   Detection Prevalence : 0.23713         \n",
       "      Balanced Accuracy : 0.76987         \n",
       "                                          \n",
       "       'Positive' Class : yes             \n",
       "                                          "
      ]
     },
     "metadata": {},
     "output_type": "display_data"
    }
   ],
   "source": [
    "# Previsão com mudança no ponto de corte - base de teste sem oversamplig\n",
    "\n",
    "nb_cutoff <- as.factor(ifelse(probabilidades[,2] > 0.62, \"yes\", \"no\"))\n",
    "\n",
    "confusionMatrix(nb_cutoff, test$y, positive = \"yes\")"
   ]
  },
  {
   "cell_type": "code",
   "execution_count": 18,
   "id": "4ebc276e",
   "metadata": {},
   "outputs": [],
   "source": [
    "# Analisando o retorno sobre o investimento - ROI - Return Over Investment com o cut-off modificado\n",
    "\n",
    "# Quando a prediction é yes, eu mandei a campanha\n",
    "c_new <- ifelse(nb_cutoff == \"yes\", custo, 0)\n",
    "\n",
    "# Quando a prediction é yes e y é yes, eu tenho lucro\n",
    "r_new <- ifelse((test$y == \"yes\" & nb_cutoff == \"yes\"), receita, 0)\n",
    "\n",
    "# Quando a prediction é no e y é yes, eu deixei de ganhar\n",
    "custo_oportunidade_new <- sum(ifelse((test$y == \"yes\" & nb_cutoff == \"no\"), receita, 0))"
   ]
  },
  {
   "cell_type": "markdown",
   "id": "be6a9699",
   "metadata": {},
   "source": [
    "### Como ficou o ROI?\n",
    "Com o novo ponto de corte não tivemos um aumento significativo no lucro líquido, mas alcançamos uma redução nos gastos da campanha, ou seja, acertamos mais. Dessa forma nosso ROI aumentou em troca de um maior custo de oportunidade, ou seja, um número maior de clientes em potencial deixou de ser abordado. A alteração nas receitas previstas foi de -7.86%, mas a alteração nos custos previstos foi de -16.85%, como o custo diminuiu mais que a receita obtivemos um aumento do ROI."
   ]
  },
  {
   "cell_type": "code",
   "execution_count": 19,
   "id": "2c6cf25e",
   "metadata": {},
   "outputs": [
    {
     "name": "stdout",
     "output_type": "stream",
     "text": [
      "[1] \"O lucro líquido é: R$ 64960\"\n",
      "[1] \"O custo total é: R$ 48240\"\n",
      "[1] \"O ROI é:  134.66 %\"\n",
      "[1] \"Custo de oportunidade: R$ 45400\"\n"
     ]
    }
   ],
   "source": [
    "# O calculo do ROI em percentual\n",
    "\n",
    "lucro_liquido_new <- round(sum(r_new)-sum(c_new), 2)\n",
    "\n",
    "custo_total_new <- round(sum(c_new), 2)\n",
    "\n",
    "ROI_new <- round((sum(r_new)/sum(c_new)-1)*100, 2)\n",
    "\n",
    "print(paste(\"O lucro líquido é: R$\", lucro_liquido_new))\n",
    "\n",
    "print(paste(\"O custo total é: R$\", custo_total_new))\n",
    "\n",
    "print(paste(\"O ROI é: \", ROI_new, \"%\"))\n",
    "\n",
    "print(paste(\"Custo de oportunidade: R$\", custo_oportunidade_new))"
   ]
  },
  {
   "cell_type": "code",
   "execution_count": 20,
   "id": "0a47ae0a",
   "metadata": {},
   "outputs": [
    {
     "name": "stdout",
     "output_type": "stream",
     "text": [
      "[1] \"O lucro líquido é: R$ 65565\"\n",
      "[1] \"O custo total é: R$ 58035\"\n",
      "[1] \"O ROI é:  112.97 %\"\n",
      "[1] \"Alteração nas receitas previstas:  -8.41 %\"\n",
      "[1] \"Alteração nos custos previstos:  -16.88 %\"\n",
      "[1] \"Custo de oportunidade: R$ 35000\"\n"
     ]
    }
   ],
   "source": [
    "# Lembrando o anterior\n",
    "\n",
    "print(paste(\"O lucro líquido é: R$\", lucro_liquido))\n",
    "\n",
    "print(paste(\"O custo total é: R$\", custo_total))\n",
    "\n",
    "print(paste(\"O ROI é: \", ROI, \"%\"))\n",
    "\n",
    "print(paste(\"Alteração nas receitas previstas: \", round((sum(r_new)/sum(r)-1)*100,2), \"%\"))\n",
    "\n",
    "print(paste(\"Alteração nos custos previstos: \", round((sum(c_new)/sum(c)-1)*100,2), \"%\"))\n",
    "\n",
    "print(paste(\"Custo de oportunidade: R$\", custo_oportunidade))"
   ]
  },
  {
   "cell_type": "markdown",
   "id": "53d9327c",
   "metadata": {},
   "source": [
    "### Entendendo a área sob a curva\n",
    "A área sobre a curva indica a taxa de acertos frente os falsos positivos. Idealmente seu valor é 1 e indica que teremos 1 acerto para 0 falso positivo. Nosso valor ficou em 85,86% que é um valor interessante para este modelo e indica que termos 1,414 falso positivo a cada 10 acertos."
   ]
  },
  {
   "cell_type": "code",
   "execution_count": 21,
   "id": "970c2a3e",
   "metadata": {},
   "outputs": [
    {
     "name": "stderr",
     "output_type": "stream",
     "text": [
      "Warning message:\n",
      "\"predict.naive_bayes(): more features in the newdata are provided as there are probability tables in the object. Calculation is performed based on features to be found in the tables.\""
     ]
    },
    {
     "name": "stdout",
     "output_type": "stream",
     "text": [
      "[1] \"Auc\"\n"
     ]
    },
    {
     "data": {
      "text/html": [
       "0.856155748866424"
      ],
      "text/latex": [
       "0.856155748866424"
      ],
      "text/markdown": [
       "0.856155748866424"
      ],
      "text/plain": [
       "[1] 0.8561557"
      ]
     },
     "metadata": {},
     "output_type": "display_data"
    },
    {
     "data": {
      "image/png": "[encoded data removed]",
      "text/plain": [
       "Plot with title \"Area Under the Curve - AUC\""
      ]
     },
     "metadata": {},
     "output_type": "display_data"
    }
   ],
   "source": [
    "# Avaliando o modelo pelo AUC\n",
    "\n",
    "# Plota a AUC\n",
    "probabilidades <- predict(nb1, type = \"prob\", test)\n",
    "\n",
    "nb1_probs <- prediction(probabilidades[,2], test$y)\n",
    "plot(performance(nb1_probs, \"tpr\", \"fpr\"), col = \"red\", main = \"Area Under the Curve - AUC\")\n",
    "abline(0, 1, lty = 8, col = \"grey\")\n",
    "\n",
    "#AUC\n",
    "auc <- performance(nb1_probs, \"auc\")\n",
    "valor_auc <- slot(auc, \"y.values\")[[1]]\n",
    "print(\"Auc\")\n",
    "valor_auc"
   ]
  }
 ],
 "metadata": {
  "kernelspec": {
   "display_name": "R",
   "language": "R",
   "name": "ir"
  },
  "language_info": {
   "codemirror_mode": "r",
   "file_extension": ".r",
   "mimetype": "text/x-r-source",
   "name": "R",
   "pygments_lexer": "r",
   "version": "3.6.1"
  }
 },
 "nbformat": 4,
 "nbformat_minor": 5
}
