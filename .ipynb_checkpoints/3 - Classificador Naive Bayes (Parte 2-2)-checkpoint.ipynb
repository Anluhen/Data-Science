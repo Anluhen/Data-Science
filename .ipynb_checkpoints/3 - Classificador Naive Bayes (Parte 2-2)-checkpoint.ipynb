{
 "cells": [
  {
   "cell_type": "markdown",
   "id": "d7fe250a",
   "metadata": {},
   "source": [
    "# Classificador Naive Bayes - Parte 2/2\n",
    "\n",
    "## Neste estudo:\n",
    "- Utilizando a biblioteca naivebayes\n",
    "- Avaliando o retorno de um modelo\n",
    "- Ajustando o ponto de corte do modelo\n",
    "- Área Sob a Curva - Area Under the Curve (AUC)\n",
    "- KPI da matriz de confusão - Key Performance Indicator\n",
    "\n",
    "Iniciaremos repetindo os procedimentos da parte 1 na mesma base, mas utilizaremos outra biblioteca com outra função para o classificador Naive Bayes"
   ]
  },
  {
   "cell_type": "code",
   "execution_count": 1,
   "id": "bf0d6232",
   "metadata": {},
   "outputs": [
    {
     "name": "stderr",
     "output_type": "stream",
     "text": [
      "-- \u001b[1mAttaching packages\u001b[22m --------------------------------------- tidyverse 1.2.1 --\n",
      "\n",
      "\u001b[32mv\u001b[39m \u001b[34mggplot2\u001b[39m 3.3.3     \u001b[32mv\u001b[39m \u001b[34mpurrr  \u001b[39m 0.3.2\n",
      "\u001b[32mv\u001b[39m \u001b[34mtibble \u001b[39m 3.1.1     \u001b[32mv\u001b[39m \u001b[34mdplyr  \u001b[39m 1.0.6\n",
      "\u001b[32mv\u001b[39m \u001b[34mtidyr  \u001b[39m 1.1.3     \u001b[32mv\u001b[39m \u001b[34mstringr\u001b[39m 1.4.0\n",
      "\u001b[32mv\u001b[39m \u001b[34mreadr  \u001b[39m 1.3.1     \u001b[32mv\u001b[39m \u001b[34mforcats\u001b[39m 0.5.1\n",
      "\n",
      "Warning message:\n",
      "\"package 'ggplot2' was built under R version 3.6.3\"\n",
      "Warning message:\n",
      "\"package 'tibble' was built under R version 3.6.3\"\n",
      "Warning message:\n",
      "\"package 'tidyr' was built under R version 3.6.3\"\n",
      "Warning message:\n",
      "\"package 'dplyr' was built under R version 3.6.3\"\n",
      "Warning message:\n",
      "\"package 'forcats' was built under R version 3.6.3\"\n",
      "-- \u001b[1mConflicts\u001b[22m ------------------------------------------ tidyverse_conflicts() --\n",
      "\u001b[31mx\u001b[39m \u001b[34mdplyr\u001b[39m::\u001b[32mfilter()\u001b[39m masks \u001b[34mstats\u001b[39m::filter()\n",
      "\u001b[31mx\u001b[39m \u001b[34mdplyr\u001b[39m::\u001b[32mlag()\u001b[39m    masks \u001b[34mstats\u001b[39m::lag()\n",
      "\n",
      "Warning message:\n",
      "\"package 'naivebayes' was built under R version 3.6.3\"\n",
      "naivebayes 0.9.7 loaded\n",
      "\n",
      "Loading required package: lattice\n",
      "\n",
      "\n",
      "Attaching package: 'caret'\n",
      "\n",
      "\n",
      "The following object is masked from 'package:purrr':\n",
      "\n",
      "    lift\n",
      "\n",
      "\n",
      "Warning message:\n",
      "\"package 'ROCR' was built under R version 3.6.3\"\n"
     ]
    }
   ],
   "source": [
    "library(tidyverse)\n",
    "library(naivebayes)\n",
    "library(caret)\n",
    "library(ggplot2)\n",
    "\n",
    "# Para a área sob a curva\n",
    "library(ROCR)"
   ]
  },
  {
   "cell_type": "markdown",
   "id": "c1e0832f",
   "metadata": {},
   "source": [
    "### Carregando a base de dados e fazendo o oversamplig "
   ]
  },
  {
   "cell_type": "code",
   "execution_count": 2,
   "id": "a6265820",
   "metadata": {},
   "outputs": [],
   "source": [
    "setwd(\"Dados\")"
   ]
  },
  {
   "cell_type": "code",
   "execution_count": 3,
   "id": "d942b45e",
   "metadata": {},
   "outputs": [],
   "source": [
    "#Importando arquivos tipo csv - função read.table\n",
    "\n",
    "bank_data <- read.table(\"bank-full.csv\", header = TRUE, sep = \";\")"
   ]
  },
  {
   "cell_type": "code",
   "execution_count": 4,
   "id": "d7eca315",
   "metadata": {},
   "outputs": [
    {
     "name": "stdout",
     "output_type": "stream",
     "text": [
      "'data.frame':\t79844 obs. of  17 variables:\n",
      " $ age      : int  58 44 33 47 33 35 28 42 58 43 ...\n",
      " $ job      : Factor w/ 12 levels \"admin.\",\"blue-collar\",..: 5 10 3 2 12 5 5 3 6 10 ...\n",
      " $ marital  : Factor w/ 3 levels \"divorced\",\"married\",..: 2 3 2 2 3 2 3 1 2 3 ...\n",
      " $ education: Factor w/ 4 levels \"primary\",\"secondary\",..: 3 2 2 4 4 3 3 3 1 2 ...\n",
      " $ default  : Factor w/ 2 levels \"no\",\"yes\": 1 1 1 1 1 1 1 2 1 1 ...\n",
      " $ balance  : int  2143 29 2 1506 1 231 447 2 121 593 ...\n",
      " $ housing  : Factor w/ 2 levels \"no\",\"yes\": 2 2 2 2 1 2 2 2 2 2 ...\n",
      " $ loan     : Factor w/ 2 levels \"no\",\"yes\": 1 1 2 1 1 1 2 1 1 1 ...\n",
      " $ contact  : Factor w/ 3 levels \"cellular\",\"telephone\",..: 3 3 3 3 3 3 3 3 3 3 ...\n",
      " $ day      : int  5 5 5 5 5 5 5 5 5 5 ...\n",
      " $ month    : Factor w/ 12 levels \"apr\",\"aug\",\"dec\",..: 9 9 9 9 9 9 9 9 9 9 ...\n",
      " $ duration : int  261 151 76 92 198 139 217 380 50 55 ...\n",
      " $ campaign : int  1 1 1 1 1 1 1 1 1 1 ...\n",
      " $ pdays    : int  -1 -1 -1 -1 -1 -1 -1 -1 -1 -1 ...\n",
      " $ previous : int  0 0 0 0 0 0 0 0 0 0 ...\n",
      " $ poutcome : Factor w/ 4 levels \"failure\",\"other\",..: 4 4 4 4 4 4 4 4 4 4 ...\n",
      " $ Class    : Factor w/ 2 levels \"no\",\"yes\": 1 1 1 1 1 1 1 1 1 1 ...\n"
     ]
    }
   ],
   "source": [
    "bank_oversample <- upSample(bank_data, bank_data$y)\n",
    "\n",
    "str(bank_oversample)"
   ]
  },
  {
   "cell_type": "code",
   "execution_count": 5,
   "id": "5351f645",
   "metadata": {},
   "outputs": [
    {
     "data": {
      "text/html": [
       "<table>\n",
       "<thead><tr><th scope=col>Class</th><th scope=col>n</th></tr></thead>\n",
       "<tbody>\n",
       "\t<tr><td>no   </td><td>39922</td></tr>\n",
       "\t<tr><td>yes  </td><td>39922</td></tr>\n",
       "</tbody>\n",
       "</table>\n"
      ],
      "text/latex": [
       "\\begin{tabular}{r|ll}\n",
       " Class & n\\\\\n",
       "\\hline\n",
       "\t no    & 39922\\\\\n",
       "\t yes   & 39922\\\\\n",
       "\\end{tabular}\n"
      ],
      "text/markdown": [
       "\n",
       "| Class | n |\n",
       "|---|---|\n",
       "| no    | 39922 |\n",
       "| yes   | 39922 |\n",
       "\n"
      ],
      "text/plain": [
       "  Class n    \n",
       "1 no    39922\n",
       "2 yes   39922"
      ]
     },
     "metadata": {},
     "output_type": "display_data"
    }
   ],
   "source": [
    "bank_oversample %>% count(Class)"
   ]
  },
  {
   "cell_type": "markdown",
   "id": "f6110319",
   "metadata": {},
   "source": [
    "### Treinando o modelo"
   ]
  },
  {
   "cell_type": "code",
   "execution_count": 6,
   "id": "970b2fe5",
   "metadata": {},
   "outputs": [
    {
     "data": {
      "text/html": [
       "<ol class=list-inline>\n",
       "\t<li>31649</li>\n",
       "\t<li>17</li>\n",
       "</ol>\n"
      ],
      "text/latex": [
       "\\begin{enumerate*}\n",
       "\\item 31649\n",
       "\\item 17\n",
       "\\end{enumerate*}\n"
      ],
      "text/markdown": [
       "1. 31649\n",
       "2. 17\n",
       "\n",
       "\n"
      ],
      "text/plain": [
       "[1] 31649    17"
      ]
     },
     "metadata": {},
     "output_type": "display_data"
    },
    {
     "data": {
      "text/html": [
       "<ol class=list-inline>\n",
       "\t<li>13562</li>\n",
       "\t<li>17</li>\n",
       "</ol>\n"
      ],
      "text/latex": [
       "\\begin{enumerate*}\n",
       "\\item 13562\n",
       "\\item 17\n",
       "\\end{enumerate*}\n"
      ],
      "text/markdown": [
       "1. 13562\n",
       "2. 17\n",
       "\n",
       "\n"
      ],
      "text/plain": [
       "[1] 13562    17"
      ]
     },
     "metadata": {},
     "output_type": "display_data"
    },
    {
     "data": {
      "text/html": [
       "<ol class=list-inline>\n",
       "\t<li>55892</li>\n",
       "\t<li>17</li>\n",
       "</ol>\n"
      ],
      "text/latex": [
       "\\begin{enumerate*}\n",
       "\\item 55892\n",
       "\\item 17\n",
       "\\end{enumerate*}\n"
      ],
      "text/markdown": [
       "1. 55892\n",
       "2. 17\n",
       "\n",
       "\n"
      ],
      "text/plain": [
       "[1] 55892    17"
      ]
     },
     "metadata": {},
     "output_type": "display_data"
    },
    {
     "data": {
      "text/html": [
       "<ol class=list-inline>\n",
       "\t<li>23952</li>\n",
       "\t<li>17</li>\n",
       "</ol>\n"
      ],
      "text/latex": [
       "\\begin{enumerate*}\n",
       "\\item 23952\n",
       "\\item 17\n",
       "\\end{enumerate*}\n"
      ],
      "text/markdown": [
       "1. 23952\n",
       "2. 17\n",
       "\n",
       "\n"
      ],
      "text/plain": [
       "[1] 23952    17"
      ]
     },
     "metadata": {},
     "output_type": "display_data"
    }
   ],
   "source": [
    "set.seed(42)\n",
    "\n",
    "# Sem oversamplig\n",
    "\n",
    "inTrain <- createDataPartition(bank_data$y, p = 0.7, list = FALSE)\n",
    "\n",
    "train <- bank_data[inTrain, ]\n",
    "\n",
    "test <- bank_data[-inTrain, ]\n",
    "\n",
    "dim(train)\n",
    "dim(test)\n",
    "\n",
    "# Com oversampling\n",
    "\n",
    "inTrain1 <- createDataPartition(bank_oversample$Class, p = 0.7, list = FALSE)\n",
    "\n",
    "train1 <- bank_oversample[inTrain1, ]\n",
    "\n",
    "test1 <- bank_oversample[-inTrain1, ]\n",
    "\n",
    "dim(train1)\n",
    "dim(test1)"
   ]
  },
  {
   "cell_type": "code",
   "execution_count": 7,
   "id": "1d1f490f",
   "metadata": {},
   "outputs": [],
   "source": [
    "# Treinando o modelo - nova função Naive Bayes\n",
    "\n",
    "nb1 <- naive_bayes(Class ~ . , laplace = 1, usekernel = F, data = train1)"
   ]
  },
  {
   "cell_type": "code",
   "execution_count": 8,
   "id": "e5bba176",
   "metadata": {},
   "outputs": [
    {
     "name": "stderr",
     "output_type": "stream",
     "text": [
      "Warning message:\n",
      "\"predict.naive_bayes(): more features in the newdata are provided as there are probability tables in the object. Calculation is performed based on features to be found in the tables.\"\n"
     ]
    },
    {
     "data": {
      "text/plain": [
       "Confusion Matrix and Statistics\n",
       "\n",
       "          Reference\n",
       "Prediction    no   yes\n",
       "       no  22020  5969\n",
       "       yes  5926 21977\n",
       "                                          \n",
       "               Accuracy : 0.7872          \n",
       "                 95% CI : (0.7838, 0.7906)\n",
       "    No Information Rate : 0.5             \n",
       "    P-Value [Acc > NIR] : <2e-16          \n",
       "                                          \n",
       "                  Kappa : 0.5744          \n",
       "                                          \n",
       " Mcnemar's Test P-Value : 0.7002          \n",
       "                                          \n",
       "            Sensitivity : 0.7864          \n",
       "            Specificity : 0.7879          \n",
       "         Pos Pred Value : 0.7876          \n",
       "         Neg Pred Value : 0.7867          \n",
       "             Prevalence : 0.5000          \n",
       "         Detection Rate : 0.3932          \n",
       "   Detection Prevalence : 0.4992          \n",
       "      Balanced Accuracy : 0.7872          \n",
       "                                          \n",
       "       'Positive' Class : yes             \n",
       "                                          "
      ]
     },
     "metadata": {},
     "output_type": "display_data"
    }
   ],
   "source": [
    "# Previsão na base de treinamento\n",
    "\n",
    "nb_train_pred1 <- predict(nb1, train1, type = \"class\")\n",
    "\n",
    "confusionMatrix(nb_train_pred1, train1$Class, positive = \"yes\")"
   ]
  },
  {
   "cell_type": "code",
   "execution_count": 9,
   "id": "63087473",
   "metadata": {},
   "outputs": [
    {
     "name": "stderr",
     "output_type": "stream",
     "text": [
      "Warning message:\n",
      "\"predict.naive_bayes(): more features in the newdata are provided as there are probability tables in the object. Calculation is performed based on features to be found in the tables.\"\n"
     ]
    },
    {
     "data": {
      "text/plain": [
       "Confusion Matrix and Statistics\n",
       "\n",
       "          Reference\n",
       "Prediction   no  yes\n",
       "       no  9417  364\n",
       "       yes 2559 1222\n",
       "                                          \n",
       "               Accuracy : 0.7845          \n",
       "                 95% CI : (0.7775, 0.7914)\n",
       "    No Information Rate : 0.8831          \n",
       "    P-Value [Acc > NIR] : 1               \n",
       "                                          \n",
       "                  Kappa : 0.3479          \n",
       "                                          \n",
       " Mcnemar's Test P-Value : <2e-16          \n",
       "                                          \n",
       "            Sensitivity : 0.7705          \n",
       "            Specificity : 0.7863          \n",
       "         Pos Pred Value : 0.3232          \n",
       "         Neg Pred Value : 0.9628          \n",
       "             Prevalence : 0.1169          \n",
       "         Detection Rate : 0.0901          \n",
       "   Detection Prevalence : 0.2788          \n",
       "      Balanced Accuracy : 0.7784          \n",
       "                                          \n",
       "       'Positive' Class : yes             \n",
       "                                          "
      ]
     },
     "metadata": {},
     "output_type": "display_data"
    }
   ],
   "source": [
    "# Previsão na base de teste sem oversampling\n",
    "\n",
    "nb_test_pred1 <- predict(nb1, test, type = \"class\")\n",
    "\n",
    "confusionMatrix(nb_test_pred1, test$y, positive = \"yes\")"
   ]
  },
  {
   "cell_type": "markdown",
   "id": "fe86021a",
   "metadata": {},
   "source": [
    "### Calculando o retorno esperado da campanha\n",
    "\n",
    "Com os resultados do treinamento do modelo podemos estimar qual o custo e o retorno esperado da implementação da campanha. O retorno sobre o investimento é chamadado pela sigla ROI, do inglês Return Over Investment.\n",
    "\n",
    "Para tal, iremos definir que o custo para a campanha é de 15 unidades monetárias por pessoa abordada e a adesão à campanha gera uma receita de 100 unidades monetárias."
   ]
  },
  {
   "cell_type": "code",
   "execution_count": 10,
   "id": "d1f08f3b",
   "metadata": {},
   "outputs": [],
   "source": [
    "# Os custos e lucros de realizar uma campanha como esta\n",
    "\n",
    "custo <- 15\n",
    "receita <- 100"
   ]
  },
  {
   "cell_type": "code",
   "execution_count": 11,
   "id": "03be2fb7",
   "metadata": {},
   "outputs": [],
   "source": [
    "# Analisando o retorno sobre o investimento - ROI - Return Over Investment\n",
    "\n",
    "# Quando a prediction é yes, eu mandei a campanha\n",
    "c <- ifelse(nb_test_pred1 == \"yes\", custo, 0)\n",
    "\n",
    "# Quando a prediction é yes e y é yes, eu tenho lucro\n",
    "l <- ifelse((test$y == \"yes\" & nb_test_pred1 == \"yes\"), receita, 0)\n",
    "\n",
    "# Quando a prediction é no e y é yes, eu deixei de ganhar\n",
    "custo_oportunidade <- sum(ifelse((test$y == \"yes\" & nb_test_pred1 == \"no\"), receita, 0))"
   ]
  },
  {
   "cell_type": "code",
   "execution_count": 12,
   "id": "34817d39",
   "metadata": {},
   "outputs": [
    {
     "name": "stdout",
     "output_type": "stream",
     "text": [
      "[1] \"O lucro líquido é: R$ 65485\"\n",
      "[1] \"O custo total é: R$ 56715\"\n",
      "[1] \"O ROI é:  115.46 %\"\n",
      "[1] \"Custo de oportunidade: R$ 36400\"\n"
     ]
    }
   ],
   "source": [
    "# O calculo do ROI em percentual\n",
    "\n",
    "lucro_liquido <- round(sum(l)-sum(c), 2)\n",
    "\n",
    "custo_total <- round(sum(c), 2)\n",
    "\n",
    "ROI <- round((sum(l)/sum(c)-1)*100, 2)\n",
    "\n",
    "print(paste(\"O lucro líquido é: R$\", lucro_liquido))\n",
    "\n",
    "print(paste(\"O custo total é: R$\", custo_total))\n",
    "\n",
    "print(paste(\"O ROI é: \", ROI, \"%\"))\n",
    "\n",
    "print(paste(\"Custo de oportunidade: R$\", custo_oportunidade))"
   ]
  },
  {
   "cell_type": "markdown",
   "id": "f9ad2ef3",
   "metadata": {},
   "source": [
    "### Otimizando o retorno da campanha\n",
    "A fim de melhorar o desempenho da campanha iremos alterar o ponto de corte do modelo. Atualmente o modelo faz a previssão por classe e o ponto de corte é 0.5. Se alterarmos a função predict para \"prob\" ela nos retornará a probabilidade de cada resultado, desta maneira podemos definir um novo valor para separar os resultados. Alteraremos o ponto de corte para 0.62, que apresentou uma melhora no resultado."
   ]
  },
  {
   "cell_type": "code",
   "execution_count": 13,
   "id": "3a68e989",
   "metadata": {},
   "outputs": [
    {
     "name": "stderr",
     "output_type": "stream",
     "text": [
      "Warning message:\n",
      "\"predict.naive_bayes(): more features in the newdata are provided as there are probability tables in the object. Calculation is performed based on features to be found in the tables.\"\n"
     ]
    },
    {
     "data": {
      "text/html": [
       "<table>\n",
       "<thead><tr><th scope=col>no</th><th scope=col>yes</th></tr></thead>\n",
       "<tbody>\n",
       "\t<tr><td>0.9929152  </td><td>0.007084824</td></tr>\n",
       "\t<tr><td>0.9548021  </td><td>0.045197873</td></tr>\n",
       "\t<tr><td>0.9585609  </td><td>0.041439074</td></tr>\n",
       "\t<tr><td>0.9833179  </td><td>0.016682125</td></tr>\n",
       "\t<tr><td>0.9923363  </td><td>0.007663718</td></tr>\n",
       "</tbody>\n",
       "</table>\n"
      ],
      "text/latex": [
       "\\begin{tabular}{ll}\n",
       " no & yes\\\\\n",
       "\\hline\n",
       "\t 0.9929152   & 0.007084824\\\\\n",
       "\t 0.9548021   & 0.045197873\\\\\n",
       "\t 0.9585609   & 0.041439074\\\\\n",
       "\t 0.9833179   & 0.016682125\\\\\n",
       "\t 0.9923363   & 0.007663718\\\\\n",
       "\\end{tabular}\n"
      ],
      "text/markdown": [
       "\n",
       "| no | yes |\n",
       "|---|---|\n",
       "| 0.9929152   | 0.007084824 |\n",
       "| 0.9548021   | 0.045197873 |\n",
       "| 0.9585609   | 0.041439074 |\n",
       "| 0.9833179   | 0.016682125 |\n",
       "| 0.9923363   | 0.007663718 |\n",
       "\n"
      ],
      "text/plain": [
       "     no        yes        \n",
       "[1,] 0.9929152 0.007084824\n",
       "[2,] 0.9548021 0.045197873\n",
       "[3,] 0.9585609 0.041439074\n",
       "[4,] 0.9833179 0.016682125\n",
       "[5,] 0.9923363 0.007663718"
      ]
     },
     "metadata": {},
     "output_type": "display_data"
    }
   ],
   "source": [
    "# Também é possível mudar a saída de type para prob - e mudar o ponde de corte para trabalhar melhor a acuracia\n",
    "\n",
    "probabilidades <- predict(nb1, type = \"prob\", test)\n",
    "\n",
    "probabilidades[1:5, ]"
   ]
  },
  {
   "cell_type": "code",
   "execution_count": 14,
   "id": "5dbbbd10",
   "metadata": {},
   "outputs": [
    {
     "data": {
      "text/plain": [
       "Confusion Matrix and Statistics\n",
       "\n",
       "          Reference\n",
       "Prediction   no  yes\n",
       "       no  9958  460\n",
       "       yes 2018 1126\n",
       "                                          \n",
       "               Accuracy : 0.8173          \n",
       "                 95% CI : (0.8107, 0.8238)\n",
       "    No Information Rate : 0.8831          \n",
       "    P-Value [Acc > NIR] : 1               \n",
       "                                          \n",
       "                  Kappa : 0.3797          \n",
       "                                          \n",
       " Mcnemar's Test P-Value : <2e-16          \n",
       "                                          \n",
       "            Sensitivity : 0.70996         \n",
       "            Specificity : 0.83150         \n",
       "         Pos Pred Value : 0.35814         \n",
       "         Neg Pred Value : 0.95585         \n",
       "             Prevalence : 0.11694         \n",
       "         Detection Rate : 0.08303         \n",
       "   Detection Prevalence : 0.23182         \n",
       "      Balanced Accuracy : 0.77073         \n",
       "                                          \n",
       "       'Positive' Class : yes             \n",
       "                                          "
      ]
     },
     "metadata": {},
     "output_type": "display_data"
    }
   ],
   "source": [
    "# Previsão com mudança no ponto de corte - base de teste sem oversamplig\n",
    "\n",
    "nb_cutoff <- as.factor(ifelse(probabilidades[,2] > 0.62, \"yes\", \"no\"))\n",
    "\n",
    "confusionMatrix(nb_cutoff, test$y, positive = \"yes\")"
   ]
  },
  {
   "cell_type": "code",
   "execution_count": 15,
   "id": "4ebc276e",
   "metadata": {},
   "outputs": [],
   "source": [
    "# Analisando o retorno sobre o investimento - ROI - Return Over Investment com o cut-off modificado\n",
    "\n",
    "# Quando a prediction é yes, eu mandei a campanha\n",
    "c_new <- ifelse(nb_cutoff == \"yes\", custo, 0)\n",
    "\n",
    "# Quando a prediction é yes e y é yes, eu tenho lucro\n",
    "l_new <- ifelse((test$y == \"yes\" & nb_cutoff == \"yes\"), receita, 0)\n",
    "\n",
    "# Quando a prediction é no e y é yes, eu deixei de ganhar\n",
    "custo_oportunidade_new <- sum(ifelse((test$y == \"yes\" & nb_cutoff == \"no\"), receita, 0))"
   ]
  },
  {
   "cell_type": "markdown",
   "id": "be6a9699",
   "metadata": {},
   "source": [
    "### Como ficou o ROI?\n",
    "Com o novo ponto de corte não tivemos um aumento significativo no lucro líquido, mas alcançamos uma redução nos gastos da campanha, ou seja, acertamos mais. Dessa forma nosso ROI aumentou em troca de um maior custo de oportunidade."
   ]
  },
  {
   "cell_type": "code",
   "execution_count": 16,
   "id": "2c6cf25e",
   "metadata": {},
   "outputs": [
    {
     "name": "stdout",
     "output_type": "stream",
     "text": [
      "[1] \"O lucro líquido é: R$ 65440\"\n",
      "[1] \"O custo total é: R$ 47160\"\n",
      "[1] \"O ROI é:  138.76 %\"\n",
      "[1] \"Custo de oportunidade: R$ 46000\"\n"
     ]
    }
   ],
   "source": [
    "# O calculo do ROI em percentual\n",
    "\n",
    "lucro_liquido_new <- round(sum(l_new)-sum(c_new), 2)\n",
    "\n",
    "custo_total_new <- round(sum(c_new), 2)\n",
    "\n",
    "ROI_new <- round((sum(l_new)/sum(c_new)-1)*100, 2)\n",
    "\n",
    "print(paste(\"O lucro líquido é: R$\", lucro_liquido_new))\n",
    "\n",
    "print(paste(\"O custo total é: R$\", custo_total_new))\n",
    "\n",
    "print(paste(\"O ROI é: \", ROI_new, \"%\"))\n",
    "\n",
    "print(paste(\"Custo de oportunidade: R$\", custo_oportunidade_new))"
   ]
  },
  {
   "cell_type": "code",
   "execution_count": 17,
   "id": "0a47ae0a",
   "metadata": {},
   "outputs": [
    {
     "name": "stdout",
     "output_type": "stream",
     "text": [
      "[1] \"O lucro líquido é: R$ 65485\"\n",
      "[1] \"O custo total é: R$ 56715\"\n",
      "[1] \"O ROI é:  115.46 %\"\n",
      "[1] \"Alteração nas receitas previstas:  -7.86 %\"\n",
      "[1] \"Alteração nos custos previstos:  -16.85 %\"\n",
      "[1] \"Custo de oportunidade: R$ 36400\"\n"
     ]
    }
   ],
   "source": [
    "# Lembrando o anterior\n",
    "\n",
    "print(paste(\"O lucro líquido é: R$\", lucro_liquido))\n",
    "\n",
    "print(paste(\"O custo total é: R$\", custo_total))\n",
    "\n",
    "print(paste(\"O ROI é: \", ROI, \"%\"))\n",
    "\n",
    "print(paste(\"Alteração nas receitas previstas: \", round((sum(l_new)/sum(l)-1)*100,2), \"%\"))\n",
    "\n",
    "print(paste(\"Alteração nos custos previstos: \", round((sum(c_new)/sum(c)-1)*100,2), \"%\"))\n",
    "\n",
    "print(paste(\"Custo de oportunidade: R$\", custo_oportunidade))"
   ]
  },
  {
   "cell_type": "markdown",
   "id": "53d9327c",
   "metadata": {},
   "source": [
    "### Entendendo a área sob a curva\n",
    "A área sobre a curva indica a taxa de acertos frente os falsos positivos. Idealmente seu valor é 1 e indica que teremos 1 acerto para 0 falso positivo. Nosso valor ficou em 85,66% que é um valor interessante para este modelo."
   ]
  },
  {
   "cell_type": "code",
   "execution_count": 18,
   "id": "970c2a3e",
   "metadata": {},
   "outputs": [
    {
     "name": "stderr",
     "output_type": "stream",
     "text": [
      "Warning message:\n",
      "\"predict.naive_bayes(): more features in the newdata are provided as there are probability tables in the object. Calculation is performed based on features to be found in the tables.\"\n"
     ]
    },
    {
     "name": "stdout",
     "output_type": "stream",
     "text": [
      "[1] \"Auc\"\n"
     ]
    },
    {
     "data": {
      "text/html": [
       "0.858624010315778"
      ],
      "text/latex": [
       "0.858624010315778"
      ],
      "text/markdown": [
       "0.858624010315778"
      ],
      "text/plain": [
       "[1] 0.858624"
      ]
     },
     "metadata": {},
     "output_type": "display_data"
    },
    {
     "data": {
      "image/png": "[encoded data removed]",
      "text/plain": [
       "Plot with title \"Area Under the Curve - AUC\""
      ]
     },
     "metadata": {
      "image/png": {
       "height": 420,
       "width": 420
      }
     },
     "output_type": "display_data"
    }
   ],
   "source": [
    "# Avaliando o modelo pelo AUC\n",
    "\n",
    "# Plota a AUC\n",
    "probabilidades <- predict(nb1, type = \"prob\", test)\n",
    "\n",
    "nb1_probs <- prediction(probabilidades[,2], test$y)\n",
    "plot(performance(nb1_probs, \"tpr\", \"fpr\"), col = \"red\", main = \"Area Under the Curve - AUC\")\n",
    "abline(0, 1, lty = 8, col = \"grey\")\n",
    "\n",
    "#AUC\n",
    "auc <- performance(nb1_probs, \"auc\")\n",
    "valor_auc <- slot(auc, \"y.values\")[[1]]\n",
    "print(\"Auc\")\n",
    "valor_auc"
   ]
  }
 ],
 "metadata": {
  "kernelspec": {
   "display_name": "R",
   "language": "R",
   "name": "ir"
  },
  "language_info": {
   "codemirror_mode": "r",
   "file_extension": ".r",
   "mimetype": "text/x-r-source",
   "name": "R",
   "pygments_lexer": "r",
   "version": "3.6.1"
  }
 },
 "nbformat": 4,
 "nbformat_minor": 5
}
