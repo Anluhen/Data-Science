{
 "cells": [
  {
   "cell_type": "markdown",
   "id": "a653eaf7",
   "metadata": {},
   "source": [
    "# Árvore de Decisão e PCA (ACP)\n",
    "## Motivação\n",
    "\n",
    "- Desenvolvimento de uma árvore de decisão\n",
    "- Visualização da árvore de decisão\n",
    "- Importância de cada variável\n",
    "- Poda da árvore\n",
    "- Desenvolvimento de um modelo com PCA\n",
    "- Condition monitoring of a hydraulic systems Data Set\n",
    "- http://archive.ics.uci.edu/ml/datasets/Condition+monitoring+of+hydraulic+systems"
   ]
  },
  {
   "cell_type": "code",
   "execution_count": 2,
   "id": "e039dd26",
   "metadata": {},
   "outputs": [
    {
     "name": "stderr",
     "output_type": "stream",
     "text": [
      "Loading required package: lattice\n",
      "Loading required package: ggplot2\n",
      "Registered S3 methods overwritten by 'ggplot2':\n",
      "  method         from \n",
      "  [.quosures     rlang\n",
      "  c.quosures     rlang\n",
      "  print.quosures rlang\n",
      "Loading required package: rpart\n",
      "Warning message:\n",
      "\"package 'rattle' was built under R version 4.1.3\"Loading required package: tibble\n",
      "Loading required package: bitops\n",
      "Warning message:\n",
      "\"package 'bitops' was built under R version 3.6.3\"Rattle: A free graphical interface for data science with R.\n",
      "Version 5.5.1 Copyright (c) 2006-2021 Togaware Pty Ltd.\n",
      "Type 'rattle()' to shake, rattle, and roll your data.\n"
     ]
    }
   ],
   "source": [
    "# Carregando as bibliotecas \n",
    "\n",
    "library(data.table)\n",
    "library(caret)\n",
    "library(rpart.plot)\n",
    "library(RColorBrewer)\n",
    "library(rattle)"
   ]
  },
  {
   "cell_type": "code",
   "execution_count": 3,
   "id": "01aecadc",
   "metadata": {},
   "outputs": [],
   "source": [
    "# Carregando as 17 bases de dados com informações dos sensores\n",
    "# Este seeria um projeto de inumeros dias, para estressar todas as possibilidades dos dados\n",
    "# principalemente porque deve ser feito \"feature engineering\" e \"dimensionality reduction\", dado que os dados sao \"brutos\"\n",
    "# apenas das informações lidas pelos sensores"
   ]
  },
  {
   "cell_type": "code",
   "execution_count": 4,
   "id": "e372c5fa",
   "metadata": {},
   "outputs": [],
   "source": [
    "setwd(\"F:/Meu Drive/Work/OMNP/Data Science (R)/Dados/CMHS\")"
   ]
  },
  {
   "cell_type": "code",
   "execution_count": 5,
   "id": "08738fc8",
   "metadata": {},
   "outputs": [],
   "source": [
    "# Importando arquivos .txt - função fread\n",
    "\n",
    "# Sensores de Pressão\n",
    "ps1 <- fread(\"ps1.txt\", header = F) # fread tem uma otimização para subir bases grandes para a memória do computador\n",
    "names(ps1) <- sub(\"V\", \"ps1_\",names(ps1), fixed = T) # fixed é usado para substituir todos os Vs\n",
    "ps2 <- fread(\"ps2.txt\", header = F)\n",
    "names(ps2) <- sub(\"V\", \"ps2_\",names(ps2), fixed = T)\n",
    "ps3 <- fread(\"ps3.txt\", header = F)\n",
    "names(ps3) <- sub(\"V\", \"ps3_\",names(ps3), fixed = T)\n",
    "ps4 <- fread(\"ps4.txt\", header = F)\n",
    "names(ps4) <- sub(\"V\", \"ps4_\",names(ps4), fixed = T)\n",
    "ps5 <- fread(\"ps5.txt\", header = F)\n",
    "names(ps5) <- sub(\"V\", \"ps5_\",names(ps5), fixed = T)\n",
    "ps6 <- fread(\"ps6.txt\", header = F)\n",
    "names(ps6) <- sub(\"V\", \"ps6_\",names(ps6), fixed = T)"
   ]
  },
  {
   "cell_type": "code",
   "execution_count": 6,
   "id": "aff987c6",
   "metadata": {},
   "outputs": [],
   "source": [
    "# Sensor do motor\n",
    "eps1 <- fread(\"eps1.txt\", header = F)\n",
    "names(eps1) <- sub(\"V\", \"eps1_\", names(eps1), fixed = T)"
   ]
  },
  {
   "cell_type": "code",
   "execution_count": 7,
   "id": "3dd75b07",
   "metadata": {},
   "outputs": [],
   "source": [
    "# Sensores de volume\n",
    "fs1 <- fread(\"fs1.txt\", header = F)\n",
    "names(fs1) <- sub(\"V\", \"fs1\", names(fs1), fixed = T)\n",
    "fs2 <- fread(\"fs2.txt\", header = F)\n",
    "names(fs2) <- sub(\"V\", \"fs2_\", names(fs2), fixed = T)"
   ]
  },
  {
   "cell_type": "code",
   "execution_count": 8,
   "id": "58869aac",
   "metadata": {},
   "outputs": [],
   "source": [
    "# Sensores de temperatura\n",
    "ts1 <- fread(\"ts1.txt\", header = F)\n",
    "names(ts1) <- sub(\"V\", \"ts1_\", names(ts1), fixed = T)\n",
    "ts2 <- fread(\"ts2.txt\", header = F)\n",
    "names(ts2) <- sub(\"V\", \"ts2_\", names(ts2), fixed = T)\n",
    "ts3 <- fread(\"ts3.txt\", header = F)\n",
    "names(ts3) <- sub(\"V\", \"ts3_\", names(ts3), fixed = T)\n",
    "ts4 <- fread(\"ts4.txt\", header = F)\n",
    "names(ts4) <- sub(\"V\", \"ts4_\", names(ts4), fixed = T)"
   ]
  },
  {
   "cell_type": "code",
   "execution_count": 9,
   "id": "a692df78",
   "metadata": {},
   "outputs": [],
   "source": [
    "# Sensor de vibração\n",
    "vs1 <- fread(\"vs1.txt\", header = F)\n",
    "names(vs1) <- sub(\"V\", \"vs1_\", names(vs1), fixed = T)"
   ]
  },
  {
   "cell_type": "code",
   "execution_count": 10,
   "id": "08081962",
   "metadata": {},
   "outputs": [],
   "source": [
    "# Sencores de refrigeramento\n",
    "ce <- fread(\"ce.txt\", header = F)\n",
    "names(ce) <- sub(\"V\", \"ce_\", names(ce), fixed = T)\n",
    "cp <- fread(\"cp.txt\", header = F)\n",
    "names(cp) <- sub(\"V\", \"cp_\", names(cp), fixed = T)"
   ]
  },
  {
   "cell_type": "code",
   "execution_count": 11,
   "id": "921da02b",
   "metadata": {},
   "outputs": [],
   "source": [
    "# Sensor de eficiência\n",
    "se <- fread(\"se.txt\", header = F)\n",
    "names(se) <- sub(\"V\", \"se_\", names(se), fixed = T)"
   ]
  },
  {
   "cell_type": "code",
   "execution_count": 12,
   "id": "70fd412f",
   "metadata": {},
   "outputs": [],
   "source": [
    "# Carregando a base com os alvos\n",
    "profile <- fread(\"profile.txt\", header = F)\n",
    "names(profile) <- c(\"cooler\", \"valve\", \"leakage\", \"accumulator\", \"stable\")"
   ]
  },
  {
   "cell_type": "code",
   "execution_count": 13,
   "id": "e5e99209",
   "metadata": {},
   "outputs": [
    {
     "data": {
      "text/html": [
       "<ol class=list-inline>\n",
       "\t<li>2205</li>\n",
       "\t<li>43685</li>\n",
       "</ol>\n"
      ],
      "text/latex": [
       "\\begin{enumerate*}\n",
       "\\item 2205\n",
       "\\item 43685\n",
       "\\end{enumerate*}\n"
      ],
      "text/markdown": [
       "1. 2205\n",
       "2. 43685\n",
       "\n",
       "\n"
      ],
      "text/plain": [
       "[1]  2205 43685"
      ]
     },
     "metadata": {},
     "output_type": "display_data"
    }
   ],
   "source": [
    "# União de todas as bases\n",
    "\n",
    "data <- cbind(ps1, ps2, ps3, ps4, ps5, ps6, se, ts1, ts2, ts3, ts4, vs1, ce, cp, eps1, fs1, fs2, profile)\n",
    "\n",
    "dim(data)"
   ]
  },
  {
   "cell_type": "code",
   "execution_count": 14,
   "id": "4228f0c6",
   "metadata": {},
   "outputs": [],
   "source": [
    "# Aqui vemos que é um claro problema de redução de dimensionalidade - mais de 43 mil variáveis\n",
    "# Não faz sentido fazer AED com gráficos e todas estas variáveis"
   ]
  },
  {
   "cell_type": "markdown",
   "id": "85cd862d",
   "metadata": {},
   "source": [
    "### Desenvolvimento do modelo - Árvore de Decisão"
   ]
  },
  {
   "cell_type": "code",
   "execution_count": 15,
   "id": "92d3bd73",
   "metadata": {},
   "outputs": [
    {
     "data": {
      "text/html": [
       "<ol class=list-inline>\n",
       "\t<li>1544</li>\n",
       "\t<li>43685</li>\n",
       "</ol>\n"
      ],
      "text/latex": [
       "\\begin{enumerate*}\n",
       "\\item 1544\n",
       "\\item 43685\n",
       "\\end{enumerate*}\n"
      ],
      "text/markdown": [
       "1. 1544\n",
       "2. 43685\n",
       "\n",
       "\n"
      ],
      "text/plain": [
       "[1]  1544 43685"
      ]
     },
     "metadata": {},
     "output_type": "display_data"
    },
    {
     "data": {
      "text/html": [
       "<ol class=list-inline>\n",
       "\t<li>661</li>\n",
       "\t<li>43685</li>\n",
       "</ol>\n"
      ],
      "text/latex": [
       "\\begin{enumerate*}\n",
       "\\item 661\n",
       "\\item 43685\n",
       "\\end{enumerate*}\n"
      ],
      "text/markdown": [
       "1. 661\n",
       "2. 43685\n",
       "\n",
       "\n"
      ],
      "text/plain": [
       "[1]   661 43685"
      ]
     },
     "metadata": {},
     "output_type": "display_data"
    }
   ],
   "source": [
    "# Vamos modelar a flag stable, que é dicotomica\n",
    "\n",
    "seed <- 42\n",
    "set.seed(seed)\n",
    "inTrain_stable <- createDataPartition(y = data$stable, p = 0.7, list = FALSE)\n",
    "train_stable <- data[inTrain_stable, ]\n",
    "test_stable <- data[-inTrain_stable, ]\n",
    "dim(train_stable); dim(test_stable)"
   ]
  },
  {
   "cell_type": "code",
   "execution_count": 16,
   "id": "edc0d36f",
   "metadata": {},
   "outputs": [],
   "source": [
    " tree1 <- rpart(stable ~ ps1_1 + ps1_2 + ps1_3 + ps1_4 + ps1_5 \n",
    "               + ps1_6 + ps1_7 + ps1_8 + ps1_9 + ps1_10\n",
    "               + ps1_11 + ps1_12 + ps1_13 + ps1_14 + ps1_15\n",
    "               + ps1_16 + ps1_17 + ps1_18 + ps1_19 + ps1_20\n",
    "               + ps1_21 + ps1_22 + ps1_23 + ps1_24 + ps1_25\n",
    "               + ps1_26 + ps1_27 + ps1_28 + ps1_29 + ps1_30\n",
    "               + ps1_31 + ps1_32 + ps1_33 + ps1_34 + ps1_35\n",
    "               + ps1_36 + ps1_37 + ps1_38 + ps1_39 + ps1_40\n",
    "               + ps1_41 + ps1_42 + ps1_43 + ps1_44 + ps1_45\n",
    "               + ps1_46 + ps1_47 + ps1_48 + ps1_49 + ps1_50\n",
    "               + ps1_51 + ps1_52 + ps1_53 + ps1_54 + ps1_55\n",
    "               + ps1_56 + ps1_57 + ps1_58 + ps1_59 + ps1_60\n",
    "               + ce_1 + ce_2 + ce_3 + ce_4 + ce_5 \n",
    "               + ce_6 + ce_7 + ce_8 + ce_9 + ce_10\n",
    "               + ce_11 + ce_12 + ce_13 + ce_14 + ce_15\n",
    "               + ce_16 + ce_17 + ce_18 + ce_19 + ce_20\n",
    "               + ce_21 + ce_22 + ce_23 + ce_24 + ce_25\n",
    "               + ce_26 + ce_27 + ce_28 + ce_29 + ce_30\n",
    "               + ce_31 + ce_32 + ce_33 + ce_34 + ce_35\n",
    "               + ce_36 + ce_37 + ce_38 + ce_39 + ce_40\n",
    "               + ce_41 + ce_42 + ce_43 + ce_44 + ce_45\n",
    "               + ce_46 + ce_47 + ce_48 + ce_49 + ce_50\n",
    "               + ce_51 + ce_52 + ce_53 + ce_54 + ce_55\n",
    "               + ce_56 + ce_57 + ce_58 + ce_59 + ce_60\n",
    "               + cp_1 + cp_2 + cp_3 + cp_4 + cp_5 \n",
    "               + cp_6 + cp_7 + cp_8 + cp_9 + cp_10\n",
    "               + cp_11 + cp_12 + cp_13 + cp_14 + cp_15\n",
    "               + cp_16 + cp_17 + cp_18 + cp_19 + cp_20\n",
    "               + cp_21 + cp_22 + cp_23 + cp_24 + cp_25\n",
    "               + cp_26 + cp_27 + cp_28 + cp_29 + cp_30\n",
    "               + cp_31 + cp_32 + cp_33 + cp_34 + cp_35\n",
    "               + cp_36 + cp_37 + cp_38 + cp_39 + cp_40\n",
    "               + cp_41 + cp_42 + cp_43 + cp_44 + cp_45\n",
    "               + cp_46 + cp_47 + cp_48 + cp_49 + cp_50\n",
    "               + cp_51 + cp_52 + cp_53 + cp_54 + cp_55\n",
    "               + cp_56 + cp_57 + cp_58 + cp_59 + cp_60\n",
    "                , data = train_stable\n",
    "                , method = \"class\"\n",
    "                , control = rpart.control(minsplit = 5, cp = 0.0001), parms = list(split = 'gini'))"
   ]
  },
  {
   "cell_type": "markdown",
   "id": "903fa586",
   "metadata": {},
   "source": [
    "### Visualizando a árvore"
   ]
  },
  {
   "cell_type": "code",
   "execution_count": 17,
   "id": "b015df29",
   "metadata": {},
   "outputs": [
    {
     "name": "stderr",
     "output_type": "stream",
     "text": [
      "Warning message:\n",
      "\"labs do not fit even at cex 0.15, there may be some overplotting\""
     ]
    },
    {
     "data": {
      "image/png": "[encoded data removed]",
      "text/plain": [
       "Plot with title \"\""
      ]
     },
     "metadata": {},
     "output_type": "display_data"
    }
   ],
   "source": [
    "fancyRpartPlot(tree1, caption = NULL) # Caption NULL remove a informação de quando a arvore foi gerada"
   ]
  },
  {
   "cell_type": "markdown",
   "id": "ff1d579b",
   "metadata": {},
   "source": [
    "### Importância de cada variável - Variable Importance"
   ]
  },
  {
   "cell_type": "code",
   "execution_count": 18,
   "id": "ae9fd2e2",
   "metadata": {},
   "outputs": [
    {
     "data": {
      "text/html": [
       "<dl class=dl-horizontal>\n",
       "\t<dt>ps1_1</dt>\n",
       "\t\t<dd>283.979303436245</dd>\n",
       "\t<dt>ps1_4</dt>\n",
       "\t\t<dd>283.535968246751</dd>\n",
       "\t<dt>ps1_3</dt>\n",
       "\t\t<dd>236.566089138169</dd>\n",
       "\t<dt>ps1_10</dt>\n",
       "\t\t<dd>235.140536510729</dd>\n",
       "\t<dt>ps1_2</dt>\n",
       "\t\t<dd>230.933723128031</dd>\n",
       "\t<dt>ps1_11</dt>\n",
       "\t\t<dd>220.177515577481</dd>\n",
       "\t<dt>ps1_57</dt>\n",
       "\t\t<dd>116.93560977149</dd>\n",
       "\t<dt>ce_24</dt>\n",
       "\t\t<dd>108.153383856998</dd>\n",
       "\t<dt>ce_22</dt>\n",
       "\t\t<dd>108.002205839408</dd>\n",
       "\t<dt>ce_23</dt>\n",
       "\t\t<dd>107.239077417947</dd>\n",
       "\t<dt>ce_18</dt>\n",
       "\t\t<dd>106.91752096392</dd>\n",
       "\t<dt>ce_5</dt>\n",
       "\t\t<dd>106.756742736906</dd>\n",
       "\t<dt>ce_6</dt>\n",
       "\t\t<dd>106.756742736906</dd>\n",
       "\t<dt>ps1_56</dt>\n",
       "\t\t<dd>105.104780558491</dd>\n",
       "\t<dt>ps1_60</dt>\n",
       "\t\t<dd>99.5752801272155</dd>\n",
       "\t<dt>ps1_52</dt>\n",
       "\t\t<dd>93.4721343091397</dd>\n",
       "\t<dt>ps1_6</dt>\n",
       "\t\t<dd>88.770915036563</dd>\n",
       "\t<dt>ps1_50</dt>\n",
       "\t\t<dd>88.277931410589</dd>\n",
       "\t<dt>ps1_5</dt>\n",
       "\t\t<dd>85.4100844568776</dd>\n",
       "\t<dt>ps1_53</dt>\n",
       "\t\t<dd>73.6711938827302</dd>\n",
       "\t<dt>ps1_59</dt>\n",
       "\t\t<dd>27.0614702622542</dd>\n",
       "\t<dt>ps1_58</dt>\n",
       "\t\t<dd>25.9901598946862</dd>\n",
       "\t<dt>ps1_55</dt>\n",
       "\t\t<dd>25.0172387477328</dd>\n",
       "\t<dt>ps1_8</dt>\n",
       "\t\t<dd>18.4635328027725</dd>\n",
       "\t<dt>ps1_51</dt>\n",
       "\t\t<dd>18.2426795568443</dd>\n",
       "\t<dt>ps1_18</dt>\n",
       "\t\t<dd>16.8736795091695</dd>\n",
       "\t<dt>cp_5</dt>\n",
       "\t\t<dd>16.8702197350016</dd>\n",
       "\t<dt>cp_6</dt>\n",
       "\t\t<dd>16.8702197350016</dd>\n",
       "\t<dt>ps1_7</dt>\n",
       "\t\t<dd>16.1323206049267</dd>\n",
       "\t<dt>cp_3</dt>\n",
       "\t\t<dd>16.1116548774882</dd>\n",
       "\t<dt>cp_33</dt>\n",
       "\t\t<dd>15.7962732919255</dd>\n",
       "\t<dt>cp_1</dt>\n",
       "\t\t<dd>15.7179433258819</dd>\n",
       "\t<dt>cp_4</dt>\n",
       "\t\t<dd>15.3635889946843</dd>\n",
       "\t<dt>ps1_9</dt>\n",
       "\t\t<dd>15.2441567025668</dd>\n",
       "\t<dt>cp_2</dt>\n",
       "\t\t<dd>14.9593784683685</dd>\n",
       "\t<dt>ps1_49</dt>\n",
       "\t\t<dd>14.6067375278588</dd>\n",
       "\t<dt>ps1_12</dt>\n",
       "\t\t<dd>14.2528017422794</dd>\n",
       "\t<dt>ps1_13</dt>\n",
       "\t\t<dd>13.4973442974655</dd>\n",
       "\t<dt>ps1_26</dt>\n",
       "\t\t<dd>13.1463294314381</dd>\n",
       "\t<dt>cp_34</dt>\n",
       "\t\t<dd>12.9242236024845</dd>\n",
       "\t<dt>cp_38</dt>\n",
       "\t\t<dd>12.9242236024845</dd>\n",
       "\t<dt>cp_42</dt>\n",
       "\t\t<dd>12.9242236024845</dd>\n",
       "\t<dt>cp_55</dt>\n",
       "\t\t<dd>12.9242236024845</dd>\n",
       "\t<dt>ps1_23</dt>\n",
       "\t\t<dd>10.8566810773206</dd>\n",
       "\t<dt>ps1_54</dt>\n",
       "\t\t<dd>10.7333333333333</dd>\n",
       "\t<dt>ps1_22</dt>\n",
       "\t\t<dd>10.1353718847803</dd>\n",
       "\t<dt>ps1_27</dt>\n",
       "\t\t<dd>10.0298076923077</dd>\n",
       "\t<dt>ps1_48</dt>\n",
       "\t\t<dd>9.04267955684426</dd>\n",
       "\t<dt>ps1_44</dt>\n",
       "\t\t<dd>7.8161862810773</dd>\n",
       "\t<dt>ps1_25</dt>\n",
       "\t\t<dd>7.62980769230769</dd>\n",
       "\t<dt>ps1_19</dt>\n",
       "\t\t<dd>6.58843211904266</dd>\n",
       "\t<dt>ce_56</dt>\n",
       "\t\t<dd>5.82835713822981</dd>\n",
       "\t<dt>ps1_47</dt>\n",
       "\t\t<dd>5.68753126827982</dd>\n",
       "\t<dt>ps1_14</dt>\n",
       "\t\t<dd>5.04001518734</dd>\n",
       "\t<dt>ce_47</dt>\n",
       "\t\t<dd>4.88124813512734</dd>\n",
       "\t<dt>ce_49</dt>\n",
       "\t\t<dd>4.83330390492361</dd>\n",
       "\t<dt>cp_25</dt>\n",
       "\t\t<dd>4.41134952004517</dd>\n",
       "\t<dt>ps1_40</dt>\n",
       "\t\t<dd>4.38925646469637</dd>\n",
       "\t<dt>ps1_41</dt>\n",
       "\t\t<dd>4.36097113531588</dd>\n",
       "\t<dt>ps1_39</dt>\n",
       "\t\t<dd>4.28475035839408</dd>\n",
       "\t<dt>ps1_36</dt>\n",
       "\t\t<dd>4.21507962085922</dd>\n",
       "\t<dt>ps1_43</dt>\n",
       "\t\t<dd>4.14540888332435</dd>\n",
       "\t<dt>ce_14</dt>\n",
       "\t\t<dd>3.74193548387097</dd>\n",
       "\t<dt>ce_34</dt>\n",
       "\t\t<dd>3.74193548387097</dd>\n",
       "\t<dt>cp_14</dt>\n",
       "\t\t<dd>3.74193548387097</dd>\n",
       "\t<dt>cp_24</dt>\n",
       "\t\t<dd>3.74193548387097</dd>\n",
       "\t<dt>cp_19</dt>\n",
       "\t\t<dd>3.42857142857143</dd>\n",
       "\t<dt>cp_57</dt>\n",
       "\t\t<dd>3.42857142857143</dd>\n",
       "\t<dt>cp_30</dt>\n",
       "\t\t<dd>3.27272727272727</dd>\n",
       "\t<dt>ce_59</dt>\n",
       "\t\t<dd>3.1713622741255</dd>\n",
       "\t<dt>ps1_32</dt>\n",
       "\t\t<dd>3.11652173913044</dd>\n",
       "\t<dt>cp_15</dt>\n",
       "\t\t<dd>2.85714285714286</dd>\n",
       "\t<dt>cp_27</dt>\n",
       "\t\t<dd>2.85714285714286</dd>\n",
       "\t<dt>ce_48</dt>\n",
       "\t\t<dd>2.74454892777016</dd>\n",
       "\t<dt>ps1_24</dt>\n",
       "\t\t<dd>2.4</dd>\n",
       "\t<dt>cp_18</dt>\n",
       "\t\t<dd>2.27569457254033</dd>\n",
       "\t<dt>ce_52</dt>\n",
       "\t\t<dd>2.08208105226838</dd>\n",
       "\t<dt>ce_1</dt>\n",
       "\t\t<dd>2.01913875598086</dd>\n",
       "\t<dt>ce_57</dt>\n",
       "\t\t<dd>1.95961776016095</dd>\n",
       "\t<dt>ps1_37</dt>\n",
       "\t\t<dd>1.90384615384616</dd>\n",
       "\t<dt>ce_55</dt>\n",
       "\t\t<dd>1.77605177993529</dd>\n",
       "\t<dt>cp_17</dt>\n",
       "\t\t<dd>1.51712971502688</dd>\n",
       "\t<dt>ce_60</dt>\n",
       "\t\t<dd>1.47414719255873</dd>\n",
       "\t<dt>ce_11</dt>\n",
       "\t\t<dd>1.42857142857143</dd>\n",
       "\t<dt>ce_17</dt>\n",
       "\t\t<dd>1.42857142857143</dd>\n",
       "\t<dt>ce_39</dt>\n",
       "\t\t<dd>1.3642105263158</dd>\n",
       "\t<dt>ce_58</dt>\n",
       "\t\t<dd>1.32160267545739</dd>\n",
       "\t<dt>ce_16</dt>\n",
       "\t\t<dd>1.11546689499892</dd>\n",
       "\t<dt>ce_51</dt>\n",
       "\t\t<dd>1.05296228039909</dd>\n",
       "\t<dt>cp_49</dt>\n",
       "\t\t<dd>0.955874439461872</dd>\n",
       "\t<dt>ce_54</dt>\n",
       "\t\t<dd>0.935546308082916</dd>\n",
       "\t<dt>ce_28</dt>\n",
       "\t\t<dd>0.848190644307149</dd>\n",
       "\t<dt>ce_50</dt>\n",
       "\t\t<dd>0.842369824319271</dd>\n",
       "\t<dt>ce_40</dt>\n",
       "\t\t<dd>0.818526315789478</dd>\n",
       "\t<dt>ce_31</dt>\n",
       "\t\t<dd>0.717180537211231</dd>\n",
       "\t<dt>cp_35</dt>\n",
       "\t\t<dd>0.630493531212692</dd>\n",
       "\t<dt>cp_20</dt>\n",
       "\t\t<dd>0.6063157894737</dd>\n",
       "\t<dt>ce_44</dt>\n",
       "\t\t<dd>0.424095322153574</dd>\n",
       "\t<dt>ce_19</dt>\n",
       "\t\t<dd>0.417336577288941</dd>\n",
       "\t<dt>ce_26</dt>\n",
       "\t\t<dd>0.41122442107974</dd>\n",
       "\t<dt>cp_11</dt>\n",
       "\t\t<dd>0.4042105263158</dd>\n",
       "\t<dt>cp_13</dt>\n",
       "\t\t<dd>0.4042105263158</dd>\n",
       "\t<dt>cp_21</dt>\n",
       "\t\t<dd>0.4042105263158</dd>\n",
       "\t<dt>cp_22</dt>\n",
       "\t\t<dd>0.4042105263158</dd>\n",
       "\t<dt>ce_13</dt>\n",
       "\t\t<dd>0.280793740421068</dd>\n",
       "\t<dt>ps1_21</dt>\n",
       "\t\t<dd>0.280793740421068</dd>\n",
       "\t<dt>ce_32</dt>\n",
       "\t\t<dd>0.222190076667153</dd>\n",
       "\t<dt>ps1_34</dt>\n",
       "\t\t<dd>0.215562251991531</dd>\n",
       "\t<dt>ps1_45</dt>\n",
       "\t\t<dd>0.215562251991531</dd>\n",
       "\t<dt>cp_26</dt>\n",
       "\t\t<dd>0.205612210539873</dd>\n",
       "\t<dt>cp_9</dt>\n",
       "\t\t<dd>0.196855775803142</dd>\n",
       "\t<dt>ps1_17</dt>\n",
       "\t\t<dd>0.141442471042464</dd>\n",
       "\t<dt>ps1_15</dt>\n",
       "\t\t<dd>0.109204337040669</dd>\n",
       "\t<dt>ce_33</dt>\n",
       "\t\t<dd>0.100343905591618</dd>\n",
       "\t<dt>ce_30</dt>\n",
       "\t\t<dd>0.0860090619356722</dd>\n",
       "\t<dt>ce_43</dt>\n",
       "\t\t<dd>0.0860090619356722</dd>\n",
       "</dl>\n"
      ],
      "text/latex": [
       "\\begin{description*}\n",
       "\\item[ps1\\textbackslash{}\\_1] 283.979303436245\n",
       "\\item[ps1\\textbackslash{}\\_4] 283.535968246751\n",
       "\\item[ps1\\textbackslash{}\\_3] 236.566089138169\n",
       "\\item[ps1\\textbackslash{}\\_10] 235.140536510729\n",
       "\\item[ps1\\textbackslash{}\\_2] 230.933723128031\n",
       "\\item[ps1\\textbackslash{}\\_11] 220.177515577481\n",
       "\\item[ps1\\textbackslash{}\\_57] 116.93560977149\n",
       "\\item[ce\\textbackslash{}\\_24] 108.153383856998\n",
       "\\item[ce\\textbackslash{}\\_22] 108.002205839408\n",
       "\\item[ce\\textbackslash{}\\_23] 107.239077417947\n",
       "\\item[ce\\textbackslash{}\\_18] 106.91752096392\n",
       "\\item[ce\\textbackslash{}\\_5] 106.756742736906\n",
       "\\item[ce\\textbackslash{}\\_6] 106.756742736906\n",
       "\\item[ps1\\textbackslash{}\\_56] 105.104780558491\n",
       "\\item[ps1\\textbackslash{}\\_60] 99.5752801272155\n",
       "\\item[ps1\\textbackslash{}\\_52] 93.4721343091397\n",
       "\\item[ps1\\textbackslash{}\\_6] 88.770915036563\n",
       "\\item[ps1\\textbackslash{}\\_50] 88.277931410589\n",
       "\\item[ps1\\textbackslash{}\\_5] 85.4100844568776\n",
       "\\item[ps1\\textbackslash{}\\_53] 73.6711938827302\n",
       "\\item[ps1\\textbackslash{}\\_59] 27.0614702622542\n",
       "\\item[ps1\\textbackslash{}\\_58] 25.9901598946862\n",
       "\\item[ps1\\textbackslash{}\\_55] 25.0172387477328\n",
       "\\item[ps1\\textbackslash{}\\_8] 18.4635328027725\n",
       "\\item[ps1\\textbackslash{}\\_51] 18.2426795568443\n",
       "\\item[ps1\\textbackslash{}\\_18] 16.8736795091695\n",
       "\\item[cp\\textbackslash{}\\_5] 16.8702197350016\n",
       "\\item[cp\\textbackslash{}\\_6] 16.8702197350016\n",
       "\\item[ps1\\textbackslash{}\\_7] 16.1323206049267\n",
       "\\item[cp\\textbackslash{}\\_3] 16.1116548774882\n",
       "\\item[cp\\textbackslash{}\\_33] 15.7962732919255\n",
       "\\item[cp\\textbackslash{}\\_1] 15.7179433258819\n",
       "\\item[cp\\textbackslash{}\\_4] 15.3635889946843\n",
       "\\item[ps1\\textbackslash{}\\_9] 15.2441567025668\n",
       "\\item[cp\\textbackslash{}\\_2] 14.9593784683685\n",
       "\\item[ps1\\textbackslash{}\\_49] 14.6067375278588\n",
       "\\item[ps1\\textbackslash{}\\_12] 14.2528017422794\n",
       "\\item[ps1\\textbackslash{}\\_13] 13.4973442974655\n",
       "\\item[ps1\\textbackslash{}\\_26] 13.1463294314381\n",
       "\\item[cp\\textbackslash{}\\_34] 12.9242236024845\n",
       "\\item[cp\\textbackslash{}\\_38] 12.9242236024845\n",
       "\\item[cp\\textbackslash{}\\_42] 12.9242236024845\n",
       "\\item[cp\\textbackslash{}\\_55] 12.9242236024845\n",
       "\\item[ps1\\textbackslash{}\\_23] 10.8566810773206\n",
       "\\item[ps1\\textbackslash{}\\_54] 10.7333333333333\n",
       "\\item[ps1\\textbackslash{}\\_22] 10.1353718847803\n",
       "\\item[ps1\\textbackslash{}\\_27] 10.0298076923077\n",
       "\\item[ps1\\textbackslash{}\\_48] 9.04267955684426\n",
       "\\item[ps1\\textbackslash{}\\_44] 7.8161862810773\n",
       "\\item[ps1\\textbackslash{}\\_25] 7.62980769230769\n",
       "\\item[ps1\\textbackslash{}\\_19] 6.58843211904266\n",
       "\\item[ce\\textbackslash{}\\_56] 5.82835713822981\n",
       "\\item[ps1\\textbackslash{}\\_47] 5.68753126827982\n",
       "\\item[ps1\\textbackslash{}\\_14] 5.04001518734\n",
       "\\item[ce\\textbackslash{}\\_47] 4.88124813512734\n",
       "\\item[ce\\textbackslash{}\\_49] 4.83330390492361\n",
       "\\item[cp\\textbackslash{}\\_25] 4.41134952004517\n",
       "\\item[ps1\\textbackslash{}\\_40] 4.38925646469637\n",
       "\\item[ps1\\textbackslash{}\\_41] 4.36097113531588\n",
       "\\item[ps1\\textbackslash{}\\_39] 4.28475035839408\n",
       "\\item[ps1\\textbackslash{}\\_36] 4.21507962085922\n",
       "\\item[ps1\\textbackslash{}\\_43] 4.14540888332435\n",
       "\\item[ce\\textbackslash{}\\_14] 3.74193548387097\n",
       "\\item[ce\\textbackslash{}\\_34] 3.74193548387097\n",
       "\\item[cp\\textbackslash{}\\_14] 3.74193548387097\n",
       "\\item[cp\\textbackslash{}\\_24] 3.74193548387097\n",
       "\\item[cp\\textbackslash{}\\_19] 3.42857142857143\n",
       "\\item[cp\\textbackslash{}\\_57] 3.42857142857143\n",
       "\\item[cp\\textbackslash{}\\_30] 3.27272727272727\n",
       "\\item[ce\\textbackslash{}\\_59] 3.1713622741255\n",
       "\\item[ps1\\textbackslash{}\\_32] 3.11652173913044\n",
       "\\item[cp\\textbackslash{}\\_15] 2.85714285714286\n",
       "\\item[cp\\textbackslash{}\\_27] 2.85714285714286\n",
       "\\item[ce\\textbackslash{}\\_48] 2.74454892777016\n",
       "\\item[ps1\\textbackslash{}\\_24] 2.4\n",
       "\\item[cp\\textbackslash{}\\_18] 2.27569457254033\n",
       "\\item[ce\\textbackslash{}\\_52] 2.08208105226838\n",
       "\\item[ce\\textbackslash{}\\_1] 2.01913875598086\n",
       "\\item[ce\\textbackslash{}\\_57] 1.95961776016095\n",
       "\\item[ps1\\textbackslash{}\\_37] 1.90384615384616\n",
       "\\item[ce\\textbackslash{}\\_55] 1.77605177993529\n",
       "\\item[cp\\textbackslash{}\\_17] 1.51712971502688\n",
       "\\item[ce\\textbackslash{}\\_60] 1.47414719255873\n",
       "\\item[ce\\textbackslash{}\\_11] 1.42857142857143\n",
       "\\item[ce\\textbackslash{}\\_17] 1.42857142857143\n",
       "\\item[ce\\textbackslash{}\\_39] 1.3642105263158\n",
       "\\item[ce\\textbackslash{}\\_58] 1.32160267545739\n",
       "\\item[ce\\textbackslash{}\\_16] 1.11546689499892\n",
       "\\item[ce\\textbackslash{}\\_51] 1.05296228039909\n",
       "\\item[cp\\textbackslash{}\\_49] 0.955874439461872\n",
       "\\item[ce\\textbackslash{}\\_54] 0.935546308082916\n",
       "\\item[ce\\textbackslash{}\\_28] 0.848190644307149\n",
       "\\item[ce\\textbackslash{}\\_50] 0.842369824319271\n",
       "\\item[ce\\textbackslash{}\\_40] 0.818526315789478\n",
       "\\item[ce\\textbackslash{}\\_31] 0.717180537211231\n",
       "\\item[cp\\textbackslash{}\\_35] 0.630493531212692\n",
       "\\item[cp\\textbackslash{}\\_20] 0.6063157894737\n",
       "\\item[ce\\textbackslash{}\\_44] 0.424095322153574\n",
       "\\item[ce\\textbackslash{}\\_19] 0.417336577288941\n",
       "\\item[ce\\textbackslash{}\\_26] 0.41122442107974\n",
       "\\item[cp\\textbackslash{}\\_11] 0.4042105263158\n",
       "\\item[cp\\textbackslash{}\\_13] 0.4042105263158\n",
       "\\item[cp\\textbackslash{}\\_21] 0.4042105263158\n",
       "\\item[cp\\textbackslash{}\\_22] 0.4042105263158\n",
       "\\item[ce\\textbackslash{}\\_13] 0.280793740421068\n",
       "\\item[ps1\\textbackslash{}\\_21] 0.280793740421068\n",
       "\\item[ce\\textbackslash{}\\_32] 0.222190076667153\n",
       "\\item[ps1\\textbackslash{}\\_34] 0.215562251991531\n",
       "\\item[ps1\\textbackslash{}\\_45] 0.215562251991531\n",
       "\\item[cp\\textbackslash{}\\_26] 0.205612210539873\n",
       "\\item[cp\\textbackslash{}\\_9] 0.196855775803142\n",
       "\\item[ps1\\textbackslash{}\\_17] 0.141442471042464\n",
       "\\item[ps1\\textbackslash{}\\_15] 0.109204337040669\n",
       "\\item[ce\\textbackslash{}\\_33] 0.100343905591618\n",
       "\\item[ce\\textbackslash{}\\_30] 0.0860090619356722\n",
       "\\item[ce\\textbackslash{}\\_43] 0.0860090619356722\n",
       "\\end{description*}\n"
      ],
      "text/markdown": [
       "ps1_1\n",
       ":   283.979303436245ps1_4\n",
       ":   283.535968246751ps1_3\n",
       ":   236.566089138169ps1_10\n",
       ":   235.140536510729ps1_2\n",
       ":   230.933723128031ps1_11\n",
       ":   220.177515577481ps1_57\n",
       ":   116.93560977149ce_24\n",
       ":   108.153383856998ce_22\n",
       ":   108.002205839408ce_23\n",
       ":   107.239077417947ce_18\n",
       ":   106.91752096392ce_5\n",
       ":   106.756742736906ce_6\n",
       ":   106.756742736906ps1_56\n",
       ":   105.104780558491ps1_60\n",
       ":   99.5752801272155ps1_52\n",
       ":   93.4721343091397ps1_6\n",
       ":   88.770915036563ps1_50\n",
       ":   88.277931410589ps1_5\n",
       ":   85.4100844568776ps1_53\n",
       ":   73.6711938827302ps1_59\n",
       ":   27.0614702622542ps1_58\n",
       ":   25.9901598946862ps1_55\n",
       ":   25.0172387477328ps1_8\n",
       ":   18.4635328027725ps1_51\n",
       ":   18.2426795568443ps1_18\n",
       ":   16.8736795091695cp_5\n",
       ":   16.8702197350016cp_6\n",
       ":   16.8702197350016ps1_7\n",
       ":   16.1323206049267cp_3\n",
       ":   16.1116548774882cp_33\n",
       ":   15.7962732919255cp_1\n",
       ":   15.7179433258819cp_4\n",
       ":   15.3635889946843ps1_9\n",
       ":   15.2441567025668cp_2\n",
       ":   14.9593784683685ps1_49\n",
       ":   14.6067375278588ps1_12\n",
       ":   14.2528017422794ps1_13\n",
       ":   13.4973442974655ps1_26\n",
       ":   13.1463294314381cp_34\n",
       ":   12.9242236024845cp_38\n",
       ":   12.9242236024845cp_42\n",
       ":   12.9242236024845cp_55\n",
       ":   12.9242236024845ps1_23\n",
       ":   10.8566810773206ps1_54\n",
       ":   10.7333333333333ps1_22\n",
       ":   10.1353718847803ps1_27\n",
       ":   10.0298076923077ps1_48\n",
       ":   9.04267955684426ps1_44\n",
       ":   7.8161862810773ps1_25\n",
       ":   7.62980769230769ps1_19\n",
       ":   6.58843211904266ce_56\n",
       ":   5.82835713822981ps1_47\n",
       ":   5.68753126827982ps1_14\n",
       ":   5.04001518734ce_47\n",
       ":   4.88124813512734ce_49\n",
       ":   4.83330390492361cp_25\n",
       ":   4.41134952004517ps1_40\n",
       ":   4.38925646469637ps1_41\n",
       ":   4.36097113531588ps1_39\n",
       ":   4.28475035839408ps1_36\n",
       ":   4.21507962085922ps1_43\n",
       ":   4.14540888332435ce_14\n",
       ":   3.74193548387097ce_34\n",
       ":   3.74193548387097cp_14\n",
       ":   3.74193548387097cp_24\n",
       ":   3.74193548387097cp_19\n",
       ":   3.42857142857143cp_57\n",
       ":   3.42857142857143cp_30\n",
       ":   3.27272727272727ce_59\n",
       ":   3.1713622741255ps1_32\n",
       ":   3.11652173913044cp_15\n",
       ":   2.85714285714286cp_27\n",
       ":   2.85714285714286ce_48\n",
       ":   2.74454892777016ps1_24\n",
       ":   2.4cp_18\n",
       ":   2.27569457254033ce_52\n",
       ":   2.08208105226838ce_1\n",
       ":   2.01913875598086ce_57\n",
       ":   1.95961776016095ps1_37\n",
       ":   1.90384615384616ce_55\n",
       ":   1.77605177993529cp_17\n",
       ":   1.51712971502688ce_60\n",
       ":   1.47414719255873ce_11\n",
       ":   1.42857142857143ce_17\n",
       ":   1.42857142857143ce_39\n",
       ":   1.3642105263158ce_58\n",
       ":   1.32160267545739ce_16\n",
       ":   1.11546689499892ce_51\n",
       ":   1.05296228039909cp_49\n",
       ":   0.955874439461872ce_54\n",
       ":   0.935546308082916ce_28\n",
       ":   0.848190644307149ce_50\n",
       ":   0.842369824319271ce_40\n",
       ":   0.818526315789478ce_31\n",
       ":   0.717180537211231cp_35\n",
       ":   0.630493531212692cp_20\n",
       ":   0.6063157894737ce_44\n",
       ":   0.424095322153574ce_19\n",
       ":   0.417336577288941ce_26\n",
       ":   0.41122442107974cp_11\n",
       ":   0.4042105263158cp_13\n",
       ":   0.4042105263158cp_21\n",
       ":   0.4042105263158cp_22\n",
       ":   0.4042105263158ce_13\n",
       ":   0.280793740421068ps1_21\n",
       ":   0.280793740421068ce_32\n",
       ":   0.222190076667153ps1_34\n",
       ":   0.215562251991531ps1_45\n",
       ":   0.215562251991531cp_26\n",
       ":   0.205612210539873cp_9\n",
       ":   0.196855775803142ps1_17\n",
       ":   0.141442471042464ps1_15\n",
       ":   0.109204337040669ce_33\n",
       ":   0.100343905591618ce_30\n",
       ":   0.0860090619356722ce_43\n",
       ":   0.0860090619356722\n",
       "\n"
      ],
      "text/plain": [
       "       ps1_1        ps1_4        ps1_3       ps1_10        ps1_2       ps1_11 \n",
       "283.97930344 283.53596825 236.56608914 235.14053651 230.93372313 220.17751558 \n",
       "      ps1_57        ce_24        ce_22        ce_23        ce_18         ce_5 \n",
       "116.93560977 108.15338386 108.00220584 107.23907742 106.91752096 106.75674274 \n",
       "        ce_6       ps1_56       ps1_60       ps1_52        ps1_6       ps1_50 \n",
       "106.75674274 105.10478056  99.57528013  93.47213431  88.77091504  88.27793141 \n",
       "       ps1_5       ps1_53       ps1_59       ps1_58       ps1_55        ps1_8 \n",
       " 85.41008446  73.67119388  27.06147026  25.99015989  25.01723875  18.46353280 \n",
       "      ps1_51       ps1_18         cp_5         cp_6        ps1_7         cp_3 \n",
       " 18.24267956  16.87367951  16.87021974  16.87021974  16.13232060  16.11165488 \n",
       "       cp_33         cp_1         cp_4        ps1_9         cp_2       ps1_49 \n",
       " 15.79627329  15.71794333  15.36358899  15.24415670  14.95937847  14.60673753 \n",
       "      ps1_12       ps1_13       ps1_26        cp_34        cp_38        cp_42 \n",
       " 14.25280174  13.49734430  13.14632943  12.92422360  12.92422360  12.92422360 \n",
       "       cp_55       ps1_23       ps1_54       ps1_22       ps1_27       ps1_48 \n",
       " 12.92422360  10.85668108  10.73333333  10.13537188  10.02980769   9.04267956 \n",
       "      ps1_44       ps1_25       ps1_19        ce_56       ps1_47       ps1_14 \n",
       "  7.81618628   7.62980769   6.58843212   5.82835714   5.68753127   5.04001519 \n",
       "       ce_47        ce_49        cp_25       ps1_40       ps1_41       ps1_39 \n",
       "  4.88124814   4.83330390   4.41134952   4.38925646   4.36097114   4.28475036 \n",
       "      ps1_36       ps1_43        ce_14        ce_34        cp_14        cp_24 \n",
       "  4.21507962   4.14540888   3.74193548   3.74193548   3.74193548   3.74193548 \n",
       "       cp_19        cp_57        cp_30        ce_59       ps1_32        cp_15 \n",
       "  3.42857143   3.42857143   3.27272727   3.17136227   3.11652174   2.85714286 \n",
       "       cp_27        ce_48       ps1_24        cp_18        ce_52         ce_1 \n",
       "  2.85714286   2.74454893   2.40000000   2.27569457   2.08208105   2.01913876 \n",
       "       ce_57       ps1_37        ce_55        cp_17        ce_60        ce_11 \n",
       "  1.95961776   1.90384615   1.77605178   1.51712972   1.47414719   1.42857143 \n",
       "       ce_17        ce_39        ce_58        ce_16        ce_51        cp_49 \n",
       "  1.42857143   1.36421053   1.32160268   1.11546689   1.05296228   0.95587444 \n",
       "       ce_54        ce_28        ce_50        ce_40        ce_31        cp_35 \n",
       "  0.93554631   0.84819064   0.84236982   0.81852632   0.71718054   0.63049353 \n",
       "       cp_20        ce_44        ce_19        ce_26        cp_11        cp_13 \n",
       "  0.60631579   0.42409532   0.41733658   0.41122442   0.40421053   0.40421053 \n",
       "       cp_21        cp_22        ce_13       ps1_21        ce_32       ps1_34 \n",
       "  0.40421053   0.40421053   0.28079374   0.28079374   0.22219008   0.21556225 \n",
       "      ps1_45        cp_26         cp_9       ps1_17       ps1_15        ce_33 \n",
       "  0.21556225   0.20561221   0.19685578   0.14144247   0.10920434   0.10034391 \n",
       "       ce_30        ce_43 \n",
       "  0.08600906   0.08600906 "
      ]
     },
     "metadata": {},
     "output_type": "display_data"
    }
   ],
   "source": [
    "# Entendendo a importância de cada variável\n",
    "# A árvore de decisão não precisa ser o modelo, mas pode servir para selecionar variáveis\n",
    "tree1$variable.importance"
   ]
  },
  {
   "cell_type": "code",
   "execution_count": 19,
   "id": "df9aa5d9",
   "metadata": {},
   "outputs": [
    {
     "data": {
      "image/png": "[encoded data removed]",
      "text/plain": [
       "plot without title"
      ]
     },
     "metadata": {},
     "output_type": "display_data"
    }
   ],
   "source": [
    "barplot(tree1$variable.importance)"
   ]
  },
  {
   "cell_type": "markdown",
   "id": "238be58b",
   "metadata": {},
   "source": [
    "### Avaliação do modelo"
   ]
  },
  {
   "cell_type": "code",
   "execution_count": 20,
   "id": "330cd40c",
   "metadata": {},
   "outputs": [
    {
     "data": {
      "text/plain": [
       "   pred_train_stable\n",
       "       0    1\n",
       "  0 1003    4\n",
       "  1   16  521"
      ]
     },
     "metadata": {},
     "output_type": "display_data"
    }
   ],
   "source": [
    "# Treinamento\n",
    "\n",
    "pred_train_stable <- predict(tree1, train_stable, type = \"class\")\n",
    "table(train_stable$stable, pred_train_stable)\n",
    "\n",
    "# Classe 0\n",
    "acc_train0_tree1 <- table(train_stable$stable, pred_train_stable)[1]/(table(train_stable$stable, pred_train_stable)[1]\n",
    "                                +table(train_stable$stable, pred_train_stable)[3])*100\n",
    "\n",
    "# Classe 1\n",
    "acc_train1_tree1 <- table(train_stable$stable, pred_train_stable)[4]/(table(train_stable$stable, pred_train_stable)[2]\n",
    "                                +table(train_stable$stable, pred_train_stable)[4])*100\n",
    "\n",
    "# Treinamento Total\n",
    "acc_train_tree1 <- (table(train_stable$stable, pred_train_stable)[1] + table(train_stable$stable, pred_train_stable)[4])/(dim(train_stable)[1])*100"
   ]
  },
  {
   "cell_type": "code",
   "execution_count": 21,
   "id": "3182ccfc",
   "metadata": {},
   "outputs": [
    {
     "data": {
      "text/plain": [
       "   pred_test_stable\n",
       "      0   1\n",
       "  0 416  26\n",
       "  1  24 195"
      ]
     },
     "metadata": {},
     "output_type": "display_data"
    }
   ],
   "source": [
    "# Teste\n",
    "\n",
    "pred_test_stable <- predict(tree1, test_stable, type = \"class\")\n",
    "table(test_stable$stable, pred_test_stable)\n",
    "\n",
    "# Classe 0\n",
    "acc_test0_tree1 <- table(test_stable$stable, pred_test_stable)[1]/(table(test_stable$stable, pred_test_stable)[1]\n",
    "                                +table(test_stable$stable, pred_test_stable)[3])*100\n",
    "\n",
    "# Classe 1\n",
    "acc_test1_tree1 <- table(test_stable$stable, pred_test_stable)[4]/(table(test_stable$stable, pred_test_stable)[2]\n",
    "                                +table(test_stable$stable, pred_test_stable)[4])*100\n",
    "\n",
    "# Teste Total\n",
    "acc_test_tree1 <- (table(test_stable$stable, pred_test_stable)[1] + table(test_stable$stable, pred_test_stable)[4])/(dim(test_stable)[1])*100"
   ]
  },
  {
   "cell_type": "code",
   "execution_count": 22,
   "id": "96f1a295",
   "metadata": {},
   "outputs": [
    {
     "data": {
      "text/html": [
       "99.6"
      ],
      "text/latex": [
       "99.6"
      ],
      "text/markdown": [
       "99.6"
      ],
      "text/plain": [
       "[1] 99.6"
      ]
     },
     "metadata": {},
     "output_type": "display_data"
    },
    {
     "data": {
      "text/html": [
       "97.02"
      ],
      "text/latex": [
       "97.02"
      ],
      "text/markdown": [
       "97.02"
      ],
      "text/plain": [
       "[1] 97.02"
      ]
     },
     "metadata": {},
     "output_type": "display_data"
    },
    {
     "data": {
      "text/html": [
       "94.12"
      ],
      "text/latex": [
       "94.12"
      ],
      "text/markdown": [
       "94.12"
      ],
      "text/plain": [
       "[1] 94.12"
      ]
     },
     "metadata": {},
     "output_type": "display_data"
    },
    {
     "data": {
      "text/html": [
       "89.04"
      ],
      "text/latex": [
       "89.04"
      ],
      "text/markdown": [
       "89.04"
      ],
      "text/plain": [
       "[1] 89.04"
      ]
     },
     "metadata": {},
     "output_type": "display_data"
    },
    {
     "data": {
      "text/html": [
       "98.7"
      ],
      "text/latex": [
       "98.7"
      ],
      "text/markdown": [
       "98.7"
      ],
      "text/plain": [
       "[1] 98.7"
      ]
     },
     "metadata": {},
     "output_type": "display_data"
    },
    {
     "data": {
      "text/html": [
       "92.44"
      ],
      "text/latex": [
       "92.44"
      ],
      "text/markdown": [
       "92.44"
      ],
      "text/plain": [
       "[1] 92.44"
      ]
     },
     "metadata": {},
     "output_type": "display_data"
    }
   ],
   "source": [
    "round(acc_train0_tree1, 2)\n",
    "round(acc_train1_tree1, 2)\n",
    "round(acc_test0_tree1, 2)\n",
    "round(acc_test1_tree1, 2)\n",
    "round(acc_train_tree1, 2)\n",
    "round(acc_test_tree1, 2)"
   ]
  },
  {
   "cell_type": "code",
   "execution_count": 23,
   "id": "882a59e6",
   "metadata": {},
   "outputs": [
    {
     "data": {
      "text/html": [
       "5.49"
      ],
      "text/latex": [
       "5.49"
      ],
      "text/markdown": [
       "5.49"
      ],
      "text/plain": [
       "[1] 5.49"
      ]
     },
     "metadata": {},
     "output_type": "display_data"
    },
    {
     "data": {
      "text/html": [
       "7.98"
      ],
      "text/latex": [
       "7.98"
      ],
      "text/markdown": [
       "7.98"
      ],
      "text/plain": [
       "[1] 7.98"
      ]
     },
     "metadata": {},
     "output_type": "display_data"
    },
    {
     "data": {
      "text/html": [
       "6.27"
      ],
      "text/latex": [
       "6.27"
      ],
      "text/markdown": [
       "6.27"
      ],
      "text/plain": [
       "[1] 6.27"
      ]
     },
     "metadata": {},
     "output_type": "display_data"
    }
   ],
   "source": [
    "# Diferença em pontos base entre treinamento e teste\n",
    "# Resultado ruim para uma industria onde a aleatoriedade é baixa\n",
    "\n",
    "round(acc_train0_tree1 - acc_test0_tree1, 2)\n",
    "round(acc_train1_tree1 - acc_test1_tree1, 2)\n",
    "round(acc_train_tree1 - acc_test_tree1, 2)"
   ]
  },
  {
   "cell_type": "markdown",
   "id": "a8030e68",
   "metadata": {},
   "source": [
    "### Poda da árvore (prunning)"
   ]
  },
  {
   "cell_type": "code",
   "execution_count": 24,
   "id": "38f2ff02",
   "metadata": {},
   "outputs": [
    {
     "name": "stdout",
     "output_type": "stream",
     "text": [
      "\n",
      "Classification tree:\n",
      "rpart(formula = stable ~ ps1_1 + ps1_2 + ps1_3 + ps1_4 + ps1_5 + \n",
      "    ps1_6 + ps1_7 + ps1_8 + ps1_9 + ps1_10 + ps1_11 + ps1_12 + \n",
      "    ps1_13 + ps1_14 + ps1_15 + ps1_16 + ps1_17 + ps1_18 + ps1_19 + \n",
      "    ps1_20 + ps1_21 + ps1_22 + ps1_23 + ps1_24 + ps1_25 + ps1_26 + \n",
      "    ps1_27 + ps1_28 + ps1_29 + ps1_30 + ps1_31 + ps1_32 + ps1_33 + \n",
      "    ps1_34 + ps1_35 + ps1_36 + ps1_37 + ps1_38 + ps1_39 + ps1_40 + \n",
      "    ps1_41 + ps1_42 + ps1_43 + ps1_44 + ps1_45 + ps1_46 + ps1_47 + \n",
      "    ps1_48 + ps1_49 + ps1_50 + ps1_51 + ps1_52 + ps1_53 + ps1_54 + \n",
      "    ps1_55 + ps1_56 + ps1_57 + ps1_58 + ps1_59 + ps1_60 + ce_1 + \n",
      "    ce_2 + ce_3 + ce_4 + ce_5 + ce_6 + ce_7 + ce_8 + ce_9 + ce_10 + \n",
      "    ce_11 + ce_12 + ce_13 + ce_14 + ce_15 + ce_16 + ce_17 + ce_18 + \n",
      "    ce_19 + ce_20 + ce_21 + ce_22 + ce_23 + ce_24 + ce_25 + ce_26 + \n",
      "    ce_27 + ce_28 + ce_29 + ce_30 + ce_31 + ce_32 + ce_33 + ce_34 + \n",
      "    ce_35 + ce_36 + ce_37 + ce_38 + ce_39 + ce_40 + ce_41 + ce_42 + \n",
      "    ce_43 + ce_44 + ce_45 + ce_46 + ce_47 + ce_48 + ce_49 + ce_50 + \n",
      "    ce_51 + ce_52 + ce_53 + ce_54 + ce_55 + ce_56 + ce_57 + ce_58 + \n",
      "    ce_59 + ce_60 + cp_1 + cp_2 + cp_3 + cp_4 + cp_5 + cp_6 + \n",
      "    cp_7 + cp_8 + cp_9 + cp_10 + cp_11 + cp_12 + cp_13 + cp_14 + \n",
      "    cp_15 + cp_16 + cp_17 + cp_18 + cp_19 + cp_20 + cp_21 + cp_22 + \n",
      "    cp_23 + cp_24 + cp_25 + cp_26 + cp_27 + cp_28 + cp_29 + cp_30 + \n",
      "    cp_31 + cp_32 + cp_33 + cp_34 + cp_35 + cp_36 + cp_37 + cp_38 + \n",
      "    cp_39 + cp_40 + cp_41 + cp_42 + cp_43 + cp_44 + cp_45 + cp_46 + \n",
      "    cp_47 + cp_48 + cp_49 + cp_50 + cp_51 + cp_52 + cp_53 + cp_54 + \n",
      "    cp_55 + cp_56 + cp_57 + cp_58 + cp_59 + cp_60, data = train_stable, \n",
      "    method = \"class\", parms = list(split = \"gini\"), control = rpart.control(minsplit = 5, \n",
      "        cp = 1e-04))\n",
      "\n",
      "Variables actually used in tree construction:\n",
      " [1] ce_1   ce_14  ce_16  ce_22  ce_31  ce_32  ce_39  ce_48  ce_56  ce_57 \n",
      "[11] ce_59  cp_1   cp_15  cp_18  cp_19  cp_20  cp_25  cp_33  cp_35  cp_49 \n",
      "[21] ps1_1  ps1_10 ps1_12 ps1_18 ps1_2  ps1_22 ps1_3  ps1_4  ps1_40 ps1_47\n",
      "[31] ps1_5  ps1_52 ps1_54 ps1_56 ps1_57 ps1_6  ps1_7  ps1_8 \n",
      "\n",
      "Root node error: 537/1544 = 0.3478\n",
      "\n",
      "n= 1544 \n",
      "\n",
      "           CP nsplit rel error  xerror     xstd\n",
      "1  0.22594662      0  1.000000 1.00000 0.034850\n",
      "2  0.07635009      3  0.322160 0.35196 0.023983\n",
      "3  0.02048417      4  0.245810 0.28492 0.021863\n",
      "4  0.01675978      5  0.225326 0.27747 0.021606\n",
      "5  0.01303538      6  0.208566 0.25885 0.020943\n",
      "6  0.01117318      9  0.169460 0.23650 0.020104\n",
      "7  0.00837989     10  0.158287 0.22719 0.019739\n",
      "8  0.00558659     14  0.124767 0.20298 0.018743\n",
      "9  0.00372439     19  0.096834 0.18250 0.017840\n",
      "10 0.00279330     23  0.081937 0.17691 0.017583\n",
      "11 0.00186220     25  0.076350 0.18436 0.017925\n",
      "12 0.00124146     33  0.054004 0.20484 0.018822\n",
      "13 0.00093110     39  0.046555 0.20670 0.018901\n",
      "14 0.00074488     43  0.042831 0.20857 0.018979\n",
      "15 0.00046555     48  0.039106 0.21415 0.019212\n",
      "16 0.00010000     52  0.037244 0.21788 0.019365\n"
     ]
    }
   ],
   "source": [
    "# Ao podar a árvore trazemos mais estaabilidade, pois ela está overfitada\n",
    "\n",
    "printcp(tree1)"
   ]
  },
  {
   "cell_type": "code",
   "execution_count": 25,
   "id": "a2d949a7",
   "metadata": {},
   "outputs": [],
   "source": [
    "# Se achar que deve podar\n",
    "\n",
    "tree1_podada <- prune(tree1, cp = 0.017) #o novo cp éo desvio padrão da linha 10, que é o menor xerror\n",
    "\n",
    "# Se treinarmos a arvore diretamente com ele, teriamos o mesmo resultado da poda\n",
    "\n",
    "# Logico, o problema é que não sabemos a priore qual é o corte que ira produzir o mesmo erro"
   ]
  },
  {
   "cell_type": "code",
   "execution_count": 26,
   "id": "092faa98",
   "metadata": {},
   "outputs": [
    {
     "data": {
      "image/png": "[encoded data removed]",
      "text/plain": [
       "Plot with title \"\""
      ]
     },
     "metadata": {},
     "output_type": "display_data"
    }
   ],
   "source": [
    "fancyRpartPlot(tree1_podada)"
   ]
  },
  {
   "cell_type": "code",
   "execution_count": 27,
   "id": "95f12513",
   "metadata": {},
   "outputs": [
    {
     "name": "stdout",
     "output_type": "stream",
     "text": [
      "n= 1544 \n",
      "\n",
      "node), split, n, loss, yval, (yprob)\n",
      "      * denotes terminal node\n",
      "\n",
      " 1) root 1544 537 0 (0.65220207 0.34779793)  \n",
      "   2) ps1_56< 184.71 1359 395 0 (0.70934511 0.29065489)  \n",
      "     4) ce_22>=27.3565 689  65 0 (0.90566038 0.09433962) *\n",
      "     5) ce_22< 27.3565 670 330 0 (0.50746269 0.49253731)  \n",
      "      10) ps1_3< 147.03 369  47 0 (0.87262873 0.12737127) *\n",
      "      11) ps1_3>=147.03 301  18 1 (0.05980066 0.94019934)  \n",
      "        22) ps1_56< 172.19 13   1 0 (0.92307692 0.07692308) *\n",
      "        23) ps1_56>=172.19 288   6 1 (0.02083333 0.97916667) *\n",
      "   3) ps1_56>=184.71 185  43 1 (0.23243243 0.76756757)  \n",
      "     6) ps1_6>=151.315 41   0 0 (1.00000000 0.00000000) *\n",
      "     7) ps1_6< 151.315 144   2 1 (0.01388889 0.98611111) *\n"
     ]
    }
   ],
   "source": [
    "print(tree1_podada)"
   ]
  },
  {
   "cell_type": "markdown",
   "id": "4c4249a0",
   "metadata": {},
   "source": [
    "### Avaliando após a poda"
   ]
  },
  {
   "cell_type": "code",
   "execution_count": 28,
   "id": "7e764673",
   "metadata": {},
   "outputs": [
    {
     "data": {
      "text/plain": [
       "   pred_train_stable\n",
       "      0   1\n",
       "  0 999   8\n",
       "  1 113 424"
      ]
     },
     "metadata": {},
     "output_type": "display_data"
    },
    {
     "data": {
      "text/plain": [
       "   pred_test_stable\n",
       "      0   1\n",
       "  0 433   9\n",
       "  1  60 159"
      ]
     },
     "metadata": {},
     "output_type": "display_data"
    }
   ],
   "source": [
    "# Treinamento\n",
    "\n",
    "pred_train_stable <- predict(tree1_podada, train_stable, type = \"class\")\n",
    "table(train_stable$stable, pred_train_stable)\n",
    "\n",
    "# Classe 0\n",
    "acc_train0_tree1_p <- table(train_stable$stable, pred_train_stable)[1]/(table(train_stable$stable, pred_train_stable)[1]\n",
    "                                +table(train_stable$stable, pred_train_stable)[3])*100\n",
    "\n",
    "# Classe 1\n",
    "acc_train1_tree1_p <- table(train_stable$stable, pred_train_stable)[4]/(table(train_stable$stable, pred_train_stable)[2]\n",
    "                                +table(train_stable$stable, pred_train_stable)[4])*100\n",
    "\n",
    "# Treinamento Total\n",
    "acc_train_tree1_p <- (table(train_stable$stable, pred_train_stable)[1] + table(train_stable$stable, pred_train_stable)[4])/(dim(train_stable)[1])*100\n",
    "\n",
    "# Teste\n",
    "\n",
    "pred_test_stable <- predict(tree1_podada, test_stable, type = \"class\")\n",
    "table(test_stable$stable, pred_test_stable)\n",
    "\n",
    "# Classe 0\n",
    "acc_test0_tree1_p <- table(test_stable$stable, pred_test_stable)[1]/(table(test_stable$stable, pred_test_stable)[1]\n",
    "                                +table(test_stable$stable, pred_test_stable)[3])*100\n",
    "\n",
    "# Classe 1\n",
    "acc_test1_tree1_p <- table(test_stable$stable, pred_test_stable)[4]/(table(test_stable$stable, pred_test_stable)[2]\n",
    "                                +table(test_stable$stable, pred_test_stable)[4])*100\n",
    "\n",
    "# Teste Total\n",
    "acc_test_tree1_p <- (table(test_stable$stable, pred_test_stable)[1] + table(test_stable$stable, pred_test_stable)[4])/(dim(test_stable)[1])*100"
   ]
  },
  {
   "cell_type": "code",
   "execution_count": 29,
   "id": "15385d23",
   "metadata": {},
   "outputs": [
    {
     "data": {
      "text/html": [
       "99.21"
      ],
      "text/latex": [
       "99.21"
      ],
      "text/markdown": [
       "99.21"
      ],
      "text/plain": [
       "[1] 99.21"
      ]
     },
     "metadata": {},
     "output_type": "display_data"
    },
    {
     "data": {
      "text/html": [
       "78.96"
      ],
      "text/latex": [
       "78.96"
      ],
      "text/markdown": [
       "78.96"
      ],
      "text/plain": [
       "[1] 78.96"
      ]
     },
     "metadata": {},
     "output_type": "display_data"
    },
    {
     "data": {
      "text/html": [
       "97.96"
      ],
      "text/latex": [
       "97.96"
      ],
      "text/markdown": [
       "97.96"
      ],
      "text/plain": [
       "[1] 97.96"
      ]
     },
     "metadata": {},
     "output_type": "display_data"
    },
    {
     "data": {
      "text/html": [
       "72.6"
      ],
      "text/latex": [
       "72.6"
      ],
      "text/markdown": [
       "72.6"
      ],
      "text/plain": [
       "[1] 72.6"
      ]
     },
     "metadata": {},
     "output_type": "display_data"
    },
    {
     "data": {
      "text/html": [
       "92.16"
      ],
      "text/latex": [
       "92.16"
      ],
      "text/markdown": [
       "92.16"
      ],
      "text/plain": [
       "[1] 92.16"
      ]
     },
     "metadata": {},
     "output_type": "display_data"
    },
    {
     "data": {
      "text/html": [
       "89.56"
      ],
      "text/latex": [
       "89.56"
      ],
      "text/markdown": [
       "89.56"
      ],
      "text/plain": [
       "[1] 89.56"
      ]
     },
     "metadata": {},
     "output_type": "display_data"
    }
   ],
   "source": [
    "round(acc_train0_tree1_p, 2)\n",
    "round(acc_train1_tree1_p, 2)\n",
    "round(acc_test0_tree1_p, 2)\n",
    "round(acc_test1_tree1_p, 2)\n",
    "round(acc_train_tree1_p, 2)\n",
    "round(acc_test_tree1_p, 2)"
   ]
  },
  {
   "cell_type": "code",
   "execution_count": 30,
   "id": "252a64ba",
   "metadata": {},
   "outputs": [
    {
     "data": {
      "text/html": [
       "1.24"
      ],
      "text/latex": [
       "1.24"
      ],
      "text/markdown": [
       "1.24"
      ],
      "text/plain": [
       "[1] 1.24"
      ]
     },
     "metadata": {},
     "output_type": "display_data"
    },
    {
     "data": {
      "text/html": [
       "6.35"
      ],
      "text/latex": [
       "6.35"
      ],
      "text/markdown": [
       "6.35"
      ],
      "text/plain": [
       "[1] 6.35"
      ]
     },
     "metadata": {},
     "output_type": "display_data"
    },
    {
     "data": {
      "text/html": [
       "2.6"
      ],
      "text/latex": [
       "2.6"
      ],
      "text/markdown": [
       "2.6"
      ],
      "text/plain": [
       "[1] 2.6"
      ]
     },
     "metadata": {},
     "output_type": "display_data"
    }
   ],
   "source": [
    "round(acc_train0_tree1_p - acc_test0_tree1_p, 2)\n",
    "round(acc_train1_tree1_p - acc_test1_tree1_p, 2)\n",
    "round(acc_train_tree1_p - acc_test_tree1_p, 2)"
   ]
  },
  {
   "cell_type": "code",
   "execution_count": 31,
   "id": "63423901",
   "metadata": {},
   "outputs": [],
   "source": [
    "# Notoriamente existe mais estabilidade apos a poda, apesar da redução da capacidade preditiva\n",
    "# Isto mostra claramente que estavamos em um overfitting e agora temos uma arvore muito mais estavel\n",
    "\n",
    "# Faz sentido ter analise de condição de funcionamento estável com essa acurácia?\n",
    "# Não deveriamos estar perto de 100%?\n",
    "\n",
    "# O trabalho de \"feature engineering\" que deve ser feito mostra claramente o quanto um modelo bem feito\n",
    "# que vai ser implementado em produção oficialmente, leva um tempo considerável para ser feito"
   ]
  },
  {
   "cell_type": "markdown",
   "id": "89cd067f",
   "metadata": {},
   "source": [
    "### Desenvolvimento do modelo com PCA"
   ]
  },
  {
   "cell_type": "code",
   "execution_count": 32,
   "id": "930b8a3e",
   "metadata": {},
   "outputs": [],
   "source": [
    "# PCA\n",
    "\n",
    "dataPCA <- prcomp(data[, 1:43680],\n",
    "                 center = T)"
   ]
  },
  {
   "cell_type": "code",
   "execution_count": 33,
   "id": "d58c2865",
   "metadata": {},
   "outputs": [
    {
     "data": {
      "text/plain": [
       "Importance of components:\n",
       "                             PC1       PC2       PC3       PC4       PC5\n",
       "Standard deviation     7102.1745 3480.4136 1.112e+03 889.59513 827.66062\n",
       "Proportion of Variance    0.7673    0.1843 1.882e-02   0.01204   0.01042\n",
       "Cumulative Proportion     0.7673    0.9515 9.703e-01   0.98238   0.99280\n",
       "                             PC6       PC7       PC8       PC9      PC10\n",
       "Standard deviation     345.49327 238.72423 230.66376 219.94018 194.92566\n",
       "Proportion of Variance   0.00182   0.00087   0.00081   0.00074   0.00058\n",
       "Cumulative Proportion    0.99461   0.99548   0.99629   0.99703   0.99760\n",
       "                            PC11      PC12      PC13     PC14    PC15     PC16\n",
       "Standard deviation     171.46826 147.92821 106.97338 98.99849 81.1200 78.47906\n",
       "Proportion of Variance   0.00045   0.00033   0.00017  0.00015  0.0001  0.00009\n",
       "Cumulative Proportion    0.99805   0.99838   0.99856  0.99871  0.9988  0.99890\n",
       "                           PC17     PC18     PC19     PC20     PC21     PC22\n",
       "Standard deviation     74.90241 73.48697 72.47134 58.74605 56.09983 53.69989\n",
       "Proportion of Variance  0.00009  0.00008  0.00008  0.00005  0.00005  0.00004\n",
       "Cumulative Proportion   0.99899  0.99907  0.99915  0.99920  0.99925  0.99929\n",
       "                           PC23     PC24     PC25     PC26     PC27     PC28\n",
       "Standard deviation     47.43436 46.56308 40.54543 35.12034 34.79775 33.82439\n",
       "Proportion of Variance  0.00003  0.00003  0.00003  0.00002  0.00002  0.00002\n",
       "Cumulative Proportion   0.99933  0.99936  0.99939  0.99940  0.99942  0.99944\n",
       "                           PC29     PC30     PC31     PC32     PC33     PC34\n",
       "Standard deviation     32.67344 32.25520 31.22634 30.50719 28.61920 27.84275\n",
       "Proportion of Variance  0.00002  0.00002  0.00001  0.00001  0.00001  0.00001\n",
       "Cumulative Proportion   0.99946  0.99947  0.99949  0.99950  0.99951  0.99953\n",
       "                           PC35     PC36     PC37     PC38     PC39     PC40\n",
       "Standard deviation     27.10733 25.78744 24.61998 24.35719 23.50755 22.98507\n",
       "Proportion of Variance  0.00001  0.00001  0.00001  0.00001  0.00001  0.00001\n",
       "Cumulative Proportion   0.99954  0.99955  0.99956  0.99956  0.99957  0.99958\n",
       "                           PC41     PC42     PC43     PC44     PC45     PC46\n",
       "Standard deviation     22.19431 21.53142 21.18136 20.69068 20.00248 19.72416\n",
       "Proportion of Variance  0.00001  0.00001  0.00001  0.00001  0.00001  0.00001\n",
       "Cumulative Proportion   0.99959  0.99960  0.99960  0.99961  0.99962  0.99962\n",
       "                           PC47     PC48     PC49    PC50    PC51    PC52\n",
       "Standard deviation     19.41559 19.10864 18.44403 17.8759 17.7053 17.1318\n",
       "Proportion of Variance  0.00001  0.00001  0.00001  0.0000  0.0000  0.0000\n",
       "Cumulative Proportion   0.99963  0.99963  0.99964  0.9996  0.9997  0.9997\n",
       "                          PC53    PC54    PC55    PC56    PC57    PC58    PC59\n",
       "Standard deviation     16.5201 15.8903 15.6053 15.2507 14.8715 14.6616 14.3558\n",
       "Proportion of Variance  0.0000  0.0000  0.0000  0.0000  0.0000  0.0000  0.0000\n",
       "Cumulative Proportion   0.9997  0.9997  0.9997  0.9997  0.9997  0.9997  0.9997\n",
       "                          PC60    PC61    PC62    PC63    PC64    PC65    PC66\n",
       "Standard deviation     14.1316 13.9930 13.7784 13.6477 13.4687 13.3854 13.0371\n",
       "Proportion of Variance  0.0000  0.0000  0.0000  0.0000  0.0000  0.0000  0.0000\n",
       "Cumulative Proportion   0.9997  0.9997  0.9997  0.9997  0.9997  0.9997  0.9997\n",
       "                          PC67    PC68    PC69    PC70    PC71    PC72    PC73\n",
       "Standard deviation     12.8979 12.6308 12.4853 12.2190 11.8184 11.7695 11.5532\n",
       "Proportion of Variance  0.0000  0.0000  0.0000  0.0000  0.0000  0.0000  0.0000\n",
       "Cumulative Proportion   0.9997  0.9997  0.9997  0.9997  0.9997  0.9997  0.9997\n",
       "                          PC74    PC75    PC76    PC77    PC78    PC79    PC80\n",
       "Standard deviation     11.3014 11.2073 11.1738 10.9321 10.7808 10.7450 10.7292\n",
       "Proportion of Variance  0.0000  0.0000  0.0000  0.0000  0.0000  0.0000  0.0000\n",
       "Cumulative Proportion   0.9997  0.9997  0.9997  0.9997  0.9997  0.9997  0.9997\n",
       "                          PC81    PC82    PC83    PC84    PC85    PC86    PC87\n",
       "Standard deviation     10.6547 10.4878 10.4161 10.3223 10.2020 10.0987 10.0730\n",
       "Proportion of Variance  0.0000  0.0000  0.0000  0.0000  0.0000  0.0000  0.0000\n",
       "Cumulative Proportion   0.9997  0.9997  0.9997  0.9997  0.9997  0.9997  0.9997\n",
       "                         PC88   PC89   PC90   PC91   PC92   PC93   PC94   PC95\n",
       "Standard deviation     9.9154 9.9030 9.7777 9.7473 9.7026 9.6204 9.5965 9.5324\n",
       "Proportion of Variance 0.0000 0.0000 0.0000 0.0000 0.0000 0.0000 0.0000 0.0000\n",
       "Cumulative Proportion  0.9997 0.9997 0.9997 0.9997 0.9997 0.9998 0.9998 0.9998\n",
       "                         PC96   PC97   PC98   PC99  PC100  PC101  PC102  PC103\n",
       "Standard deviation     9.4777 9.4573 9.4072 9.3910 9.3188 9.3092 9.2500 9.1781\n",
       "Proportion of Variance 0.0000 0.0000 0.0000 0.0000 0.0000 0.0000 0.0000 0.0000\n",
       "Cumulative Proportion  0.9998 0.9998 0.9998 0.9998 0.9998 0.9998 0.9998 0.9998\n",
       "                        PC104  PC105  PC106  PC107  PC108  PC109  PC110  PC111\n",
       "Standard deviation     9.1536 9.0731 9.0389 8.9984 8.9526 8.9328 8.8845 8.8764\n",
       "Proportion of Variance 0.0000 0.0000 0.0000 0.0000 0.0000 0.0000 0.0000 0.0000\n",
       "Cumulative Proportion  0.9998 0.9998 0.9998 0.9998 0.9998 0.9998 0.9998 0.9998\n",
       "                        PC112  PC113  PC114  PC115  PC116  PC117  PC118  PC119\n",
       "Standard deviation     8.8352 8.7618 8.7218 8.6878 8.6779 8.6357 8.6147 8.5606\n",
       "Proportion of Variance 0.0000 0.0000 0.0000 0.0000 0.0000 0.0000 0.0000 0.0000\n",
       "Cumulative Proportion  0.9998 0.9998 0.9998 0.9998 0.9998 0.9998 0.9998 0.9998\n",
       "                        PC120  PC121  PC122  PC123  PC124  PC125  PC126  PC127\n",
       "Standard deviation     8.5447 8.5261 8.4940 8.4674 8.4338 8.4139 8.3557 8.3101\n",
       "Proportion of Variance 0.0000 0.0000 0.0000 0.0000 0.0000 0.0000 0.0000 0.0000\n",
       "Cumulative Proportion  0.9998 0.9998 0.9998 0.9998 0.9998 0.9998 0.9998 0.9998\n",
       "                        PC128  PC129  PC130  PC131  PC132  PC133  PC134  PC135\n",
       "Standard deviation     8.2775 8.2714 8.2217 8.1977 8.1625 8.1411 8.1325 8.0985\n",
       "Proportion of Variance 0.0000 0.0000 0.0000 0.0000 0.0000 0.0000 0.0000 0.0000\n",
       "Cumulative Proportion  0.9998 0.9998 0.9998 0.9998 0.9998 0.9998 0.9998 0.9998\n",
       "                        PC136  PC137  PC138  PC139  PC140  PC141  PC142  PC143\n",
       "Standard deviation     8.0825 8.0656 8.0401 8.0235 7.9796 7.9583 7.9423 7.9158\n",
       "Proportion of Variance 0.0000 0.0000 0.0000 0.0000 0.0000 0.0000 0.0000 0.0000\n",
       "Cumulative Proportion  0.9998 0.9998 0.9998 0.9998 0.9998 0.9998 0.9998 0.9998\n",
       "                        PC144  PC145  PC146  PC147  PC148  PC149  PC150  PC151\n",
       "Standard deviation     7.8933 7.8538 7.8455 7.8119 7.8042 7.7725 7.7527 7.7415\n",
       "Proportion of Variance 0.0000 0.0000 0.0000 0.0000 0.0000 0.0000 0.0000 0.0000\n",
       "Cumulative Proportion  0.9998 0.9998 0.9998 0.9998 0.9998 0.9998 0.9998 0.9998\n",
       "                        PC152  PC153  PC154  PC155  PC156  PC157  PC158  PC159\n",
       "Standard deviation     7.6955 7.6806 7.6628 7.6577 7.6345 7.6214 7.5971 7.5733\n",
       "Proportion of Variance 0.0000 0.0000 0.0000 0.0000 0.0000 0.0000 0.0000 0.0000\n",
       "Cumulative Proportion  0.9998 0.9998 0.9998 0.9998 0.9998 0.9998 0.9998 0.9998\n",
       "                        PC160  PC161  PC162  PC163  PC164  PC165  PC166  PC167\n",
       "Standard deviation     7.5508 7.5256 7.4990 7.4817 7.4775 7.4609 7.4554 7.4242\n",
       "Proportion of Variance 0.0000 0.0000 0.0000 0.0000 0.0000 0.0000 0.0000 0.0000\n",
       "Cumulative Proportion  0.9998 0.9998 0.9998 0.9998 0.9998 0.9998 0.9998 0.9998\n",
       "                        PC168  PC169  PC170  PC171  PC172  PC173  PC174  PC175\n",
       "Standard deviation     7.4187 7.4100 7.3933 7.3883 7.3343 7.3085 7.3009 7.2952\n",
       "Proportion of Variance 0.0000 0.0000 0.0000 0.0000 0.0000 0.0000 0.0000 0.0000\n",
       "Cumulative Proportion  0.9998 0.9998 0.9998 0.9998 0.9998 0.9998 0.9998 0.9998\n",
       "                        PC176  PC177  PC178  PC179  PC180  PC181  PC182  PC183\n",
       "Standard deviation     7.2659 7.2386 7.2336 7.2137 7.2033 7.1963 7.1815 7.1506\n",
       "Proportion of Variance 0.0000 0.0000 0.0000 0.0000 0.0000 0.0000 0.0000 0.0000\n",
       "Cumulative Proportion  0.9998 0.9998 0.9998 0.9998 0.9998 0.9998 0.9998 0.9998\n",
       "                        PC184  PC185  PC186  PC187  PC188  PC189  PC190  PC191\n",
       "Standard deviation     7.1305 7.1137 7.1087 7.0930 7.0845 7.0698 7.0468 7.0293\n",
       "Proportion of Variance 0.0000 0.0000 0.0000 0.0000 0.0000 0.0000 0.0000 0.0000\n",
       "Cumulative Proportion  0.9998 0.9998 0.9998 0.9998 0.9998 0.9998 0.9998 0.9998\n",
       "                        PC192  PC193  PC194  PC195  PC196  PC197  PC198  PC199\n",
       "Standard deviation     7.0181 6.9952 6.9851 6.9543 6.9269 6.9139 6.8989 6.8860\n",
       "Proportion of Variance 0.0000 0.0000 0.0000 0.0000 0.0000 0.0000 0.0000 0.0000\n",
       "Cumulative Proportion  0.9998 0.9998 0.9998 0.9999 0.9999 0.9999 0.9999 0.9999\n",
       "                        PC200  PC201  PC202  PC203  PC204  PC205  PC206  PC207\n",
       "Standard deviation     6.8773 6.8509 6.8420 6.8397 6.8321 6.7975 6.7819 6.7614\n",
       "Proportion of Variance 0.0000 0.0000 0.0000 0.0000 0.0000 0.0000 0.0000 0.0000\n",
       "Cumulative Proportion  0.9999 0.9999 0.9999 0.9999 0.9999 0.9999 0.9999 0.9999\n",
       "                        PC208  PC209  PC210  PC211  PC212  PC213  PC214  PC215\n",
       "Standard deviation     6.7424 6.7282 6.7178 6.6928 6.6795 6.6632 6.6578 6.6438\n",
       "Proportion of Variance 0.0000 0.0000 0.0000 0.0000 0.0000 0.0000 0.0000 0.0000\n",
       "Cumulative Proportion  0.9999 0.9999 0.9999 0.9999 0.9999 0.9999 0.9999 0.9999\n",
       "                        PC216  PC217  PC218  PC219  PC220  PC221  PC222  PC223\n",
       "Standard deviation     6.6301 6.6222 6.6093 6.6017 6.5783 6.5645 6.5503 6.5337\n",
       "Proportion of Variance 0.0000 0.0000 0.0000 0.0000 0.0000 0.0000 0.0000 0.0000\n",
       "Cumulative Proportion  0.9999 0.9999 0.9999 0.9999 0.9999 0.9999 0.9999 0.9999\n",
       "                        PC224  PC225  PC226  PC227  PC228  PC229  PC230  PC231\n",
       "Standard deviation     6.5180 6.5072 6.4954 6.4820 6.4628 6.4584 6.4497 6.4349\n",
       "Proportion of Variance 0.0000 0.0000 0.0000 0.0000 0.0000 0.0000 0.0000 0.0000\n",
       "Cumulative Proportion  0.9999 0.9999 0.9999 0.9999 0.9999 0.9999 0.9999 0.9999\n",
       "                        PC232  PC233  PC234  PC235  PC236  PC237  PC238  PC239\n",
       "Standard deviation     6.4098 6.3964 6.3872 6.3762 6.3648 6.3574 6.3493 6.3343\n",
       "Proportion of Variance 0.0000 0.0000 0.0000 0.0000 0.0000 0.0000 0.0000 0.0000\n",
       "Cumulative Proportion  0.9999 0.9999 0.9999 0.9999 0.9999 0.9999 0.9999 0.9999\n",
       "                        PC240  PC241  PC242  PC243  PC244  PC245  PC246  PC247\n",
       "Standard deviation     6.3303 6.3107 6.2873 6.2731 6.2595 6.2519 6.2444 6.2256\n",
       "Proportion of Variance 0.0000 0.0000 0.0000 0.0000 0.0000 0.0000 0.0000 0.0000\n",
       "Cumulative Proportion  0.9999 0.9999 0.9999 0.9999 0.9999 0.9999 0.9999 0.9999\n",
       "                        PC248  PC249  PC250  PC251  PC252  PC253  PC254  PC255\n",
       "Standard deviation     6.2086 6.2002 6.1883 6.1683 6.1633 6.1371 6.1291 6.1213\n",
       "Proportion of Variance 0.0000 0.0000 0.0000 0.0000 0.0000 0.0000 0.0000 0.0000\n",
       "Cumulative Proportion  0.9999 0.9999 0.9999 0.9999 0.9999 0.9999 0.9999 0.9999\n",
       "                        PC256  PC257  PC258  PC259  PC260  PC261  PC262  PC263\n",
       "Standard deviation     6.1108 6.0887 6.0790 6.0631 6.0471 6.0348 6.0200 6.0119\n",
       "Proportion of Variance 0.0000 0.0000 0.0000 0.0000 0.0000 0.0000 0.0000 0.0000\n",
       "Cumulative Proportion  0.9999 0.9999 0.9999 0.9999 0.9999 0.9999 0.9999 0.9999\n",
       "                        PC264  PC265  PC266  PC267  PC268  PC269  PC270  PC271\n",
       "Standard deviation     5.9908 5.9794 5.9759 5.9568 5.9390 5.9260 5.9230 5.8965\n",
       "Proportion of Variance 0.0000 0.0000 0.0000 0.0000 0.0000 0.0000 0.0000 0.0000\n",
       "Cumulative Proportion  0.9999 0.9999 0.9999 0.9999 0.9999 0.9999 0.9999 0.9999\n",
       "                        PC272  PC273  PC274  PC275  PC276  PC277  PC278  PC279\n",
       "Standard deviation     5.8823 5.8706 5.8523 5.8348 5.8302 5.8225 5.8060 5.7891\n",
       "Proportion of Variance 0.0000 0.0000 0.0000 0.0000 0.0000 0.0000 0.0000 0.0000\n",
       "Cumulative Proportion  0.9999 0.9999 0.9999 0.9999 0.9999 0.9999 0.9999 0.9999\n",
       "                        PC280  PC281  PC282  PC283  PC284  PC285  PC286  PC287\n",
       "Standard deviation     5.7840 5.7728 5.7599 5.7488 5.7440 5.7164 5.7031 5.6951\n",
       "Proportion of Variance 0.0000 0.0000 0.0000 0.0000 0.0000 0.0000 0.0000 0.0000\n",
       "Cumulative Proportion  0.9999 0.9999 0.9999 0.9999 0.9999 0.9999 0.9999 0.9999\n",
       "                        PC288  PC289  PC290  PC291  PC292  PC293  PC294  PC295\n",
       "Standard deviation     5.6772 5.6684 5.6608 5.6473 5.6460 5.6149 5.6081 5.5957\n",
       "Proportion of Variance 0.0000 0.0000 0.0000 0.0000 0.0000 0.0000 0.0000 0.0000\n",
       "Cumulative Proportion  0.9999 0.9999 0.9999 0.9999 0.9999 0.9999 0.9999 0.9999\n",
       "                        PC296  PC297  PC298  PC299  PC300  PC301  PC302  PC303\n",
       "Standard deviation     5.5827 5.5751 5.5582 5.5486 5.5409 5.5202 5.5178 5.5102\n",
       "Proportion of Variance 0.0000 0.0000 0.0000 0.0000 0.0000 0.0000 0.0000 0.0000\n",
       "Cumulative Proportion  0.9999 0.9999 0.9999 0.9999 0.9999 0.9999 0.9999 0.9999\n",
       "                        PC304  PC305  PC306  PC307  PC308  PC309  PC310  PC311\n",
       "Standard deviation     5.5038 5.4868 5.4733 5.4674 5.4561 5.4340 5.4267 5.4198\n",
       "Proportion of Variance 0.0000 0.0000 0.0000 0.0000 0.0000 0.0000 0.0000 0.0000\n",
       "Cumulative Proportion  0.9999 0.9999 0.9999 0.9999 0.9999 0.9999 0.9999 0.9999\n",
       "                        PC312  PC313  PC314  PC315  PC316  PC317  PC318  PC319\n",
       "Standard deviation     5.3888 5.3847 5.3721 5.3700 5.3510 5.3434 5.3230 5.3146\n",
       "Proportion of Variance 0.0000 0.0000 0.0000 0.0000 0.0000 0.0000 0.0000 0.0000\n",
       "Cumulative Proportion  0.9999 0.9999 0.9999 0.9999 0.9999 0.9999 0.9999 0.9999\n",
       "                        PC320  PC321  PC322  PC323  PC324  PC325  PC326  PC327\n",
       "Standard deviation     5.3089 5.3042 5.2950 5.2729 5.2710 5.2614 5.2417 5.2403\n",
       "Proportion of Variance 0.0000 0.0000 0.0000 0.0000 0.0000 0.0000 0.0000 0.0000\n",
       "Cumulative Proportion  0.9999 0.9999 0.9999 0.9999 0.9999 0.9999 0.9999 0.9999\n",
       "                        PC328  PC329  PC330  PC331  PC332  PC333  PC334  PC335\n",
       "Standard deviation     5.2303 5.2224 5.2140 5.1939 5.1813 5.1733 5.1601 5.1451\n",
       "Proportion of Variance 0.0000 0.0000 0.0000 0.0000 0.0000 0.0000 0.0000 0.0000\n",
       "Cumulative Proportion  0.9999 0.9999 0.9999 0.9999 0.9999 0.9999 0.9999 0.9999\n",
       "                        PC336  PC337  PC338  PC339  PC340  PC341  PC342  PC343\n",
       "Standard deviation     5.1411 5.1253 5.1145 5.0993 5.0963 5.0775 5.0692 5.0489\n",
       "Proportion of Variance 0.0000 0.0000 0.0000 0.0000 0.0000 0.0000 0.0000 0.0000\n",
       "Cumulative Proportion  0.9999 0.9999 0.9999 0.9999 0.9999 0.9999 0.9999 0.9999\n",
       "                        PC344  PC345  PC346  PC347  PC348  PC349  PC350  PC351\n",
       "Standard deviation     5.0413 5.0209 5.0103 4.9942 4.9810 4.9663 4.9590 4.9522\n",
       "Proportion of Variance 0.0000 0.0000 0.0000 0.0000 0.0000 0.0000 0.0000 0.0000\n",
       "Cumulative Proportion  0.9999 0.9999 0.9999 0.9999 0.9999 0.9999 0.9999 0.9999\n",
       "                        PC352  PC353  PC354  PC355  PC356  PC357  PC358  PC359\n",
       "Standard deviation     4.9480 4.9265 4.9250 4.9101 4.8989 4.8905 4.8815 4.8770\n",
       "Proportion of Variance 0.0000 0.0000 0.0000 0.0000 0.0000 0.0000 0.0000 0.0000\n",
       "Cumulative Proportion  0.9999 0.9999 0.9999 0.9999 0.9999 0.9999 0.9999 0.9999\n",
       "                        PC360  PC361  PC362  PC363  PC364  PC365  PC366  PC367\n",
       "Standard deviation     4.8555 4.8340 4.8264 4.8214 4.8047 4.7911 4.7864 4.7743\n",
       "Proportion of Variance 0.0000 0.0000 0.0000 0.0000 0.0000 0.0000 0.0000 0.0000\n",
       "Cumulative Proportion  0.9999 0.9999 0.9999 0.9999 0.9999 0.9999 0.9999 0.9999\n",
       "                        PC368  PC369  PC370  PC371  PC372  PC373  PC374  PC375\n",
       "Standard deviation     4.7629 4.7469 4.7406 4.7290 4.7135 4.7093 4.6963 4.6853\n",
       "Proportion of Variance 0.0000 0.0000 0.0000 0.0000 0.0000 0.0000 0.0000 0.0000\n",
       "Cumulative Proportion  0.9999 0.9999 0.9999 0.9999 0.9999 0.9999 0.9999 0.9999\n",
       "                        PC376  PC377  PC378  PC379  PC380  PC381  PC382  PC383\n",
       "Standard deviation     4.6772 4.6706 4.6491 4.6423 4.6290 4.6149 4.6056 4.5945\n",
       "Proportion of Variance 0.0000 0.0000 0.0000 0.0000 0.0000 0.0000 0.0000 0.0000\n",
       "Cumulative Proportion  0.9999 0.9999 0.9999 0.9999 0.9999 0.9999 0.9999 0.9999\n",
       "                        PC384  PC385  PC386  PC387  PC388  PC389  PC390  PC391\n",
       "Standard deviation     4.5845 4.5819 4.5737 4.5511 4.5397 4.5283 4.5248 4.5042\n",
       "Proportion of Variance 0.0000 0.0000 0.0000 0.0000 0.0000 0.0000 0.0000 0.0000\n",
       "Cumulative Proportion  0.9999 0.9999 0.9999 0.9999 0.9999 0.9999 0.9999 0.9999\n",
       "                        PC392  PC393  PC394  PC395  PC396  PC397  PC398  PC399\n",
       "Standard deviation     4.4900 4.4808 4.4610 4.4513 4.4337 4.4310 4.4206 4.4105\n",
       "Proportion of Variance 0.0000 0.0000 0.0000 0.0000 0.0000 0.0000 0.0000 0.0000\n",
       "Cumulative Proportion  0.9999 0.9999 0.9999 0.9999 0.9999 0.9999 0.9999 0.9999\n",
       "                       PC400 PC401 PC402 PC403 PC404 PC405 PC406 PC407 PC408\n",
       "Standard deviation     4.407 4.395 4.386  4.38 4.364 4.351 4.331 4.325 4.311\n",
       "Proportion of Variance 0.000 0.000 0.000  0.00 0.000 0.000 0.000 0.000 0.000\n",
       "Cumulative Proportion  1.000 1.000 1.000  1.00 1.000 1.000 1.000 1.000 1.000\n",
       "                       PC409 PC410 PC411 PC412 PC413 PC414 PC415 PC416 PC417\n",
       "Standard deviation     4.302 4.298 4.288 4.258 4.254 4.233 4.226 4.224 4.215\n",
       "Proportion of Variance 0.000 0.000 0.000 0.000 0.000 0.000 0.000 0.000 0.000\n",
       "Cumulative Proportion  1.000 1.000 1.000 1.000 1.000 1.000 1.000 1.000 1.000\n",
       "                       PC418 PC419 PC420 PC421 PC422 PC423 PC424 PC425 PC426\n",
       "Standard deviation     4.202 4.185 4.179 4.166 4.154 4.149 4.141 4.131 4.124\n",
       "Proportion of Variance 0.000 0.000 0.000 0.000 0.000 0.000 0.000 0.000 0.000\n",
       "Cumulative Proportion  1.000 1.000 1.000 1.000 1.000 1.000 1.000 1.000 1.000\n",
       "                       PC427 PC428 PC429 PC430 PC431 PC432 PC433 PC434 PC435\n",
       "Standard deviation     4.098 4.097 4.087 4.075 4.067 4.056 4.046 4.034 4.023\n",
       "Proportion of Variance 0.000 0.000 0.000 0.000 0.000 0.000 0.000 0.000 0.000\n",
       "Cumulative Proportion  1.000 1.000 1.000 1.000 1.000 1.000 1.000 1.000 1.000\n",
       "                       PC436 PC437 PC438 PC439 PC440 PC441 PC442 PC443 PC444\n",
       "Standard deviation      4.01 4.005 3.985 3.979 3.974 3.956 3.939 3.921 3.916\n",
       "Proportion of Variance  0.00 0.000 0.000 0.000 0.000 0.000 0.000 0.000 0.000\n",
       "Cumulative Proportion   1.00 1.000 1.000 1.000 1.000 1.000 1.000 1.000 1.000\n",
       "                       PC445 PC446 PC447 PC448 PC449 PC450 PC451 PC452 PC453\n",
       "Standard deviation     3.904 3.891  3.88 3.866 3.863 3.857 3.833 3.829 3.817\n",
       "Proportion of Variance 0.000 0.000  0.00 0.000 0.000 0.000 0.000 0.000 0.000\n",
       "Cumulative Proportion  1.000 1.000  1.00 1.000 1.000 1.000 1.000 1.000 1.000\n",
       "                       PC454 PC455 PC456 PC457 PC458 PC459 PC460 PC461 PC462\n",
       "Standard deviation     3.806 3.794 3.789 3.767  3.76 3.751 3.742 3.723 3.698\n",
       "Proportion of Variance 0.000 0.000 0.000 0.000  0.00 0.000 0.000 0.000 0.000\n",
       "Cumulative Proportion  1.000 1.000 1.000 1.000  1.00 1.000 1.000 1.000 1.000\n",
       "                       PC463 PC464 PC465 PC466 PC467 PC468 PC469 PC470 PC471\n",
       "Standard deviation     3.694 3.687 3.681 3.673 3.653 3.647 3.638 3.622 3.619\n",
       "Proportion of Variance 0.000 0.000 0.000 0.000 0.000 0.000 0.000 0.000 0.000\n",
       "Cumulative Proportion  1.000 1.000 1.000 1.000 1.000 1.000 1.000 1.000 1.000\n",
       "                       PC472 PC473 PC474 PC475 PC476 PC477 PC478 PC479 PC480\n",
       "Standard deviation     3.607 3.598 3.585 3.575 3.554 3.553 3.546 3.523 3.519\n",
       "Proportion of Variance 0.000 0.000 0.000 0.000 0.000 0.000 0.000 0.000 0.000\n",
       "Cumulative Proportion  1.000 1.000 1.000 1.000 1.000 1.000 1.000 1.000 1.000\n",
       "                       PC481 PC482 PC483 PC484 PC485 PC486 PC487 PC488 PC489\n",
       "Standard deviation     3.506 3.497 3.484 3.472 3.458 3.453 3.439  3.43 3.416\n",
       "Proportion of Variance 0.000 0.000 0.000 0.000 0.000 0.000 0.000  0.00 0.000\n",
       "Cumulative Proportion  1.000 1.000 1.000 1.000 1.000 1.000 1.000  1.00 1.000\n",
       "                       PC490 PC491 PC492 PC493 PC494 PC495 PC496 PC497 PC498\n",
       "Standard deviation       3.4 3.393 3.388  3.37 3.349 3.339 3.335 3.321 3.318\n",
       "Proportion of Variance   0.0 0.000 0.000  0.00 0.000 0.000 0.000 0.000 0.000\n",
       "Cumulative Proportion    1.0 1.000 1.000  1.00 1.000 1.000 1.000 1.000 1.000\n",
       "                       PC499 PC500 PC501 PC502 PC503 PC504 PC505 PC506 PC507\n",
       "Standard deviation     3.304 3.289 3.286 3.265 3.257 3.229 3.222 3.204 3.201\n",
       "Proportion of Variance 0.000 0.000 0.000 0.000 0.000 0.000 0.000 0.000 0.000\n",
       "Cumulative Proportion  1.000 1.000 1.000 1.000 1.000 1.000 1.000 1.000 1.000\n",
       "                       PC508 PC509 PC510 PC511 PC512 PC513 PC514 PC515 PC516\n",
       "Standard deviation     3.192 3.183 3.169 3.159 3.141 3.134 3.125 3.122  3.11\n",
       "Proportion of Variance 0.000 0.000 0.000 0.000 0.000 0.000 0.000 0.000  0.00\n",
       "Cumulative Proportion  1.000 1.000 1.000 1.000 1.000 1.000 1.000 1.000  1.00\n",
       "                       PC517 PC518 PC519 PC520 PC521 PC522 PC523 PC524 PC525\n",
       "Standard deviation     3.095 3.078 3.072 3.067 3.063 3.058 3.048 3.029 3.008\n",
       "Proportion of Variance 0.000 0.000 0.000 0.000 0.000 0.000 0.000 0.000 0.000\n",
       "Cumulative Proportion  1.000 1.000 1.000 1.000 1.000 1.000 1.000 1.000 1.000\n",
       "                       PC526 PC527 PC528 PC529 PC530 PC531 PC532 PC533 PC534\n",
       "Standard deviation     3.003 2.986 2.978 2.972 2.963 2.944 2.924 2.916 2.912\n",
       "Proportion of Variance 0.000 0.000 0.000 0.000 0.000 0.000 0.000 0.000 0.000\n",
       "Cumulative Proportion  1.000 1.000 1.000 1.000 1.000 1.000 1.000 1.000 1.000\n",
       "                       PC535 PC536 PC537 PC538 PC539 PC540 PC541 PC542 PC543\n",
       "Standard deviation     2.903 2.891 2.882 2.876 2.872 2.866 2.853 2.834 2.827\n",
       "Proportion of Variance 0.000 0.000 0.000 0.000 0.000 0.000 0.000 0.000 0.000\n",
       "Cumulative Proportion  1.000 1.000 1.000 1.000 1.000 1.000 1.000 1.000 1.000\n",
       "                       PC544 PC545 PC546 PC547 PC548 PC549 PC550 PC551 PC552\n",
       "Standard deviation     2.819 2.811  2.79 2.779  2.77 2.766 2.757 2.754 2.728\n",
       "Proportion of Variance 0.000 0.000  0.00 0.000  0.00 0.000 0.000 0.000 0.000\n",
       "Cumulative Proportion  1.000 1.000  1.00 1.000  1.00 1.000 1.000 1.000 1.000\n",
       "                       PC553 PC554 PC555 PC556 PC557 PC558 PC559 PC560 PC561\n",
       "Standard deviation     2.721 2.714  2.71 2.701 2.692 2.679  2.66 2.652 2.645\n",
       "Proportion of Variance 0.000 0.000  0.00 0.000 0.000 0.000  0.00 0.000 0.000\n",
       "Cumulative Proportion  1.000 1.000  1.00 1.000 1.000 1.000  1.00 1.000 1.000\n",
       "                       PC562 PC563 PC564 PC565 PC566 PC567 PC568 PC569 PC570\n",
       "Standard deviation      2.63 2.621 2.615 2.601 2.589 2.584 2.578  2.57 2.562\n",
       "Proportion of Variance  0.00 0.000 0.000 0.000 0.000 0.000 0.000  0.00 0.000\n",
       "Cumulative Proportion   1.00 1.000 1.000 1.000 1.000 1.000 1.000  1.00 1.000\n",
       "                       PC571 PC572 PC573 PC574 PC575 PC576 PC577 PC578 PC579\n",
       "Standard deviation     2.551 2.541 2.531 2.527 2.518 2.508 2.503   2.5 2.488\n",
       "Proportion of Variance 0.000 0.000 0.000 0.000 0.000 0.000 0.000   0.0 0.000\n",
       "Cumulative Proportion  1.000 1.000 1.000 1.000 1.000 1.000 1.000   1.0 1.000\n",
       "                       PC580 PC581 PC582 PC583 PC584 PC585 PC586 PC587 PC588\n",
       "Standard deviation     2.467 2.459 2.457  2.45 2.446 2.441 2.432 2.417 2.412\n",
       "Proportion of Variance 0.000 0.000 0.000  0.00 0.000 0.000 0.000 0.000 0.000\n",
       "Cumulative Proportion  1.000 1.000 1.000  1.00 1.000 1.000 1.000 1.000 1.000\n",
       "                       PC589 PC590 PC591 PC592 PC593 PC594 PC595 PC596 PC597\n",
       "Standard deviation     2.407 2.384 2.382 2.373 2.371 2.361 2.352 2.344 2.334\n",
       "Proportion of Variance 0.000 0.000 0.000 0.000 0.000 0.000 0.000 0.000 0.000\n",
       "Cumulative Proportion  1.000 1.000 1.000 1.000 1.000 1.000 1.000 1.000 1.000\n",
       "                       PC598 PC599 PC600 PC601 PC602 PC603 PC604 PC605 PC606\n",
       "Standard deviation      2.33  2.32 2.318 2.313 2.298 2.293 2.283 2.279 2.271\n",
       "Proportion of Variance  0.00  0.00 0.000 0.000 0.000 0.000 0.000 0.000 0.000\n",
       "Cumulative Proportion   1.00  1.00 1.000 1.000 1.000 1.000 1.000 1.000 1.000\n",
       "                       PC607 PC608 PC609 PC610 PC611 PC612 PC613 PC614 PC615\n",
       "Standard deviation     2.259 2.249 2.245 2.244 2.232 2.228 2.222 2.214 2.213\n",
       "Proportion of Variance 0.000 0.000 0.000 0.000 0.000 0.000 0.000 0.000 0.000\n",
       "Cumulative Proportion  1.000 1.000 1.000 1.000 1.000 1.000 1.000 1.000 1.000\n",
       "                       PC616 PC617 PC618 PC619 PC620 PC621 PC622 PC623 PC624\n",
       "Standard deviation     2.203 2.196 2.183 2.176  2.17  2.16 2.154 2.148 2.147\n",
       "Proportion of Variance 0.000 0.000 0.000 0.000  0.00  0.00 0.000 0.000 0.000\n",
       "Cumulative Proportion  1.000 1.000 1.000 1.000  1.00  1.00 1.000 1.000 1.000\n",
       "                       PC625 PC626 PC627 PC628 PC629 PC630 PC631 PC632 PC633\n",
       "Standard deviation     2.142  2.14 2.125 2.123 2.105 2.101 2.097  2.09 2.076\n",
       "Proportion of Variance 0.000  0.00 0.000 0.000 0.000 0.000 0.000  0.00 0.000\n",
       "Cumulative Proportion  1.000  1.00 1.000 1.000 1.000 1.000 1.000  1.00 1.000\n",
       "                       PC634 PC635 PC636 PC637 PC638 PC639 PC640 PC641 PC642\n",
       "Standard deviation     2.072 2.066 2.065 2.061 2.049 2.044 2.036 2.034 2.024\n",
       "Proportion of Variance 0.000 0.000 0.000 0.000 0.000 0.000 0.000 0.000 0.000\n",
       "Cumulative Proportion  1.000 1.000 1.000 1.000 1.000 1.000 1.000 1.000 1.000\n",
       "                       PC643 PC644 PC645 PC646 PC647 PC648 PC649 PC650 PC651\n",
       "Standard deviation     2.016 2.009 2.008 2.004 1.996 1.988 1.979 1.976 1.967\n",
       "Proportion of Variance 0.000 0.000 0.000 0.000 0.000 0.000 0.000 0.000 0.000\n",
       "Cumulative Proportion  1.000 1.000 1.000 1.000 1.000 1.000 1.000 1.000 1.000\n",
       "                       PC652 PC653 PC654 PC655 PC656 PC657 PC658 PC659 PC660\n",
       "Standard deviation     1.962 1.954 1.951 1.941 1.936 1.933 1.928 1.927 1.923\n",
       "Proportion of Variance 0.000 0.000 0.000 0.000 0.000 0.000 0.000 0.000 0.000\n",
       "Cumulative Proportion  1.000 1.000 1.000 1.000 1.000 1.000 1.000 1.000 1.000\n",
       "                       PC661 PC662 PC663 PC664 PC665 PC666 PC667 PC668 PC669\n",
       "Standard deviation     1.919 1.907 1.907 1.898 1.897 1.887 1.883 1.877 1.871\n",
       "Proportion of Variance 0.000 0.000 0.000 0.000 0.000 0.000 0.000 0.000 0.000\n",
       "Cumulative Proportion  1.000 1.000 1.000 1.000 1.000 1.000 1.000 1.000 1.000\n",
       "                       PC670 PC671 PC672 PC673 PC674 PC675 PC676 PC677 PC678\n",
       "Standard deviation     1.864 1.859 1.856 1.855 1.851 1.844 1.841 1.835  1.83\n",
       "Proportion of Variance 0.000 0.000 0.000 0.000 0.000 0.000 0.000 0.000  0.00\n",
       "Cumulative Proportion  1.000 1.000 1.000 1.000 1.000 1.000 1.000 1.000  1.00\n",
       "                       PC679 PC680 PC681 PC682 PC683 PC684 PC685 PC686 PC687\n",
       "Standard deviation     1.823 1.822 1.812 1.807 1.802 1.799 1.799 1.795 1.788\n",
       "Proportion of Variance 0.000 0.000 0.000 0.000 0.000 0.000 0.000 0.000 0.000\n",
       "Cumulative Proportion  1.000 1.000 1.000 1.000 1.000 1.000 1.000 1.000 1.000\n",
       "                       PC688 PC689 PC690 PC691 PC692 PC693 PC694 PC695 PC696\n",
       "Standard deviation     1.785 1.776 1.773 1.767 1.765  1.76 1.758 1.756 1.747\n",
       "Proportion of Variance 0.000 0.000 0.000 0.000 0.000  0.00 0.000 0.000 0.000\n",
       "Cumulative Proportion  1.000 1.000 1.000 1.000 1.000  1.00 1.000 1.000 1.000\n",
       "                       PC697 PC698 PC699 PC700 PC701 PC702 PC703 PC704 PC705\n",
       "Standard deviation     1.743 1.741 1.735 1.729 1.728 1.724  1.72 1.715 1.713\n",
       "Proportion of Variance 0.000 0.000 0.000 0.000 0.000 0.000  0.00 0.000 0.000\n",
       "Cumulative Proportion  1.000 1.000 1.000 1.000 1.000 1.000  1.00 1.000 1.000\n",
       "                       PC706 PC707 PC708 PC709 PC710 PC711 PC712 PC713 PC714\n",
       "Standard deviation      1.71 1.706   1.7 1.697  1.69 1.689 1.681 1.679 1.676\n",
       "Proportion of Variance  0.00 0.000   0.0 0.000  0.00 0.000 0.000 0.000 0.000\n",
       "Cumulative Proportion   1.00 1.000   1.0 1.000  1.00 1.000 1.000 1.000 1.000\n",
       "                       PC715 PC716 PC717 PC718 PC719 PC720 PC721 PC722 PC723\n",
       "Standard deviation      1.67 1.668 1.663  1.66 1.659  1.65 1.645 1.645 1.638\n",
       "Proportion of Variance  0.00 0.000 0.000  0.00 0.000  0.00 0.000 0.000 0.000\n",
       "Cumulative Proportion   1.00 1.000 1.000  1.00 1.000  1.00 1.000 1.000 1.000\n",
       "                       PC724 PC725 PC726 PC727 PC728 PC729 PC730 PC731 PC732\n",
       "Standard deviation     1.636 1.632  1.63 1.629 1.626 1.622 1.618 1.616 1.608\n",
       "Proportion of Variance 0.000 0.000  0.00 0.000 0.000 0.000 0.000 0.000 0.000\n",
       "Cumulative Proportion  1.000 1.000  1.00 1.000 1.000 1.000 1.000 1.000 1.000\n",
       "                       PC733 PC734 PC735 PC736 PC737 PC738 PC739 PC740 PC741\n",
       "Standard deviation     1.606 1.602 1.599 1.593 1.589 1.587 1.584 1.579 1.575\n",
       "Proportion of Variance 0.000 0.000 0.000 0.000 0.000 0.000 0.000 0.000 0.000\n",
       "Cumulative Proportion  1.000 1.000 1.000 1.000 1.000 1.000 1.000 1.000 1.000\n",
       "                       PC742 PC743 PC744 PC745 PC746 PC747 PC748 PC749 PC750\n",
       "Standard deviation     1.572 1.569 1.567 1.562 1.559 1.554 1.553  1.55 1.547\n",
       "Proportion of Variance 0.000 0.000 0.000 0.000 0.000 0.000 0.000  0.00 0.000\n",
       "Cumulative Proportion  1.000 1.000 1.000 1.000 1.000 1.000 1.000  1.00 1.000\n",
       "                       PC751 PC752 PC753 PC754 PC755 PC756 PC757 PC758 PC759\n",
       "Standard deviation     1.543 1.542 1.535 1.533 1.529 1.526 1.524 1.522 1.518\n",
       "Proportion of Variance 0.000 0.000 0.000 0.000 0.000 0.000 0.000 0.000 0.000\n",
       "Cumulative Proportion  1.000 1.000 1.000 1.000 1.000 1.000 1.000 1.000 1.000\n",
       "                       PC760 PC761 PC762 PC763 PC764 PC765 PC766 PC767 PC768\n",
       "Standard deviation     1.514  1.51 1.509 1.506 1.503 1.502 1.499 1.494 1.491\n",
       "Proportion of Variance 0.000  0.00 0.000 0.000 0.000 0.000 0.000 0.000 0.000\n",
       "Cumulative Proportion  1.000  1.00 1.000 1.000 1.000 1.000 1.000 1.000 1.000\n",
       "                       PC769 PC770 PC771 PC772 PC773 PC774 PC775 PC776 PC777\n",
       "Standard deviation     1.489 1.488 1.479 1.476 1.474 1.471 1.469 1.466 1.466\n",
       "Proportion of Variance 0.000 0.000 0.000 0.000 0.000 0.000 0.000 0.000 0.000\n",
       "Cumulative Proportion  1.000 1.000 1.000 1.000 1.000 1.000 1.000 1.000 1.000\n",
       "                       PC778 PC779 PC780 PC781 PC782 PC783 PC784 PC785 PC786\n",
       "Standard deviation     1.461 1.459 1.456 1.456 1.452 1.446 1.443 1.438 1.438\n",
       "Proportion of Variance 0.000 0.000 0.000 0.000 0.000 0.000 0.000 0.000 0.000\n",
       "Cumulative Proportion  1.000 1.000 1.000 1.000 1.000 1.000 1.000 1.000 1.000\n",
       "                       PC787 PC788 PC789 PC790 PC791 PC792 PC793 PC794 PC795\n",
       "Standard deviation     1.434 1.433 1.427 1.426 1.425 1.422 1.421 1.416 1.412\n",
       "Proportion of Variance 0.000 0.000 0.000 0.000 0.000 0.000 0.000 0.000 0.000\n",
       "Cumulative Proportion  1.000 1.000 1.000 1.000 1.000 1.000 1.000 1.000 1.000\n",
       "                       PC796 PC797 PC798 PC799 PC800 PC801 PC802 PC803 PC804\n",
       "Standard deviation     1.411 1.408 1.406 1.403 1.402 1.398 1.397 1.393 1.391\n",
       "Proportion of Variance 0.000 0.000 0.000 0.000 0.000 0.000 0.000 0.000 0.000\n",
       "Cumulative Proportion  1.000 1.000 1.000 1.000 1.000 1.000 1.000 1.000 1.000\n",
       "                       PC805 PC806 PC807 PC808 PC809 PC810 PC811 PC812 PC813\n",
       "Standard deviation     1.388 1.387 1.387 1.382  1.38 1.378 1.372  1.37 1.369\n",
       "Proportion of Variance 0.000 0.000 0.000 0.000  0.00 0.000 0.000  0.00 0.000\n",
       "Cumulative Proportion  1.000 1.000 1.000 1.000  1.00 1.000 1.000  1.00 1.000\n",
       "                       PC814 PC815 PC816 PC817 PC818 PC819 PC820 PC821 PC822\n",
       "Standard deviation     1.366 1.363 1.359 1.358 1.356 1.354 1.353 1.349 1.348\n",
       "Proportion of Variance 0.000 0.000 0.000 0.000 0.000 0.000 0.000 0.000 0.000\n",
       "Cumulative Proportion  1.000 1.000 1.000 1.000 1.000 1.000 1.000 1.000 1.000\n",
       "                       PC823 PC824 PC825 PC826 PC827 PC828 PC829 PC830 PC831\n",
       "Standard deviation     1.343  1.34 1.338 1.338 1.336 1.334 1.331 1.327 1.326\n",
       "Proportion of Variance 0.000  0.00 0.000 0.000 0.000 0.000 0.000 0.000 0.000\n",
       "Cumulative Proportion  1.000  1.00 1.000 1.000 1.000 1.000 1.000 1.000 1.000\n",
       "                       PC832 PC833 PC834 PC835 PC836 PC837 PC838 PC839 PC840\n",
       "Standard deviation     1.323 1.322 1.318 1.315 1.313 1.311  1.31 1.308 1.306\n",
       "Proportion of Variance 0.000 0.000 0.000 0.000 0.000 0.000  0.00 0.000 0.000\n",
       "Cumulative Proportion  1.000 1.000 1.000 1.000 1.000 1.000  1.00 1.000 1.000\n",
       "                       PC841 PC842 PC843 PC844 PC845 PC846 PC847 PC848 PC849\n",
       "Standard deviation     1.302   1.3 1.297 1.296 1.294 1.292  1.29 1.286 1.284\n",
       "Proportion of Variance 0.000   0.0 0.000 0.000 0.000 0.000  0.00 0.000 0.000\n",
       "Cumulative Proportion  1.000   1.0 1.000 1.000 1.000 1.000  1.00 1.000 1.000\n",
       "                       PC850 PC851 PC852 PC853 PC854 PC855 PC856 PC857 PC858\n",
       "Standard deviation     1.282 1.282  1.28 1.276 1.276 1.272  1.27 1.267 1.265\n",
       "Proportion of Variance 0.000 0.000  0.00 0.000 0.000 0.000  0.00 0.000 0.000\n",
       "Cumulative Proportion  1.000 1.000  1.00 1.000 1.000 1.000  1.00 1.000 1.000\n",
       "                       PC859 PC860 PC861 PC862 PC863 PC864 PC865 PC866 PC867\n",
       "Standard deviation     1.265 1.263 1.259 1.257 1.255 1.252 1.251 1.249 1.248\n",
       "Proportion of Variance 0.000 0.000 0.000 0.000 0.000 0.000 0.000 0.000 0.000\n",
       "Cumulative Proportion  1.000 1.000 1.000 1.000 1.000 1.000 1.000 1.000 1.000\n",
       "                       PC868 PC869 PC870 PC871 PC872 PC873 PC874 PC875 PC876\n",
       "Standard deviation     1.245 1.244 1.242  1.24 1.237 1.235 1.231 1.229 1.227\n",
       "Proportion of Variance 0.000 0.000 0.000  0.00 0.000 0.000 0.000 0.000 0.000\n",
       "Cumulative Proportion  1.000 1.000 1.000  1.00 1.000 1.000 1.000 1.000 1.000\n",
       "                       PC877 PC878 PC879 PC880 PC881 PC882 PC883 PC884 PC885\n",
       "Standard deviation     1.226 1.224 1.222 1.218 1.216 1.213 1.211  1.21 1.207\n",
       "Proportion of Variance 0.000 0.000 0.000 0.000 0.000 0.000 0.000  0.00 0.000\n",
       "Cumulative Proportion  1.000 1.000 1.000 1.000 1.000 1.000 1.000  1.00 1.000\n",
       "                       PC886 PC887 PC888 PC889 PC890 PC891 PC892 PC893 PC894\n",
       "Standard deviation     1.205 1.204 1.203 1.201   1.2 1.195 1.194 1.193 1.192\n",
       "Proportion of Variance 0.000 0.000 0.000 0.000   0.0 0.000 0.000 0.000 0.000\n",
       "Cumulative Proportion  1.000 1.000 1.000 1.000   1.0 1.000 1.000 1.000 1.000\n",
       "                       PC895 PC896 PC897 PC898 PC899 PC900 PC901 PC902 PC903\n",
       "Standard deviation     1.188 1.187 1.185 1.182 1.182 1.178 1.175 1.175 1.173\n",
       "Proportion of Variance 0.000 0.000 0.000 0.000 0.000 0.000 0.000 0.000 0.000\n",
       "Cumulative Proportion  1.000 1.000 1.000 1.000 1.000 1.000 1.000 1.000 1.000\n",
       "                       PC904 PC905 PC906 PC907 PC908 PC909 PC910 PC911 PC912\n",
       "Standard deviation     1.172 1.171 1.168 1.166 1.165 1.162 1.161 1.157 1.156\n",
       "Proportion of Variance 0.000 0.000 0.000 0.000 0.000 0.000 0.000 0.000 0.000\n",
       "Cumulative Proportion  1.000 1.000 1.000 1.000 1.000 1.000 1.000 1.000 1.000\n",
       "                       PC913 PC914 PC915 PC916 PC917 PC918 PC919 PC920 PC921\n",
       "Standard deviation     1.154 1.153  1.15 1.148 1.147 1.147 1.144 1.142 1.141\n",
       "Proportion of Variance 0.000 0.000  0.00 0.000 0.000 0.000 0.000 0.000 0.000\n",
       "Cumulative Proportion  1.000 1.000  1.00 1.000 1.000 1.000 1.000 1.000 1.000\n",
       "                       PC922 PC923 PC924 PC925 PC926 PC927 PC928 PC929 PC930\n",
       "Standard deviation     1.139 1.137 1.135 1.134 1.131 1.129 1.128 1.126 1.124\n",
       "Proportion of Variance 0.000 0.000 0.000 0.000 0.000 0.000 0.000 0.000 0.000\n",
       "Cumulative Proportion  1.000 1.000 1.000 1.000 1.000 1.000 1.000 1.000 1.000\n",
       "                       PC931 PC932 PC933 PC934 PC935 PC936 PC937 PC938 PC939\n",
       "Standard deviation     1.123 1.121  1.12 1.117 1.116 1.114 1.112 1.109 1.108\n",
       "Proportion of Variance 0.000 0.000  0.00 0.000 0.000 0.000 0.000 0.000 0.000\n",
       "Cumulative Proportion  1.000 1.000  1.00 1.000 1.000 1.000 1.000 1.000 1.000\n",
       "                       PC940 PC941 PC942 PC943 PC944 PC945 PC946 PC947 PC948\n",
       "Standard deviation     1.106 1.106 1.105 1.102 1.099 1.098 1.097 1.096 1.094\n",
       "Proportion of Variance 0.000 0.000 0.000 0.000 0.000 0.000 0.000 0.000 0.000\n",
       "Cumulative Proportion  1.000 1.000 1.000 1.000 1.000 1.000 1.000 1.000 1.000\n",
       "                       PC949 PC950 PC951 PC952 PC953 PC954 PC955 PC956 PC957\n",
       "Standard deviation     1.094 1.091 1.089 1.086 1.084 1.082 1.082 1.079 1.077\n",
       "Proportion of Variance 0.000 0.000 0.000 0.000 0.000 0.000 0.000 0.000 0.000\n",
       "Cumulative Proportion  1.000 1.000 1.000 1.000 1.000 1.000 1.000 1.000 1.000\n",
       "                       PC958 PC959 PC960 PC961 PC962 PC963 PC964 PC965 PC966\n",
       "Standard deviation     1.076 1.076 1.075 1.074 1.071  1.07 1.069 1.066 1.064\n",
       "Proportion of Variance 0.000 0.000 0.000 0.000 0.000  0.00 0.000 0.000 0.000\n",
       "Cumulative Proportion  1.000 1.000 1.000 1.000 1.000  1.00 1.000 1.000 1.000\n",
       "                       PC967 PC968 PC969 PC970 PC971 PC972 PC973 PC974 PC975\n",
       "Standard deviation     1.062 1.061 1.059 1.057 1.054 1.053 1.052 1.049 1.048\n",
       "Proportion of Variance 0.000 0.000 0.000 0.000 0.000 0.000 0.000 0.000 0.000\n",
       "Cumulative Proportion  1.000 1.000 1.000 1.000 1.000 1.000 1.000 1.000 1.000\n",
       "                       PC976 PC977 PC978 PC979 PC980 PC981 PC982 PC983 PC984\n",
       "Standard deviation     1.046 1.045 1.044 1.043 1.042  1.04 1.039 1.038 1.037\n",
       "Proportion of Variance 0.000 0.000 0.000 0.000 0.000  0.00 0.000 0.000 0.000\n",
       "Cumulative Proportion  1.000 1.000 1.000 1.000 1.000  1.00 1.000 1.000 1.000\n",
       "                       PC985 PC986 PC987 PC988 PC989 PC990 PC991 PC992 PC993\n",
       "Standard deviation     1.036 1.033 1.032  1.03 1.028 1.025 1.023 1.022  1.02\n",
       "Proportion of Variance 0.000 0.000 0.000  0.00 0.000 0.000 0.000 0.000  0.00\n",
       "Cumulative Proportion  1.000 1.000 1.000  1.00 1.000 1.000 1.000 1.000  1.00\n",
       "                       PC994 PC995 PC996 PC997 PC998 PC999 PC1000 PC1001 PC1002\n",
       "Standard deviation      1.02 1.017 1.017 1.015 1.013 1.011  1.011  1.009  1.007\n",
       "Proportion of Variance  0.00 0.000 0.000 0.000 0.000 0.000  0.000  0.000  0.000\n",
       "Cumulative Proportion   1.00 1.000 1.000 1.000 1.000 1.000  1.000  1.000  1.000\n",
       "                       PC1003 PC1004 PC1005 PC1006 PC1007 PC1008 PC1009 PC1010\n",
       "Standard deviation      1.006  1.004      1 0.9998 0.9984 0.9973 0.9966 0.9946\n",
       "Proportion of Variance  0.000  0.000      0 0.0000 0.0000 0.0000 0.0000 0.0000\n",
       "Cumulative Proportion   1.000  1.000      1 1.0000 1.0000 1.0000 1.0000 1.0000\n",
       "                       PC1011 PC1012 PC1013 PC1014 PC1015 PC1016 PC1017 PC1018\n",
       "Standard deviation     0.9921 0.9913 0.9911 0.9872  0.987 0.9853 0.9846 0.9823\n",
       "Proportion of Variance 0.0000 0.0000 0.0000 0.0000  0.000 0.0000 0.0000 0.0000\n",
       "Cumulative Proportion  1.0000 1.0000 1.0000 1.0000  1.000 1.0000 1.0000 1.0000\n",
       "                       PC1019 PC1020 PC1021 PC1022 PC1023 PC1024 PC1025 PC1026\n",
       "Standard deviation     0.9801 0.9799 0.9782 0.9773 0.9761 0.9751 0.9731 0.9706\n",
       "Proportion of Variance 0.0000 0.0000 0.0000 0.0000 0.0000 0.0000 0.0000 0.0000\n",
       "Cumulative Proportion  1.0000 1.0000 1.0000 1.0000 1.0000 1.0000 1.0000 1.0000\n",
       "                       PC1027 PC1028 PC1029 PC1030 PC1031 PC1032 PC1033 PC1034\n",
       "Standard deviation     0.9702 0.9675 0.9672 0.9669 0.9654 0.9631 0.9619 0.9601\n",
       "Proportion of Variance 0.0000 0.0000 0.0000 0.0000 0.0000 0.0000 0.0000 0.0000\n",
       "Cumulative Proportion  1.0000 1.0000 1.0000 1.0000 1.0000 1.0000 1.0000 1.0000\n",
       "                       PC1035 PC1036 PC1037 PC1038 PC1039 PC1040 PC1041 PC1042\n",
       "Standard deviation     0.9592 0.9573 0.9564 0.9556 0.9538 0.9518 0.9504 0.9488\n",
       "Proportion of Variance 0.0000 0.0000 0.0000 0.0000 0.0000 0.0000 0.0000 0.0000\n",
       "Cumulative Proportion  1.0000 1.0000 1.0000 1.0000 1.0000 1.0000 1.0000 1.0000\n",
       "                       PC1043 PC1044 PC1045 PC1046 PC1047 PC1048 PC1049 PC1050\n",
       "Standard deviation     0.9473 0.9466 0.9453 0.9433 0.9427 0.9396  0.939  0.938\n",
       "Proportion of Variance 0.0000 0.0000 0.0000 0.0000 0.0000 0.0000  0.000  0.000\n",
       "Cumulative Proportion  1.0000 1.0000 1.0000 1.0000 1.0000 1.0000  1.000  1.000\n",
       "                       PC1051 PC1052 PC1053 PC1054 PC1055 PC1056 PC1057 PC1058\n",
       "Standard deviation     0.9349 0.9344 0.9321 0.9315 0.9297 0.9292  0.928 0.9277\n",
       "Proportion of Variance 0.0000 0.0000 0.0000 0.0000 0.0000 0.0000  0.000 0.0000\n",
       "Cumulative Proportion  1.0000 1.0000 1.0000 1.0000 1.0000 1.0000  1.000 1.0000\n",
       "                       PC1059 PC1060 PC1061 PC1062 PC1063 PC1064 PC1065 PC1066\n",
       "Standard deviation     0.9269  0.925 0.9236 0.9214 0.9195 0.9189 0.9178 0.9163\n",
       "Proportion of Variance 0.0000  0.000 0.0000 0.0000 0.0000 0.0000 0.0000 0.0000\n",
       "Cumulative Proportion  1.0000  1.000 1.0000 1.0000 1.0000 1.0000 1.0000 1.0000\n",
       "                       PC1067 PC1068 PC1069 PC1070 PC1071 PC1072 PC1073 PC1074\n",
       "Standard deviation     0.9153 0.9137  0.913 0.9109 0.9106 0.9092  0.908 0.9063\n",
       "Proportion of Variance 0.0000 0.0000  0.000 0.0000 0.0000 0.0000  0.000 0.0000\n",
       "Cumulative Proportion  1.0000 1.0000  1.000 1.0000 1.0000 1.0000  1.000 1.0000\n",
       "                       PC1075 PC1076 PC1077 PC1078 PC1079 PC1080 PC1081 PC1082\n",
       "Standard deviation     0.9054 0.9042 0.9014 0.9004 0.8996  0.898 0.8973 0.8969\n",
       "Proportion of Variance 0.0000 0.0000 0.0000 0.0000 0.0000  0.000 0.0000 0.0000\n",
       "Cumulative Proportion  1.0000 1.0000 1.0000 1.0000 1.0000  1.000 1.0000 1.0000\n",
       "                       PC1083 PC1084 PC1085 PC1086 PC1087 PC1088 PC1089 PC1090\n",
       "Standard deviation      0.895  0.894 0.8926 0.8915 0.8907  0.889 0.8883 0.8877\n",
       "Proportion of Variance  0.000  0.000 0.0000 0.0000 0.0000  0.000 0.0000 0.0000\n",
       "Cumulative Proportion   1.000  1.000 1.0000 1.0000 1.0000  1.000 1.0000 1.0000\n",
       "                       PC1091 PC1092 PC1093 PC1094 PC1095 PC1096 PC1097 PC1098\n",
       "Standard deviation     0.8869 0.8839 0.8831 0.8812 0.8804 0.8795  0.879 0.8774\n",
       "Proportion of Variance 0.0000 0.0000 0.0000 0.0000 0.0000 0.0000  0.000 0.0000\n",
       "Cumulative Proportion  1.0000 1.0000 1.0000 1.0000 1.0000 1.0000  1.000 1.0000\n",
       "                       PC1099 PC1100 PC1101 PC1102 PC1103 PC1104 PC1105 PC1106\n",
       "Standard deviation     0.8769 0.8753 0.8742 0.8738 0.8716 0.8712 0.8694 0.8685\n",
       "Proportion of Variance 0.0000 0.0000 0.0000 0.0000 0.0000 0.0000 0.0000 0.0000\n",
       "Cumulative Proportion  1.0000 1.0000 1.0000 1.0000 1.0000 1.0000 1.0000 1.0000\n",
       "                       PC1107 PC1108 PC1109 PC1110 PC1111 PC1112 PC1113 PC1114\n",
       "Standard deviation     0.8676 0.8664 0.8658 0.8641 0.8631 0.8613 0.8609 0.8601\n",
       "Proportion of Variance 0.0000 0.0000 0.0000 0.0000 0.0000 0.0000 0.0000 0.0000\n",
       "Cumulative Proportion  1.0000 1.0000 1.0000 1.0000 1.0000 1.0000 1.0000 1.0000\n",
       "                       PC1115 PC1116 PC1117 PC1118 PC1119 PC1120 PC1121 PC1122\n",
       "Standard deviation     0.8585  0.858 0.8575 0.8557 0.8543 0.8538 0.8522 0.8519\n",
       "Proportion of Variance 0.0000  0.000 0.0000 0.0000 0.0000 0.0000 0.0000 0.0000\n",
       "Cumulative Proportion  1.0000  1.000 1.0000 1.0000 1.0000 1.0000 1.0000 1.0000\n",
       "                       PC1123 PC1124 PC1125 PC1126 PC1127 PC1128 PC1129 PC1130\n",
       "Standard deviation     0.8499 0.8493 0.8483 0.8465 0.8459 0.8451 0.8432 0.8427\n",
       "Proportion of Variance 0.0000 0.0000 0.0000 0.0000 0.0000 0.0000 0.0000 0.0000\n",
       "Cumulative Proportion  1.0000 1.0000 1.0000 1.0000 1.0000 1.0000 1.0000 1.0000\n",
       "                       PC1131 PC1132 PC1133 PC1134 PC1135 PC1136 PC1137 PC1138\n",
       "Standard deviation     0.8411 0.8408 0.8392 0.8376 0.8373 0.8362 0.8347 0.8343\n",
       "Proportion of Variance 0.0000 0.0000 0.0000 0.0000 0.0000 0.0000 0.0000 0.0000\n",
       "Cumulative Proportion  1.0000 1.0000 1.0000 1.0000 1.0000 1.0000 1.0000 1.0000\n",
       "                       PC1139 PC1140 PC1141 PC1142 PC1143 PC1144 PC1145 PC1146\n",
       "Standard deviation      0.832 0.8314 0.8285 0.8274  0.827 0.8268 0.8256 0.8246\n",
       "Proportion of Variance  0.000 0.0000 0.0000 0.0000  0.000 0.0000 0.0000 0.0000\n",
       "Cumulative Proportion   1.000 1.0000 1.0000 1.0000  1.000 1.0000 1.0000 1.0000\n",
       "                       PC1147 PC1148 PC1149 PC1150 PC1151 PC1152 PC1153 PC1154\n",
       "Standard deviation     0.8238 0.8231 0.8226 0.8202 0.8195 0.8185 0.8172 0.8166\n",
       "Proportion of Variance 0.0000 0.0000 0.0000 0.0000 0.0000 0.0000 0.0000 0.0000\n",
       "Cumulative Proportion  1.0000 1.0000 1.0000 1.0000 1.0000 1.0000 1.0000 1.0000\n",
       "                       PC1155 PC1156 PC1157 PC1158 PC1159 PC1160 PC1161 PC1162\n",
       "Standard deviation     0.8151 0.8148  0.813 0.8126 0.8107 0.8099 0.8092 0.8086\n",
       "Proportion of Variance 0.0000 0.0000  0.000 0.0000 0.0000 0.0000 0.0000 0.0000\n",
       "Cumulative Proportion  1.0000 1.0000  1.000 1.0000 1.0000 1.0000 1.0000 1.0000\n",
       "                       PC1163 PC1164 PC1165 PC1166 PC1167 PC1168 PC1169 PC1170\n",
       "Standard deviation     0.8063 0.8057 0.8042  0.804 0.8033 0.8028 0.8016 0.8005\n",
       "Proportion of Variance 0.0000 0.0000 0.0000  0.000 0.0000 0.0000 0.0000 0.0000\n",
       "Cumulative Proportion  1.0000 1.0000 1.0000  1.000 1.0000 1.0000 1.0000 1.0000\n",
       "                       PC1171 PC1172 PC1173 PC1174 PC1175 PC1176 PC1177 PC1178\n",
       "Standard deviation     0.7993 0.7983 0.7965 0.7961 0.7954 0.7948 0.7928 0.7919\n",
       "Proportion of Variance 0.0000 0.0000 0.0000 0.0000 0.0000 0.0000 0.0000 0.0000\n",
       "Cumulative Proportion  1.0000 1.0000 1.0000 1.0000 1.0000 1.0000 1.0000 1.0000\n",
       "                       PC1179 PC1180 PC1181 PC1182 PC1183 PC1184 PC1185 PC1186\n",
       "Standard deviation     0.7915 0.7903 0.7888 0.7876 0.7864 0.7862 0.7839 0.7829\n",
       "Proportion of Variance 0.0000 0.0000 0.0000 0.0000 0.0000 0.0000 0.0000 0.0000\n",
       "Cumulative Proportion  1.0000 1.0000 1.0000 1.0000 1.0000 1.0000 1.0000 1.0000\n",
       "                       PC1187 PC1188 PC1189 PC1190 PC1191 PC1192 PC1193 PC1194\n",
       "Standard deviation     0.7824 0.7821 0.7813 0.7801 0.7795 0.7782 0.7774 0.7765\n",
       "Proportion of Variance 0.0000 0.0000 0.0000 0.0000 0.0000 0.0000 0.0000 0.0000\n",
       "Cumulative Proportion  1.0000 1.0000 1.0000 1.0000 1.0000 1.0000 1.0000 1.0000\n",
       "                       PC1195 PC1196 PC1197 PC1198 PC1199 PC1200 PC1201 PC1202\n",
       "Standard deviation     0.7758 0.7745 0.7742 0.7735 0.7709 0.7702 0.7693 0.7691\n",
       "Proportion of Variance 0.0000 0.0000 0.0000 0.0000 0.0000 0.0000 0.0000 0.0000\n",
       "Cumulative Proportion  1.0000 1.0000 1.0000 1.0000 1.0000 1.0000 1.0000 1.0000\n",
       "                       PC1203 PC1204 PC1205 PC1206 PC1207 PC1208 PC1209 PC1210\n",
       "Standard deviation     0.7684 0.7673 0.7653 0.7652 0.7641 0.7632 0.7619 0.7612\n",
       "Proportion of Variance 0.0000 0.0000 0.0000 0.0000 0.0000 0.0000 0.0000 0.0000\n",
       "Cumulative Proportion  1.0000 1.0000 1.0000 1.0000 1.0000 1.0000 1.0000 1.0000\n",
       "                       PC1211 PC1212 PC1213 PC1214 PC1215 PC1216 PC1217 PC1218\n",
       "Standard deviation     0.7605 0.7601 0.7589 0.7581 0.7568 0.7563 0.7551 0.7548\n",
       "Proportion of Variance 0.0000 0.0000 0.0000 0.0000 0.0000 0.0000 0.0000 0.0000\n",
       "Cumulative Proportion  1.0000 1.0000 1.0000 1.0000 1.0000 1.0000 1.0000 1.0000\n",
       "                       PC1219 PC1220 PC1221 PC1222 PC1223 PC1224 PC1225 PC1226\n",
       "Standard deviation     0.7544  0.753 0.7522 0.7518 0.7509 0.7492 0.7488 0.7484\n",
       "Proportion of Variance 0.0000  0.000 0.0000 0.0000 0.0000 0.0000 0.0000 0.0000\n",
       "Cumulative Proportion  1.0000  1.000 1.0000 1.0000 1.0000 1.0000 1.0000 1.0000\n",
       "                       PC1227 PC1228 PC1229 PC1230 PC1231 PC1232 PC1233 PC1234\n",
       "Standard deviation     0.7474  0.747 0.7462 0.7456 0.7445 0.7429 0.7411 0.7411\n",
       "Proportion of Variance 0.0000  0.000 0.0000 0.0000 0.0000 0.0000 0.0000 0.0000\n",
       "Cumulative Proportion  1.0000  1.000 1.0000 1.0000 1.0000 1.0000 1.0000 1.0000\n",
       "                       PC1235 PC1236 PC1237 PC1238 PC1239 PC1240 PC1241 PC1242\n",
       "Standard deviation     0.7403 0.7387 0.7385 0.7373 0.7363  0.736 0.7348 0.7341\n",
       "Proportion of Variance 0.0000 0.0000 0.0000 0.0000 0.0000  0.000 0.0000 0.0000\n",
       "Cumulative Proportion  1.0000 1.0000 1.0000 1.0000 1.0000  1.000 1.0000 1.0000\n",
       "                       PC1243 PC1244 PC1245 PC1246 PC1247 PC1248 PC1249 PC1250\n",
       "Standard deviation     0.7335 0.7325 0.7319 0.7308 0.7291 0.7289 0.7272 0.7264\n",
       "Proportion of Variance 0.0000 0.0000 0.0000 0.0000 0.0000 0.0000 0.0000 0.0000\n",
       "Cumulative Proportion  1.0000 1.0000 1.0000 1.0000 1.0000 1.0000 1.0000 1.0000\n",
       "                       PC1251 PC1252 PC1253 PC1254 PC1255 PC1256 PC1257 PC1258\n",
       "Standard deviation     0.7253  0.725 0.7239 0.7227 0.7216 0.7203 0.7199 0.7191\n",
       "Proportion of Variance 0.0000  0.000 0.0000 0.0000 0.0000 0.0000 0.0000 0.0000\n",
       "Cumulative Proportion  1.0000  1.000 1.0000 1.0000 1.0000 1.0000 1.0000 1.0000\n",
       "                       PC1259 PC1260 PC1261 PC1262 PC1263 PC1264 PC1265 PC1266\n",
       "Standard deviation     0.7185 0.7174 0.7169 0.7159 0.7148 0.7141 0.7138 0.7131\n",
       "Proportion of Variance 0.0000 0.0000 0.0000 0.0000 0.0000 0.0000 0.0000 0.0000\n",
       "Cumulative Proportion  1.0000 1.0000 1.0000 1.0000 1.0000 1.0000 1.0000 1.0000\n",
       "                       PC1267 PC1268 PC1269 PC1270 PC1271 PC1272 PC1273 PC1274\n",
       "Standard deviation     0.7123 0.7119 0.7107 0.7102 0.7095 0.7088 0.7076 0.7075\n",
       "Proportion of Variance 0.0000 0.0000 0.0000 0.0000 0.0000 0.0000 0.0000 0.0000\n",
       "Cumulative Proportion  1.0000 1.0000 1.0000 1.0000 1.0000 1.0000 1.0000 1.0000\n",
       "                       PC1275 PC1276 PC1277 PC1278 PC1279 PC1280 PC1281 PC1282\n",
       "Standard deviation     0.7062 0.7055 0.7042 0.7038 0.7023 0.7012 0.7001    0.7\n",
       "Proportion of Variance 0.0000 0.0000 0.0000 0.0000 0.0000 0.0000 0.0000    0.0\n",
       "Cumulative Proportion  1.0000 1.0000 1.0000 1.0000 1.0000 1.0000 1.0000    1.0\n",
       "                       PC1283 PC1284 PC1285 PC1286 PC1287 PC1288 PC1289 PC1290\n",
       "Standard deviation     0.6993 0.6987 0.6975 0.6964 0.6958 0.6955 0.6953  0.695\n",
       "Proportion of Variance 0.0000 0.0000 0.0000 0.0000 0.0000 0.0000 0.0000  0.000\n",
       "Cumulative Proportion  1.0000 1.0000 1.0000 1.0000 1.0000 1.0000 1.0000  1.000\n",
       "                       PC1291 PC1292 PC1293 PC1294 PC1295 PC1296 PC1297 PC1298\n",
       "Standard deviation      0.693 0.6921 0.6913 0.6904   0.69 0.6893 0.6888 0.6873\n",
       "Proportion of Variance  0.000 0.0000 0.0000 0.0000   0.00 0.0000 0.0000 0.0000\n",
       "Cumulative Proportion   1.000 1.0000 1.0000 1.0000   1.00 1.0000 1.0000 1.0000\n",
       "                       PC1299 PC1300 PC1301 PC1302 PC1303 PC1304 PC1305 PC1306\n",
       "Standard deviation     0.6872 0.6866 0.6863  0.685 0.6849 0.6838 0.6835 0.6823\n",
       "Proportion of Variance 0.0000 0.0000 0.0000  0.000 0.0000 0.0000 0.0000 0.0000\n",
       "Cumulative Proportion  1.0000 1.0000 1.0000  1.000 1.0000 1.0000 1.0000 1.0000\n",
       "                       PC1307 PC1308 PC1309 PC1310 PC1311 PC1312 PC1313 PC1314\n",
       "Standard deviation      0.682 0.6814 0.6804 0.6797 0.6788 0.6785 0.6777 0.6773\n",
       "Proportion of Variance  0.000 0.0000 0.0000 0.0000 0.0000 0.0000 0.0000 0.0000\n",
       "Cumulative Proportion   1.000 1.0000 1.0000 1.0000 1.0000 1.0000 1.0000 1.0000\n",
       "                       PC1315 PC1316 PC1317 PC1318 PC1319 PC1320 PC1321 PC1322\n",
       "Standard deviation     0.6753 0.6746 0.6742 0.6737 0.6731 0.6724 0.6721 0.6704\n",
       "Proportion of Variance 0.0000 0.0000 0.0000 0.0000 0.0000 0.0000 0.0000 0.0000\n",
       "Cumulative Proportion  1.0000 1.0000 1.0000 1.0000 1.0000 1.0000 1.0000 1.0000\n",
       "                       PC1323 PC1324 PC1325 PC1326 PC1327 PC1328 PC1329 PC1330\n",
       "Standard deviation     0.6698 0.6697 0.6681  0.668 0.6673 0.6669 0.6658 0.6654\n",
       "Proportion of Variance 0.0000 0.0000 0.0000  0.000 0.0000 0.0000 0.0000 0.0000\n",
       "Cumulative Proportion  1.0000 1.0000 1.0000  1.000 1.0000 1.0000 1.0000 1.0000\n",
       "                       PC1331 PC1332 PC1333 PC1334 PC1335 PC1336 PC1337 PC1338\n",
       "Standard deviation     0.6644 0.6634 0.6624 0.6623 0.6614 0.6609 0.6603 0.6598\n",
       "Proportion of Variance 0.0000 0.0000 0.0000 0.0000 0.0000 0.0000 0.0000 0.0000\n",
       "Cumulative Proportion  1.0000 1.0000 1.0000 1.0000 1.0000 1.0000 1.0000 1.0000\n",
       "                       PC1339 PC1340 PC1341 PC1342 PC1343 PC1344 PC1345 PC1346\n",
       "Standard deviation     0.6592 0.6589 0.6581 0.6572 0.6564 0.6559 0.6548  0.654\n",
       "Proportion of Variance 0.0000 0.0000 0.0000 0.0000 0.0000 0.0000 0.0000  0.000\n",
       "Cumulative Proportion  1.0000 1.0000 1.0000 1.0000 1.0000 1.0000 1.0000  1.000\n",
       "                       PC1347 PC1348 PC1349 PC1350 PC1351 PC1352 PC1353 PC1354\n",
       "Standard deviation     0.6532 0.6524 0.6519 0.6514 0.6503 0.6499 0.6487 0.6482\n",
       "Proportion of Variance 0.0000 0.0000 0.0000 0.0000 0.0000 0.0000 0.0000 0.0000\n",
       "Cumulative Proportion  1.0000 1.0000 1.0000 1.0000 1.0000 1.0000 1.0000 1.0000\n",
       "                       PC1355 PC1356 PC1357 PC1358 PC1359 PC1360 PC1361 PC1362\n",
       "Standard deviation     0.6475 0.6471 0.6458 0.6457 0.6456  0.645 0.6437 0.6428\n",
       "Proportion of Variance 0.0000 0.0000 0.0000 0.0000 0.0000  0.000 0.0000 0.0000\n",
       "Cumulative Proportion  1.0000 1.0000 1.0000 1.0000 1.0000  1.000 1.0000 1.0000\n",
       "                       PC1363 PC1364 PC1365 PC1366 PC1367 PC1368 PC1369 PC1370\n",
       "Standard deviation     0.6422  0.642 0.6414 0.6401 0.6397 0.6388 0.6383 0.6381\n",
       "Proportion of Variance 0.0000  0.000 0.0000 0.0000 0.0000 0.0000 0.0000 0.0000\n",
       "Cumulative Proportion  1.0000  1.000 1.0000 1.0000 1.0000 1.0000 1.0000 1.0000\n",
       "                       PC1371 PC1372 PC1373 PC1374 PC1375 PC1376 PC1377 PC1378\n",
       "Standard deviation     0.6376 0.6372 0.6363 0.6359 0.6352 0.6346 0.6339 0.6332\n",
       "Proportion of Variance 0.0000 0.0000 0.0000 0.0000 0.0000 0.0000 0.0000 0.0000\n",
       "Cumulative Proportion  1.0000 1.0000 1.0000 1.0000 1.0000 1.0000 1.0000 1.0000\n",
       "                       PC1379 PC1380 PC1381 PC1382 PC1383 PC1384 PC1385 PC1386\n",
       "Standard deviation     0.6325 0.6321 0.6315 0.6302 0.6299 0.6291 0.6285 0.6279\n",
       "Proportion of Variance 0.0000 0.0000 0.0000 0.0000 0.0000 0.0000 0.0000 0.0000\n",
       "Cumulative Proportion  1.0000 1.0000 1.0000 1.0000 1.0000 1.0000 1.0000 1.0000\n",
       "                       PC1387 PC1388 PC1389 PC1390 PC1391 PC1392 PC1393 PC1394\n",
       "Standard deviation     0.6273  0.627 0.6265 0.6264 0.6256 0.6245 0.6234  0.623\n",
       "Proportion of Variance 0.0000  0.000 0.0000 0.0000 0.0000 0.0000 0.0000  0.000\n",
       "Cumulative Proportion  1.0000  1.000 1.0000 1.0000 1.0000 1.0000 1.0000  1.000\n",
       "                       PC1395 PC1396 PC1397 PC1398 PC1399 PC1400 PC1401 PC1402\n",
       "Standard deviation     0.6228 0.6225 0.6219 0.6214 0.6201 0.6197 0.6192 0.6185\n",
       "Proportion of Variance 0.0000 0.0000 0.0000 0.0000 0.0000 0.0000 0.0000 0.0000\n",
       "Cumulative Proportion  1.0000 1.0000 1.0000 1.0000 1.0000 1.0000 1.0000 1.0000\n",
       "                       PC1403 PC1404 PC1405 PC1406 PC1407 PC1408 PC1409 PC1410\n",
       "Standard deviation     0.6177 0.6173 0.6167 0.6162 0.6151 0.6147 0.6142  0.614\n",
       "Proportion of Variance 0.0000 0.0000 0.0000 0.0000 0.0000 0.0000 0.0000  0.000\n",
       "Cumulative Proportion  1.0000 1.0000 1.0000 1.0000 1.0000 1.0000 1.0000  1.000\n",
       "                       PC1411 PC1412 PC1413 PC1414 PC1415 PC1416 PC1417 PC1418\n",
       "Standard deviation      0.613  0.612 0.6113 0.6107 0.6103 0.6101 0.6089 0.6084\n",
       "Proportion of Variance  0.000  0.000 0.0000 0.0000 0.0000 0.0000 0.0000 0.0000\n",
       "Cumulative Proportion   1.000  1.000 1.0000 1.0000 1.0000 1.0000 1.0000 1.0000\n",
       "                       PC1419 PC1420 PC1421 PC1422 PC1423 PC1424 PC1425 PC1426\n",
       "Standard deviation     0.6082 0.6071 0.6067 0.6062 0.6056  0.605 0.6044 0.6038\n",
       "Proportion of Variance 0.0000 0.0000 0.0000 0.0000 0.0000  0.000 0.0000 0.0000\n",
       "Cumulative Proportion  1.0000 1.0000 1.0000 1.0000 1.0000  1.000 1.0000 1.0000\n",
       "                       PC1427 PC1428 PC1429 PC1430 PC1431 PC1432 PC1433 PC1434\n",
       "Standard deviation     0.6027 0.6026 0.6024 0.6013 0.6006 0.6002 0.5997 0.5992\n",
       "Proportion of Variance 0.0000 0.0000 0.0000 0.0000 0.0000 0.0000 0.0000 0.0000\n",
       "Cumulative Proportion  1.0000 1.0000 1.0000 1.0000 1.0000 1.0000 1.0000 1.0000\n",
       "                       PC1435 PC1436 PC1437 PC1438 PC1439 PC1440 PC1441 PC1442\n",
       "Standard deviation     0.5989 0.5984 0.5976 0.5973 0.5969 0.5961 0.5955 0.5943\n",
       "Proportion of Variance 0.0000 0.0000 0.0000 0.0000 0.0000 0.0000 0.0000 0.0000\n",
       "Cumulative Proportion  1.0000 1.0000 1.0000 1.0000 1.0000 1.0000 1.0000 1.0000\n",
       "                       PC1443 PC1444 PC1445 PC1446 PC1447 PC1448 PC1449 PC1450\n",
       "Standard deviation     0.5942 0.5938 0.5931 0.5929  0.592 0.5913  0.591 0.5904\n",
       "Proportion of Variance 0.0000 0.0000 0.0000 0.0000  0.000 0.0000  0.000 0.0000\n",
       "Cumulative Proportion  1.0000 1.0000 1.0000 1.0000  1.000 1.0000  1.000 1.0000\n",
       "                       PC1451 PC1452 PC1453 PC1454 PC1455 PC1456 PC1457 PC1458\n",
       "Standard deviation     0.5898 0.5896  0.589 0.5885 0.5878 0.5875 0.5874 0.5863\n",
       "Proportion of Variance 0.0000 0.0000  0.000 0.0000 0.0000 0.0000 0.0000 0.0000\n",
       "Cumulative Proportion  1.0000 1.0000  1.000 1.0000 1.0000 1.0000 1.0000 1.0000\n",
       "                       PC1459 PC1460 PC1461 PC1462 PC1463 PC1464 PC1465 PC1466\n",
       "Standard deviation     0.5856 0.5849 0.5847 0.5837 0.5834 0.5829 0.5822 0.5817\n",
       "Proportion of Variance 0.0000 0.0000 0.0000 0.0000 0.0000 0.0000 0.0000 0.0000\n",
       "Cumulative Proportion  1.0000 1.0000 1.0000 1.0000 1.0000 1.0000 1.0000 1.0000\n",
       "                       PC1467 PC1468 PC1469 PC1470 PC1471 PC1472 PC1473 PC1474\n",
       "Standard deviation     0.5806 0.5803   0.58 0.5795 0.5792 0.5783 0.5777 0.5769\n",
       "Proportion of Variance 0.0000 0.0000   0.00 0.0000 0.0000 0.0000 0.0000 0.0000\n",
       "Cumulative Proportion  1.0000 1.0000   1.00 1.0000 1.0000 1.0000 1.0000 1.0000\n",
       "                       PC1475 PC1476 PC1477 PC1478 PC1479 PC1480 PC1481 PC1482\n",
       "Standard deviation     0.5765 0.5761 0.5754 0.5744  0.574 0.5735 0.5734 0.5726\n",
       "Proportion of Variance 0.0000 0.0000 0.0000 0.0000  0.000 0.0000 0.0000 0.0000\n",
       "Cumulative Proportion  1.0000 1.0000 1.0000 1.0000  1.000 1.0000 1.0000 1.0000\n",
       "                       PC1483 PC1484 PC1485 PC1486 PC1487 PC1488 PC1489 PC1490\n",
       "Standard deviation     0.5721 0.5717 0.5712 0.5706 0.5702 0.5699 0.5694 0.5688\n",
       "Proportion of Variance 0.0000 0.0000 0.0000 0.0000 0.0000 0.0000 0.0000 0.0000\n",
       "Cumulative Proportion  1.0000 1.0000 1.0000 1.0000 1.0000 1.0000 1.0000 1.0000\n",
       "                       PC1491 PC1492 PC1493 PC1494 PC1495 PC1496 PC1497 PC1498\n",
       "Standard deviation     0.5678 0.5674 0.5672 0.5667 0.5661 0.5658 0.5654 0.5642\n",
       "Proportion of Variance 0.0000 0.0000 0.0000 0.0000 0.0000 0.0000 0.0000 0.0000\n",
       "Cumulative Proportion  1.0000 1.0000 1.0000 1.0000 1.0000 1.0000 1.0000 1.0000\n",
       "                       PC1499 PC1500 PC1501 PC1502 PC1503 PC1504 PC1505 PC1506\n",
       "Standard deviation     0.5639 0.5634 0.5631 0.5621 0.5616 0.5613 0.5609 0.5603\n",
       "Proportion of Variance 0.0000 0.0000 0.0000 0.0000 0.0000 0.0000 0.0000 0.0000\n",
       "Cumulative Proportion  1.0000 1.0000 1.0000 1.0000 1.0000 1.0000 1.0000 1.0000\n",
       "                       PC1507 PC1508 PC1509 PC1510 PC1511 PC1512 PC1513 PC1514\n",
       "Standard deviation     0.5597 0.5593 0.5589 0.5582 0.5577 0.5571 0.5571 0.5569\n",
       "Proportion of Variance 0.0000 0.0000 0.0000 0.0000 0.0000 0.0000 0.0000 0.0000\n",
       "Cumulative Proportion  1.0000 1.0000 1.0000 1.0000 1.0000 1.0000 1.0000 1.0000\n",
       "                       PC1515 PC1516 PC1517 PC1518 PC1519 PC1520 PC1521 PC1522\n",
       "Standard deviation     0.5562 0.5558 0.5552 0.5543 0.5537 0.5532 0.5527 0.5521\n",
       "Proportion of Variance 0.0000 0.0000 0.0000 0.0000 0.0000 0.0000 0.0000 0.0000\n",
       "Cumulative Proportion  1.0000 1.0000 1.0000 1.0000 1.0000 1.0000 1.0000 1.0000\n",
       "                       PC1523 PC1524 PC1525 PC1526 PC1527 PC1528 PC1529 PC1530\n",
       "Standard deviation     0.5517 0.5513 0.5508 0.5505 0.5501 0.5492  0.549 0.5484\n",
       "Proportion of Variance 0.0000 0.0000 0.0000 0.0000 0.0000 0.0000  0.000 0.0000\n",
       "Cumulative Proportion  1.0000 1.0000 1.0000 1.0000 1.0000 1.0000  1.000 1.0000\n",
       "                       PC1531 PC1532 PC1533 PC1534 PC1535 PC1536 PC1537 PC1538\n",
       "Standard deviation     0.5483 0.5473 0.5469 0.5464  0.546 0.5457 0.5448 0.5446\n",
       "Proportion of Variance 0.0000 0.0000 0.0000 0.0000  0.000 0.0000 0.0000 0.0000\n",
       "Cumulative Proportion  1.0000 1.0000 1.0000 1.0000  1.000 1.0000 1.0000 1.0000\n",
       "                       PC1539 PC1540 PC1541 PC1542 PC1543 PC1544 PC1545 PC1546\n",
       "Standard deviation     0.5444 0.5435 0.5433 0.5431 0.5423 0.5421 0.5416 0.5413\n",
       "Proportion of Variance 0.0000 0.0000 0.0000 0.0000 0.0000 0.0000 0.0000 0.0000\n",
       "Cumulative Proportion  1.0000 1.0000 1.0000 1.0000 1.0000 1.0000 1.0000 1.0000\n",
       "                       PC1547 PC1548 PC1549 PC1550 PC1551 PC1552 PC1553 PC1554\n",
       "Standard deviation     0.5411 0.5403 0.5397 0.5394 0.5387 0.5384  0.538 0.5375\n",
       "Proportion of Variance 0.0000 0.0000 0.0000 0.0000 0.0000 0.0000  0.000 0.0000\n",
       "Cumulative Proportion  1.0000 1.0000 1.0000 1.0000 1.0000 1.0000  1.000 1.0000\n",
       "                       PC1555 PC1556 PC1557 PC1558 PC1559 PC1560 PC1561 PC1562\n",
       "Standard deviation     0.5369 0.5368 0.5361 0.5355  0.535 0.5347 0.5342 0.5339\n",
       "Proportion of Variance 0.0000 0.0000 0.0000 0.0000  0.000 0.0000 0.0000 0.0000\n",
       "Cumulative Proportion  1.0000 1.0000 1.0000 1.0000  1.000 1.0000 1.0000 1.0000\n",
       "                       PC1563 PC1564 PC1565 PC1566 PC1567 PC1568 PC1569 PC1570\n",
       "Standard deviation     0.5329 0.5327 0.5325 0.5321 0.5319 0.5318 0.5312 0.5306\n",
       "Proportion of Variance 0.0000 0.0000 0.0000 0.0000 0.0000 0.0000 0.0000 0.0000\n",
       "Cumulative Proportion  1.0000 1.0000 1.0000 1.0000 1.0000 1.0000 1.0000 1.0000\n",
       "                       PC1571 PC1572 PC1573 PC1574 PC1575 PC1576 PC1577 PC1578\n",
       "Standard deviation     0.5297 0.5292 0.5284 0.5281 0.5278 0.5274 0.5269 0.5264\n",
       "Proportion of Variance 0.0000 0.0000 0.0000 0.0000 0.0000 0.0000 0.0000 0.0000\n",
       "Cumulative Proportion  1.0000 1.0000 1.0000 1.0000 1.0000 1.0000 1.0000 1.0000\n",
       "                       PC1579 PC1580 PC1581 PC1582 PC1583 PC1584 PC1585 PC1586\n",
       "Standard deviation     0.5262 0.5261 0.5255  0.525 0.5243 0.5242 0.5232 0.5226\n",
       "Proportion of Variance 0.0000 0.0000 0.0000  0.000 0.0000 0.0000 0.0000 0.0000\n",
       "Cumulative Proportion  1.0000 1.0000 1.0000  1.000 1.0000 1.0000 1.0000 1.0000\n",
       "                       PC1587 PC1588 PC1589 PC1590 PC1591 PC1592 PC1593 PC1594\n",
       "Standard deviation     0.5223 0.5221 0.5214 0.5213 0.5207 0.5203 0.5196 0.5193\n",
       "Proportion of Variance 0.0000 0.0000 0.0000 0.0000 0.0000 0.0000 0.0000 0.0000\n",
       "Cumulative Proportion  1.0000 1.0000 1.0000 1.0000 1.0000 1.0000 1.0000 1.0000\n",
       "                       PC1595 PC1596 PC1597 PC1598 PC1599 PC1600 PC1601 PC1602\n",
       "Standard deviation     0.5185 0.5182 0.5181 0.5173 0.5165 0.5163 0.5159 0.5154\n",
       "Proportion of Variance 0.0000 0.0000 0.0000 0.0000 0.0000 0.0000 0.0000 0.0000\n",
       "Cumulative Proportion  1.0000 1.0000 1.0000 1.0000 1.0000 1.0000 1.0000 1.0000\n",
       "                       PC1603 PC1604 PC1605 PC1606 PC1607 PC1608 PC1609 PC1610\n",
       "Standard deviation     0.5153  0.515 0.5145  0.514 0.5136 0.5131 0.5128 0.5122\n",
       "Proportion of Variance 0.0000  0.000 0.0000  0.000 0.0000 0.0000 0.0000 0.0000\n",
       "Cumulative Proportion  1.0000  1.000 1.0000  1.000 1.0000 1.0000 1.0000 1.0000\n",
       "                       PC1611 PC1612 PC1613 PC1614 PC1615 PC1616 PC1617 PC1618\n",
       "Standard deviation      0.512 0.5114 0.5113 0.5103 0.5098 0.5095 0.5092 0.5087\n",
       "Proportion of Variance  0.000 0.0000 0.0000 0.0000 0.0000 0.0000 0.0000 0.0000\n",
       "Cumulative Proportion   1.000 1.0000 1.0000 1.0000 1.0000 1.0000 1.0000 1.0000\n",
       "                       PC1619 PC1620 PC1621 PC1622 PC1623 PC1624 PC1625 PC1626\n",
       "Standard deviation     0.5081 0.5076 0.5072 0.5071 0.5065 0.5064 0.5056 0.5051\n",
       "Proportion of Variance 0.0000 0.0000 0.0000 0.0000 0.0000 0.0000 0.0000 0.0000\n",
       "Cumulative Proportion  1.0000 1.0000 1.0000 1.0000 1.0000 1.0000 1.0000 1.0000\n",
       "                       PC1627 PC1628 PC1629 PC1630 PC1631 PC1632 PC1633 PC1634\n",
       "Standard deviation     0.5048 0.5047 0.5042  0.504 0.5034 0.5026 0.5024 0.5019\n",
       "Proportion of Variance 0.0000 0.0000 0.0000  0.000 0.0000 0.0000 0.0000 0.0000\n",
       "Cumulative Proportion  1.0000 1.0000 1.0000  1.000 1.0000 1.0000 1.0000 1.0000\n",
       "                       PC1635 PC1636 PC1637 PC1638 PC1639 PC1640 PC1641 PC1642\n",
       "Standard deviation     0.5018 0.5011 0.5006 0.5005 0.4995 0.4991 0.4985 0.4984\n",
       "Proportion of Variance 0.0000 0.0000 0.0000 0.0000 0.0000 0.0000 0.0000 0.0000\n",
       "Cumulative Proportion  1.0000 1.0000 1.0000 1.0000 1.0000 1.0000 1.0000 1.0000\n",
       "                       PC1643 PC1644 PC1645 PC1646 PC1647 PC1648 PC1649 PC1650\n",
       "Standard deviation     0.4975 0.4972 0.4968 0.4964 0.4962  0.496 0.4951  0.495\n",
       "Proportion of Variance 0.0000 0.0000 0.0000 0.0000 0.0000  0.000 0.0000  0.000\n",
       "Cumulative Proportion  1.0000 1.0000 1.0000 1.0000 1.0000  1.000 1.0000  1.000\n",
       "                       PC1651 PC1652 PC1653 PC1654 PC1655 PC1656 PC1657 PC1658\n",
       "Standard deviation     0.4946 0.4941 0.4935 0.4933 0.4929 0.4923 0.4917 0.4913\n",
       "Proportion of Variance 0.0000 0.0000 0.0000 0.0000 0.0000 0.0000 0.0000 0.0000\n",
       "Cumulative Proportion  1.0000 1.0000 1.0000 1.0000 1.0000 1.0000 1.0000 1.0000\n",
       "                       PC1659 PC1660 PC1661 PC1662 PC1663 PC1664 PC1665 PC1666\n",
       "Standard deviation     0.4911 0.4908 0.4904 0.4898 0.4895 0.4889 0.4887 0.4879\n",
       "Proportion of Variance 0.0000 0.0000 0.0000 0.0000 0.0000 0.0000 0.0000 0.0000\n",
       "Cumulative Proportion  1.0000 1.0000 1.0000 1.0000 1.0000 1.0000 1.0000 1.0000\n",
       "                       PC1667 PC1668 PC1669 PC1670 PC1671 PC1672 PC1673 PC1674\n",
       "Standard deviation     0.4876 0.4872 0.4868 0.4866 0.4863 0.4857 0.4856 0.4853\n",
       "Proportion of Variance 0.0000 0.0000 0.0000 0.0000 0.0000 0.0000 0.0000 0.0000\n",
       "Cumulative Proportion  1.0000 1.0000 1.0000 1.0000 1.0000 1.0000 1.0000 1.0000\n",
       "                       PC1675 PC1676 PC1677 PC1678 PC1679 PC1680 PC1681 PC1682\n",
       "Standard deviation     0.4845 0.4839 0.4835 0.4832 0.4829 0.4826 0.4825 0.4817\n",
       "Proportion of Variance 0.0000 0.0000 0.0000 0.0000 0.0000 0.0000 0.0000 0.0000\n",
       "Cumulative Proportion  1.0000 1.0000 1.0000 1.0000 1.0000 1.0000 1.0000 1.0000\n",
       "                       PC1683 PC1684 PC1685 PC1686 PC1687 PC1688 PC1689 PC1690\n",
       "Standard deviation     0.4814 0.4813 0.4808 0.4805 0.4799 0.4798 0.4796  0.479\n",
       "Proportion of Variance 0.0000 0.0000 0.0000 0.0000 0.0000 0.0000 0.0000  0.000\n",
       "Cumulative Proportion  1.0000 1.0000 1.0000 1.0000 1.0000 1.0000 1.0000  1.000\n",
       "                       PC1691 PC1692 PC1693 PC1694 PC1695 PC1696 PC1697 PC1698\n",
       "Standard deviation     0.4787 0.4782 0.4777 0.4771 0.4768 0.4768 0.4762 0.4756\n",
       "Proportion of Variance 0.0000 0.0000 0.0000 0.0000 0.0000 0.0000 0.0000 0.0000\n",
       "Cumulative Proportion  1.0000 1.0000 1.0000 1.0000 1.0000 1.0000 1.0000 1.0000\n",
       "                       PC1699 PC1700 PC1701 PC1702 PC1703 PC1704 PC1705 PC1706\n",
       "Standard deviation     0.4752 0.4746 0.4744 0.4742 0.4733  0.473 0.4729 0.4721\n",
       "Proportion of Variance 0.0000 0.0000 0.0000 0.0000 0.0000  0.000 0.0000 0.0000\n",
       "Cumulative Proportion  1.0000 1.0000 1.0000 1.0000 1.0000  1.000 1.0000 1.0000\n",
       "                       PC1707 PC1708 PC1709 PC1710 PC1711 PC1712 PC1713 PC1714\n",
       "Standard deviation     0.4718 0.4715 0.4711 0.4705 0.4701 0.4701 0.4697 0.4688\n",
       "Proportion of Variance 0.0000 0.0000 0.0000 0.0000 0.0000 0.0000 0.0000 0.0000\n",
       "Cumulative Proportion  1.0000 1.0000 1.0000 1.0000 1.0000 1.0000 1.0000 1.0000\n",
       "                       PC1715 PC1716 PC1717 PC1718 PC1719 PC1720 PC1721 PC1722\n",
       "Standard deviation     0.4683  0.468 0.4679 0.4672 0.4664 0.4663 0.4661 0.4659\n",
       "Proportion of Variance 0.0000  0.000 0.0000 0.0000 0.0000 0.0000 0.0000 0.0000\n",
       "Cumulative Proportion  1.0000  1.000 1.0000 1.0000 1.0000 1.0000 1.0000 1.0000\n",
       "                       PC1723 PC1724 PC1725 PC1726 PC1727 PC1728 PC1729 PC1730\n",
       "Standard deviation     0.4654  0.465 0.4646 0.4643 0.4639  0.463 0.4629 0.4625\n",
       "Proportion of Variance 0.0000  0.000 0.0000 0.0000 0.0000  0.000 0.0000 0.0000\n",
       "Cumulative Proportion  1.0000  1.000 1.0000 1.0000 1.0000  1.000 1.0000 1.0000\n",
       "                       PC1731 PC1732 PC1733 PC1734 PC1735 PC1736 PC1737 PC1738\n",
       "Standard deviation     0.4622 0.4614 0.4612 0.4609 0.4606 0.4604   0.46 0.4596\n",
       "Proportion of Variance 0.0000 0.0000 0.0000 0.0000 0.0000 0.0000   0.00 0.0000\n",
       "Cumulative Proportion  1.0000 1.0000 1.0000 1.0000 1.0000 1.0000   1.00 1.0000\n",
       "                       PC1739 PC1740 PC1741 PC1742 PC1743 PC1744 PC1745 PC1746\n",
       "Standard deviation     0.4592 0.4588 0.4581 0.4581 0.4573  0.457 0.4565 0.4562\n",
       "Proportion of Variance 0.0000 0.0000 0.0000 0.0000 0.0000  0.000 0.0000 0.0000\n",
       "Cumulative Proportion  1.0000 1.0000 1.0000 1.0000 1.0000  1.000 1.0000 1.0000\n",
       "                       PC1747 PC1748 PC1749 PC1750 PC1751 PC1752 PC1753 PC1754\n",
       "Standard deviation      0.456 0.4557 0.4553 0.4548 0.4544 0.4542 0.4538 0.4533\n",
       "Proportion of Variance  0.000 0.0000 0.0000 0.0000 0.0000 0.0000 0.0000 0.0000\n",
       "Cumulative Proportion   1.000 1.0000 1.0000 1.0000 1.0000 1.0000 1.0000 1.0000\n",
       "                       PC1755 PC1756 PC1757 PC1758 PC1759 PC1760 PC1761 PC1762\n",
       "Standard deviation      0.453 0.4528 0.4528 0.4522 0.4519 0.4516 0.4508 0.4506\n",
       "Proportion of Variance  0.000 0.0000 0.0000 0.0000 0.0000 0.0000 0.0000 0.0000\n",
       "Cumulative Proportion   1.000 1.0000 1.0000 1.0000 1.0000 1.0000 1.0000 1.0000\n",
       "                       PC1763 PC1764 PC1765 PC1766 PC1767 PC1768 PC1769 PC1770\n",
       "Standard deviation     0.4499 0.4496 0.4492  0.449 0.4484  0.448 0.4475 0.4473\n",
       "Proportion of Variance 0.0000 0.0000 0.0000  0.000 0.0000  0.000 0.0000 0.0000\n",
       "Cumulative Proportion  1.0000 1.0000 1.0000  1.000 1.0000  1.000 1.0000 1.0000\n",
       "                       PC1771 PC1772 PC1773 PC1774 PC1775 PC1776 PC1777 PC1778\n",
       "Standard deviation      0.447 0.4465 0.4461 0.4454 0.4453  0.445 0.4442 0.4441\n",
       "Proportion of Variance  0.000 0.0000 0.0000 0.0000 0.0000  0.000 0.0000 0.0000\n",
       "Cumulative Proportion   1.000 1.0000 1.0000 1.0000 1.0000  1.000 1.0000 1.0000\n",
       "                       PC1779 PC1780 PC1781 PC1782 PC1783 PC1784 PC1785 PC1786\n",
       "Standard deviation     0.4439 0.4437 0.4432 0.4425 0.4422 0.4417 0.4413 0.4412\n",
       "Proportion of Variance 0.0000 0.0000 0.0000 0.0000 0.0000 0.0000 0.0000 0.0000\n",
       "Cumulative Proportion  1.0000 1.0000 1.0000 1.0000 1.0000 1.0000 1.0000 1.0000\n",
       "                       PC1787 PC1788 PC1789 PC1790 PC1791 PC1792 PC1793 PC1794\n",
       "Standard deviation     0.4407 0.4403 0.4399 0.4398  0.439 0.4387 0.4384 0.4381\n",
       "Proportion of Variance 0.0000 0.0000 0.0000 0.0000  0.000 0.0000 0.0000 0.0000\n",
       "Cumulative Proportion  1.0000 1.0000 1.0000 1.0000  1.000 1.0000 1.0000 1.0000\n",
       "                       PC1795 PC1796 PC1797 PC1798 PC1799 PC1800 PC1801 PC1802\n",
       "Standard deviation      0.438 0.4373 0.4369 0.4364  0.436 0.4358 0.4354 0.4351\n",
       "Proportion of Variance  0.000 0.0000 0.0000 0.0000  0.000 0.0000 0.0000 0.0000\n",
       "Cumulative Proportion   1.000 1.0000 1.0000 1.0000  1.000 1.0000 1.0000 1.0000\n",
       "                       PC1803 PC1804 PC1805 PC1806 PC1807 PC1808 PC1809 PC1810\n",
       "Standard deviation     0.4348 0.4347 0.4341 0.4338 0.4335 0.4331 0.4329  0.432\n",
       "Proportion of Variance 0.0000 0.0000 0.0000 0.0000 0.0000 0.0000 0.0000  0.000\n",
       "Cumulative Proportion  1.0000 1.0000 1.0000 1.0000 1.0000 1.0000 1.0000  1.000\n",
       "                       PC1811 PC1812 PC1813 PC1814 PC1815 PC1816 PC1817 PC1818\n",
       "Standard deviation     0.4313  0.431 0.4307 0.4304 0.4304   0.43 0.4297 0.4294\n",
       "Proportion of Variance 0.0000  0.000 0.0000 0.0000 0.0000   0.00 0.0000 0.0000\n",
       "Cumulative Proportion  1.0000  1.000 1.0000 1.0000 1.0000   1.00 1.0000 1.0000\n",
       "                       PC1819 PC1820 PC1821 PC1822 PC1823 PC1824 PC1825 PC1826\n",
       "Standard deviation     0.4291 0.4288 0.4283 0.4281 0.4275 0.4274 0.4271  0.427\n",
       "Proportion of Variance 0.0000 0.0000 0.0000 0.0000 0.0000 0.0000 0.0000  0.000\n",
       "Cumulative Proportion  1.0000 1.0000 1.0000 1.0000 1.0000 1.0000 1.0000  1.000\n",
       "                       PC1827 PC1828 PC1829 PC1830 PC1831 PC1832 PC1833 PC1834\n",
       "Standard deviation     0.4265 0.4258 0.4252  0.425 0.4245 0.4243 0.4239 0.4234\n",
       "Proportion of Variance 0.0000 0.0000 0.0000  0.000 0.0000 0.0000 0.0000 0.0000\n",
       "Cumulative Proportion  1.0000 1.0000 1.0000  1.000 1.0000 1.0000 1.0000 1.0000\n",
       "                       PC1835 PC1836 PC1837 PC1838 PC1839 PC1840 PC1841 PC1842\n",
       "Standard deviation     0.4231 0.4224 0.4224 0.4222 0.4215 0.4213 0.4209 0.4209\n",
       "Proportion of Variance 0.0000 0.0000 0.0000 0.0000 0.0000 0.0000 0.0000 0.0000\n",
       "Cumulative Proportion  1.0000 1.0000 1.0000 1.0000 1.0000 1.0000 1.0000 1.0000\n",
       "                       PC1843 PC1844 PC1845 PC1846 PC1847 PC1848 PC1849 PC1850\n",
       "Standard deviation     0.4203 0.4199 0.4196 0.4192 0.4189 0.4188 0.4186 0.4184\n",
       "Proportion of Variance 0.0000 0.0000 0.0000 0.0000 0.0000 0.0000 0.0000 0.0000\n",
       "Cumulative Proportion  1.0000 1.0000 1.0000 1.0000 1.0000 1.0000 1.0000 1.0000\n",
       "                       PC1851 PC1852 PC1853 PC1854 PC1855 PC1856 PC1857 PC1858\n",
       "Standard deviation     0.4173 0.4172 0.4169 0.4167 0.4164 0.4157 0.4157 0.4154\n",
       "Proportion of Variance 0.0000 0.0000 0.0000 0.0000 0.0000 0.0000 0.0000 0.0000\n",
       "Cumulative Proportion  1.0000 1.0000 1.0000 1.0000 1.0000 1.0000 1.0000 1.0000\n",
       "                       PC1859 PC1860 PC1861 PC1862 PC1863 PC1864 PC1865 PC1866\n",
       "Standard deviation     0.4151 0.4145 0.4143 0.4136 0.4135 0.4131 0.4127 0.4121\n",
       "Proportion of Variance 0.0000 0.0000 0.0000 0.0000 0.0000 0.0000 0.0000 0.0000\n",
       "Cumulative Proportion  1.0000 1.0000 1.0000 1.0000 1.0000 1.0000 1.0000 1.0000\n",
       "                       PC1867 PC1868 PC1869 PC1870 PC1871 PC1872 PC1873 PC1874\n",
       "Standard deviation      0.412 0.4115 0.4113 0.4112 0.4107 0.4101 0.4096 0.4094\n",
       "Proportion of Variance  0.000 0.0000 0.0000 0.0000 0.0000 0.0000 0.0000 0.0000\n",
       "Cumulative Proportion   1.000 1.0000 1.0000 1.0000 1.0000 1.0000 1.0000 1.0000\n",
       "                       PC1875 PC1876 PC1877 PC1878 PC1879 PC1880 PC1881 PC1882\n",
       "Standard deviation     0.4091 0.4089 0.4086  0.408 0.4079 0.4074 0.4067 0.4063\n",
       "Proportion of Variance 0.0000 0.0000 0.0000  0.000 0.0000 0.0000 0.0000 0.0000\n",
       "Cumulative Proportion  1.0000 1.0000 1.0000  1.000 1.0000 1.0000 1.0000 1.0000\n",
       "                       PC1883 PC1884 PC1885 PC1886 PC1887 PC1888 PC1889 PC1890\n",
       "Standard deviation      0.406 0.4057 0.4054 0.4049 0.4047 0.4045 0.4042 0.4036\n",
       "Proportion of Variance  0.000 0.0000 0.0000 0.0000 0.0000 0.0000 0.0000 0.0000\n",
       "Cumulative Proportion   1.000 1.0000 1.0000 1.0000 1.0000 1.0000 1.0000 1.0000\n",
       "                       PC1891 PC1892 PC1893 PC1894 PC1895 PC1896 PC1897 PC1898\n",
       "Standard deviation      0.403 0.4029 0.4029 0.4019 0.4014 0.4012 0.4008 0.4007\n",
       "Proportion of Variance  0.000 0.0000 0.0000 0.0000 0.0000 0.0000 0.0000 0.0000\n",
       "Cumulative Proportion   1.000 1.0000 1.0000 1.0000 1.0000 1.0000 1.0000 1.0000\n",
       "                       PC1899 PC1900 PC1901 PC1902 PC1903 PC1904 PC1905 PC1906\n",
       "Standard deviation     0.4003 0.4001 0.3998 0.3995 0.3991 0.3988 0.3985 0.3984\n",
       "Proportion of Variance 0.0000 0.0000 0.0000 0.0000 0.0000 0.0000 0.0000 0.0000\n",
       "Cumulative Proportion  1.0000 1.0000 1.0000 1.0000 1.0000 1.0000 1.0000 1.0000\n",
       "                       PC1907 PC1908 PC1909 PC1910 PC1911 PC1912 PC1913 PC1914\n",
       "Standard deviation     0.3977 0.3975 0.3973 0.3969 0.3967 0.3962 0.3959 0.3958\n",
       "Proportion of Variance 0.0000 0.0000 0.0000 0.0000 0.0000 0.0000 0.0000 0.0000\n",
       "Cumulative Proportion  1.0000 1.0000 1.0000 1.0000 1.0000 1.0000 1.0000 1.0000\n",
       "                       PC1915 PC1916 PC1917 PC1918 PC1919 PC1920 PC1921 PC1922\n",
       "Standard deviation     0.3953  0.395 0.3948 0.3939 0.3935  0.393 0.3927 0.3926\n",
       "Proportion of Variance 0.0000  0.000 0.0000 0.0000 0.0000  0.000 0.0000 0.0000\n",
       "Cumulative Proportion  1.0000  1.000 1.0000 1.0000 1.0000  1.000 1.0000 1.0000\n",
       "                       PC1923 PC1924 PC1925 PC1926 PC1927 PC1928 PC1929 PC1930\n",
       "Standard deviation     0.3922  0.392 0.3918 0.3914 0.3909 0.3908 0.3899 0.3898\n",
       "Proportion of Variance 0.0000  0.000 0.0000 0.0000 0.0000 0.0000 0.0000 0.0000\n",
       "Cumulative Proportion  1.0000  1.000 1.0000 1.0000 1.0000 1.0000 1.0000 1.0000\n",
       "                       PC1931 PC1932 PC1933 PC1934 PC1935 PC1936 PC1937 PC1938\n",
       "Standard deviation     0.3896 0.3895 0.3891 0.3889 0.3886 0.3883 0.3882 0.3875\n",
       "Proportion of Variance 0.0000 0.0000 0.0000 0.0000 0.0000 0.0000 0.0000 0.0000\n",
       "Cumulative Proportion  1.0000 1.0000 1.0000 1.0000 1.0000 1.0000 1.0000 1.0000\n",
       "                       PC1939 PC1940 PC1941 PC1942 PC1943 PC1944 PC1945 PC1946\n",
       "Standard deviation     0.3872 0.3866 0.3864 0.3861  0.386 0.3853  0.385 0.3847\n",
       "Proportion of Variance 0.0000 0.0000 0.0000 0.0000  0.000 0.0000  0.000 0.0000\n",
       "Cumulative Proportion  1.0000 1.0000 1.0000 1.0000  1.000 1.0000  1.000 1.0000\n",
       "                       PC1947 PC1948 PC1949 PC1950 PC1951 PC1952 PC1953 PC1954\n",
       "Standard deviation     0.3843 0.3839 0.3836 0.3836 0.3832 0.3827 0.3823 0.3823\n",
       "Proportion of Variance 0.0000 0.0000 0.0000 0.0000 0.0000 0.0000 0.0000 0.0000\n",
       "Cumulative Proportion  1.0000 1.0000 1.0000 1.0000 1.0000 1.0000 1.0000 1.0000\n",
       "                       PC1955 PC1956 PC1957 PC1958 PC1959 PC1960 PC1961 PC1962\n",
       "Standard deviation     0.3816 0.3809 0.3809 0.3806 0.3804   0.38 0.3792 0.3791\n",
       "Proportion of Variance 0.0000 0.0000 0.0000 0.0000 0.0000   0.00 0.0000 0.0000\n",
       "Cumulative Proportion  1.0000 1.0000 1.0000 1.0000 1.0000   1.00 1.0000 1.0000\n",
       "                       PC1963 PC1964 PC1965 PC1966 PC1967 PC1968 PC1969 PC1970\n",
       "Standard deviation     0.3785 0.3785 0.3784  0.378 0.3774 0.3771  0.377 0.3762\n",
       "Proportion of Variance 0.0000 0.0000 0.0000  0.000 0.0000 0.0000  0.000 0.0000\n",
       "Cumulative Proportion  1.0000 1.0000 1.0000  1.000 1.0000 1.0000  1.000 1.0000\n",
       "                       PC1971 PC1972 PC1973 PC1974 PC1975 PC1976 PC1977 PC1978\n",
       "Standard deviation     0.3759 0.3758 0.3754 0.3753 0.3747 0.3739 0.3737 0.3734\n",
       "Proportion of Variance 0.0000 0.0000 0.0000 0.0000 0.0000 0.0000 0.0000 0.0000\n",
       "Cumulative Proportion  1.0000 1.0000 1.0000 1.0000 1.0000 1.0000 1.0000 1.0000\n",
       "                       PC1979 PC1980 PC1981 PC1982 PC1983 PC1984 PC1985 PC1986\n",
       "Standard deviation     0.3733  0.373 0.3725 0.3721  0.372 0.3718 0.3711 0.3708\n",
       "Proportion of Variance 0.0000  0.000 0.0000 0.0000  0.000 0.0000 0.0000 0.0000\n",
       "Cumulative Proportion  1.0000  1.000 1.0000 1.0000  1.000 1.0000 1.0000 1.0000\n",
       "                       PC1987 PC1988 PC1989 PC1990 PC1991 PC1992 PC1993 PC1994\n",
       "Standard deviation     0.3704 0.3703 0.3696 0.3694 0.3689 0.3688 0.3687 0.3682\n",
       "Proportion of Variance 0.0000 0.0000 0.0000 0.0000 0.0000 0.0000 0.0000 0.0000\n",
       "Cumulative Proportion  1.0000 1.0000 1.0000 1.0000 1.0000 1.0000 1.0000 1.0000\n",
       "                       PC1995 PC1996 PC1997 PC1998 PC1999 PC2000 PC2001 PC2002\n",
       "Standard deviation      0.368 0.3675 0.3672 0.3669 0.3664 0.3663  0.366 0.3655\n",
       "Proportion of Variance  0.000 0.0000 0.0000 0.0000 0.0000 0.0000  0.000 0.0000\n",
       "Cumulative Proportion   1.000 1.0000 1.0000 1.0000 1.0000 1.0000  1.000 1.0000\n",
       "                       PC2003 PC2004 PC2005 PC2006 PC2007 PC2008 PC2009 PC2010\n",
       "Standard deviation     0.3651 0.3649 0.3645 0.3641  0.364 0.3636 0.3633  0.363\n",
       "Proportion of Variance 0.0000 0.0000 0.0000 0.0000  0.000 0.0000 0.0000  0.000\n",
       "Cumulative Proportion  1.0000 1.0000 1.0000 1.0000  1.000 1.0000 1.0000  1.000\n",
       "                       PC2011 PC2012 PC2013 PC2014 PC2015 PC2016 PC2017 PC2018\n",
       "Standard deviation     0.3623 0.3619 0.3616 0.3613 0.3606 0.3605 0.3603 0.3598\n",
       "Proportion of Variance 0.0000 0.0000 0.0000 0.0000 0.0000 0.0000 0.0000 0.0000\n",
       "Cumulative Proportion  1.0000 1.0000 1.0000 1.0000 1.0000 1.0000 1.0000 1.0000\n",
       "                       PC2019 PC2020 PC2021 PC2022 PC2023 PC2024 PC2025 PC2026\n",
       "Standard deviation     0.3594 0.3592 0.3588 0.3586 0.3584  0.358 0.3577 0.3573\n",
       "Proportion of Variance 0.0000 0.0000 0.0000 0.0000 0.0000  0.000 0.0000 0.0000\n",
       "Cumulative Proportion  1.0000 1.0000 1.0000 1.0000 1.0000  1.000 1.0000 1.0000\n",
       "                       PC2027 PC2028 PC2029 PC2030 PC2031 PC2032 PC2033 PC2034\n",
       "Standard deviation     0.3567 0.3565 0.3562 0.3559 0.3557 0.3556 0.3551 0.3546\n",
       "Proportion of Variance 0.0000 0.0000 0.0000 0.0000 0.0000 0.0000 0.0000 0.0000\n",
       "Cumulative Proportion  1.0000 1.0000 1.0000 1.0000 1.0000 1.0000 1.0000 1.0000\n",
       "                       PC2035 PC2036 PC2037 PC2038 PC2039 PC2040 PC2041 PC2042\n",
       "Standard deviation     0.3542 0.3539 0.3534 0.3531  0.353 0.3525 0.3522 0.3516\n",
       "Proportion of Variance 0.0000 0.0000 0.0000 0.0000  0.000 0.0000 0.0000 0.0000\n",
       "Cumulative Proportion  1.0000 1.0000 1.0000 1.0000  1.000 1.0000 1.0000 1.0000\n",
       "                       PC2043 PC2044 PC2045 PC2046 PC2047 PC2048 PC2049 PC2050\n",
       "Standard deviation     0.3514 0.3512 0.3507 0.3507 0.3504 0.3499 0.3497 0.3495\n",
       "Proportion of Variance 0.0000 0.0000 0.0000 0.0000 0.0000 0.0000 0.0000 0.0000\n",
       "Cumulative Proportion  1.0000 1.0000 1.0000 1.0000 1.0000 1.0000 1.0000 1.0000\n",
       "                       PC2051 PC2052 PC2053 PC2054 PC2055 PC2056 PC2057 PC2058\n",
       "Standard deviation     0.3491 0.3482 0.3478 0.3472  0.347  0.347 0.3465 0.3461\n",
       "Proportion of Variance 0.0000 0.0000 0.0000 0.0000  0.000  0.000 0.0000 0.0000\n",
       "Cumulative Proportion  1.0000 1.0000 1.0000 1.0000  1.000  1.000 1.0000 1.0000\n",
       "                       PC2059 PC2060 PC2061 PC2062 PC2063 PC2064 PC2065 PC2066\n",
       "Standard deviation     0.3459 0.3456 0.3455 0.3453 0.3446 0.3444 0.3439 0.3436\n",
       "Proportion of Variance 0.0000 0.0000 0.0000 0.0000 0.0000 0.0000 0.0000 0.0000\n",
       "Cumulative Proportion  1.0000 1.0000 1.0000 1.0000 1.0000 1.0000 1.0000 1.0000\n",
       "                       PC2067 PC2068 PC2069 PC2070 PC2071 PC2072 PC2073 PC2074\n",
       "Standard deviation     0.3435  0.343 0.3425 0.3423  0.342 0.3416 0.3412 0.3405\n",
       "Proportion of Variance 0.0000  0.000 0.0000 0.0000  0.000 0.0000 0.0000 0.0000\n",
       "Cumulative Proportion  1.0000  1.000 1.0000 1.0000  1.000 1.0000 1.0000 1.0000\n",
       "                       PC2075 PC2076 PC2077 PC2078 PC2079 PC2080 PC2081 PC2082\n",
       "Standard deviation     0.3404 0.3399 0.3397 0.3393 0.3387 0.3385  0.338 0.3377\n",
       "Proportion of Variance 0.0000 0.0000 0.0000 0.0000 0.0000 0.0000  0.000 0.0000\n",
       "Cumulative Proportion  1.0000 1.0000 1.0000 1.0000 1.0000 1.0000  1.000 1.0000\n",
       "                       PC2083 PC2084 PC2085 PC2086 PC2087 PC2088 PC2089 PC2090\n",
       "Standard deviation     0.3375  0.337 0.3366 0.3363 0.3358 0.3355 0.3353 0.3346\n",
       "Proportion of Variance 0.0000  0.000 0.0000 0.0000 0.0000 0.0000 0.0000 0.0000\n",
       "Cumulative Proportion  1.0000  1.000 1.0000 1.0000 1.0000 1.0000 1.0000 1.0000\n",
       "                       PC2091 PC2092 PC2093 PC2094 PC2095 PC2096 PC2097 PC2098\n",
       "Standard deviation     0.3344  0.334 0.3339 0.3334 0.3332 0.3326 0.3324 0.3319\n",
       "Proportion of Variance 0.0000  0.000 0.0000 0.0000 0.0000 0.0000 0.0000 0.0000\n",
       "Cumulative Proportion  1.0000  1.000 1.0000 1.0000 1.0000 1.0000 1.0000 1.0000\n",
       "                       PC2099 PC2100 PC2101 PC2102 PC2103 PC2104 PC2105 PC2106\n",
       "Standard deviation     0.3313 0.3308 0.3306 0.3297 0.3295 0.3292 0.3288 0.3282\n",
       "Proportion of Variance 0.0000 0.0000 0.0000 0.0000 0.0000 0.0000 0.0000 0.0000\n",
       "Cumulative Proportion  1.0000 1.0000 1.0000 1.0000 1.0000 1.0000 1.0000 1.0000\n",
       "                       PC2107 PC2108 PC2109 PC2110 PC2111 PC2112 PC2113 PC2114\n",
       "Standard deviation      0.328 0.3275 0.3271 0.3269 0.3266 0.3264 0.3261 0.3255\n",
       "Proportion of Variance  0.000 0.0000 0.0000 0.0000 0.0000 0.0000 0.0000 0.0000\n",
       "Cumulative Proportion   1.000 1.0000 1.0000 1.0000 1.0000 1.0000 1.0000 1.0000\n",
       "                       PC2115 PC2116 PC2117 PC2118 PC2119 PC2120 PC2121 PC2122\n",
       "Standard deviation     0.3251 0.3245 0.3243  0.324 0.3234  0.323 0.3226 0.3222\n",
       "Proportion of Variance 0.0000 0.0000 0.0000  0.000 0.0000  0.000 0.0000 0.0000\n",
       "Cumulative Proportion  1.0000 1.0000 1.0000  1.000 1.0000  1.000 1.0000 1.0000\n",
       "                       PC2123 PC2124 PC2125 PC2126 PC2127 PC2128 PC2129 PC2130\n",
       "Standard deviation     0.3219 0.3217  0.321 0.3206 0.3203 0.3201 0.3197 0.3192\n",
       "Proportion of Variance 0.0000 0.0000  0.000 0.0000 0.0000 0.0000 0.0000 0.0000\n",
       "Cumulative Proportion  1.0000 1.0000  1.000 1.0000 1.0000 1.0000 1.0000 1.0000\n",
       "                       PC2131 PC2132 PC2133 PC2134 PC2135 PC2136 PC2137 PC2138\n",
       "Standard deviation     0.3189 0.3182 0.3181 0.3181 0.3176 0.3171 0.3166 0.3162\n",
       "Proportion of Variance 0.0000 0.0000 0.0000 0.0000 0.0000 0.0000 0.0000 0.0000\n",
       "Cumulative Proportion  1.0000 1.0000 1.0000 1.0000 1.0000 1.0000 1.0000 1.0000\n",
       "                       PC2139 PC2140 PC2141 PC2142 PC2143 PC2144 PC2145 PC2146\n",
       "Standard deviation     0.3156 0.3154 0.3151 0.3143 0.3142 0.3136 0.3131 0.3126\n",
       "Proportion of Variance 0.0000 0.0000 0.0000 0.0000 0.0000 0.0000 0.0000 0.0000\n",
       "Cumulative Proportion  1.0000 1.0000 1.0000 1.0000 1.0000 1.0000 1.0000 1.0000\n",
       "                       PC2147 PC2148 PC2149 PC2150 PC2151 PC2152 PC2153 PC2154\n",
       "Standard deviation     0.3124 0.3118 0.3116 0.3108 0.3105 0.3102 0.3098 0.3096\n",
       "Proportion of Variance 0.0000 0.0000 0.0000 0.0000 0.0000 0.0000 0.0000 0.0000\n",
       "Cumulative Proportion  1.0000 1.0000 1.0000 1.0000 1.0000 1.0000 1.0000 1.0000\n",
       "                       PC2155 PC2156 PC2157 PC2158 PC2159 PC2160 PC2161 PC2162\n",
       "Standard deviation     0.3095 0.3089 0.3085 0.3082 0.3069 0.3067 0.3064 0.3062\n",
       "Proportion of Variance 0.0000 0.0000 0.0000 0.0000 0.0000 0.0000 0.0000 0.0000\n",
       "Cumulative Proportion  1.0000 1.0000 1.0000 1.0000 1.0000 1.0000 1.0000 1.0000\n",
       "                       PC2163 PC2164 PC2165 PC2166 PC2167 PC2168 PC2169 PC2170\n",
       "Standard deviation     0.3056 0.3048 0.3043  0.304 0.3035 0.3029 0.3027 0.3019\n",
       "Proportion of Variance 0.0000 0.0000 0.0000  0.000 0.0000 0.0000 0.0000 0.0000\n",
       "Cumulative Proportion  1.0000 1.0000 1.0000  1.000 1.0000 1.0000 1.0000 1.0000\n",
       "                       PC2171 PC2172 PC2173 PC2174 PC2175 PC2176 PC2177 PC2178\n",
       "Standard deviation     0.3018 0.3011 0.3008 0.3005    0.3 0.2989 0.2988 0.2979\n",
       "Proportion of Variance 0.0000 0.0000 0.0000 0.0000    0.0 0.0000 0.0000 0.0000\n",
       "Cumulative Proportion  1.0000 1.0000 1.0000 1.0000    1.0 1.0000 1.0000 1.0000\n",
       "                       PC2179 PC2180 PC2181 PC2182 PC2183 PC2184 PC2185 PC2186\n",
       "Standard deviation     0.2972  0.297 0.2963  0.296 0.2953 0.2949 0.2945 0.2943\n",
       "Proportion of Variance 0.0000  0.000 0.0000  0.000 0.0000 0.0000 0.0000 0.0000\n",
       "Cumulative Proportion  1.0000  1.000 1.0000  1.000 1.0000 1.0000 1.0000 1.0000\n",
       "                       PC2187 PC2188 PC2189 PC2190 PC2191 PC2192 PC2193 PC2194\n",
       "Standard deviation     0.2932 0.2929 0.2921 0.2915 0.2907   0.29 0.2898  0.289\n",
       "Proportion of Variance 0.0000 0.0000 0.0000 0.0000 0.0000   0.00 0.0000  0.000\n",
       "Cumulative Proportion  1.0000 1.0000 1.0000 1.0000 1.0000   1.00 1.0000  1.000\n",
       "                       PC2195 PC2196 PC2197 PC2198 PC2199 PC2200 PC2201 PC2202\n",
       "Standard deviation     0.2884 0.2881 0.2875 0.2863 0.2853 0.2847 0.2844 0.2832\n",
       "Proportion of Variance 0.0000 0.0000 0.0000 0.0000 0.0000 0.0000 0.0000 0.0000\n",
       "Cumulative Proportion  1.0000 1.0000 1.0000 1.0000 1.0000 1.0000 1.0000 1.0000\n",
       "                       PC2203 PC2204    PC2205\n",
       "Standard deviation     0.2806   0.28 8.664e-12\n",
       "Proportion of Variance 0.0000   0.00 0.000e+00\n",
       "Cumulative Proportion  1.0000   1.00 1.000e+00"
      ]
     },
     "metadata": {},
     "output_type": "display_data"
    }
   ],
   "source": [
    "summary(dataPCA)"
   ]
  },
  {
   "cell_type": "code",
   "execution_count": 34,
   "id": "72904781",
   "metadata": {},
   "outputs": [
    {
     "data": {
      "image/png": "[encoded data removed]",
      "text/plain": [
       "Plot with title \"dataPCA\""
      ]
     },
     "metadata": {},
     "output_type": "display_data"
    }
   ],
   "source": [
    "plot(dataPCA, type = 'lines')"
   ]
  },
  {
   "cell_type": "code",
   "execution_count": 35,
   "id": "d3165fb2",
   "metadata": {},
   "outputs": [],
   "source": [
    "data$PCA1 <- dataPCA$x[,1]\n",
    "data$PCA2 <- dataPCA$x[,2]\n",
    "data$PCA3 <- dataPCA$x[,3]\n",
    "data$PCA4 <- dataPCA$x[,4]\n",
    "data$PCA5 <- dataPCA$x[,5]\n",
    "data$PCA6 <- dataPCA$x[,6]\n",
    "data$PCA7 <- dataPCA$x[,7]\n",
    "data$PCA8 <- dataPCA$x[,8]\n",
    "data$PCA9 <- dataPCA$x[,9]\n",
    "data$PCA10 <- dataPCA$x[,10]"
   ]
  },
  {
   "cell_type": "code",
   "execution_count": 36,
   "id": "10c72d4e",
   "metadata": {},
   "outputs": [
    {
     "data": {
      "text/html": [
       "<ol class=list-inline>\n",
       "\t<li>1544</li>\n",
       "\t<li>43695</li>\n",
       "</ol>\n"
      ],
      "text/latex": [
       "\\begin{enumerate*}\n",
       "\\item 1544\n",
       "\\item 43695\n",
       "\\end{enumerate*}\n"
      ],
      "text/markdown": [
       "1. 1544\n",
       "2. 43695\n",
       "\n",
       "\n"
      ],
      "text/plain": [
       "[1]  1544 43695"
      ]
     },
     "metadata": {},
     "output_type": "display_data"
    },
    {
     "data": {
      "text/html": [
       "<ol class=list-inline>\n",
       "\t<li>661</li>\n",
       "\t<li>43695</li>\n",
       "</ol>\n"
      ],
      "text/latex": [
       "\\begin{enumerate*}\n",
       "\\item 661\n",
       "\\item 43695\n",
       "\\end{enumerate*}\n"
      ],
      "text/markdown": [
       "1. 661\n",
       "2. 43695\n",
       "\n",
       "\n"
      ],
      "text/plain": [
       "[1]   661 43695"
      ]
     },
     "metadata": {},
     "output_type": "display_data"
    }
   ],
   "source": [
    "# Treinamento de um novo modelo PCA\n",
    "\n",
    "seed <- 42\n",
    "set.seed(seed)\n",
    "inTrain_stable <- createDataPartition(y = data$stable, p = 0.7, list = FALSE)\n",
    "train_stable <- data[inTrain_stable, ]\n",
    "test_stable <- data[-inTrain_stable, ]\n",
    "dim(train_stable); dim(test_stable)"
   ]
  },
  {
   "cell_type": "code",
   "execution_count": 37,
   "id": "d751f1cd",
   "metadata": {},
   "outputs": [],
   "source": [
    "treePCA <- rpart(stable ~ PCA1 + PCA2 + PCA3 + PCA4 + PCA5 + PCA6 + PCA7 + PCA8 + PCA9 + PCA10\n",
    "                , data = train_stable\n",
    "                , method = \"class\"\n",
    "                , control = rpart.control(minsplit = 5, cp = 0.002), parms = list(split = 'gini'))"
   ]
  },
  {
   "cell_type": "code",
   "execution_count": 38,
   "id": "6f3577c1",
   "metadata": {},
   "outputs": [
    {
     "data": {
      "image/png": "[encoded data removed]",
      "text/plain": [
       "Plot with title \"\""
      ]
     },
     "metadata": {},
     "output_type": "display_data"
    }
   ],
   "source": [
    "fancyRpartPlot(treePCA, caption = NULL)"
   ]
  },
  {
   "cell_type": "code",
   "execution_count": 39,
   "id": "32a59c73",
   "metadata": {},
   "outputs": [
    {
     "name": "stdout",
     "output_type": "stream",
     "text": [
      "\n",
      "Classification tree:\n",
      "rpart(formula = stable ~ PCA1 + PCA2 + PCA3 + PCA4 + PCA5 + PCA6 + \n",
      "    PCA7 + PCA8 + PCA9 + PCA10, data = train_stable, method = \"class\", \n",
      "    parms = list(split = \"gini\"), control = rpart.control(minsplit = 5, \n",
      "        cp = 0.002))\n",
      "\n",
      "Variables actually used in tree construction:\n",
      " [1] PCA1  PCA10 PCA2  PCA3  PCA4  PCA5  PCA6  PCA7  PCA8  PCA9 \n",
      "\n",
      "Root node error: 537/1544 = 0.3478\n",
      "\n",
      "n= 1544 \n",
      "\n",
      "          CP nsplit rel error  xerror     xstd\n",
      "1  0.5567970      0  1.000000 1.00000 0.034850\n",
      "2  0.1731844      1  0.443203 0.45438 0.026691\n",
      "3  0.0521415      2  0.270019 0.28492 0.021863\n",
      "4  0.0148976      3  0.217877 0.24209 0.020319\n",
      "5  0.0111732      4  0.202980 0.23650 0.020104\n",
      "6  0.0102421      6  0.180633 0.23464 0.020032\n",
      "7  0.0074488      8  0.160149 0.20298 0.018743\n",
      "8  0.0055866     12  0.130354 0.19367 0.018340\n",
      "9  0.0046555     18  0.096834 0.19926 0.018583\n",
      "10 0.0037244     20  0.087523 0.20298 0.018743\n",
      "11 0.0027933     26  0.065177 0.19926 0.018583\n",
      "12 0.0020000     28  0.059590 0.19181 0.018258\n"
     ]
    }
   ],
   "source": [
    "# Vamos podar a arvore para ver se traz mais estabiliade\n",
    "\n",
    "printcp(treePCA)"
   ]
  },
  {
   "cell_type": "code",
   "execution_count": 40,
   "id": "da5b1942",
   "metadata": {},
   "outputs": [],
   "source": [
    "treePCA <- prune(treePCA, cp = 0.018)"
   ]
  },
  {
   "cell_type": "code",
   "execution_count": 41,
   "id": "47d9821a",
   "metadata": {},
   "outputs": [
    {
     "data": {
      "image/png": "[encoded data removed]",
      "text/plain": [
       "Plot with title \"\""
      ]
     },
     "metadata": {},
     "output_type": "display_data"
    }
   ],
   "source": [
    "fancyRpartPlot(treePCA)"
   ]
  },
  {
   "cell_type": "code",
   "execution_count": 42,
   "id": "debbf2bd",
   "metadata": {},
   "outputs": [
    {
     "data": {
      "text/html": [
       "<dl class=dl-horizontal>\n",
       "\t<dt>PCA4</dt>\n",
       "\t\t<dd>401.206576674444</dd>\n",
       "\t<dt>PCA5</dt>\n",
       "\t\t<dd>244.872668489045</dd>\n",
       "\t<dt>PCA3</dt>\n",
       "\t\t<dd>223.010450808809</dd>\n",
       "\t<dt>PCA1</dt>\n",
       "\t\t<dd>198.655425822737</dd>\n",
       "\t<dt>PCA10</dt>\n",
       "\t\t<dd>195.486153227405</dd>\n",
       "\t<dt>PCA2</dt>\n",
       "\t\t<dd>168.969013978994</dd>\n",
       "\t<dt>PCA6</dt>\n",
       "\t\t<dd>33.2851670435831</dd>\n",
       "</dl>\n"
      ],
      "text/latex": [
       "\\begin{description*}\n",
       "\\item[PCA4] 401.206576674444\n",
       "\\item[PCA5] 244.872668489045\n",
       "\\item[PCA3] 223.010450808809\n",
       "\\item[PCA1] 198.655425822737\n",
       "\\item[PCA10] 195.486153227405\n",
       "\\item[PCA2] 168.969013978994\n",
       "\\item[PCA6] 33.2851670435831\n",
       "\\end{description*}\n"
      ],
      "text/markdown": [
       "PCA4\n",
       ":   401.206576674444PCA5\n",
       ":   244.872668489045PCA3\n",
       ":   223.010450808809PCA1\n",
       ":   198.655425822737PCA10\n",
       ":   195.486153227405PCA2\n",
       ":   168.969013978994PCA6\n",
       ":   33.2851670435831\n",
       "\n"
      ],
      "text/plain": [
       "     PCA4      PCA5      PCA3      PCA1     PCA10      PCA2      PCA6 \n",
       "401.20658 244.87267 223.01045 198.65543 195.48615 168.96901  33.28517 "
      ]
     },
     "metadata": {},
     "output_type": "display_data"
    },
    {
     "data": {
      "image/png": "[encoded data removed]",
      "text/plain": [
       "plot without title"
      ]
     },
     "metadata": {},
     "output_type": "display_data"
    }
   ],
   "source": [
    "# Entendendo a importância de cada variável\n",
    "\n",
    "treePCA$variable.importance\n",
    "\n",
    "barplot(treePCA$variable.importance)"
   ]
  },
  {
   "cell_type": "code",
   "execution_count": 43,
   "id": "33b200db",
   "metadata": {},
   "outputs": [
    {
     "data": {
      "text/plain": [
       "   pred_train_stable\n",
       "      0   1\n",
       "  0 940  67\n",
       "  1  50 487"
      ]
     },
     "metadata": {},
     "output_type": "display_data"
    },
    {
     "data": {
      "text/plain": [
       "   pred_test_stable\n",
       "      0   1\n",
       "  0 405  37\n",
       "  1  24 195"
      ]
     },
     "metadata": {},
     "output_type": "display_data"
    }
   ],
   "source": [
    "# Treinamento\n",
    "\n",
    "pred_train_stable <- predict(treePCA, train_stable, type = \"class\")\n",
    "table(train_stable$stable, pred_train_stable)\n",
    "\n",
    "# Classe 0\n",
    "acc_train0_treePCA <- table(train_stable$stable, pred_train_stable)[1]/(table(train_stable$stable, pred_train_stable)[1]\n",
    "                                +table(train_stable$stable, pred_train_stable)[3])*100\n",
    "\n",
    "# Classe 1\n",
    "acc_train1_treePCA <- table(train_stable$stable, pred_train_stable)[4]/(table(train_stable$stable, pred_train_stable)[2]\n",
    "                                +table(train_stable$stable, pred_train_stable)[4])*100\n",
    "\n",
    "# Treinamento Total\n",
    "acc_train_treePCA <- (table(train_stable$stable, pred_train_stable)[1] + table(train_stable$stable, pred_train_stable)[4])/(dim(train_stable)[1])*100\n",
    "\n",
    "# Teste\n",
    "\n",
    "pred_test_stable <- predict(treePCA, test_stable, type = \"class\")\n",
    "table(test_stable$stable, pred_test_stable)\n",
    "\n",
    "# Classe 0\n",
    "acc_test0_treePCA <- table(test_stable$stable, pred_test_stable)[1]/(table(test_stable$stable, pred_test_stable)[1]\n",
    "                                +table(test_stable$stable, pred_test_stable)[3])*100\n",
    "\n",
    "# Classe 1\n",
    "acc_test1_treePCA <- table(test_stable$stable, pred_test_stable)[4]/(table(test_stable$stable, pred_test_stable)[2]\n",
    "                                +table(test_stable$stable, pred_test_stable)[4])*100\n",
    "\n",
    "# Teste Total\n",
    "acc_test_treePCA <- (table(test_stable$stable, pred_test_stable)[1] + table(test_stable$stable, pred_test_stable)[4])/(dim(test_stable)[1])*100"
   ]
  },
  {
   "cell_type": "code",
   "execution_count": 44,
   "id": "d3bbf629",
   "metadata": {},
   "outputs": [
    {
     "data": {
      "text/html": [
       "93.35"
      ],
      "text/latex": [
       "93.35"
      ],
      "text/markdown": [
       "93.35"
      ],
      "text/plain": [
       "[1] 93.35"
      ]
     },
     "metadata": {},
     "output_type": "display_data"
    },
    {
     "data": {
      "text/html": [
       "90.69"
      ],
      "text/latex": [
       "90.69"
      ],
      "text/markdown": [
       "90.69"
      ],
      "text/plain": [
       "[1] 90.69"
      ]
     },
     "metadata": {},
     "output_type": "display_data"
    },
    {
     "data": {
      "text/html": [
       "91.63"
      ],
      "text/latex": [
       "91.63"
      ],
      "text/markdown": [
       "91.63"
      ],
      "text/plain": [
       "[1] 91.63"
      ]
     },
     "metadata": {},
     "output_type": "display_data"
    },
    {
     "data": {
      "text/html": [
       "89.04"
      ],
      "text/latex": [
       "89.04"
      ],
      "text/markdown": [
       "89.04"
      ],
      "text/plain": [
       "[1] 89.04"
      ]
     },
     "metadata": {},
     "output_type": "display_data"
    },
    {
     "data": {
      "text/html": [
       "92.42"
      ],
      "text/latex": [
       "92.42"
      ],
      "text/markdown": [
       "92.42"
      ],
      "text/plain": [
       "[1] 92.42"
      ]
     },
     "metadata": {},
     "output_type": "display_data"
    },
    {
     "data": {
      "text/html": [
       "90.77"
      ],
      "text/latex": [
       "90.77"
      ],
      "text/markdown": [
       "90.77"
      ],
      "text/plain": [
       "[1] 90.77"
      ]
     },
     "metadata": {},
     "output_type": "display_data"
    }
   ],
   "source": [
    "round(acc_train0_treePCA, 2)\n",
    "round(acc_train1_treePCA, 2)\n",
    "round(acc_test0_treePCA, 2)\n",
    "round(acc_test1_treePCA, 2)\n",
    "round(acc_train_treePCA, 2)\n",
    "round(acc_test_treePCA, 2)"
   ]
  },
  {
   "cell_type": "code",
   "execution_count": 45,
   "id": "03304ced",
   "metadata": {},
   "outputs": [
    {
     "data": {
      "text/html": [
       "1.72"
      ],
      "text/latex": [
       "1.72"
      ],
      "text/markdown": [
       "1.72"
      ],
      "text/plain": [
       "[1] 1.72"
      ]
     },
     "metadata": {},
     "output_type": "display_data"
    },
    {
     "data": {
      "text/html": [
       "1.65"
      ],
      "text/latex": [
       "1.65"
      ],
      "text/markdown": [
       "1.65"
      ],
      "text/plain": [
       "[1] 1.65"
      ]
     },
     "metadata": {},
     "output_type": "display_data"
    },
    {
     "data": {
      "text/html": [
       "1.65"
      ],
      "text/latex": [
       "1.65"
      ],
      "text/markdown": [
       "1.65"
      ],
      "text/plain": [
       "[1] 1.65"
      ]
     },
     "metadata": {},
     "output_type": "display_data"
    }
   ],
   "source": [
    "round(acc_train0_treePCA - acc_test0_treePCA, 2)\n",
    "round(acc_train1_treePCA - acc_test1_treePCA, 2)\n",
    "round(acc_train_treePCA - acc_test_treePCA, 2)"
   ]
  },
  {
   "cell_type": "code",
   "execution_count": 46,
   "id": "fa50cd68",
   "metadata": {},
   "outputs": [],
   "source": [
    "tree1_acc <- round(acc_train_tree1 - acc_test_tree1, 2)\n",
    "\n",
    "tree1_p_acc <- round(acc_train_tree1_p - acc_test_tree1_p, 2)\n",
    "\n",
    "tree_pca <- round(acc_train_treePCA - acc_test_treePCA, 2)"
   ]
  },
  {
   "cell_type": "code",
   "execution_count": 47,
   "id": "2c0176bf",
   "metadata": {},
   "outputs": [
    {
     "data": {
      "image/png": "[encoded data removed]",
      "text/plain": [
       "Plot with title \"Resltado da Análise\""
      ]
     },
     "metadata": {},
     "output_type": "display_data"
    }
   ],
   "source": [
    "# tree1_acc e tree1_p_acc não deveriam estar com o mesmo valor, tem que ver isso e corrigir\n",
    "\n",
    "barras <- c(\"tree1_acc\", \"tree1_p_acc\", \"tree_pca\")\n",
    "val_barras <- c(tree1_acc, tree1_p_acc, tree_pca)\n",
    "\n",
    "barplot(val_barras\n",
    "       , xlab = \"Resultados\"\n",
    "       , ylab = \"Diferença Train - Test (p.b.)\"\n",
    "       , main = \"Resltado da Análise\"\n",
    "       , col = c(\"blue\", \"blue\", \"red\")\n",
    "       , names.arg = barras\n",
    "       , ylim = c(0,9))\n",
    "\n",
    "text(c(0.70, 1.9, 3.1), val_barras + 0.25, labels = as.character(val_barras))"
   ]
  },
  {
   "cell_type": "code",
   "execution_count": null,
   "id": "11c0b8e4",
   "metadata": {},
   "outputs": [],
   "source": []
  }
 ],
 "metadata": {
  "kernelspec": {
   "display_name": "R",
   "language": "R",
   "name": "ir"
  },
  "language_info": {
   "codemirror_mode": "r",
   "file_extension": ".r",
   "mimetype": "text/x-r-source",
   "name": "R",
   "pygments_lexer": "r",
   "version": "3.6.1"
  }
 },
 "nbformat": 4,
 "nbformat_minor": 5
}
