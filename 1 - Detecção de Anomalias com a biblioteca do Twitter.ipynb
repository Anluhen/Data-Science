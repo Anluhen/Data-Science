{
 "cells": [
  {
   "cell_type": "markdown",
   "id": "b48b42d3",
   "metadata": {},
   "source": [
    "<b>Detecção de Anomalias</b>\n",
    "\n",
    "Neste estudo iremos utilizar duas técnicas distintas para detectar anomalias e comparar o desempenho de ambas.\n",
    "Inicialmente iremos utilizar o boxplot para entender o conceito de anomalias e posteriormente usaremos a biblioteca AnomalyDetection, desenvolvida para o Twitter. "
   ]
  },
  {
   "cell_type": "code",
   "execution_count": 3,
   "id": "1e2d2da3",
   "metadata": {},
   "outputs": [],
   "source": [
    "#devtools::install_github(\"twitter/AnomalyDetection\", dependencies = FALSE)\n",
    "#install.packages(\"hrbrthemes\")"
   ]
  },
  {
   "cell_type": "code",
   "execution_count": 4,
   "id": "308cc99b",
   "metadata": {},
   "outputs": [
    {
     "name": "stderr",
     "output_type": "stream",
     "text": [
      "Warning message:\n",
      "\"package 'quantmod' was built under R version 3.6.3\"\n",
      "Loading required package: xts\n",
      "\n",
      "Warning message:\n",
      "\"package 'xts' was built under R version 3.6.3\"\n",
      "Loading required package: zoo\n",
      "\n",
      "Warning message:\n",
      "\"package 'zoo' was built under R version 3.6.3\"\n",
      "\n",
      "Attaching package: 'zoo'\n",
      "\n",
      "\n",
      "The following objects are masked from 'package:base':\n",
      "\n",
      "    as.Date, as.Date.numeric\n",
      "\n",
      "\n",
      "Loading required package: TTR\n",
      "\n",
      "Warning message:\n",
      "\"package 'TTR' was built under R version 3.6.3\"\n",
      "Registered S3 method overwritten by 'quantmod':\n",
      "  method            from\n",
      "  as.zoo.data.frame zoo \n",
      "\n",
      "Warning message:\n",
      "\"package 'ggplot2' was built under R version 3.6.3\"\n",
      "Warning message:\n",
      "\"package 'hrbrthemes' was built under R version 3.6.3\"\n",
      "NOTE: Either Arial Narrow or Roboto Condensed fonts are required to use these themes.\n",
      "\n",
      "      Please use hrbrthemes::import_roboto_condensed() to install Roboto Condensed and\n",
      "\n",
      "      if Arial Narrow is not on your system, please see https://bit.ly/arialnarrow\n",
      "\n"
     ]
    }
   ],
   "source": [
    "library(AnomalyDetection)\n",
    "library(quantmod)\n",
    "library(ggplot2)\n",
    "library(hrbrthemes)"
   ]
  },
  {
   "cell_type": "markdown",
   "id": "33a72cf9",
   "metadata": {},
   "source": [
    "Será utilizada a base de dados <i>iris</i> para a primeira análise. Essa base contém características de três espécies de flor e é útil para testar modelos de classificação."
   ]
  },
  {
   "cell_type": "code",
   "execution_count": 5,
   "id": "7b61ae20",
   "metadata": {},
   "outputs": [
    {
     "name": "stdout",
     "output_type": "stream",
     "text": [
      "[1] \"Rápida visualização\"\n"
     ]
    },
    {
     "data": {
      "text/html": [
       "<table>\n",
       "<thead><tr><th scope=col>Sepal.Length</th><th scope=col>Sepal.Width</th><th scope=col>Petal.Length</th><th scope=col>Petal.Width</th><th scope=col>Species</th></tr></thead>\n",
       "<tbody>\n",
       "\t<tr><td>5.1   </td><td>3.5   </td><td>1.4   </td><td>0.2   </td><td>setosa</td></tr>\n",
       "\t<tr><td>4.9   </td><td>3.0   </td><td>1.4   </td><td>0.2   </td><td>setosa</td></tr>\n",
       "\t<tr><td>4.7   </td><td>3.2   </td><td>1.3   </td><td>0.2   </td><td>setosa</td></tr>\n",
       "\t<tr><td>4.6   </td><td>3.1   </td><td>1.5   </td><td>0.2   </td><td>setosa</td></tr>\n",
       "\t<tr><td>5.0   </td><td>3.6   </td><td>1.4   </td><td>0.2   </td><td>setosa</td></tr>\n",
       "\t<tr><td>5.4   </td><td>3.9   </td><td>1.7   </td><td>0.4   </td><td>setosa</td></tr>\n",
       "</tbody>\n",
       "</table>\n"
      ],
      "text/latex": [
       "\\begin{tabular}{r|lllll}\n",
       " Sepal.Length & Sepal.Width & Petal.Length & Petal.Width & Species\\\\\n",
       "\\hline\n",
       "\t 5.1    & 3.5    & 1.4    & 0.2    & setosa\\\\\n",
       "\t 4.9    & 3.0    & 1.4    & 0.2    & setosa\\\\\n",
       "\t 4.7    & 3.2    & 1.3    & 0.2    & setosa\\\\\n",
       "\t 4.6    & 3.1    & 1.5    & 0.2    & setosa\\\\\n",
       "\t 5.0    & 3.6    & 1.4    & 0.2    & setosa\\\\\n",
       "\t 5.4    & 3.9    & 1.7    & 0.4    & setosa\\\\\n",
       "\\end{tabular}\n"
      ],
      "text/markdown": [
       "\n",
       "| Sepal.Length | Sepal.Width | Petal.Length | Petal.Width | Species |\n",
       "|---|---|---|---|---|\n",
       "| 5.1    | 3.5    | 1.4    | 0.2    | setosa |\n",
       "| 4.9    | 3.0    | 1.4    | 0.2    | setosa |\n",
       "| 4.7    | 3.2    | 1.3    | 0.2    | setosa |\n",
       "| 4.6    | 3.1    | 1.5    | 0.2    | setosa |\n",
       "| 5.0    | 3.6    | 1.4    | 0.2    | setosa |\n",
       "| 5.4    | 3.9    | 1.7    | 0.4    | setosa |\n",
       "\n"
      ],
      "text/plain": [
       "  Sepal.Length Sepal.Width Petal.Length Petal.Width Species\n",
       "1 5.1          3.5         1.4          0.2         setosa \n",
       "2 4.9          3.0         1.4          0.2         setosa \n",
       "3 4.7          3.2         1.3          0.2         setosa \n",
       "4 4.6          3.1         1.5          0.2         setosa \n",
       "5 5.0          3.6         1.4          0.2         setosa \n",
       "6 5.4          3.9         1.7          0.4         setosa "
      ]
     },
     "metadata": {},
     "output_type": "display_data"
    },
    {
     "name": "stdout",
     "output_type": "stream",
     "text": [
      "[1] \"Gráfico Boxplot\"\n"
     ]
    },
    {
     "data": {
      "image/png": "[encoded data removed]",
      "text/plain": [
       "Plot with title \"Boxplot do comprimento da pétala por espécie\""
      ]
     },
     "metadata": {
      "image/png": {
       "height": 420,
       "width": 420
      }
     },
     "output_type": "display_data"
    }
   ],
   "source": [
    "#Um outlier são os pontos menores que Q1-1,5 x IQR ou maiores que Q3+1,5 x IQR, onde IQR é Q3-Q1\n",
    "\n",
    "#Boxplot\n",
    "base_iris <- data.frame(iris)\n",
    "\n",
    "print(\"Rápida visualização\")\n",
    "head(base_iris)\n",
    "\n",
    "print(\"Gráfico Boxplot\")\n",
    "boxplot(base_iris$Petal.Length ~ base_iris$Species\n",
    "       , col=(c(\"blue\",\"darkgreen\",\"red\"))\n",
    "       , main=\"Boxplot do comprimento da pétala por espécie\"\n",
    "       , xlab=\"Espédies\", ylab=\"Comprimento da pétala\")"
   ]
  },
  {
   "cell_type": "markdown",
   "id": "2d553d1d",
   "metadata": {},
   "source": [
    "Imediatamente podemos perceber que as flores, quando analisadas em função do comprimento das pétalas, apresentam uma diferenciação clara. Abaixo veremos melhor porque isso fica claro."
   ]
  },
  {
   "cell_type": "code",
   "execution_count": 6,
   "id": "ad7cd99b",
   "metadata": {},
   "outputs": [
    {
     "name": "stdout",
     "output_type": "stream",
     "text": [
      "[1] \"Outliers - Anomalias\"\n"
     ]
    },
    {
     "data": {
      "text/html": [
       "<dl>\n",
       "\t<dt>$stats</dt>\n",
       "\t\t<dd><ol class=list-inline>\n",
       "\t<li>2.2</li>\n",
       "\t<li>2.8</li>\n",
       "\t<li>3</li>\n",
       "\t<li>3.3</li>\n",
       "\t<li>4</li>\n",
       "</ol>\n",
       "</dd>\n",
       "\t<dt>$n</dt>\n",
       "\t\t<dd>150</dd>\n",
       "\t<dt>$conf</dt>\n",
       "\t\t<dd><ol class=list-inline>\n",
       "\t<li>2.93549677010671</li>\n",
       "\t<li>3.06450322989329</li>\n",
       "</ol>\n",
       "</dd>\n",
       "\t<dt>$out</dt>\n",
       "\t\t<dd><ol class=list-inline>\n",
       "\t<li>4.4</li>\n",
       "\t<li>4.1</li>\n",
       "\t<li>4.2</li>\n",
       "\t<li>2</li>\n",
       "</ol>\n",
       "</dd>\n",
       "</dl>\n"
      ],
      "text/latex": [
       "\\begin{description}\n",
       "\\item[\\$stats] \\begin{enumerate*}\n",
       "\\item 2.2\n",
       "\\item 2.8\n",
       "\\item 3\n",
       "\\item 3.3\n",
       "\\item 4\n",
       "\\end{enumerate*}\n",
       "\n",
       "\\item[\\$n] 150\n",
       "\\item[\\$conf] \\begin{enumerate*}\n",
       "\\item 2.93549677010671\n",
       "\\item 3.06450322989329\n",
       "\\end{enumerate*}\n",
       "\n",
       "\\item[\\$out] \\begin{enumerate*}\n",
       "\\item 4.4\n",
       "\\item 4.1\n",
       "\\item 4.2\n",
       "\\item 2\n",
       "\\end{enumerate*}\n",
       "\n",
       "\\end{description}\n"
      ],
      "text/markdown": [
       "$stats\n",
       ":   1. 2.2\n",
       "2. 2.8\n",
       "3. 3\n",
       "4. 3.3\n",
       "5. 4\n",
       "\n",
       "\n",
       "\n",
       "$n\n",
       ":   150\n",
       "$conf\n",
       ":   1. 2.93549677010671\n",
       "2. 3.06450322989329\n",
       "\n",
       "\n",
       "\n",
       "$out\n",
       ":   1. 4.4\n",
       "2. 4.1\n",
       "3. 4.2\n",
       "4. 2\n",
       "\n",
       "\n",
       "\n",
       "\n",
       "\n"
      ],
      "text/plain": [
       "$stats\n",
       "[1] 2.2 2.8 3.0 3.3 4.0\n",
       "\n",
       "$n\n",
       "[1] 150\n",
       "\n",
       "$conf\n",
       "[1] 2.935497 3.064503\n",
       "\n",
       "$out\n",
       "[1] 4.4 4.1 4.2 2.0\n"
      ]
     },
     "metadata": {},
     "output_type": "display_data"
    },
    {
     "data": {
      "image/png": "[encoded data removed]",
      "text/plain": [
       "Plot with title \"Boxplot da largura da sépala\""
      ]
     },
     "metadata": {
      "image/png": {
       "height": 420,
       "width": 420
      }
     },
     "output_type": "display_data"
    }
   ],
   "source": [
    "#Analisando uma característica específica\n",
    "\n",
    "sepala_largura <- base_iris[,2]\n",
    "\n",
    "boxplot(sepala_largura\n",
    "       , main=\"Boxplot da largura da sépala\"\n",
    "       , col=\"blue\")\n",
    "\n",
    "print(\"Outliers - Anomalias\")\n",
    "boxplot.stats(sepala_largura)"
   ]
  },
  {
   "cell_type": "markdown",
   "id": "90e43a76",
   "metadata": {},
   "source": [
    "Na variável $stats acima temos apresentados 5 valores. Estes são os valores característicos do boxplot. <br>\n",
    "O primeiro valor (2.2) é o valor mínimo, corresponde ao menor valor que não é um outlier. <br>\n",
    "O segundo valor (2.8) é o primeiro quartil, o primeiro quartil é o valor que separa os primeiros 25% dos valores da base.<br>\n",
    "O terceiro valor (3) é a mediana, a mediana é o valor que separa a base pela metade, ou seja, 50% dos dados estão acima da mediana e 50% dos dados abaixo dela.<br>\n",
    "O quarto valor (3.3) é o terceiro quartil, que separa os últimos 25% valores dos primeiros 75% valores da base.<br>\n",
    "O quinto valor (4) é o valor máximo, corresponde ao maior valor que não é um outlier.<br>\n",
    "\n",
    "<b>Mas afinal o que é um outlier? </b>\n",
    "\n",
    "Para o boxplot, os outliers (as bolinhas brancas no gráfico acima) são os valores que ultrapassam mais de 150% do valor interquartil abaixo do primeiro quartil e acima do terceiro quartil. Vish, complicado, vamos explicar por partes. O valor interquartil é a diferença entre o primeiro e o terceiro quartis, nesse caso a diferença entre 3,3-2,8 = 0,5, ou seja, é o tamanho do corpo do boxplot. Portanto, 150% do intervalo interquartil é 1,5*0,5 = 0,75. Assim um outlier é todo valor abaixo de 2,8-0,75 = 2,05 e acima de 3,3+0,75 = 4,05."
   ]
  },
  {
   "cell_type": "code",
   "execution_count": 7,
   "id": "a69dbb25",
   "metadata": {},
   "outputs": [],
   "source": [
    "##Fazendo análise de anomalias com a biblioteca do Twitter\n",
    "\n",
    "#library(anomalyDetection)\n",
    "#library(hrbrthemes)"
   ]
  },
  {
   "cell_type": "code",
   "execution_count": 8,
   "id": "5864a0bf",
   "metadata": {},
   "outputs": [
    {
     "data": {
      "text/html": [
       "'C:/Users/andre/Google Drive/Work/OMNP/Data Science'"
      ],
      "text/latex": [
       "'C:/Users/andre/Google Drive/Work/OMNP/Data Science'"
      ],
      "text/markdown": [
       "'C:/Users/andre/Google Drive/Work/OMNP/Data Science'"
      ],
      "text/plain": [
       "[1] \"C:/Users/andre/Google Drive/Work/OMNP/Data Science\""
      ]
     },
     "metadata": {},
     "output_type": "display_data"
    }
   ],
   "source": [
    "getwd()"
   ]
  },
  {
   "cell_type": "code",
   "execution_count": 9,
   "id": "7a4a9462",
   "metadata": {},
   "outputs": [],
   "source": [
    "setwd('Dados')"
   ]
  },
  {
   "cell_type": "code",
   "execution_count": 10,
   "id": "28d761f9",
   "metadata": {},
   "outputs": [
    {
     "data": {
      "text/html": [
       "<table>\n",
       "<thead><tr><th scope=col>timestamp</th><th scope=col>count</th></tr></thead>\n",
       "<tbody>\n",
       "\t<tr><td>1980-09-25 14:01:00</td><td>182.478            </td></tr>\n",
       "\t<tr><td>1980-09-25 14:02:00</td><td>176.231            </td></tr>\n",
       "\t<tr><td>1980-09-25 14:03:00</td><td>183.917            </td></tr>\n",
       "\t<tr><td>1980-09-25 14:04:00</td><td>177.798            </td></tr>\n",
       "\t<tr><td>1980-09-25 14:05:00</td><td>165.469            </td></tr>\n",
       "\t<tr><td>1980-09-25 14:06:00</td><td>181.878            </td></tr>\n",
       "</tbody>\n",
       "</table>\n"
      ],
      "text/latex": [
       "\\begin{tabular}{r|ll}\n",
       " timestamp & count\\\\\n",
       "\\hline\n",
       "\t 1980-09-25 14:01:00 & 182.478            \\\\\n",
       "\t 1980-09-25 14:02:00 & 176.231            \\\\\n",
       "\t 1980-09-25 14:03:00 & 183.917            \\\\\n",
       "\t 1980-09-25 14:04:00 & 177.798            \\\\\n",
       "\t 1980-09-25 14:05:00 & 165.469            \\\\\n",
       "\t 1980-09-25 14:06:00 & 181.878            \\\\\n",
       "\\end{tabular}\n"
      ],
      "text/markdown": [
       "\n",
       "| timestamp | count |\n",
       "|---|---|\n",
       "| 1980-09-25 14:01:00 | 182.478             |\n",
       "| 1980-09-25 14:02:00 | 176.231             |\n",
       "| 1980-09-25 14:03:00 | 183.917             |\n",
       "| 1980-09-25 14:04:00 | 177.798             |\n",
       "| 1980-09-25 14:05:00 | 165.469             |\n",
       "| 1980-09-25 14:06:00 | 181.878             |\n",
       "\n"
      ],
      "text/plain": [
       "  timestamp           count  \n",
       "1 1980-09-25 14:01:00 182.478\n",
       "2 1980-09-25 14:02:00 176.231\n",
       "3 1980-09-25 14:03:00 183.917\n",
       "4 1980-09-25 14:04:00 177.798\n",
       "5 1980-09-25 14:05:00 165.469\n",
       "6 1980-09-25 14:06:00 181.878"
      ]
     },
     "metadata": {},
     "output_type": "display_data"
    },
    {
     "name": "stdout",
     "output_type": "stream",
     "text": [
      "'data.frame':\t14398 obs. of  2 variables:\n",
      " $ timestamp: POSIXlt, format: \"1980-09-25 14:01:00\" \"1980-09-25 14:02:00\" ...\n",
      " $ count    : num  182 176 184 178 165 ...\n"
     ]
    }
   ],
   "source": [
    "# Olhando os dados fornecidos pelo Twitter\n",
    "\n",
    "load('raw_data.rda')\n",
    "head(raw_data)\n",
    "str(raw_data)"
   ]
  },
  {
   "cell_type": "code",
   "execution_count": 11,
   "id": "b6ffc538",
   "metadata": {},
   "outputs": [
    {
     "data": {
      "image/png": "[encoded data removed]",
      "text/plain": [
       "plot without title"
      ]
     },
     "metadata": {
      "image/png": {
       "height": 420,
       "width": 420
      }
     },
     "output_type": "display_data"
    },
    {
     "data": {
      "image/png": "[encoded data removed]",
      "text/plain": [
       "plot without title"
      ]
     },
     "metadata": {
      "image/png": {
       "height": 420,
       "width": 420
      }
     },
     "output_type": "display_data"
    }
   ],
   "source": [
    "res <- AnomalyDetectionTs(raw_data, max_anoms=0.01, direction=\"both\")\n",
    "\n",
    "#for ggplot2\n",
    "raw_data$timestamp <- as.POSIXct(raw_data$timestamp)\n",
    "res$anoms$timestamp <- as.POSIXct(res$anoms$timestamp)\n",
    "\n",
    "ggplot() +\n",
    "geom_line(\n",
    "    data=raw_data, aes(x=timestamp, y=count),\n",
    "    size=0.125, color=\"blue\"\n",
    "    ) +\n",
    "geom_point(\n",
    "    data=res$anoms, aes(timestamp, anoms), color=\"#cb181d\", alpha=1/3\n",
    "    ) + \n",
    "scale_x_datetime(date_labels=\"%b\") +\n",
    "scale_y_comma()"
   ]
  },
  {
   "cell_type": "code",
   "execution_count": 12,
   "id": "89812942",
   "metadata": {},
   "outputs": [
    {
     "name": "stdout",
     "output_type": "stream",
     "text": [
      "[1] \"Gráfico Boxplot\"\n",
      "[1] \"Outliers - Anomalias\"\n"
     ]
    },
    {
     "data": {
      "image/png": "[encoded data removed]",
      "text/plain": [
       "Plot with title \"Boxplot base Twitter\""
      ]
     },
     "metadata": {
      "image/png": {
       "height": 420,
       "width": 420
      }
     },
     "output_type": "display_data"
    }
   ],
   "source": [
    "# Fazendo com o boxplot\n",
    "\n",
    "print(\"Gráfico Boxplot\")\n",
    "boxplot(raw_data[,2]\n",
    "       , main = \"Boxplot base Twitter\"\n",
    "       , ylab = \"Count\")\n",
    "\n",
    "print(\"Outliers - Anomalias\")\n",
    "out <- boxplot.stats(raw_data[,2])$out"
   ]
  },
  {
   "cell_type": "code",
   "execution_count": 13,
   "id": "29ee97b3",
   "metadata": {},
   "outputs": [
    {
     "data": {
      "text/html": [
       "607"
      ],
      "text/latex": [
       "607"
      ],
      "text/markdown": [
       "607"
      ],
      "text/plain": [
       "[1] 607"
      ]
     },
     "metadata": {},
     "output_type": "display_data"
    },
    {
     "data": {
      "text/html": [
       "131"
      ],
      "text/latex": [
       "131"
      ],
      "text/markdown": [
       "131"
      ],
      "text/plain": [
       "[1] 131"
      ]
     },
     "metadata": {},
     "output_type": "display_data"
    }
   ],
   "source": [
    "#São técnicas diferentes\n",
    "length(out)\n",
    "dim(res$anoms)[1]"
   ]
  },
  {
   "cell_type": "markdown",
   "id": "237ee3f5",
   "metadata": {},
   "source": [
    "Acima temos a detecção de anomalias na base de dados do Twitter. Percebemos que o boxplot detectou 607 anomalias, contra 131 da ferramenta do Twitter. "
   ]
  },
  {
   "cell_type": "code",
   "execution_count": 14,
   "id": "0772a726",
   "metadata": {},
   "outputs": [
    {
     "data": {
      "text/html": [
       "<table>\n",
       "<thead><tr><th></th><th scope=col>timestamp</th><th scope=col>out</th></tr></thead>\n",
       "<tbody>\n",
       "\t<tr><th scope=row>1</th><td>1980-09-25 14:01:00</td><td>182.478            </td></tr>\n",
       "\t<tr><th scope=row>2</th><td>1980-09-25 14:02:00</td><td>176.231            </td></tr>\n",
       "\t<tr><th scope=row>3</th><td>1980-09-25 14:03:00</td><td>183.917            </td></tr>\n",
       "\t<tr><th scope=row>4</th><td>1980-09-25 14:04:00</td><td>177.798            </td></tr>\n",
       "\t<tr><th scope=row>6</th><td>1980-09-25 14:06:00</td><td>181.878            </td></tr>\n",
       "\t<tr><th scope=row>7</th><td>1980-09-25 14:07:00</td><td>184.502            </td></tr>\n",
       "</tbody>\n",
       "</table>\n"
      ],
      "text/latex": [
       "\\begin{tabular}{r|ll}\n",
       "  & timestamp & out\\\\\n",
       "\\hline\n",
       "\t1 & 1980-09-25 14:01:00 & 182.478            \\\\\n",
       "\t2 & 1980-09-25 14:02:00 & 176.231            \\\\\n",
       "\t3 & 1980-09-25 14:03:00 & 183.917            \\\\\n",
       "\t4 & 1980-09-25 14:04:00 & 177.798            \\\\\n",
       "\t6 & 1980-09-25 14:06:00 & 181.878            \\\\\n",
       "\t7 & 1980-09-25 14:07:00 & 184.502            \\\\\n",
       "\\end{tabular}\n"
      ],
      "text/markdown": [
       "\n",
       "| <!--/--> | timestamp | out |\n",
       "|---|---|---|\n",
       "| 1 | 1980-09-25 14:01:00 | 182.478             |\n",
       "| 2 | 1980-09-25 14:02:00 | 176.231             |\n",
       "| 3 | 1980-09-25 14:03:00 | 183.917             |\n",
       "| 4 | 1980-09-25 14:04:00 | 177.798             |\n",
       "| 6 | 1980-09-25 14:06:00 | 181.878             |\n",
       "| 7 | 1980-09-25 14:07:00 | 184.502             |\n",
       "\n"
      ],
      "text/plain": [
       "  timestamp           out    \n",
       "1 1980-09-25 14:01:00 182.478\n",
       "2 1980-09-25 14:02:00 176.231\n",
       "3 1980-09-25 14:03:00 183.917\n",
       "4 1980-09-25 14:04:00 177.798\n",
       "6 1980-09-25 14:06:00 181.878\n",
       "7 1980-09-25 14:07:00 184.502"
      ]
     },
     "metadata": {},
     "output_type": "display_data"
    }
   ],
   "source": [
    "#Preparando a base de dados\n",
    "\n",
    "#Mantenho apenas os valores de out que estao dentro de raw_data - todo o resto recebe 0\n",
    "aux <- ifelse(raw_data$count %in% out, raw_data$count, 0)\n",
    "\n",
    "#Cri um novo dataframe para alinhar as datas aos valores de out que foram mantidos\n",
    "novo_df <- data.frame(timestamp = raw_data$timestamp, out = aux)\n",
    "\n",
    "#Filrto todos os valores que sao diferente de 0, mas mantenho o timestamp\n",
    "novo_df <- novo_df [ which(novo_df$out != 0), ]\n",
    "\n",
    "head(novo_df)"
   ]
  },
  {
   "cell_type": "code",
   "execution_count": 15,
   "id": "88bc4906",
   "metadata": {},
   "outputs": [
    {
     "data": {
      "text/plain": [
       "<ScaleContinuousPosition>\n",
       " Range:  \n",
       " Limits:    0 --    1"
      ]
     },
     "metadata": {},
     "output_type": "display_data"
    },
    {
     "data": {
      "image/png": "[encoded data removed]",
      "text/plain": [
       "plot without title"
      ]
     },
     "metadata": {
      "image/png": {
       "height": 420,
       "width": 420
      }
     },
     "output_type": "display_data"
    }
   ],
   "source": [
    "#Grafico com as anomalias da base do Twitter, mas vistas com a técnica boxplot\n",
    "\n",
    "ggplot() + \n",
    "geom_line(\n",
    "    data=raw_data, aes(timestamp, count),\n",
    "    size=0.125, color= \"blue\"\n",
    ") +\n",
    "geom_point(\n",
    "    data=novo_df, aes(timestamp, out), color=\"#cb181d\", alpha=1/3\n",
    ") + \n",
    "scale_x_datetime(date_labels=\"%b\")\n",
    "scale_y_comma()"
   ]
  },
  {
   "cell_type": "markdown",
   "id": "f43da216",
   "metadata": {},
   "source": [
    "<b>Diferença entre os dois métodos</b>\n",
    "\n",
    "O método do boxplot não consegue diferenciar a sazonalidade dos dados e acaba por detectar anomalias nos picos que correspondem aos finais de semana. A ferramenta do Twitter é mais delicada e, portanto, capaz de levar em conta a variação sazonal dos dados. Essa característica reduz muito a ocorrência de falsos positivos e por consequência o custo operacional do modelo."
   ]
  },
  {
   "cell_type": "markdown",
   "id": "7514e467",
   "metadata": {},
   "source": [
    "<b>Detecção de Anomalias no Mercado Financeiro</b>"
   ]
  },
  {
   "cell_type": "code",
   "execution_count": 38,
   "id": "538c2c3f",
   "metadata": {},
   "outputs": [
    {
     "name": "stderr",
     "output_type": "stream",
     "text": [
      "Warning message:\n",
      "\"^BVSP contains missing values. Some functions will not work if objects contain missing values in the middle of the series. Consider using na.omit(), na.approx(), na.fill(), etc to remove or replace them.\"\n"
     ]
    },
    {
     "data": {
      "text/html": [
       "'^BVSP'"
      ],
      "text/latex": [
       "'\\textasciicircum{}BVSP'"
      ],
      "text/markdown": [
       "'^BVSP'"
      ],
      "text/plain": [
       "[1] \"^BVSP\""
      ]
     },
     "metadata": {},
     "output_type": "display_data"
    }
   ],
   "source": [
    "#Periodo de Analise\n",
    "startdate <- as.Date(\"2001-01-01\")\n",
    "enddate <- as.Date(\"2021-12-31\")\n",
    "\n",
    "#Selecao de ativos para analise\n",
    "tickers <- c(\"^BVSP\")\n",
    "\n",
    "#Captura dos dados\n",
    "getSymbols(tickers, src=\"yahoo\", from=startdate, to=enddate)\n",
    "\n",
    "#Renomeando o DF\n",
    "names(BVSP) <- c(\"Open\", \"High\", \"Low\", \"Close\", \"Volume\", \"Ajustado\")\n",
    "BVSP <- data.frame(BVSP)"
   ]
  },
  {
   "cell_type": "code",
   "execution_count": 39,
   "id": "b1332f96",
   "metadata": {},
   "outputs": [
    {
     "data": {
      "text/html": [
       "<table>\n",
       "<thead><tr><th></th><th scope=col>Open</th><th scope=col>High</th><th scope=col>Low</th><th scope=col>Close</th><th scope=col>Volume</th><th scope=col>Ajustado</th></tr></thead>\n",
       "<tbody>\n",
       "\t<tr><th scope=row>2001-01-02</th><td>15242</td><td>15621</td><td>15174</td><td>15425</td><td>0    </td><td>15425</td></tr>\n",
       "\t<tr><th scope=row>2001-01-03</th><td>15425</td><td>16599</td><td>15251</td><td>16599</td><td>0    </td><td>16599</td></tr>\n",
       "\t<tr><th scope=row>2001-01-04</th><td>16597</td><td>16933</td><td>16587</td><td>16675</td><td>0    </td><td>16675</td></tr>\n",
       "\t<tr><th scope=row>2001-01-05</th><td>16679</td><td>16888</td><td>16380</td><td>16410</td><td>0    </td><td>16410</td></tr>\n",
       "\t<tr><th scope=row>2001-01-08</th><td>16398</td><td>16623</td><td>16226</td><td>16562</td><td>0    </td><td>16562</td></tr>\n",
       "\t<tr><th scope=row>2001-01-09</th><td>16566</td><td>17096</td><td>16566</td><td>16976</td><td>0    </td><td>16976</td></tr>\n",
       "</tbody>\n",
       "</table>\n"
      ],
      "text/latex": [
       "\\begin{tabular}{r|llllll}\n",
       "  & Open & High & Low & Close & Volume & Ajustado\\\\\n",
       "\\hline\n",
       "\t2001-01-02 & 15242 & 15621 & 15174 & 15425 & 0     & 15425\\\\\n",
       "\t2001-01-03 & 15425 & 16599 & 15251 & 16599 & 0     & 16599\\\\\n",
       "\t2001-01-04 & 16597 & 16933 & 16587 & 16675 & 0     & 16675\\\\\n",
       "\t2001-01-05 & 16679 & 16888 & 16380 & 16410 & 0     & 16410\\\\\n",
       "\t2001-01-08 & 16398 & 16623 & 16226 & 16562 & 0     & 16562\\\\\n",
       "\t2001-01-09 & 16566 & 17096 & 16566 & 16976 & 0     & 16976\\\\\n",
       "\\end{tabular}\n"
      ],
      "text/markdown": [
       "\n",
       "| <!--/--> | Open | High | Low | Close | Volume | Ajustado |\n",
       "|---|---|---|---|---|---|---|\n",
       "| 2001-01-02 | 15242 | 15621 | 15174 | 15425 | 0     | 15425 |\n",
       "| 2001-01-03 | 15425 | 16599 | 15251 | 16599 | 0     | 16599 |\n",
       "| 2001-01-04 | 16597 | 16933 | 16587 | 16675 | 0     | 16675 |\n",
       "| 2001-01-05 | 16679 | 16888 | 16380 | 16410 | 0     | 16410 |\n",
       "| 2001-01-08 | 16398 | 16623 | 16226 | 16562 | 0     | 16562 |\n",
       "| 2001-01-09 | 16566 | 17096 | 16566 | 16976 | 0     | 16976 |\n",
       "\n"
      ],
      "text/plain": [
       "           Open  High  Low   Close Volume Ajustado\n",
       "2001-01-02 15242 15621 15174 15425 0      15425   \n",
       "2001-01-03 15425 16599 15251 16599 0      16599   \n",
       "2001-01-04 16597 16933 16587 16675 0      16675   \n",
       "2001-01-05 16679 16888 16380 16410 0      16410   \n",
       "2001-01-08 16398 16623 16226 16562 0      16562   \n",
       "2001-01-09 16566 17096 16566 16976 0      16976   "
      ]
     },
     "metadata": {},
     "output_type": "display_data"
    }
   ],
   "source": [
    "head(BVSP)"
   ]
  },
  {
   "cell_type": "code",
   "execution_count": 40,
   "id": "2b350307",
   "metadata": {},
   "outputs": [
    {
     "data": {
      "text/html": [
       "<table>\n",
       "<thead><tr><th scope=col>Date</th><th scope=col>Open</th><th scope=col>High</th><th scope=col>Low</th><th scope=col>Close</th><th scope=col>Volume</th><th scope=col>Ajustado</th></tr></thead>\n",
       "<tbody>\n",
       "\t<tr><td>2001-01-02</td><td>15242     </td><td>15621     </td><td>15174     </td><td>15425     </td><td>0         </td><td>15425     </td></tr>\n",
       "\t<tr><td>2001-01-03</td><td>15425     </td><td>16599     </td><td>15251     </td><td>16599     </td><td>0         </td><td>16599     </td></tr>\n",
       "\t<tr><td>2001-01-04</td><td>16597     </td><td>16933     </td><td>16587     </td><td>16675     </td><td>0         </td><td>16675     </td></tr>\n",
       "\t<tr><td>2001-01-05</td><td>16679     </td><td>16888     </td><td>16380     </td><td>16410     </td><td>0         </td><td>16410     </td></tr>\n",
       "\t<tr><td>2001-01-08</td><td>16398     </td><td>16623     </td><td>16226     </td><td>16562     </td><td>0         </td><td>16562     </td></tr>\n",
       "\t<tr><td>2001-01-09</td><td>16566     </td><td>17096     </td><td>16566     </td><td>16976     </td><td>0         </td><td>16976     </td></tr>\n",
       "</tbody>\n",
       "</table>\n"
      ],
      "text/latex": [
       "\\begin{tabular}{r|lllllll}\n",
       " Date & Open & High & Low & Close & Volume & Ajustado\\\\\n",
       "\\hline\n",
       "\t 2001-01-02 & 15242      & 15621      & 15174      & 15425      & 0          & 15425     \\\\\n",
       "\t 2001-01-03 & 15425      & 16599      & 15251      & 16599      & 0          & 16599     \\\\\n",
       "\t 2001-01-04 & 16597      & 16933      & 16587      & 16675      & 0          & 16675     \\\\\n",
       "\t 2001-01-05 & 16679      & 16888      & 16380      & 16410      & 0          & 16410     \\\\\n",
       "\t 2001-01-08 & 16398      & 16623      & 16226      & 16562      & 0          & 16562     \\\\\n",
       "\t 2001-01-09 & 16566      & 17096      & 16566      & 16976      & 0          & 16976     \\\\\n",
       "\\end{tabular}\n"
      ],
      "text/markdown": [
       "\n",
       "| Date | Open | High | Low | Close | Volume | Ajustado |\n",
       "|---|---|---|---|---|---|---|\n",
       "| 2001-01-02 | 15242      | 15621      | 15174      | 15425      | 0          | 15425      |\n",
       "| 2001-01-03 | 15425      | 16599      | 15251      | 16599      | 0          | 16599      |\n",
       "| 2001-01-04 | 16597      | 16933      | 16587      | 16675      | 0          | 16675      |\n",
       "| 2001-01-05 | 16679      | 16888      | 16380      | 16410      | 0          | 16410      |\n",
       "| 2001-01-08 | 16398      | 16623      | 16226      | 16562      | 0          | 16562      |\n",
       "| 2001-01-09 | 16566      | 17096      | 16566      | 16976      | 0          | 16976      |\n",
       "\n"
      ],
      "text/plain": [
       "  Date       Open  High  Low   Close Volume Ajustado\n",
       "1 2001-01-02 15242 15621 15174 15425 0      15425   \n",
       "2 2001-01-03 15425 16599 15251 16599 0      16599   \n",
       "3 2001-01-04 16597 16933 16587 16675 0      16675   \n",
       "4 2001-01-05 16679 16888 16380 16410 0      16410   \n",
       "5 2001-01-08 16398 16623 16226 16562 0      16562   \n",
       "6 2001-01-09 16566 17096 16566 16976 0      16976   "
      ]
     },
     "metadata": {},
     "output_type": "display_data"
    }
   ],
   "source": [
    "Date <- rownames(BVSP)\n",
    "\n",
    "rownames(BVSP) <- NULL\n",
    "\n",
    "BVSP <- cbind(Date, BVSP)\n",
    "\n",
    "head(BVSP)"
   ]
  },
  {
   "cell_type": "code",
   "execution_count": 41,
   "id": "6788361a",
   "metadata": {},
   "outputs": [],
   "source": [
    "BVSP <- na.omit(BVSP)\n",
    "\n",
    "sub_bvsp <- BVSP[,c(\"Date\", \"Close\")]"
   ]
  },
  {
   "cell_type": "code",
   "execution_count": 42,
   "id": "f1d8fbdc",
   "metadata": {},
   "outputs": [
    {
     "data": {
      "text/html": [
       "<table>\n",
       "<thead><tr><th scope=col>Date</th><th scope=col>Close</th></tr></thead>\n",
       "<tbody>\n",
       "\t<tr><td>2001-01-02</td><td>15425     </td></tr>\n",
       "\t<tr><td>2001-01-03</td><td>16599     </td></tr>\n",
       "\t<tr><td>2001-01-04</td><td>16675     </td></tr>\n",
       "\t<tr><td>2001-01-05</td><td>16410     </td></tr>\n",
       "\t<tr><td>2001-01-08</td><td>16562     </td></tr>\n",
       "\t<tr><td>2001-01-09</td><td>16976     </td></tr>\n",
       "</tbody>\n",
       "</table>\n"
      ],
      "text/latex": [
       "\\begin{tabular}{r|ll}\n",
       " Date & Close\\\\\n",
       "\\hline\n",
       "\t 2001-01-02 & 15425     \\\\\n",
       "\t 2001-01-03 & 16599     \\\\\n",
       "\t 2001-01-04 & 16675     \\\\\n",
       "\t 2001-01-05 & 16410     \\\\\n",
       "\t 2001-01-08 & 16562     \\\\\n",
       "\t 2001-01-09 & 16976     \\\\\n",
       "\\end{tabular}\n"
      ],
      "text/markdown": [
       "\n",
       "| Date | Close |\n",
       "|---|---|\n",
       "| 2001-01-02 | 15425      |\n",
       "| 2001-01-03 | 16599      |\n",
       "| 2001-01-04 | 16675      |\n",
       "| 2001-01-05 | 16410      |\n",
       "| 2001-01-08 | 16562      |\n",
       "| 2001-01-09 | 16976      |\n",
       "\n"
      ],
      "text/plain": [
       "  Date       Close\n",
       "1 2001-01-02 15425\n",
       "2 2001-01-03 16599\n",
       "3 2001-01-04 16675\n",
       "4 2001-01-05 16410\n",
       "5 2001-01-08 16562\n",
       "6 2001-01-09 16976"
      ]
     },
     "metadata": {},
     "output_type": "display_data"
    }
   ],
   "source": [
    "sub_bvsp$Date <- as.POSIXct(sub_bvsp$Date)\n",
    "\n",
    "head(sub_bvsp)"
   ]
  },
  {
   "cell_type": "code",
   "execution_count": 43,
   "id": "9de37dc7",
   "metadata": {},
   "outputs": [
    {
     "data": {
      "image/png": "[encoded data removed]",
      "text/plain": [
       "plot without title"
      ]
     },
     "metadata": {
      "image/png": {
       "height": 420,
       "width": 420
      }
     },
     "output_type": "display_data"
    }
   ],
   "source": [
    "plot(sub_bvsp$Close, type = \"l\")"
   ]
  },
  {
   "cell_type": "code",
   "execution_count": 44,
   "id": "c6aa7e15",
   "metadata": {},
   "outputs": [
    {
     "data": {
      "image/png": "[encoded data removed]",
      "text/plain": [
       "Plot with title \"Boxplot Bovespa\""
      ]
     },
     "metadata": {
      "image/png": {
       "height": 420,
       "width": 420
      }
     },
     "output_type": "display_data"
    }
   ],
   "source": [
    "# Existem outliers?\n",
    "\n",
    "boxplot(sub_bvsp$Close\n",
    "       , main=\"Boxplot Bovespa\"\n",
    "       , ylab=\"Pontos\")"
   ]
  },
  {
   "cell_type": "code",
   "execution_count": 45,
   "id": "1bae83f2",
   "metadata": {},
   "outputs": [
    {
     "name": "stdout",
     "output_type": "stream",
     "text": [
      "List of 2\n",
      " $ anoms:'data.frame':\t0 obs. of  0 variables\n",
      " $ plot : NULL\n"
     ]
    },
    {
     "data": {
      "image/png": "[encoded data removed]",
      "text/plain": [
       "plot without title"
      ]
     },
     "metadata": {
      "image/png": {
       "height": 420,
       "width": 420
      }
     },
     "output_type": "display_data"
    }
   ],
   "source": [
    "ad_bvsp <- AnomalyDetectionTs(sub_bvsp, max_anoms=0.1, direction = \"both\", alpha = 0.05)\n",
    "\n",
    "str(ad_bvsp)"
   ]
  },
  {
   "cell_type": "markdown",
   "id": "3e9ba366",
   "metadata": {},
   "source": [
    "Ao aplicar ambos os métodos temos que o boxplot identificou poucos outliers próximo ao fim da série de dados e a ferramenta do Twitter não detecou nenhum. Assim, para essa análise serão necessárias técnicas mais robustas como, por exemplo, machine learning."
   ]
  }
 ],
 "metadata": {
  "kernelspec": {
   "display_name": "R",
   "language": "R",
   "name": "ir"
  },
  "language_info": {
   "codemirror_mode": "r",
   "file_extension": ".r",
   "mimetype": "text/x-r-source",
   "name": "R",
   "pygments_lexer": "r",
   "version": "3.6.1"
  }
 },
 "nbformat": 4,
 "nbformat_minor": 5
}
