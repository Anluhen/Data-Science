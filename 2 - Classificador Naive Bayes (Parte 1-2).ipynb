{
 "cells": [
  {
   "cell_type": "code",
   "execution_count": 1,
   "id": "bf0d6232",
   "metadata": {},
   "outputs": [
    {
     "name": "stderr",
     "output_type": "stream",
     "text": [
      "-- \u001b[1mAttaching packages\u001b[22m --------------------------------------- tidyverse 1.2.1 --\n",
      "\n",
      "\u001b[32mv\u001b[39m \u001b[34mggplot2\u001b[39m 3.3.3     \u001b[32mv\u001b[39m \u001b[34mpurrr  \u001b[39m 0.3.2\n",
      "\u001b[32mv\u001b[39m \u001b[34mtibble \u001b[39m 3.1.1     \u001b[32mv\u001b[39m \u001b[34mdplyr  \u001b[39m 1.0.6\n",
      "\u001b[32mv\u001b[39m \u001b[34mtidyr  \u001b[39m 1.1.3     \u001b[32mv\u001b[39m \u001b[34mstringr\u001b[39m 1.4.0\n",
      "\u001b[32mv\u001b[39m \u001b[34mreadr  \u001b[39m 1.3.1     \u001b[32mv\u001b[39m \u001b[34mforcats\u001b[39m 0.5.1\n",
      "\n",
      "Warning message:\n",
      "\"package 'ggplot2' was built under R version 3.6.3\"\n",
      "Warning message:\n",
      "\"package 'tibble' was built under R version 3.6.3\"\n",
      "Warning message:\n",
      "\"package 'tidyr' was built under R version 3.6.3\"\n",
      "Warning message:\n",
      "\"package 'dplyr' was built under R version 3.6.3\"\n",
      "Warning message:\n",
      "\"package 'forcats' was built under R version 3.6.3\"\n",
      "-- \u001b[1mConflicts\u001b[22m ------------------------------------------ tidyverse_conflicts() --\n",
      "\u001b[31mx\u001b[39m \u001b[34mdplyr\u001b[39m::\u001b[32mfilter()\u001b[39m masks \u001b[34mstats\u001b[39m::filter()\n",
      "\u001b[31mx\u001b[39m \u001b[34mdplyr\u001b[39m::\u001b[32mlag()\u001b[39m    masks \u001b[34mstats\u001b[39m::lag()\n",
      "\n",
      "Warning message:\n",
      "\"package 'ggpubr' was built under R version 3.6.3\"\n",
      "Warning message:\n",
      "\"package 'gridExtra' was built under R version 3.6.3\"\n",
      "\n",
      "Attaching package: 'gridExtra'\n",
      "\n",
      "\n",
      "The following object is masked from 'package:dplyr':\n",
      "\n",
      "    combine\n",
      "\n",
      "\n",
      "Loading required package: lattice\n",
      "\n",
      "\n",
      "Attaching package: 'caret'\n",
      "\n",
      "\n",
      "The following object is masked from 'package:purrr':\n",
      "\n",
      "    lift\n",
      "\n",
      "\n"
     ]
    }
   ],
   "source": [
    "library(tidyverse)\n",
    "library(ggpubr)\n",
    "library(gridExtra)\n",
    "library(caret)\n",
    "library(e1071)"
   ]
  },
  {
   "cell_type": "code",
   "execution_count": 2,
   "id": "c7edfe5c",
   "metadata": {},
   "outputs": [],
   "source": [
    "#Muda o diretório de trabalho\n",
    "\n",
    "setwd(\"Dados\")"
   ]
  },
  {
   "cell_type": "code",
   "execution_count": 3,
   "id": "268047e0",
   "metadata": {},
   "outputs": [],
   "source": [
    "#Importando arquivos do tipo CSV - funcao read.table\n",
    "\n",
    "bank_data <- read.table(\"bank-full.csv\"\n",
    "                       , header = TRUE, sep = \";\")"
   ]
  },
  {
   "cell_type": "code",
   "execution_count": 4,
   "id": "b5337d03",
   "metadata": {},
   "outputs": [
    {
     "data": {
      "text/html": [
       "<table>\n",
       "<thead><tr><th scope=col>age</th><th scope=col>job</th><th scope=col>marital</th><th scope=col>education</th><th scope=col>default</th><th scope=col>balance</th><th scope=col>housing</th><th scope=col>loan</th><th scope=col>contact</th><th scope=col>day</th><th scope=col>month</th><th scope=col>duration</th><th scope=col>campaign</th><th scope=col>pdays</th><th scope=col>previous</th><th scope=col>poutcome</th><th scope=col>y</th></tr></thead>\n",
       "<tbody>\n",
       "\t<tr><td>58          </td><td>management  </td><td>married     </td><td>tertiary    </td><td>no          </td><td>2143        </td><td>yes         </td><td>no          </td><td>unknown     </td><td>5           </td><td>may         </td><td>261         </td><td>1           </td><td>-1          </td><td>0           </td><td>unknown     </td><td>no          </td></tr>\n",
       "\t<tr><td>44          </td><td>technician  </td><td>single      </td><td>secondary   </td><td>no          </td><td>  29        </td><td>yes         </td><td>no          </td><td>unknown     </td><td>5           </td><td>may         </td><td>151         </td><td>1           </td><td>-1          </td><td>0           </td><td>unknown     </td><td>no          </td></tr>\n",
       "\t<tr><td>33          </td><td>entrepreneur</td><td>married     </td><td>secondary   </td><td>no          </td><td>   2        </td><td>yes         </td><td>yes         </td><td>unknown     </td><td>5           </td><td>may         </td><td> 76         </td><td>1           </td><td>-1          </td><td>0           </td><td>unknown     </td><td>no          </td></tr>\n",
       "\t<tr><td>47          </td><td>blue-collar </td><td>married     </td><td>unknown     </td><td>no          </td><td>1506        </td><td>yes         </td><td>no          </td><td>unknown     </td><td>5           </td><td>may         </td><td> 92         </td><td>1           </td><td>-1          </td><td>0           </td><td>unknown     </td><td>no          </td></tr>\n",
       "\t<tr><td>33          </td><td>unknown     </td><td>single      </td><td>unknown     </td><td>no          </td><td>   1        </td><td>no          </td><td>no          </td><td>unknown     </td><td>5           </td><td>may         </td><td>198         </td><td>1           </td><td>-1          </td><td>0           </td><td>unknown     </td><td>no          </td></tr>\n",
       "\t<tr><td>35          </td><td>management  </td><td>married     </td><td>tertiary    </td><td>no          </td><td> 231        </td><td>yes         </td><td>no          </td><td>unknown     </td><td>5           </td><td>may         </td><td>139         </td><td>1           </td><td>-1          </td><td>0           </td><td>unknown     </td><td>no          </td></tr>\n",
       "</tbody>\n",
       "</table>\n"
      ],
      "text/latex": [
       "\\begin{tabular}{r|lllllllllllllllll}\n",
       " age & job & marital & education & default & balance & housing & loan & contact & day & month & duration & campaign & pdays & previous & poutcome & y\\\\\n",
       "\\hline\n",
       "\t 58           & management   & married      & tertiary     & no           & 2143         & yes          & no           & unknown      & 5            & may          & 261          & 1            & -1           & 0            & unknown      & no          \\\\\n",
       "\t 44           & technician   & single       & secondary    & no           &   29         & yes          & no           & unknown      & 5            & may          & 151          & 1            & -1           & 0            & unknown      & no          \\\\\n",
       "\t 33           & entrepreneur & married      & secondary    & no           &    2         & yes          & yes          & unknown      & 5            & may          &  76          & 1            & -1           & 0            & unknown      & no          \\\\\n",
       "\t 47           & blue-collar  & married      & unknown      & no           & 1506         & yes          & no           & unknown      & 5            & may          &  92          & 1            & -1           & 0            & unknown      & no          \\\\\n",
       "\t 33           & unknown      & single       & unknown      & no           &    1         & no           & no           & unknown      & 5            & may          & 198          & 1            & -1           & 0            & unknown      & no          \\\\\n",
       "\t 35           & management   & married      & tertiary     & no           &  231         & yes          & no           & unknown      & 5            & may          & 139          & 1            & -1           & 0            & unknown      & no          \\\\\n",
       "\\end{tabular}\n"
      ],
      "text/markdown": [
       "\n",
       "| age | job | marital | education | default | balance | housing | loan | contact | day | month | duration | campaign | pdays | previous | poutcome | y |\n",
       "|---|---|---|---|---|---|---|---|---|---|---|---|---|---|---|---|---|\n",
       "| 58           | management   | married      | tertiary     | no           | 2143         | yes          | no           | unknown      | 5            | may          | 261          | 1            | -1           | 0            | unknown      | no           |\n",
       "| 44           | technician   | single       | secondary    | no           |   29         | yes          | no           | unknown      | 5            | may          | 151          | 1            | -1           | 0            | unknown      | no           |\n",
       "| 33           | entrepreneur | married      | secondary    | no           |    2         | yes          | yes          | unknown      | 5            | may          |  76          | 1            | -1           | 0            | unknown      | no           |\n",
       "| 47           | blue-collar  | married      | unknown      | no           | 1506         | yes          | no           | unknown      | 5            | may          |  92          | 1            | -1           | 0            | unknown      | no           |\n",
       "| 33           | unknown      | single       | unknown      | no           |    1         | no           | no           | unknown      | 5            | may          | 198          | 1            | -1           | 0            | unknown      | no           |\n",
       "| 35           | management   | married      | tertiary     | no           |  231         | yes          | no           | unknown      | 5            | may          | 139          | 1            | -1           | 0            | unknown      | no           |\n",
       "\n"
      ],
      "text/plain": [
       "  age job          marital education default balance housing loan contact day\n",
       "1 58  management   married tertiary  no      2143    yes     no   unknown 5  \n",
       "2 44  technician   single  secondary no        29    yes     no   unknown 5  \n",
       "3 33  entrepreneur married secondary no         2    yes     yes  unknown 5  \n",
       "4 47  blue-collar  married unknown   no      1506    yes     no   unknown 5  \n",
       "5 33  unknown      single  unknown   no         1    no      no   unknown 5  \n",
       "6 35  management   married tertiary  no       231    yes     no   unknown 5  \n",
       "  month duration campaign pdays previous poutcome y \n",
       "1 may   261      1        -1    0        unknown  no\n",
       "2 may   151      1        -1    0        unknown  no\n",
       "3 may    76      1        -1    0        unknown  no\n",
       "4 may    92      1        -1    0        unknown  no\n",
       "5 may   198      1        -1    0        unknown  no\n",
       "6 may   139      1        -1    0        unknown  no"
      ]
     },
     "metadata": {},
     "output_type": "display_data"
    },
    {
     "data": {
      "text/html": [
       "<ol class=list-inline>\n",
       "\t<li>45211</li>\n",
       "\t<li>17</li>\n",
       "</ol>\n"
      ],
      "text/latex": [
       "\\begin{enumerate*}\n",
       "\\item 45211\n",
       "\\item 17\n",
       "\\end{enumerate*}\n"
      ],
      "text/markdown": [
       "1. 45211\n",
       "2. 17\n",
       "\n",
       "\n"
      ],
      "text/plain": [
       "[1] 45211    17"
      ]
     },
     "metadata": {},
     "output_type": "display_data"
    },
    {
     "name": "stdout",
     "output_type": "stream",
     "text": [
      "'data.frame':\t45211 obs. of  17 variables:\n",
      " $ age      : int  58 44 33 47 33 35 28 42 58 43 ...\n",
      " $ job      : Factor w/ 12 levels \"admin.\",\"blue-collar\",..: 5 10 3 2 12 5 5 3 6 10 ...\n",
      " $ marital  : Factor w/ 3 levels \"divorced\",\"married\",..: 2 3 2 2 3 2 3 1 2 3 ...\n",
      " $ education: Factor w/ 4 levels \"primary\",\"secondary\",..: 3 2 2 4 4 3 3 3 1 2 ...\n",
      " $ default  : Factor w/ 2 levels \"no\",\"yes\": 1 1 1 1 1 1 1 2 1 1 ...\n",
      " $ balance  : int  2143 29 2 1506 1 231 447 2 121 593 ...\n",
      " $ housing  : Factor w/ 2 levels \"no\",\"yes\": 2 2 2 2 1 2 2 2 2 2 ...\n",
      " $ loan     : Factor w/ 2 levels \"no\",\"yes\": 1 1 2 1 1 1 2 1 1 1 ...\n",
      " $ contact  : Factor w/ 3 levels \"cellular\",\"telephone\",..: 3 3 3 3 3 3 3 3 3 3 ...\n",
      " $ day      : int  5 5 5 5 5 5 5 5 5 5 ...\n",
      " $ month    : Factor w/ 12 levels \"apr\",\"aug\",\"dec\",..: 9 9 9 9 9 9 9 9 9 9 ...\n",
      " $ duration : int  261 151 76 92 198 139 217 380 50 55 ...\n",
      " $ campaign : int  1 1 1 1 1 1 1 1 1 1 ...\n",
      " $ pdays    : int  -1 -1 -1 -1 -1 -1 -1 -1 -1 -1 ...\n",
      " $ previous : int  0 0 0 0 0 0 0 0 0 0 ...\n",
      " $ poutcome : Factor w/ 4 levels \"failure\",\"other\",..: 4 4 4 4 4 4 4 4 4 4 ...\n",
      " $ y        : Factor w/ 2 levels \"no\",\"yes\": 1 1 1 1 1 1 1 1 1 1 ...\n"
     ]
    }
   ],
   "source": [
    "#Conhecendo a base de daods\n",
    "\n",
    "head(bank_data)\n",
    "\n",
    "dim(bank_data)\n",
    "\n",
    "str(bank_data)"
   ]
  },
  {
   "cell_type": "code",
   "execution_count": 5,
   "id": "54730321",
   "metadata": {},
   "outputs": [
    {
     "data": {
      "text/html": [
       "<table>\n",
       "<thead><tr><th scope=col>y</th><th scope=col>n</th></tr></thead>\n",
       "<tbody>\n",
       "\t<tr><td>no   </td><td>39922</td></tr>\n",
       "\t<tr><td>yes  </td><td> 5289</td></tr>\n",
       "</tbody>\n",
       "</table>\n"
      ],
      "text/latex": [
       "\\begin{tabular}{r|ll}\n",
       " y & n\\\\\n",
       "\\hline\n",
       "\t no    & 39922\\\\\n",
       "\t yes   &  5289\\\\\n",
       "\\end{tabular}\n"
      ],
      "text/markdown": [
       "\n",
       "| y | n |\n",
       "|---|---|\n",
       "| no    | 39922 |\n",
       "| yes   |  5289 |\n",
       "\n"
      ],
      "text/plain": [
       "  y   n    \n",
       "1 no  39922\n",
       "2 yes  5289"
      ]
     },
     "metadata": {},
     "output_type": "display_data"
    }
   ],
   "source": [
    "bank_data %>% count(y)"
   ]
  },
  {
   "cell_type": "code",
   "execution_count": 6,
   "id": "205390ff",
   "metadata": {},
   "outputs": [
    {
     "data": {
      "text/plain": [
       "               Target\n",
       "Job                no   yes\n",
       "  admin.        87.80 12.20\n",
       "  blue-collar   92.73  7.27\n",
       "  entrepreneur  91.73  8.27\n",
       "  housemaid     91.21  8.79\n",
       "  management    86.24 13.76\n",
       "  retired       77.21 22.79\n",
       "  self-employed 88.16 11.84\n",
       "  services      91.12  8.88\n",
       "  student       71.32 28.68\n",
       "  technician    88.94 11.06\n",
       "  unemployed    84.50 15.50\n",
       "  unknown       88.19 11.81"
      ]
     },
     "metadata": {},
     "output_type": "display_data"
    },
    {
     "data": {
      "text/plain": [
       "          Target\n",
       "Marital       no   yes\n",
       "  divorced 88.05 11.95\n",
       "  married  89.88 10.12\n",
       "  single   85.05 14.95"
      ]
     },
     "metadata": {},
     "output_type": "display_data"
    },
    {
     "data": {
      "text/plain": [
       "           Target\n",
       "Education      no   yes\n",
       "  primary   91.37  8.63\n",
       "  secondary 89.44 10.56\n",
       "  tertiary  84.99 15.01\n",
       "  unknown   86.43 13.57"
      ]
     },
     "metadata": {},
     "output_type": "display_data"
    },
    {
     "data": {
      "text/plain": [
       "       Target\n",
       "Default    no   yes\n",
       "    no  88.20 11.80\n",
       "    yes 93.62  6.38"
      ]
     },
     "metadata": {},
     "output_type": "display_data"
    },
    {
     "data": {
      "text/plain": [
       "       Target\n",
       "Housing   no  yes\n",
       "    no  83.3 16.7\n",
       "    yes 92.3  7.7"
      ]
     },
     "metadata": {},
     "output_type": "display_data"
    },
    {
     "data": {
      "text/plain": [
       "     Target\n",
       "Loan     no   yes\n",
       "  no  87.34 12.66\n",
       "  yes 93.32  6.68"
      ]
     },
     "metadata": {},
     "output_type": "display_data"
    },
    {
     "data": {
      "text/plain": [
       "           Target\n",
       "Contact        no   yes\n",
       "  cellular  85.08 14.92\n",
       "  telephone 86.58 13.42\n",
       "  unknown   95.93  4.07"
      ]
     },
     "metadata": {},
     "output_type": "display_data"
    },
    {
     "data": {
      "text/plain": [
       "     Target\n",
       "Month    no   yes\n",
       "  apr 80.32 19.68\n",
       "  aug 88.99 11.01\n",
       "  dec 53.27 46.73\n",
       "  feb 83.35 16.65\n",
       "  jan 89.88 10.12\n",
       "  jul 90.91  9.09\n",
       "  jun 89.78 10.22\n",
       "  mar 48.01 51.99\n",
       "  may 93.28  6.72\n",
       "  nov 89.85 10.15\n",
       "  oct 56.23 43.77\n",
       "  sep 53.54 46.46"
      ]
     },
     "metadata": {},
     "output_type": "display_data"
    },
    {
     "data": {
      "text/plain": [
       "         Target\n",
       "Poutcome     no   yes\n",
       "  failure 87.39 12.61\n",
       "  other   83.32 16.68\n",
       "  success 35.27 64.73\n",
       "  unknown 90.84  9.16"
      ]
     },
     "metadata": {},
     "output_type": "display_data"
    }
   ],
   "source": [
    "#Visualizadno as variaveis categoricas - Factor\n",
    "\n",
    "round(prop.table(table(bank_data$job,bank_data$y, dnn = c(\"Job\", \"Target\")),1)*100,2)\n",
    "round(prop.table(table(bank_data$marital,bank_data$y, dnn = c(\"Marital\", \"Target\")),1)*100,2)\n",
    "round(prop.table(table(bank_data$education,bank_data$y, dnn = c(\"Education\", \"Target\")),1)*100,2)\n",
    "round(prop.table(table(bank_data$default,bank_data$y, dnn = c(\"Default\", \"Target\")),1)*100,2)\n",
    "round(prop.table(table(bank_data$housing,bank_data$y, dnn = c(\"Housing\", \"Target\")),1)*100,2)\n",
    "round(prop.table(table(bank_data$loan,bank_data$y, dnn = c(\"Loan\", \"Target\")),1)*100,2)\n",
    "round(prop.table(table(bank_data$contact,bank_data$y, dnn = c(\"Contact\", \"Target\")),1)*100,2)\n",
    "round(prop.table(table(bank_data$month,bank_data$y, dnn = c(\"Month\", \"Target\")),1)*100,2)\n",
    "round(prop.table(table(bank_data$poutcome,bank_data$y, dnn = c(\"Poutcome\", \"Target\")),1)*100,2)"
   ]
  },
  {
   "cell_type": "code",
   "execution_count": 7,
   "id": "81bdda95",
   "metadata": {},
   "outputs": [],
   "source": [
    "#Visualizadno as variaveis continuas\n",
    "\n",
    "bp_age <- ggplot(bank_data, aes(x = y, y = age)) +\n",
    "        geom_boxplot(fill = \"#228822\", colour = \"#1F3552\", alpha = 0.6) +\n",
    "        scale_y_continuous(name = \"Age\") +\n",
    "        scale_x_discrete(name = \"Target\") +\n",
    "        ggtitle(\"Age\") +\n",
    "        theme_gray() + \n",
    "        theme(plot.title = element_text(hjust = 0.5))\n",
    "\n",
    "bp_balance <- ggplot(bank_data, aes(x = y, y = balance)) +\n",
    "        geom_boxplot(fill = \"#228822\", colour = \"#1F3552\", alpha = 0.6) +\n",
    "        scale_y_continuous(name = \"Balance\") +\n",
    "        scale_x_discrete(name = \"Target\") +\n",
    "        ggtitle(\"Balance\") +\n",
    "        theme_gray() + \n",
    "        theme(plot.title = element_text(hjust = 0.5))\n",
    "\n",
    "bp_day <- ggplot(bank_data, aes(x = y, y = day)) +\n",
    "        geom_boxplot(fill = \"#228822\", colour = \"#1F3552\", alpha = 0.6) +\n",
    "        scale_y_continuous(name = \"Day\") +\n",
    "        scale_x_discrete(name = \"Target\") +\n",
    "        ggtitle(\"Day\") +\n",
    "        theme_gray() + \n",
    "        theme(plot.title = element_text(hjust = 0.5))\n",
    "\n",
    "bp_duration <- ggplot(bank_data, aes(x = y, y = duration)) +\n",
    "        geom_boxplot(fill = \"#228822\", colour = \"#1F3552\", alpha = 0.6) +\n",
    "        scale_y_continuous(name = \"Duration\") +\n",
    "        scale_x_discrete(name = \"Target\") +\n",
    "        ggtitle(\"Duration\") +\n",
    "        theme_gray() + \n",
    "        theme(plot.title = element_text(hjust = 0.5))\n",
    "\n",
    "bp_campaign <- ggplot(bank_data, aes(x = y, y = campaign)) +\n",
    "        geom_boxplot(fill = \"#228822\", colour = \"#1F3552\", alpha = 0.6) +\n",
    "        scale_y_continuous(name = \"Campaign\") +\n",
    "        scale_x_discrete(name = \"Target\") +\n",
    "        ggtitle(\"Campaign\") +\n",
    "        theme_gray() + \n",
    "        theme(plot.title = element_text(hjust = 0.5))\n",
    "\n",
    "bp_pdays <- ggplot(bank_data, aes(x = y, y = pdays)) +\n",
    "        geom_boxplot(fill = \"#228822\", colour = \"#1F3552\", alpha = 0.6) +\n",
    "        scale_y_continuous(name = \"Pdays\") +\n",
    "        scale_x_discrete(name = \"Target\") +\n",
    "        ggtitle(\"Pdays\") +\n",
    "        theme_gray() + \n",
    "        theme(plot.title = element_text(hjust = 0.5))\n",
    "\n",
    "bp_previous <- ggplot(bank_data, aes(x = y, y = previous)) +\n",
    "        geom_boxplot(fill = \"#228822\", colour = \"#1F3552\", alpha = 0.6) +\n",
    "        scale_y_continuous(name = \"Previous\") +\n",
    "        scale_x_discrete(name = \"Target\") +\n",
    "        ggtitle(\"Previous\") +\n",
    "        theme_gray() + \n",
    "        theme(plot.title = element_text(hjust = 0.5))"
   ]
  },
  {
   "cell_type": "code",
   "execution_count": 8,
   "id": "830d08ff",
   "metadata": {},
   "outputs": [
    {
     "data": {
      "image/png": "[encoded data removed]",
      "text/plain": [
       "plot without title"
      ]
     },
     "metadata": {
      "image/png": {
       "height": 420,
       "width": 420
      }
     },
     "output_type": "display_data"
    }
   ],
   "source": [
    "grid.arrange(bp_age, bp_balance, bp_day, bp_duration, bp_campaign, bp_pdays, bp_previous, nrow = 2, ncol = 4)"
   ]
  },
  {
   "cell_type": "code",
   "execution_count": 9,
   "id": "bc395c9e",
   "metadata": {},
   "outputs": [],
   "source": [
    "job <- bank_data %>% count(job,y)\n",
    "marital <- bank_data %>% count(marital,y)\n",
    "education <- bank_data %>% count(education,y)\n",
    "default <- bank_data %>% count(default,y)\n",
    "housing <- bank_data %>% count(housing,y)\n",
    "loan <- bank_data %>% count(loan,y)\n",
    "contact <- bank_data %>% count(contact,y)\n",
    "month <- bank_data %>% count(month,y)\n",
    "poutcome <- bank_data %>% count(poutcome,y)"
   ]
  },
  {
   "cell_type": "code",
   "execution_count": 10,
   "id": "fe7534e9",
   "metadata": {},
   "outputs": [
    {
     "data": {
      "image/png": "[encoded data removed]",
      "text/plain": [
       "plot without title"
      ]
     },
     "metadata": {
      "image/png": {
       "height": 420,
       "width": 420
      }
     },
     "output_type": "display_data"
    }
   ],
   "source": [
    "bp_job <- ggplot(job, aes(x = job, y = n)) +\n",
    "        geom_bar(aes(fill = job), stat = \"identity\", color = \"white\") +\n",
    "        scale_y_discrete(name = \"Frequência\") +\n",
    "        scale_x_discrete(name = \"Job\") +\n",
    "        ggtitle(\"Job\") +\n",
    "        facet_wrap(~y) +\n",
    "        theme_gray() +\n",
    "        theme(axis.text.x = element_blank(), axis.ticks = element_blank())\n",
    "\n",
    "bp_job"
   ]
  },
  {
   "cell_type": "code",
   "execution_count": 11,
   "id": "326a865b",
   "metadata": {
    "scrolled": false
   },
   "outputs": [
    {
     "data": {
      "image/png": "[encoded data removed]",
      "text/plain": [
       "plot without title"
      ]
     },
     "metadata": {
      "image/png": {
       "height": 420,
       "width": 420
      }
     },
     "output_type": "display_data"
    }
   ],
   "source": [
    "ggballoonplot(job, x = \"job\", y = \"n\", size = \"n\", fill = \"n\", facet.by = \"y\", ggtheme = theme_gray()) +\n",
    "scale_fill_viridis_c(option = \"C\")"
   ]
  },
  {
   "cell_type": "code",
   "execution_count": 12,
   "id": "3a17e602",
   "metadata": {},
   "outputs": [],
   "source": [
    "bp_marital <- ggplot(marital, aes(x = marital, y = n)) +\n",
    "        geom_bar(aes(fill = marital), stat = \"identity\", color = \"white\") +\n",
    "        scale_y_discrete(name = \"Frequência\") +\n",
    "        scale_x_discrete(name = \"Marital\") +\n",
    "        ggtitle(\"Marital\") +\n",
    "        facet_wrap(~y) +\n",
    "        theme_gray() +\n",
    "        theme(axis.text.x = element_blank(), axis.ticks = element_blank())\n",
    "\n",
    "bp_education <- ggplot(education, aes(x = education, y = n)) +\n",
    "        geom_bar(aes(fill = education), stat = \"identity\", color = \"white\") +\n",
    "        scale_y_discrete(name = \"Frequência\") +\n",
    "        scale_x_discrete(name = \"Education\") +\n",
    "        ggtitle(\"Education\") +\n",
    "        facet_wrap(~y) +\n",
    "        theme_gray() +\n",
    "        theme(axis.text.x = element_blank(), axis.ticks = element_blank())\n",
    "\n",
    "bp_default <- ggplot(default, aes(x = default, y = n)) +\n",
    "        geom_bar(aes(fill = default), stat = \"identity\", color = \"white\") +\n",
    "        scale_y_discrete(name = \"Frequência\") +\n",
    "        scale_x_discrete(name = \"Default\") +\n",
    "        ggtitle(\"Default\") +\n",
    "        facet_wrap(~y) +\n",
    "        theme_gray() +\n",
    "        theme(axis.text.x = element_blank(), axis.ticks = element_blank())\n",
    "\n",
    "bp_housing <- ggplot(housing, aes(x = housing, y = n)) +\n",
    "        geom_bar(aes(fill = housing), stat = \"identity\", color = \"white\") +\n",
    "        scale_y_discrete(name = \"Frequência\") +\n",
    "        scale_x_discrete(name = \"Housing\") +\n",
    "        ggtitle(\"Housing\") +\n",
    "        facet_wrap(~y) +\n",
    "        theme_gray() +\n",
    "        theme(axis.text.x = element_blank(), axis.ticks = element_blank())\n",
    "\n",
    "bp_loan <- ggplot(loan, aes(x = loan, y = n)) +\n",
    "        geom_bar(aes(fill = loan), stat = \"identity\", color = \"white\") +\n",
    "        scale_y_discrete(name = \"Frequência\") +\n",
    "        scale_x_discrete(name = \"Loan\") +\n",
    "        ggtitle(\"Loan\") +\n",
    "        facet_wrap(~y) +\n",
    "        theme_gray() +\n",
    "        theme(axis.text.x = element_blank(), axis.ticks = element_blank())\n",
    "\n",
    "bp_contact <- ggplot(contact, aes(x = contact, y = n)) +\n",
    "        geom_bar(aes(fill = contact), stat = \"identity\", color = \"white\") +\n",
    "        scale_y_discrete(name = \"Frequência\") +\n",
    "        scale_x_discrete(name = \"Contact\") +\n",
    "        ggtitle(\"Contact\") +\n",
    "        facet_wrap(~y) +\n",
    "        theme_gray() +\n",
    "        theme(axis.text.x = element_blank(), axis.ticks = element_blank())\n",
    "\n",
    "bp_month <- ggplot(month, aes(x = month, y = n)) +\n",
    "        geom_bar(aes(fill = month), stat = \"identity\", color = \"white\") +\n",
    "        scale_y_discrete(name = \"Frequência\") +\n",
    "        scale_x_discrete(name = \"Month\") +\n",
    "        ggtitle(\"Month\") +\n",
    "        facet_wrap(~y) +\n",
    "        theme_gray() +\n",
    "        theme(axis.text.x = element_blank(), axis.ticks = element_blank())\n",
    "\n",
    "bp_poutcome <- ggplot(poutcome, aes(x = poutcome, y = n)) +\n",
    "        geom_bar(aes(fill = poutcome), stat = \"identity\", color = \"white\") +\n",
    "        scale_y_discrete(name = \"Frequência\") +\n",
    "        scale_x_discrete(name = \"Poutcome\") +\n",
    "        ggtitle(\"Poutcome\") +\n",
    "        facet_wrap(~y) +\n",
    "        theme_gray() +\n",
    "        theme(axis.text.x = element_blank(), axis.ticks = element_blank())"
   ]
  },
  {
   "cell_type": "code",
   "execution_count": 13,
   "id": "e779f837",
   "metadata": {},
   "outputs": [
    {
     "data": {
      "image/png": "[encoded data removed]",
      "text/plain": [
       "plot without title"
      ]
     },
     "metadata": {
      "image/png": {
       "height": 420,
       "width": 420
      }
     },
     "output_type": "display_data"
    }
   ],
   "source": [
    "grid.arrange(bp_marital, bp_education, bp_default, bp_housing, nrow = 2, ncol = 2)"
   ]
  },
  {
   "cell_type": "code",
   "execution_count": 14,
   "id": "dd0eb57c",
   "metadata": {},
   "outputs": [
    {
     "data": {
      "image/png": "[encoded data removed]",
      "text/plain": [
       "plot without title"
      ]
     },
     "metadata": {
      "image/png": {
       "height": 420,
       "width": 420
      }
     },
     "output_type": "display_data"
    }
   ],
   "source": [
    "grid.arrange(bp_loan, bp_contact, bp_month, bp_poutcome, nrow = 2, ncol = 2)"
   ]
  },
  {
   "cell_type": "markdown",
   "id": "0c5ba37f",
   "metadata": {},
   "source": [
    "<b>1ª Versão do Modelo</b>"
   ]
  },
  {
   "cell_type": "code",
   "execution_count": 15,
   "id": "dc8802a9",
   "metadata": {},
   "outputs": [
    {
     "data": {
      "text/html": [
       "<ol class=list-inline>\n",
       "\t<li>31649</li>\n",
       "\t<li>17</li>\n",
       "</ol>\n"
      ],
      "text/latex": [
       "\\begin{enumerate*}\n",
       "\\item 31649\n",
       "\\item 17\n",
       "\\end{enumerate*}\n"
      ],
      "text/markdown": [
       "1. 31649\n",
       "2. 17\n",
       "\n",
       "\n"
      ],
      "text/plain": [
       "[1] 31649    17"
      ]
     },
     "metadata": {},
     "output_type": "display_data"
    },
    {
     "data": {
      "text/html": [
       "<ol class=list-inline>\n",
       "\t<li>13562</li>\n",
       "\t<li>17</li>\n",
       "</ol>\n"
      ],
      "text/latex": [
       "\\begin{enumerate*}\n",
       "\\item 13562\n",
       "\\item 17\n",
       "\\end{enumerate*}\n"
      ],
      "text/markdown": [
       "1. 13562\n",
       "2. 17\n",
       "\n",
       "\n"
      ],
      "text/plain": [
       "[1] 13562    17"
      ]
     },
     "metadata": {},
     "output_type": "display_data"
    }
   ],
   "source": [
    "set.seed(42)\n",
    "\n",
    "inTrain1 <- createDataPartition(bank_data$y, p = 0.7, list = FALSE)\n",
    "\n",
    "train1 <- bank_data[inTrain1, ]\n",
    "\n",
    "test1 <- bank_data[-inTrain1, ]\n",
    "\n",
    "dim(train1)\n",
    "dim(test1)"
   ]
  },
  {
   "cell_type": "code",
   "execution_count": 16,
   "id": "367a6b88",
   "metadata": {},
   "outputs": [
    {
     "name": "stdout",
     "output_type": "stream",
     "text": [
      "\n",
      "Naive Bayes Classifier for Discrete Predictors\n",
      "\n",
      "Call:\n",
      "naiveBayes.default(x = X, y = Y, laplace = laplace)\n",
      "\n",
      "A-priori probabilities:\n",
      "Y\n",
      "       no       yes \n",
      "0.8829979 0.1170021 \n",
      "\n",
      "Conditional probabilities:\n",
      "     age\n",
      "Y         [,1]     [,2]\n",
      "  no  40.81518 10.14110\n",
      "  yes 41.60897 13.40696\n",
      "\n",
      "     job\n",
      "Y          admin. blue-collar entrepreneur   housemaid  management     retired\n",
      "  no  0.113098219 0.227019100  0.033729165 0.028972029 0.205808713 0.043171901\n",
      "  yes 0.118169583 0.132436070  0.021534320 0.019919246 0.249259758 0.095558546\n",
      "     job\n",
      "Y     self-employed    services     student  technician  unemployed     unknown\n",
      "  no    0.034158380 0.095214250 0.016274412 0.169075041 0.026969025 0.006509765\n",
      "  yes   0.035800808 0.066218035 0.050605653 0.162045760 0.041453567 0.006998654\n",
      "\n",
      "     marital\n",
      "Y      divorced   married    single\n",
      "  no  0.1161759 0.6100755 0.2737486\n",
      "  yes 0.1184566 0.5153805 0.3661630\n",
      "\n",
      "     education\n",
      "Y        primary  secondary   tertiary    unknown\n",
      "  no  0.15735242 0.51871199 0.28382826 0.04010733\n",
      "  yes 0.11302940 0.46398705 0.37712436 0.04585919\n",
      "\n",
      "     default\n",
      "Y              no         yes\n",
      "  no  0.981250895 0.018749105\n",
      "  yes 0.990553306 0.009446694\n",
      "\n",
      "     balance\n",
      "Y         [,1]     [,2]\n",
      "  no  1298.774 3024.689\n",
      "  yes 1780.023 3165.041\n",
      "\n",
      "     housing\n",
      "Y            no       yes\n",
      "  no  0.4183126 0.5816874\n",
      "  yes 0.6364372 0.3635628\n",
      "\n",
      "     loan\n",
      "Y             no        yes\n",
      "  no  0.83079290 0.16920710\n",
      "  yes 0.90823212 0.09176788\n",
      "\n",
      "     contact\n",
      "Y       cellular  telephone    unknown\n",
      "  no  0.62145336 0.06332964 0.31521700\n",
      "  yes 0.82514841 0.07501349 0.09983810\n",
      "\n",
      "     day\n",
      "Y         [,1]     [,2]\n",
      "  no  15.86413 8.284102\n",
      "  yes 15.23386 8.569881\n",
      "\n",
      "     month\n",
      "Y             apr         aug         dec         feb         jan         jul\n",
      "  no  0.059625152 0.139709564 0.002968739 0.055118392 0.031153874 0.156234352\n",
      "  yes 0.108748318 0.127590848 0.019111709 0.081830417 0.027187079 0.116823688\n",
      "     month\n",
      "Y             jun         mar         may         nov         oct         sep\n",
      "  no  0.121539452 0.005436727 0.320480721 0.090170971 0.009871951 0.007690107\n",
      "  yes 0.106325707 0.046298789 0.172812921 0.076985195 0.065679677 0.050605653\n",
      "\n",
      "     duration\n",
      "Y         [,1]     [,2]\n",
      "  no  220.8359 207.7037\n",
      "  yes 532.9714 390.5589\n",
      "\n",
      "     campaign\n",
      "Y         [,1]     [,2]\n",
      "  no  2.851428 3.221690\n",
      "  yes 2.098569 1.876453\n",
      "\n",
      "     pdays\n",
      "Y         [,1]      [,2]\n",
      "  no  36.30863  96.80896\n",
      "  yes 69.63948 119.48881\n",
      "\n",
      "     previous\n",
      "Y          [,1]     [,2]\n",
      "  no  0.4984255 2.408017\n",
      "  yes 1.1763435 2.457079\n",
      "\n",
      "     poutcome\n",
      "Y        failure      other    success    unknown\n",
      "  no  0.10719141 0.03817531 0.01305903 0.84157424\n",
      "  yes 0.11896412 0.05988670 0.18586458 0.63528460\n",
      "\n"
     ]
    }
   ],
   "source": [
    "# Treinamento do modelo 1\n",
    "\n",
    "nb1 <- naiveBayes(y ~ ., data = train1, laplace = 1)\n",
    "\n",
    "print(nb1)"
   ]
  },
  {
   "cell_type": "code",
   "execution_count": 17,
   "id": "cf2455e7",
   "metadata": {},
   "outputs": [
    {
     "data": {
      "text/plain": [
       "Confusion Matrix and Statistics\n",
       "\n",
       "          Reference\n",
       "Prediction    no   yes\n",
       "       no  25849  1681\n",
       "       yes  2097  2022\n",
       "                                         \n",
       "               Accuracy : 0.8806         \n",
       "                 95% CI : (0.877, 0.8842)\n",
       "    No Information Rate : 0.883          \n",
       "    P-Value [Acc > NIR] : 0.9064         \n",
       "                                         \n",
       "                  Kappa : 0.4491         \n",
       "                                         \n",
       " Mcnemar's Test P-Value : 1.461e-11      \n",
       "                                         \n",
       "            Sensitivity : 0.54604        \n",
       "            Specificity : 0.92496        \n",
       "         Pos Pred Value : 0.49090        \n",
       "         Neg Pred Value : 0.93894        \n",
       "             Prevalence : 0.11700        \n",
       "         Detection Rate : 0.06389        \n",
       "   Detection Prevalence : 0.13015        \n",
       "      Balanced Accuracy : 0.73550        \n",
       "                                         \n",
       "       'Positive' Class : yes            \n",
       "                                         "
      ]
     },
     "metadata": {},
     "output_type": "display_data"
    }
   ],
   "source": [
    "# Previsao na base de treinamento\n",
    "\n",
    "nb_train_pred1 <- predict(nb1, train1, type = \"class\")\n",
    "\n",
    "confusionMatrix(nb_train_pred1, train1$y, positive = \"yes\")"
   ]
  },
  {
   "cell_type": "code",
   "execution_count": 18,
   "id": "b8a633ca",
   "metadata": {},
   "outputs": [
    {
     "data": {
      "text/plain": [
       "Confusion Matrix and Statistics\n",
       "\n",
       "          Reference\n",
       "Prediction    no   yes\n",
       "       no  11041   736\n",
       "       yes   935   850\n",
       "                                          \n",
       "               Accuracy : 0.8768          \n",
       "                 95% CI : (0.8711, 0.8823)\n",
       "    No Information Rate : 0.8831          \n",
       "    P-Value [Acc > NIR] : 0.9884          \n",
       "                                          \n",
       "                  Kappa : 0.4342          \n",
       "                                          \n",
       " Mcnemar's Test P-Value : 1.274e-06       \n",
       "                                          \n",
       "            Sensitivity : 0.53594         \n",
       "            Specificity : 0.92193         \n",
       "         Pos Pred Value : 0.47619         \n",
       "         Neg Pred Value : 0.93751         \n",
       "             Prevalence : 0.11694         \n",
       "         Detection Rate : 0.06268         \n",
       "   Detection Prevalence : 0.13162         \n",
       "      Balanced Accuracy : 0.72893         \n",
       "                                          \n",
       "       'Positive' Class : yes             \n",
       "                                          "
      ]
     },
     "metadata": {},
     "output_type": "display_data"
    }
   ],
   "source": [
    "# Previsão na base de teste\n",
    "\n",
    "nb_test_pred1 <- predict(nb1, test1, type = \"class\")\n",
    "\n",
    "confusionMatrix(nb_test_pred1, test1$y, positive = \"yes\")"
   ]
  },
  {
   "cell_type": "markdown",
   "id": "22ca9b63",
   "metadata": {},
   "source": [
    "<b>2ª Versão do Modelo - Trabalhando com bases desbalanceadas</b>"
   ]
  },
  {
   "cell_type": "code",
   "execution_count": 19,
   "id": "01645220",
   "metadata": {},
   "outputs": [
    {
     "name": "stdout",
     "output_type": "stream",
     "text": [
      "'data.frame':\t79844 obs. of  17 variables:\n",
      " $ age      : int  58 44 33 47 33 35 28 42 58 43 ...\n",
      " $ job      : Factor w/ 12 levels \"admin.\",\"blue-collar\",..: 5 10 3 2 12 5 5 3 6 10 ...\n",
      " $ marital  : Factor w/ 3 levels \"divorced\",\"married\",..: 2 3 2 2 3 2 3 1 2 3 ...\n",
      " $ education: Factor w/ 4 levels \"primary\",\"secondary\",..: 3 2 2 4 4 3 3 3 1 2 ...\n",
      " $ default  : Factor w/ 2 levels \"no\",\"yes\": 1 1 1 1 1 1 1 2 1 1 ...\n",
      " $ balance  : int  2143 29 2 1506 1 231 447 2 121 593 ...\n",
      " $ housing  : Factor w/ 2 levels \"no\",\"yes\": 2 2 2 2 1 2 2 2 2 2 ...\n",
      " $ loan     : Factor w/ 2 levels \"no\",\"yes\": 1 1 2 1 1 1 2 1 1 1 ...\n",
      " $ contact  : Factor w/ 3 levels \"cellular\",\"telephone\",..: 3 3 3 3 3 3 3 3 3 3 ...\n",
      " $ day      : int  5 5 5 5 5 5 5 5 5 5 ...\n",
      " $ month    : Factor w/ 12 levels \"apr\",\"aug\",\"dec\",..: 9 9 9 9 9 9 9 9 9 9 ...\n",
      " $ duration : int  261 151 76 92 198 139 217 380 50 55 ...\n",
      " $ campaign : int  1 1 1 1 1 1 1 1 1 1 ...\n",
      " $ pdays    : int  -1 -1 -1 -1 -1 -1 -1 -1 -1 -1 ...\n",
      " $ previous : int  0 0 0 0 0 0 0 0 0 0 ...\n",
      " $ poutcome : Factor w/ 4 levels \"failure\",\"other\",..: 4 4 4 4 4 4 4 4 4 4 ...\n",
      " $ Class    : Factor w/ 2 levels \"no\",\"yes\": 1 1 1 1 1 1 1 1 1 1 ...\n"
     ]
    }
   ],
   "source": [
    "bank_oversample <- upSample(bank_data, bank_data$y)\n",
    "\n",
    "str(bank_oversample)"
   ]
  },
  {
   "cell_type": "code",
   "execution_count": 20,
   "id": "ba612a65",
   "metadata": {},
   "outputs": [
    {
     "data": {
      "text/html": [
       "<table>\n",
       "<thead><tr><th scope=col>Class</th><th scope=col>n</th></tr></thead>\n",
       "<tbody>\n",
       "\t<tr><td>no   </td><td>39922</td></tr>\n",
       "\t<tr><td>yes  </td><td>39922</td></tr>\n",
       "</tbody>\n",
       "</table>\n"
      ],
      "text/latex": [
       "\\begin{tabular}{r|ll}\n",
       " Class & n\\\\\n",
       "\\hline\n",
       "\t no    & 39922\\\\\n",
       "\t yes   & 39922\\\\\n",
       "\\end{tabular}\n"
      ],
      "text/markdown": [
       "\n",
       "| Class | n |\n",
       "|---|---|\n",
       "| no    | 39922 |\n",
       "| yes   | 39922 |\n",
       "\n"
      ],
      "text/plain": [
       "  Class n    \n",
       "1 no    39922\n",
       "2 yes   39922"
      ]
     },
     "metadata": {},
     "output_type": "display_data"
    }
   ],
   "source": [
    "bank_oversample %>% count(Class)"
   ]
  },
  {
   "cell_type": "code",
   "execution_count": 23,
   "id": "8662476d",
   "metadata": {},
   "outputs": [
    {
     "data": {
      "text/html": [
       "<ol class=list-inline>\n",
       "\t<li>55892</li>\n",
       "\t<li>17</li>\n",
       "</ol>\n"
      ],
      "text/latex": [
       "\\begin{enumerate*}\n",
       "\\item 55892\n",
       "\\item 17\n",
       "\\end{enumerate*}\n"
      ],
      "text/markdown": [
       "1. 55892\n",
       "2. 17\n",
       "\n",
       "\n"
      ],
      "text/plain": [
       "[1] 55892    17"
      ]
     },
     "metadata": {},
     "output_type": "display_data"
    },
    {
     "data": {
      "text/html": [
       "<ol class=list-inline>\n",
       "\t<li>23952</li>\n",
       "\t<li>17</li>\n",
       "</ol>\n"
      ],
      "text/latex": [
       "\\begin{enumerate*}\n",
       "\\item 23952\n",
       "\\item 17\n",
       "\\end{enumerate*}\n"
      ],
      "text/markdown": [
       "1. 23952\n",
       "2. 17\n",
       "\n",
       "\n"
      ],
      "text/plain": [
       "[1] 23952    17"
      ]
     },
     "metadata": {},
     "output_type": "display_data"
    }
   ],
   "source": [
    "set.seed(42)\n",
    "\n",
    "inTrain2 <- createDataPartition(bank_oversample$Class, p = 0.7, list = FALSE)\n",
    "\n",
    "train2 <- bank_oversample[inTrain2, ]\n",
    "\n",
    "test2 <- bank_oversample[-inTrain2, ]\n",
    "\n",
    "dim(train2)\n",
    "dim(test2)"
   ]
  },
  {
   "cell_type": "code",
   "execution_count": 24,
   "id": "5c31ce9a",
   "metadata": {},
   "outputs": [],
   "source": [
    "# Treinamento do modelo 2\n",
    "\n",
    "nb2 <- naiveBayes(Class ~ .\n",
    "                    , data = train2)"
   ]
  },
  {
   "cell_type": "code",
   "execution_count": 26,
   "id": "22e2b072",
   "metadata": {},
   "outputs": [
    {
     "data": {
      "text/plain": [
       "Confusion Matrix and Statistics\n",
       "\n",
       "          Reference\n",
       "Prediction    no   yes\n",
       "       no  22071  6027\n",
       "       yes  5875 21919\n",
       "                                          \n",
       "               Accuracy : 0.7871          \n",
       "                 95% CI : (0.7836, 0.7904)\n",
       "    No Information Rate : 0.5             \n",
       "    P-Value [Acc > NIR] : <2e-16          \n",
       "                                          \n",
       "                  Kappa : 0.5741          \n",
       "                                          \n",
       " Mcnemar's Test P-Value : 0.1663          \n",
       "                                          \n",
       "            Sensitivity : 0.7843          \n",
       "            Specificity : 0.7898          \n",
       "         Pos Pred Value : 0.7886          \n",
       "         Neg Pred Value : 0.7855          \n",
       "             Prevalence : 0.5000          \n",
       "         Detection Rate : 0.3922          \n",
       "   Detection Prevalence : 0.4973          \n",
       "      Balanced Accuracy : 0.7871          \n",
       "                                          \n",
       "       'Positive' Class : yes             \n",
       "                                          "
      ]
     },
     "metadata": {},
     "output_type": "display_data"
    },
    {
     "data": {
      "text/plain": [
       "Confusion Matrix and Statistics\n",
       "\n",
       "          Reference\n",
       "Prediction   no  yes\n",
       "       no  9390 2703\n",
       "       yes 2586 9273\n",
       "                                          \n",
       "               Accuracy : 0.7792          \n",
       "                 95% CI : (0.7739, 0.7844)\n",
       "    No Information Rate : 0.5             \n",
       "    P-Value [Acc > NIR] : <2e-16          \n",
       "                                          \n",
       "                  Kappa : 0.5584          \n",
       "                                          \n",
       " Mcnemar's Test P-Value : 0.1107          \n",
       "                                          \n",
       "            Sensitivity : 0.7743          \n",
       "            Specificity : 0.7841          \n",
       "         Pos Pred Value : 0.7819          \n",
       "         Neg Pred Value : 0.7765          \n",
       "             Prevalence : 0.5000          \n",
       "         Detection Rate : 0.3871          \n",
       "   Detection Prevalence : 0.4951          \n",
       "      Balanced Accuracy : 0.7792          \n",
       "                                          \n",
       "       'Positive' Class : yes             \n",
       "                                          "
      ]
     },
     "metadata": {},
     "output_type": "display_data"
    }
   ],
   "source": [
    "# Previsão na base de treinamento 2 \n",
    "\n",
    "nb_train_pred2 <- predict(nb2, train2, type = \"class\")\n",
    "\n",
    "confusionMatrix(nb_train_pred2, train2$Class, positive = \"yes\")\n",
    "\n",
    "# Previsão na base de teste 2\n",
    "\n",
    "nb_test_pred2 <- predict(nb2, test2, type = \"class\")\n",
    "\n",
    "confusionMatrix(nb_test_pred2, test2$Class, positive = \"yes\")"
   ]
  },
  {
   "cell_type": "code",
   "execution_count": 29,
   "id": "72f03feb",
   "metadata": {},
   "outputs": [
    {
     "data": {
      "text/plain": [
       "Confusion Matrix and Statistics\n",
       "\n",
       "          Reference\n",
       "Prediction   no  yes\n",
       "       no  9390  373\n",
       "       yes 2586 1213\n",
       "                                          \n",
       "               Accuracy : 0.7818          \n",
       "                 95% CI : (0.7748, 0.7887)\n",
       "    No Information Rate : 0.8831          \n",
       "    P-Value [Acc > NIR] : 1               \n",
       "                                          \n",
       "                  Kappa : 0.3419          \n",
       "                                          \n",
       " Mcnemar's Test P-Value : <2e-16          \n",
       "                                          \n",
       "            Sensitivity : 0.76482         \n",
       "            Specificity : 0.78407         \n",
       "         Pos Pred Value : 0.31929         \n",
       "         Neg Pred Value : 0.96179         \n",
       "             Prevalence : 0.11694         \n",
       "         Detection Rate : 0.08944         \n",
       "   Detection Prevalence : 0.28012         \n",
       "      Balanced Accuracy : 0.77444         \n",
       "                                          \n",
       "       'Positive' Class : yes             \n",
       "                                          "
      ]
     },
     "metadata": {},
     "output_type": "display_data"
    }
   ],
   "source": [
    "# Previsão na base de test 1 - dados sem oversampling\n",
    "\n",
    "nb_test_pred_no_over <- predict(nb2, test1, type=\"class\")\n",
    "\n",
    "confusionMatrix(nb_test_pred_no_over, test1$y, positive = \"yes\")"
   ]
  },
  {
   "cell_type": "code",
   "execution_count": 30,
   "id": "1ce92acf",
   "metadata": {},
   "outputs": [
    {
     "data": {
      "text/plain": [
       "Confusion Matrix and Statistics\n",
       "\n",
       "          Reference\n",
       "Prediction    no   yes\n",
       "       no  11041   736\n",
       "       yes   935   850\n",
       "                                          \n",
       "               Accuracy : 0.8768          \n",
       "                 95% CI : (0.8711, 0.8823)\n",
       "    No Information Rate : 0.8831          \n",
       "    P-Value [Acc > NIR] : 0.9884          \n",
       "                                          \n",
       "                  Kappa : 0.4342          \n",
       "                                          \n",
       " Mcnemar's Test P-Value : 1.274e-06       \n",
       "                                          \n",
       "            Sensitivity : 0.53594         \n",
       "            Specificity : 0.92193         \n",
       "         Pos Pred Value : 0.47619         \n",
       "         Neg Pred Value : 0.93751         \n",
       "             Prevalence : 0.11694         \n",
       "         Detection Rate : 0.06268         \n",
       "   Detection Prevalence : 0.13162         \n",
       "      Balanced Accuracy : 0.72893         \n",
       "                                          \n",
       "       'Positive' Class : yes             \n",
       "                                          "
      ]
     },
     "metadata": {},
     "output_type": "display_data"
    }
   ],
   "source": [
    "confusionMatrix(nb_test_pred1, test1$y, positive = \"yes\")"
   ]
  },
  {
   "cell_type": "code",
   "execution_count": null,
   "id": "e8bc14c6",
   "metadata": {},
   "outputs": [],
   "source": []
  }
 ],
 "metadata": {
  "kernelspec": {
   "display_name": "R",
   "language": "R",
   "name": "ir"
  },
  "language_info": {
   "codemirror_mode": "r",
   "file_extension": ".r",
   "mimetype": "text/x-r-source",
   "name": "R",
   "pygments_lexer": "r",
   "version": "3.6.1"
  }
 },
 "nbformat": 4,
 "nbformat_minor": 5
}
