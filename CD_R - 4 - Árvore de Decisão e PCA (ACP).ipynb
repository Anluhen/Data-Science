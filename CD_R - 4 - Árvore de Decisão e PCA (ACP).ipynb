{
 "cells": [
  {
   "cell_type": "markdown",
   "metadata": {},
   "source": [
    "#### Motivaçao:\n",
    " - Analisando o problema\n",
    " - Desenvolvimento do modelo - Arvore de Decisao\n",
    " - Visualizaçao da Arvore de Decisao\n",
    " - Importancia de cada variavel - Variable Importance\n",
    " - Avaliaçao do Modelo\n",
    " - Poda da Arvore de Decisao (pruning)\n",
    " - Desenvolvimento do modelo com PCA\n",
    " - Condition monitoring of hydraulic systems Data Set\n",
    " - http://archive.ics.uci.edu/ml/datasets/Condition+monitoring+of+hydraulic+systems"
   ]
  },
  {
   "cell_type": "markdown",
   "metadata": {},
   "source": [
    "_____________________________________________"
   ]
  },
  {
   "cell_type": "markdown",
   "metadata": {},
   "source": [
    "### Bibliotecas"
   ]
  },
  {
   "cell_type": "code",
   "execution_count": null,
   "metadata": {},
   "outputs": [],
   "source": [
    "# Carregando as bibliotecas\n",
    "\n",
    "library(ggplot2)\n",
    "library(data.table)\n",
    "library(caret)\n",
    "library(rpart.plot)\n",
    "library(RColorBrewer)\n",
    "library(rattle)"
   ]
  },
  {
   "cell_type": "markdown",
   "metadata": {},
   "source": [
    "_____________________________________________"
   ]
  },
  {
   "cell_type": "markdown",
   "metadata": {},
   "source": [
    "### Carregando as base de dados"
   ]
  },
  {
   "cell_type": "code",
   "execution_count": null,
   "metadata": {},
   "outputs": [],
   "source": [
    "# Carregando as 17 bases de dados com informaçoes dos sensores\n",
    "# Este seria um projeto de inumeros dias, para estressar todas as possibilidades dos dados\n",
    "# principalmente porque deve ser feito \"feature engineering\" e \"dimensionality reduction\", dado que os dados sao \"brutos\"\n",
    "# apenas das informaçoes lidas pelos sensores"
   ]
  },
  {
   "cell_type": "code",
   "execution_count": null,
   "metadata": {},
   "outputs": [],
   "source": [
    "# Muda o diretorio de trabalho\n",
    "\n",
    "setwd('D:/Projetos/LBI/Outspoken Market/Na Pratica/OMNP1/Codes/R/Bases De Dados/data')"
   ]
  },
  {
   "cell_type": "code",
   "execution_count": null,
   "metadata": {},
   "outputs": [],
   "source": [
    "# Importando arquivos do tipo txt - funcao fread\n",
    "\n",
    "# Sensores de Pressao\n",
    "ps1 <- fread(\"ps1.txt\", header = F)\n",
    "names(ps1) <- sub(\"V\",\"ps1_\",names(ps1), fixed = T) # fixed é usado para substituir todos os Vs\n",
    "ps2 <- fread(\"ps2.txt\", header = F)\n",
    "names(ps2) <- sub(\"V\",\"ps2_\",names(ps2), fixed = T)\n",
    "ps3 <- fread(\"ps3.txt\", header = F)\n",
    "names(ps3) <- sub(\"V\",\"ps3_\",names(ps3), fixed = T)\n",
    "ps4 <- fread(\"ps4.txt\", header = F)\n",
    "names(ps4) <- sub(\"V\",\"ps4_\",names(ps4), fixed = T)\n",
    "ps5 <- fread(\"ps5.txt\", header = F)\n",
    "names(ps5) <- sub(\"V\",\"ps5_\",names(ps5), fixed = T)\n",
    "ps6 <- fread(\"ps6.txt\", header = F)\n",
    "names(ps6) <- sub(\"V\",\"ps6_\",names(ps6), fixed = T)"
   ]
  },
  {
   "cell_type": "code",
   "execution_count": null,
   "metadata": {},
   "outputs": [],
   "source": [
    "# Sensor do motor\n",
    "eps1 <- fread(\"eps1.txt\", header = F)\n",
    "names(eps1) <- sub(\"V\",\"eps1_\",names(eps1), fixed = T)"
   ]
  },
  {
   "cell_type": "code",
   "execution_count": null,
   "metadata": {},
   "outputs": [],
   "source": [
    "# Sensores de volume\n",
    "fs1 <- fread(\"fs1.txt\", header = F)\n",
    "names(fs1) <- sub(\"V\",\"fs1_\",names(fs1), fixed = T)\n",
    "fs2 <- fread(\"fs2.txt\", header = F)\n",
    "names(fs2) <- sub(\"V\",\"fs2_\",names(fs2), fixed = T)"
   ]
  },
  {
   "cell_type": "code",
   "execution_count": null,
   "metadata": {},
   "outputs": [],
   "source": [
    "# Sensores de temperatura\n",
    "ts1 <- fread(\"ts1.txt\", header = F)\n",
    "names(ts1) <- sub(\"V\",\"ts1_\",names(ts1), fixed = T)\n",
    "ts2 <- fread(\"ts2.txt\", header = F)\n",
    "names(ts2) <- sub(\"V\",\"ts2_\",names(ts2), fixed = T)\n",
    "ts3 <- fread(\"ts3.txt\", header = F)\n",
    "names(ts3) <- sub(\"V\",\"ts3_\",names(ts3), fixed = T)\n",
    "ts4 <- fread(\"ts4.txt\", header = F)\n",
    "names(ts4) <- sub(\"V\",\"ts4_\",names(ts4), fixed = T)"
   ]
  },
  {
   "cell_type": "code",
   "execution_count": null,
   "metadata": {},
   "outputs": [],
   "source": [
    "# Sensor de vibraçao\n",
    "vs1 <- fread(\"vs1.txt\", header = F)\n",
    "names(vs1) <- sub(\"V\",\"vs1_\",names(vs1), fixed = T)"
   ]
  },
  {
   "cell_type": "code",
   "execution_count": null,
   "metadata": {},
   "outputs": [],
   "source": [
    "# Sensores de refrigeramento\n",
    "ce <- fread(\"ce.txt\", header = F)\n",
    "names(ce) <- sub(\"V\",\"ce_\",names(ce), fixed = T)\n",
    "cp <- fread(\"cp.txt\", header = F)\n",
    "names(cp) <- sub(\"V\",\"cp_\",names(cp), fixed = T)"
   ]
  },
  {
   "cell_type": "code",
   "execution_count": null,
   "metadata": {},
   "outputs": [],
   "source": [
    "# Sensor de eficiencia\n",
    "se <- fread(\"se.txt\", header = F)\n",
    "names(se) <- sub(\"V\",\"se_\",names(se), fixed = T)"
   ]
  },
  {
   "cell_type": "code",
   "execution_count": null,
   "metadata": {},
   "outputs": [],
   "source": [
    "# Carregando a base com os alvos\n",
    "profile <- fread(\"profile.txt\", header = F)\n",
    "names(profile) <- c(\"cooler\", \"valve\", \"leakage\", \"accumulator\", \"stable\")"
   ]
  },
  {
   "cell_type": "code",
   "execution_count": null,
   "metadata": {},
   "outputs": [],
   "source": [
    "# Uniao de todas as bases\n",
    "\n",
    "data <- cbind(ps1, ps2, ps3, ps4, ps5, ps6\n",
    "              , se, ts1, ts2, ts3, ts4, vs1\n",
    "              , ce, cp, eps1, fs1, fs2, profile)\n",
    "\n",
    "dim(data)"
   ]
  },
  {
   "cell_type": "code",
   "execution_count": null,
   "metadata": {},
   "outputs": [],
   "source": [
    "# Aqui vemos que é um claro problema de reduçao de dimensionalidade - mais de 43 mil variaveis\n",
    "# Nao faz sentido fazer AED com graficos e todas esta variaveis"
   ]
  },
  {
   "cell_type": "markdown",
   "metadata": {},
   "source": [
    "____________"
   ]
  },
  {
   "cell_type": "markdown",
   "metadata": {},
   "source": [
    "### Desenvolvimento do modelo - Arvore de Decisao"
   ]
  },
  {
   "cell_type": "code",
   "execution_count": null,
   "metadata": {},
   "outputs": [],
   "source": [
    "# Vamos modelar a flag stable, que é dicotomica\n",
    "\n",
    "seed <- 42\n",
    "set.seed(seed)\n",
    "inTrain_stable <- createDataPartition(y = data$stable, p = 0.7, list = FALSE)\n",
    "train_stable <- data[inTrain_stable,]\n",
    "test_stable <- data[-inTrain_stable,]\n",
    "dim(train_stable); dim(test_stable)"
   ]
  },
  {
   "cell_type": "code",
   "execution_count": null,
   "metadata": {},
   "outputs": [],
   "source": [
    "tree1 <- rpart(stable ~ ps1_1 + ps1_2 + ps1_3 + ps1_4 + ps1_5 \n",
    "               + ps1_6 + ps1_7 + ps1_8 + ps1_9 + ps1_10\n",
    "               + ps1_11 + ps1_12 + ps1_13 + ps1_14 + ps1_15\n",
    "               + ps1_16 + ps1_17 + ps1_18 + ps1_19 + ps1_20\n",
    "               + ps1_21 + ps1_22 + ps1_23 + ps1_24 + ps1_25\n",
    "               + ps1_26 + ps1_27 + ps1_28 + ps1_29 + ps1_30\n",
    "               + ps1_31 + ps1_32 + ps1_33 + ps1_34 + ps1_35\n",
    "               + ps1_36 + ps1_37 + ps1_38 + ps1_39 + ps1_40\n",
    "               + ps1_41 + ps1_42 + ps1_43 + ps1_44 + ps1_45\n",
    "               + ps1_46 + ps1_47 + ps1_48 + ps1_49 + ps1_50\n",
    "               + ps1_51 + ps1_52 + ps1_53 + ps1_54 + ps1_55\n",
    "               + ps1_56 + ps1_57 + ps1_58 + ps1_59 + ps1_60\n",
    "               + ce_1 + ce_2 + ce_3 + ce_4 + ce_5 \n",
    "               + ce_6 + ce_7 + ce_8 + ce_9 + ce_10\n",
    "               + ce_11 + ce_12 + ce_13 + ce_14 + ce_15\n",
    "               + ce_16 + ce_17 + ce_18 + ce_19 + ce_20\n",
    "               + ce_21 + ce_22 + ce_23 + ce_24 + ce_25\n",
    "               + ce_26 + ce_27 + ce_28 + ce_29 + ce_30\n",
    "               + ce_31 + ce_32 + ce_33 + ce_34 + ce_35\n",
    "               + ce_36 + ce_37 + ce_38 + ce_39 + ce_40\n",
    "               + ce_41 + ce_42 + ce_43 + ce_44 + ce_45\n",
    "               + ce_46 + ce_47 + ce_48 + ce_49 + ce_50\n",
    "               + ce_51 + ce_52 + ce_53 + ce_54 + ce_55\n",
    "               + ce_56 + ce_57 + ce_58 + ce_59 + ce_60\n",
    "               + cp_1 + cp_2 + cp_3 + cp_4 + cp_5 \n",
    "               + cp_6 + cp_7 + cp_8 + cp_9 + cp_10\n",
    "               + cp_11 + cp_12 + cp_13 + cp_14 + cp_15\n",
    "               + cp_16 + cp_17 + cp_18 + cp_19 + cp_20\n",
    "               + cp_21 + cp_22 + cp_23 + cp_24 + cp_25\n",
    "               + cp_26 + cp_27 + cp_28 + cp_29 + cp_30\n",
    "               + cp_31 + cp_32 + cp_33 + cp_34 + cp_35\n",
    "               + cp_36 + cp_37 + cp_38 + cp_39 + cp_40\n",
    "               + cp_41 + cp_42 + cp_43 + cp_44 + cp_45\n",
    "               + cp_46 + cp_47 + cp_48 + cp_49 + cp_50\n",
    "               + cp_51 + cp_52 + cp_53 + cp_54 + cp_55\n",
    "               + cp_56 + cp_57 + cp_58 + cp_59 + cp_60\n",
    "             , data = train_stable\n",
    "             , method = \"class\" \n",
    "             , control = rpart.control(minsplit = 5, cp = 0.0001), parms = list(split = 'gini'))\n"
   ]
  },
  {
   "cell_type": "markdown",
   "metadata": {},
   "source": [
    "____________"
   ]
  },
  {
   "cell_type": "markdown",
   "metadata": {},
   "source": [
    "### Visualizaçao da Arvore de Decisao"
   ]
  },
  {
   "cell_type": "code",
   "execution_count": null,
   "metadata": {},
   "outputs": [],
   "source": [
    "fancyRpartPlot(tree1, caption = NULL) #caption null remove a informaçao de quanto a arvore foi gerada"
   ]
  },
  {
   "cell_type": "markdown",
   "metadata": {},
   "source": [
    "____________"
   ]
  },
  {
   "cell_type": "markdown",
   "metadata": {},
   "source": [
    "### Importancia de cada variavel - Variable Importance"
   ]
  },
  {
   "cell_type": "code",
   "execution_count": null,
   "metadata": {
    "scrolled": true
   },
   "outputs": [],
   "source": [
    "# Entendendo a importancia de cada variavel\n",
    "\n",
    "tree1$variable.importance\n"
   ]
  },
  {
   "cell_type": "code",
   "execution_count": null,
   "metadata": {
    "scrolled": true
   },
   "outputs": [],
   "source": [
    "# Visualizando as variaveis\n",
    "\n",
    "barplot(tree1$variable.importance)"
   ]
  },
  {
   "cell_type": "markdown",
   "metadata": {},
   "source": [
    "____________"
   ]
  },
  {
   "cell_type": "markdown",
   "metadata": {},
   "source": [
    "### Avaliaçao do Modelo"
   ]
  },
  {
   "cell_type": "code",
   "execution_count": null,
   "metadata": {},
   "outputs": [],
   "source": [
    "# Avaliaçao do Modelo - Treinamento\n",
    "\n",
    "# Treinamento\n",
    "pred_train_stable <- predict(tree1, train_stable, type = \"class\")\n",
    "table(train_stable$stable, pred_train_stable)\n",
    "\n",
    "# Classe 0\n",
    "acc_train0_tree1 <- table(train_stable$stable,pred_train_stable)[1]/(table(train_stable$stable,pred_train_stable)[1]\n",
    "                                                 +table(train_stable$stable,pred_train_stable)[3])*100\n",
    "\n",
    "# Classe 1\n",
    "acc_train1_tree1 <- table(train_stable$stable,pred_train_stable)[4]/(table(train_stable$stable,pred_train_stable)[2]\n",
    "                                          +table(train_stable$stable,pred_train_stable)[4])*100\n",
    "# Treinamento Total\n",
    "acc_train_tree1 <- (table(train_stable$stable,pred_train_stable)[1] + table(train_stable$stable,pred_train_stable)[4])/(dim(train_stable)[1])*100\n"
   ]
  },
  {
   "cell_type": "code",
   "execution_count": null,
   "metadata": {},
   "outputs": [],
   "source": [
    "# Avaliaçao do Modelo - Teste\n",
    "\n",
    "pred_test_stable <- predict(tree1, test_stable, type = \"class\")\n",
    "table(test_stable$stable,pred_test_stable)\n",
    "\n",
    "# Classe 0\n",
    "acc_test0_tree1 <- table(test_stable$stable,pred_test_stable)[1]/(table(test_stable$stable,pred_test_stable)[1]\n",
    "                                               +table(test_stable$stable,pred_test_stable)[3])*100\n",
    "\n",
    "#Classe 1\n",
    "acc_test1_tree1 <- table(test_stable$stable,pred_test_stable)[4]/(table(test_stable$stable,pred_test_stable)[2]\n",
    "                                        +table(test_stable$stable,pred_test_stable)[4])*100\n",
    "\n",
    "# Teste Total\n",
    "acc_test_tree1 <- (table(test_stable$stable,pred_test_stable)[1] + table(test_stable$stable,pred_test_stable)[4])/(dim(test_stable)[1])*100\n"
   ]
  },
  {
   "cell_type": "code",
   "execution_count": null,
   "metadata": {},
   "outputs": [],
   "source": [
    "round(acc_train0_tree1, 2)\n",
    "round(acc_train1_tree1, 2)\n",
    "round(acc_test0_tree1, 2)\n",
    "round(acc_test1_tree1, 2)\n",
    "round(acc_train_tree1, 2)\n",
    "round(acc_test_tree1, 2)"
   ]
  },
  {
   "cell_type": "code",
   "execution_count": null,
   "metadata": {},
   "outputs": [],
   "source": [
    "# Diferença em pontos base entre treinamento e teste\n",
    "\n",
    "round(acc_train0_tree1 - acc_test0_tree1, 2)\n",
    "round(acc_train1_tree1 - acc_test1_tree1, 2)\n",
    "round(acc_train_tree1 - acc_test_tree1, 2)"
   ]
  },
  {
   "cell_type": "markdown",
   "metadata": {},
   "source": [
    "____________"
   ]
  },
  {
   "cell_type": "markdown",
   "metadata": {},
   "source": [
    "### Poda da Arvore de Decisao (pruning)"
   ]
  },
  {
   "cell_type": "code",
   "execution_count": null,
   "metadata": {},
   "outputs": [],
   "source": [
    "# Vamos podar a arvore para ver se traz mais estabilidade?\n",
    "\n",
    "printcp(tree1)"
   ]
  },
  {
   "cell_type": "code",
   "execution_count": null,
   "metadata": {},
   "outputs": [],
   "source": [
    "# Se achar que é o caso podar\n",
    "\n",
    "tree1_podada <- prune(tree1, cp = 0.017) # este cp aqui é o mesmo la de cima. \n",
    "\n",
    "# Se treinarmos a arvore diretamente com ele, teriamos o mesmo resultado da poda\n",
    "\n",
    "# Logico, o problema é que nao sabemos a priore qual é o corte que ira produzir o mesmo erro\n",
    "\n",
    "fancyRpartPlot(tree1_podada)"
   ]
  },
  {
   "cell_type": "code",
   "execution_count": null,
   "metadata": {},
   "outputs": [],
   "source": [
    "# Como visualizar a arvore no caso de uma implementaçao fora do R?\n",
    "\n",
    "print(tree1_podada)"
   ]
  },
  {
   "cell_type": "code",
   "execution_count": null,
   "metadata": {},
   "outputs": [],
   "source": [
    "# Avaliaçao do Modelo - Treinamento e Teste - Apos a poda\n",
    "\n",
    "# Treinamento\n",
    "pred_train_stable <- predict(tree1_podada, train_stable, type = \"class\")\n",
    "table(train_stable$stable,pred_train_stable)\n",
    "\n",
    "# Classe 0\n",
    "acc_train0_tree1_p <- table(train_stable$stable,pred_train_stable)[1]/(table(train_stable$stable,pred_train_stable)[1]\n",
    "                                                               +table(train_stable$stable,pred_train_stable)[3])*100\n",
    "\n",
    "# Classe 1\n",
    "acc_train1_tree1_p <- table(train_stable$stable,pred_train_stable)[4]/(table(train_stable$stable,pred_train_stable)[2]\n",
    "                                                               +table(train_stable$stable,pred_train_stable)[4])*100\n",
    "# Treinamento Total\n",
    "acc_train_tree1_p <- (table(train_stable$stable,pred_train_stable)[1] + table(train_stable$stable,pred_train_stable)[4])/(dim(train_stable)[1])*100\n",
    "\n",
    "# Teste\n",
    "pred_test_stable <- predict(tree1_podada, test_stable, type = \"class\")\n",
    "table(test_stable$stable,pred_test_stable)\n",
    "\n",
    "# Classe 0\n",
    "acc_test0_tree1_p <- table(test_stable$stable,pred_test_stable)[1]/(table(test_stable$stable,pred_test_stable)[1]\n",
    "                                                            +table(test_stable$stable,pred_test_stable)[3])*100\n",
    "\n",
    "#Classe 1\n",
    "acc_test1_tree1_p <- table(test_stable$stable,pred_test_stable)[4]/(table(test_stable$stable,pred_test_stable)[2]\n",
    "                                                            +table(test_stable$stable,pred_test_stable)[4])*100\n",
    "\n",
    "# Teste Total\n",
    "acc_test_tree1_p <- (table(test_stable$stable,pred_test_stable)[1] + table(test_stable$stable,pred_test_stable)[4])/(dim(test_stable)[1])*100"
   ]
  },
  {
   "cell_type": "code",
   "execution_count": null,
   "metadata": {},
   "outputs": [],
   "source": [
    "round(acc_train0_tree1_p, 2)\n",
    "round(acc_train1_tree1_p, 2)\n",
    "round(acc_test0_tree1_p, 2)\n",
    "round(acc_test1_tree1_p, 2)\n",
    "round(acc_train_tree1_p, 2)\n",
    "round(acc_test_tree1_p, 2)"
   ]
  },
  {
   "cell_type": "code",
   "execution_count": null,
   "metadata": {},
   "outputs": [],
   "source": [
    "# Diferença em pontos base entre treinamento e teste\n",
    "# Arvore podada\n",
    "\n",
    "round(acc_train0_tree1_p - acc_test0_tree1_p, 2)\n",
    "round(acc_train1_tree1_p - acc_test1_tree1_p, 2)\n",
    "round(acc_train_tree1_p - acc_test_tree1_p, 2)"
   ]
  },
  {
   "cell_type": "code",
   "execution_count": null,
   "metadata": {},
   "outputs": [],
   "source": [
    "# Notoriamente existe mais estabilidade apos a poda, apesar da reduçao da capacidade preditiva\n",
    "# Isto mostra claramente que estavamos em um overfitting e agora temos uma arvore muito mais estavel\n",
    "\n",
    "# Faz sentido ter analise de condiçao de funcionanmento estavel com essa acuracia?\n",
    "# Nao deveriamos estar perto do 100%?\n",
    "\n",
    "# O trabalho de \"feature engineering\" que deve ser feito mostra claramente o quanto um modelo bem feito\n",
    "# que vai ser implementado em produçao oficialmente, leva um tempo consideravel para ser feito"
   ]
  },
  {
   "cell_type": "markdown",
   "metadata": {},
   "source": [
    "____________"
   ]
  },
  {
   "cell_type": "markdown",
   "metadata": {},
   "source": [
    "### Desenvolvimento do modelo com PCA"
   ]
  },
  {
   "cell_type": "code",
   "execution_count": null,
   "metadata": {},
   "outputs": [],
   "source": [
    "# PCA\n",
    "\n",
    "dataPCA <- prcomp(data[,1:43680],\n",
    "                 center = T)"
   ]
  },
  {
   "cell_type": "code",
   "execution_count": null,
   "metadata": {},
   "outputs": [],
   "source": [
    "summary(dataPCA)"
   ]
  },
  {
   "cell_type": "code",
   "execution_count": null,
   "metadata": {
    "scrolled": true
   },
   "outputs": [],
   "source": [
    "screeplot(dataPCA, type = 'lines')"
   ]
  },
  {
   "cell_type": "code",
   "execution_count": null,
   "metadata": {},
   "outputs": [],
   "source": [
    "# Atribuiçao das componentes principais na base original\n",
    "\n",
    "data$PCA1 <- dataPCA$x[,1]\n",
    "data$PCA2 <- dataPCA$x[,2]\n",
    "data$PCA3 <- dataPCA$x[,3]\n",
    "data$PCA4 <- dataPCA$x[,4]\n",
    "data$PCA5 <- dataPCA$x[,5]\n",
    "data$PCA6 <- dataPCA$x[,6]\n",
    "data$PCA7 <- dataPCA$x[,7]\n",
    "data$PCA8 <- dataPCA$x[,8]\n",
    "data$PCA9 <- dataPCA$x[,9]\n",
    "data$PCA10 <- dataPCA$x[,10]"
   ]
  },
  {
   "cell_type": "code",
   "execution_count": null,
   "metadata": {},
   "outputs": [],
   "source": [
    "# Treinamento de um novo modelo com PCA\n",
    "\n",
    "seed <- 42\n",
    "set.seed(seed)\n",
    "inTrain_stable <- createDataPartition(y = data$stable, p = 0.7, list = FALSE)\n",
    "train_stable <- data[inTrain_stable,]\n",
    "test_stable <- data[-inTrain_stable,]\n",
    "dim(train_stable); dim(test_stable)"
   ]
  },
  {
   "cell_type": "code",
   "execution_count": null,
   "metadata": {},
   "outputs": [],
   "source": [
    "treePCA <- rpart(stable ~ PCA1 + PCA2 + PCA3 + PCA4 + PCA5 + PCA6\n",
    "                 + PCA7 + PCA8 + PCA9 + PCA10\n",
    "               , data = train_stable\n",
    "               , method = \"class\" \n",
    "               , control = rpart.control(minsplit = 5, cp = 0.002), parms = list(split = 'gini'))\n",
    "fancyRpartPlot(treePCA, caption = NULL)"
   ]
  },
  {
   "cell_type": "code",
   "execution_count": null,
   "metadata": {},
   "outputs": [],
   "source": [
    "# Vamos podar a arvore para ver se traz mais estabilidade?\n",
    "\n",
    "printcp(treePCA)"
   ]
  },
  {
   "cell_type": "code",
   "execution_count": null,
   "metadata": {},
   "outputs": [],
   "source": [
    "treePCA <- prune(treePCA, cp = 0.018) # este cp aqui é o mesmo la de cima. \n",
    "fancyRpartPlot(treePCA)"
   ]
  },
  {
   "cell_type": "code",
   "execution_count": null,
   "metadata": {},
   "outputs": [],
   "source": [
    "# Entendendo a importancia de cada variavel\n",
    "\n",
    "treePCA$variable.importance\n",
    "\n",
    "barplot(treePCA$variable.importance)"
   ]
  },
  {
   "cell_type": "code",
   "execution_count": null,
   "metadata": {},
   "outputs": [],
   "source": [
    "# Avaliaçao do Modelo - Treinamento e Teste\n",
    "\n",
    "# Treinamento\n",
    "pred_train_stable <- predict(treePCA, train_stable, type = \"class\")\n",
    "table(train_stable$stable, pred_train_stable)\n",
    "\n",
    "# Classe 0\n",
    "acc_train0_pca <- table(train_stable$stable,pred_train_stable)[1]/(table(train_stable$stable,pred_train_stable)[1]\n",
    "                                                               +table(train_stable$stable,pred_train_stable)[3])*100\n",
    "\n",
    "# Classe 1\n",
    "acc_train1_pca <- table(train_stable$stable,pred_train_stable)[4]/(table(train_stable$stable,pred_train_stable)[2]\n",
    "                                                               +table(train_stable$stable,pred_train_stable)[4])*100\n",
    "# Treinamento Total\n",
    "acc_train_pca <- (table(train_stable$stable,pred_train_stable)[1] + table(train_stable$stable,pred_train_stable)[4])/(dim(train_stable)[1])*100\n",
    "\n",
    "# Teste\n",
    "pred_test_stable <- predict(treePCA, test_stable, type = \"class\")\n",
    "table(test_stable$stable,pred_test_stable)\n",
    "\n",
    "# Classe 0\n",
    "acc_test0_pca <- table(test_stable$stable,pred_test_stable)[1]/(table(test_stable$stable,pred_test_stable)[1]\n",
    "                                                            +table(test_stable$stable,pred_test_stable)[3])*100\n",
    "\n",
    "#Classe 1\n",
    "acc_test1_pca <- table(test_stable$stable,pred_test_stable)[4]/(table(test_stable$stable,pred_test_stable)[2]\n",
    "                                                            +table(test_stable$stable,pred_test_stable)[4])*100\n",
    "\n",
    "# Teste Total\n",
    "acc_test_pca <- (table(test_stable$stable,pred_test_stable)[1] + table(test_stable$stable,pred_test_stable)[4])/(dim(test_stable)[1])*100\n"
   ]
  },
  {
   "cell_type": "code",
   "execution_count": null,
   "metadata": {},
   "outputs": [],
   "source": [
    "round(acc_train0_pca, 2)\n",
    "round(acc_train1_pca, 2)\n",
    "round(acc_test0_pca, 2)\n",
    "round(acc_test1_pca, 2)\n",
    "round(acc_train_pca, 2)\n",
    "round(acc_test_pca, 2)"
   ]
  },
  {
   "cell_type": "code",
   "execution_count": null,
   "metadata": {},
   "outputs": [],
   "source": [
    "# Diferença em pontos base entre treinamento e teste\n",
    "\n",
    "round(acc_train0_pca - acc_test0_pca, 2)\n",
    "round(acc_train1_pca - acc_test1_pca, 2)\n",
    "round(acc_train_pca - acc_test_pca, 2)"
   ]
  },
  {
   "cell_type": "code",
   "execution_count": null,
   "metadata": {},
   "outputs": [],
   "source": [
    "tree1_acc <- round(acc_train_tree1 - acc_test_tree1,2)\n",
    "\n",
    "tree1_p_acc <- round(acc_train_tree1_p - acc_test_tree1_p,2)\n",
    "\n",
    "tree_pac <- round(acc_train_pca - acc_test_pca, 2)"
   ]
  },
  {
   "cell_type": "code",
   "execution_count": null,
   "metadata": {},
   "outputs": [],
   "source": [
    "barras <- c(\"tree1_acc\",\"tree1_p_acc\",\"tree_pac\")\n",
    "val_barras <- c(tree1_acc,tree1_p_acc,tree_pac)\n",
    "\n",
    "barplot(val_barras\n",
    "        , xlab = \"Resultados\"\n",
    "        , ylab = \" Diferença Train - Test (p.b.)\",\n",
    "        , main = \"Resultado da Analise\"\n",
    "        , col = c(\"blue\", \"blue\", \"red\")\n",
    "        , names.arg = barras\n",
    "        , ylim = c(0,9))\n",
    "\n",
    "text(c(0.70,1.9,3.1),val_barras + 0.25 , labels = as.character(val_barras))"
   ]
  }
 ],
 "metadata": {
  "kernelspec": {
   "display_name": "R",
   "language": "R",
   "name": "ir"
  },
  "language_info": {
   "codemirror_mode": "r",
   "file_extension": ".r",
   "mimetype": "text/x-r-source",
   "name": "R",
   "pygments_lexer": "r",
   "version": "3.6.1"
  }
 },
 "nbformat": 4,
 "nbformat_minor": 2
}
